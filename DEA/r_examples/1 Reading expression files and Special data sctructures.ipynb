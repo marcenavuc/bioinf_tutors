{
 "cells": [
  {
   "cell_type": "code",
   "execution_count": 1,
   "metadata": {},
   "outputs": [
    {
     "name": "stderr",
     "output_type": "stream",
     "text": [
      "No methods found in package ‘RSQLite’ for request: ‘dbListFields’ when loading ‘oligo’\n",
      "\n"
     ]
    }
   ],
   "source": [
    "packages <- c(\"oligo\",  # Пакет для нормализации и проверки качества экспрессии\n",
    "              \"readxl\")  # Пакет для чтения excel \n",
    "\n",
    "if (!requireNamespace(packages, quietly = TRUE))\n",
    "    BiocManager::install(packages)"
   ]
  },
  {
   "cell_type": "markdown",
   "metadata": {},
   "source": [
    "### Как прочитать csv файлы?"
   ]
  },
  {
   "cell_type": "code",
   "execution_count": 9,
   "metadata": {},
   "outputs": [
    {
     "data": {
      "text/html": [
       "<table>\n",
       "<caption>A data.frame: 6 × 9</caption>\n",
       "<thead>\n",
       "\t<tr><th></th><th scope=col>X</th><th scope=col>ENSEMBL</th><th scope=col>SYMBOL</th><th scope=col>Cov1</th><th scope=col>Cov2</th><th scope=col>Cov3</th><th scope=col>Mock1</th><th scope=col>Mock2</th><th scope=col>Mock3</th></tr>\n",
       "\t<tr><th></th><th scope=col>&lt;int&gt;</th><th scope=col>&lt;chr&gt;</th><th scope=col>&lt;chr&gt;</th><th scope=col>&lt;int&gt;</th><th scope=col>&lt;int&gt;</th><th scope=col>&lt;int&gt;</th><th scope=col>&lt;int&gt;</th><th scope=col>&lt;int&gt;</th><th scope=col>&lt;int&gt;</th></tr>\n",
       "</thead>\n",
       "<tbody>\n",
       "\t<tr><th scope=row>1</th><td>1</td><td>ENSG00000000003</td><td>15_TSPAN6  </td><td>1270</td><td>1013</td><td>848</td><td>4571</td><td>5500</td><td>4844</td></tr>\n",
       "\t<tr><th scope=row>2</th><td>2</td><td>ENSG00000000005</td><td>6_TNMD     </td><td> 121</td><td> 125</td><td> 49</td><td>3220</td><td>6435</td><td>2977</td></tr>\n",
       "\t<tr><th scope=row>3</th><td>3</td><td>ENSG00000000419</td><td>12_DPM1    </td><td>1023</td><td>1045</td><td>674</td><td>2404</td><td>4794</td><td>1819</td></tr>\n",
       "\t<tr><th scope=row>4</th><td>4</td><td>ENSG00000000457</td><td>14_SCYL3   </td><td>1049</td><td> 713</td><td>692</td><td> 854</td><td> 356</td><td>1015</td></tr>\n",
       "\t<tr><th scope=row>5</th><td>5</td><td>ENSG00000000460</td><td>17_C1orf112</td><td> 211</td><td> 158</td><td> 90</td><td> 576</td><td> 195</td><td> 477</td></tr>\n",
       "\t<tr><th scope=row>6</th><td>6</td><td>ENSG00000000938</td><td>13_FGR     </td><td>   9</td><td>   8</td><td>  2</td><td>  10</td><td>   5</td><td>   0</td></tr>\n",
       "</tbody>\n",
       "</table>\n"
      ],
      "text/latex": [
       "A data.frame: 6 × 9\n",
       "\\begin{tabular}{r|lllllllll}\n",
       "  & X & ENSEMBL & SYMBOL & Cov1 & Cov2 & Cov3 & Mock1 & Mock2 & Mock3\\\\\n",
       "  & <int> & <chr> & <chr> & <int> & <int> & <int> & <int> & <int> & <int>\\\\\n",
       "\\hline\n",
       "\t1 & 1 & ENSG00000000003 & 15\\_TSPAN6   & 1270 & 1013 & 848 & 4571 & 5500 & 4844\\\\\n",
       "\t2 & 2 & ENSG00000000005 & 6\\_TNMD      &  121 &  125 &  49 & 3220 & 6435 & 2977\\\\\n",
       "\t3 & 3 & ENSG00000000419 & 12\\_DPM1     & 1023 & 1045 & 674 & 2404 & 4794 & 1819\\\\\n",
       "\t4 & 4 & ENSG00000000457 & 14\\_SCYL3    & 1049 &  713 & 692 &  854 &  356 & 1015\\\\\n",
       "\t5 & 5 & ENSG00000000460 & 17\\_C1orf112 &  211 &  158 &  90 &  576 &  195 &  477\\\\\n",
       "\t6 & 6 & ENSG00000000938 & 13\\_FGR      &    9 &    8 &   2 &   10 &    5 &    0\\\\\n",
       "\\end{tabular}\n"
      ],
      "text/markdown": [
       "\n",
       "A data.frame: 6 × 9\n",
       "\n",
       "| <!--/--> | X &lt;int&gt; | ENSEMBL &lt;chr&gt; | SYMBOL &lt;chr&gt; | Cov1 &lt;int&gt; | Cov2 &lt;int&gt; | Cov3 &lt;int&gt; | Mock1 &lt;int&gt; | Mock2 &lt;int&gt; | Mock3 &lt;int&gt; |\n",
       "|---|---|---|---|---|---|---|---|---|---|\n",
       "| 1 | 1 | ENSG00000000003 | 15_TSPAN6   | 1270 | 1013 | 848 | 4571 | 5500 | 4844 |\n",
       "| 2 | 2 | ENSG00000000005 | 6_TNMD      |  121 |  125 |  49 | 3220 | 6435 | 2977 |\n",
       "| 3 | 3 | ENSG00000000419 | 12_DPM1     | 1023 | 1045 | 674 | 2404 | 4794 | 1819 |\n",
       "| 4 | 4 | ENSG00000000457 | 14_SCYL3    | 1049 |  713 | 692 |  854 |  356 | 1015 |\n",
       "| 5 | 5 | ENSG00000000460 | 17_C1orf112 |  211 |  158 |  90 |  576 |  195 |  477 |\n",
       "| 6 | 6 | ENSG00000000938 | 13_FGR      |    9 |    8 |   2 |   10 |    5 |    0 |\n",
       "\n"
      ],
      "text/plain": [
       "  X ENSEMBL         SYMBOL      Cov1 Cov2 Cov3 Mock1 Mock2 Mock3\n",
       "1 1 ENSG00000000003 15_TSPAN6   1270 1013 848  4571  5500  4844 \n",
       "2 2 ENSG00000000005 6_TNMD       121  125  49  3220  6435  2977 \n",
       "3 3 ENSG00000000419 12_DPM1     1023 1045 674  2404  4794  1819 \n",
       "4 4 ENSG00000000457 14_SCYL3    1049  713 692   854   356  1015 \n",
       "5 5 ENSG00000000460 17_C1orf112  211  158  90   576   195   477 \n",
       "6 6 ENSG00000000938 13_FGR         9    8   2    10     5     0 "
      ]
     },
     "metadata": {},
     "output_type": "display_data"
    }
   ],
   "source": [
    "data.csv <- read.csv('../data/GSE150392_new.csv')  # Указываем путь до csv файла\n",
    "head(data.csv)"
   ]
  },
  {
   "cell_type": "markdown",
   "metadata": {},
   "source": [
    "### Как прочитать xls/xlsx файлы?"
   ]
  },
  {
   "cell_type": "code",
   "execution_count": 20,
   "metadata": {},
   "outputs": [
    {
     "data": {
      "text/html": [
       "<table>\n",
       "<caption>A tibble: 6 × 9</caption>\n",
       "<thead>\n",
       "\t<tr><th scope=col>GeneID</th><th scope=col>GeneSymbol</th><th scope=col>GeneBiotype</th><th scope=col>logFC</th><th scope=col>logCPM</th><th scope=col>F</th><th scope=col>PValue</th><th scope=col>FDR</th><th scope=col>log10FDR</th></tr>\n",
       "\t<tr><th scope=col>&lt;chr&gt;</th><th scope=col>&lt;chr&gt;</th><th scope=col>&lt;chr&gt;</th><th scope=col>&lt;dbl&gt;</th><th scope=col>&lt;dbl&gt;</th><th scope=col>&lt;dbl&gt;</th><th scope=col>&lt;dbl&gt;</th><th scope=col>&lt;dbl&gt;</th><th scope=col>&lt;dbl&gt;</th></tr>\n",
       "</thead>\n",
       "<tbody>\n",
       "\t<tr><td>ENSG00000275023</td><td>MLLT6   </td><td>protein_coding</td><td> 1.331053</td><td>6.486403</td><td>125.4310</td><td>1.925606e-07</td><td>0.0006650474</td><td>3.177147</td></tr>\n",
       "\t<tr><td>ENSG00000084073</td><td>ZMPSTE24</td><td>protein_coding</td><td>-1.327802</td><td>6.078147</td><td>124.7526</td><td>1.980600e-07</td><td>0.0006650474</td><td>3.177147</td></tr>\n",
       "\t<tr><td>ENSG00000107736</td><td>CDH23   </td><td>protein_coding</td><td> 1.720707</td><td>4.759523</td><td>123.0843</td><td>2.123901e-07</td><td>0.0006650474</td><td>3.177147</td></tr>\n",
       "\t<tr><td>ENSG00000076344</td><td>RGS11   </td><td>protein_coding</td><td> 1.643200</td><td>3.903280</td><td>120.0231</td><td>2.419920e-07</td><td>0.0006650474</td><td>3.177147</td></tr>\n",
       "\t<tr><td>ENSG00000198242</td><td>RPL23A  </td><td>protein_coding</td><td>-1.166847</td><td>4.589575</td><td>118.4620</td><td>2.589489e-07</td><td>0.0006650474</td><td>3.177147</td></tr>\n",
       "\t<tr><td>ENSG00000214193</td><td>SH3D21  </td><td>protein_coding</td><td> 1.756014</td><td>2.278549</td><td>106.8720</td><td>4.399784e-07</td><td>0.0006650474</td><td>3.177147</td></tr>\n",
       "</tbody>\n",
       "</table>\n"
      ],
      "text/latex": [
       "A tibble: 6 × 9\n",
       "\\begin{tabular}{lllllllll}\n",
       " GeneID & GeneSymbol & GeneBiotype & logFC & logCPM & F & PValue & FDR & log10FDR\\\\\n",
       " <chr> & <chr> & <chr> & <dbl> & <dbl> & <dbl> & <dbl> & <dbl> & <dbl>\\\\\n",
       "\\hline\n",
       "\t ENSG00000275023 & MLLT6    & protein\\_coding &  1.331053 & 6.486403 & 125.4310 & 1.925606e-07 & 0.0006650474 & 3.177147\\\\\n",
       "\t ENSG00000084073 & ZMPSTE24 & protein\\_coding & -1.327802 & 6.078147 & 124.7526 & 1.980600e-07 & 0.0006650474 & 3.177147\\\\\n",
       "\t ENSG00000107736 & CDH23    & protein\\_coding &  1.720707 & 4.759523 & 123.0843 & 2.123901e-07 & 0.0006650474 & 3.177147\\\\\n",
       "\t ENSG00000076344 & RGS11    & protein\\_coding &  1.643200 & 3.903280 & 120.0231 & 2.419920e-07 & 0.0006650474 & 3.177147\\\\\n",
       "\t ENSG00000198242 & RPL23A   & protein\\_coding & -1.166847 & 4.589575 & 118.4620 & 2.589489e-07 & 0.0006650474 & 3.177147\\\\\n",
       "\t ENSG00000214193 & SH3D21   & protein\\_coding &  1.756014 & 2.278549 & 106.8720 & 4.399784e-07 & 0.0006650474 & 3.177147\\\\\n",
       "\\end{tabular}\n"
      ],
      "text/markdown": [
       "\n",
       "A tibble: 6 × 9\n",
       "\n",
       "| GeneID &lt;chr&gt; | GeneSymbol &lt;chr&gt; | GeneBiotype &lt;chr&gt; | logFC &lt;dbl&gt; | logCPM &lt;dbl&gt; | F &lt;dbl&gt; | PValue &lt;dbl&gt; | FDR &lt;dbl&gt; | log10FDR &lt;dbl&gt; |\n",
       "|---|---|---|---|---|---|---|---|---|\n",
       "| ENSG00000275023 | MLLT6    | protein_coding |  1.331053 | 6.486403 | 125.4310 | 1.925606e-07 | 0.0006650474 | 3.177147 |\n",
       "| ENSG00000084073 | ZMPSTE24 | protein_coding | -1.327802 | 6.078147 | 124.7526 | 1.980600e-07 | 0.0006650474 | 3.177147 |\n",
       "| ENSG00000107736 | CDH23    | protein_coding |  1.720707 | 4.759523 | 123.0843 | 2.123901e-07 | 0.0006650474 | 3.177147 |\n",
       "| ENSG00000076344 | RGS11    | protein_coding |  1.643200 | 3.903280 | 120.0231 | 2.419920e-07 | 0.0006650474 | 3.177147 |\n",
       "| ENSG00000198242 | RPL23A   | protein_coding | -1.166847 | 4.589575 | 118.4620 | 2.589489e-07 | 0.0006650474 | 3.177147 |\n",
       "| ENSG00000214193 | SH3D21   | protein_coding |  1.756014 | 2.278549 | 106.8720 | 4.399784e-07 | 0.0006650474 | 3.177147 |\n",
       "\n"
      ],
      "text/plain": [
       "  GeneID          GeneSymbol GeneBiotype    logFC     logCPM   F       \n",
       "1 ENSG00000275023 MLLT6      protein_coding  1.331053 6.486403 125.4310\n",
       "2 ENSG00000084073 ZMPSTE24   protein_coding -1.327802 6.078147 124.7526\n",
       "3 ENSG00000107736 CDH23      protein_coding  1.720707 4.759523 123.0843\n",
       "4 ENSG00000076344 RGS11      protein_coding  1.643200 3.903280 120.0231\n",
       "5 ENSG00000198242 RPL23A     protein_coding -1.166847 4.589575 118.4620\n",
       "6 ENSG00000214193 SH3D21     protein_coding  1.756014 2.278549 106.8720\n",
       "  PValue       FDR          log10FDR\n",
       "1 1.925606e-07 0.0006650474 3.177147\n",
       "2 1.980600e-07 0.0006650474 3.177147\n",
       "3 2.123901e-07 0.0006650474 3.177147\n",
       "4 2.419920e-07 0.0006650474 3.177147\n",
       "5 2.589489e-07 0.0006650474 3.177147\n",
       "6 4.399784e-07 0.0006650474 3.177147"
      ]
     },
     "metadata": {},
     "output_type": "display_data"
    }
   ],
   "source": [
    "library(\"readxl\")\n",
    "data.xlsx <- read_excel(\"../data/GSE120836.xlsx\")  # Указываем путь до xls/xlsx файла\n",
    "head(data.xlsx)"
   ]
  },
  {
   "cell_type": "markdown",
   "metadata": {},
   "source": [
    "### Как прочитать CEL файлы?"
   ]
  },
  {
   "cell_type": "code",
   "execution_count": 21,
   "metadata": {},
   "outputs": [],
   "source": [
    "library(oligo)"
   ]
  },
  {
   "cell_type": "code",
   "execution_count": 22,
   "metadata": {},
   "outputs": [
    {
     "name": "stderr",
     "output_type": "stream",
     "text": [
      "Platform design info loaded.\n",
      "\n"
     ]
    },
    {
     "name": "stdout",
     "output_type": "stream",
     "text": [
      "Reading in : ../data/GSM1053914_G_1.CEL\n"
     ]
    }
   ],
   "source": [
    "data.cel <- oligo::read.celfiles('../data/GSM1053914_G_1.CEL')  # Указываем путь до CEL файла"
   ]
  },
  {
   "cell_type": "code",
   "execution_count": 31,
   "metadata": {},
   "outputs": [
    {
     "data": {
      "text/plain": [
       "GeneFeatureSet (storageMode: lockedEnvironment)\n",
       "assayData: 1102500 features, 1 samples \n",
       "  element names: exprs \n",
       "protocolData\n",
       "  rowNames: GSM1053914_G_1.CEL\n",
       "  varLabels: exprs dates\n",
       "  varMetadata: labelDescription channel\n",
       "phenoData\n",
       "  rowNames: GSM1053914_G_1.CEL\n",
       "  varLabels: index\n",
       "  varMetadata: labelDescription channel\n",
       "featureData: none\n",
       "experimentData: use 'experimentData(object)'\n",
       "Annotation: pd.hugene.1.0.st.v1 "
      ]
     },
     "metadata": {},
     "output_type": "display_data"
    }
   ],
   "source": [
    "# Давайте разберем, как у нас устроенные данные,\n",
    "# разработанные специально под экспрессию генов\n",
    "data.cel"
   ]
  },
  {
   "cell_type": "markdown",
   "metadata": {},
   "source": [
    "Все дело в том, что на одной экспресии данные не заканиваются. Для более точного анализа необходимо знать,на каком устройстве была взята экспресиия(нужно для нормализации), аннотации к данным, из каких клеток брали экспресиию, какие гены закодированы в **microarray probes** итд. Поэтому решили создать тип данных `ExpressionSet`, чтобы совместить все эти данные в один объект.\n",
    "\n",
    "Данные в ExpressionSet состят из:\n",
    "1. **assayData**: таблица с значениями самой экспресии, где индексы строк - названия проб, которые описывают гены (**microarray probes**), а названия колонок - названия тканей\\болезней итд, в общем разбивка по классам (**sample IDs**). Здесь она закрашена красным\n",
    "2. **phenoData**: таблица с описанием отношений между **sample IDs** и **microarray probes**. Здесь указана розовым\n",
    "3. **featureData**: таблица с описанием метаданных о каждой ячейке чипа. Здесь закрашена фиолетовым"
   ]
  },
  {
   "cell_type": "markdown",
   "metadata": {},
   "source": [
    "![structure of ExpressionSet](index.png)"
   ]
  },
  {
   "cell_type": "code",
   "execution_count": 32,
   "metadata": {},
   "outputs": [
    {
     "data": {
      "text/plain": [
       "An object of class 'AnnotatedDataFrame'\n",
       "  rowNames: GSM1053914_G_1.CEL\n",
       "  varLabels: index\n",
       "  varMetadata: labelDescription channel"
      ]
     },
     "metadata": {},
     "output_type": "display_data"
    }
   ],
   "source": [
    "phenoData(data.cel)"
   ]
  },
  {
   "cell_type": "code",
   "execution_count": 37,
   "metadata": {},
   "outputs": [
    {
     "data": {
      "text/plain": [
       "An object of class 'AnnotatedDataFrame': none"
      ]
     },
     "metadata": {},
     "output_type": "display_data"
    }
   ],
   "source": [
    "# У нас нет featureData\n",
    "head(featureData(data.cel))"
   ]
  },
  {
   "cell_type": "markdown",
   "metadata": {},
   "source": [
    "Помимо этого есть функции, которые выводят сами значения:\n",
    "* `pData` - функция, которая выводит значение `phenoData`\n",
    "* `fData` - функция, которая выводит значение `featureData`\n",
    "* `exprs` - функция, которая выводит саму матрицу экспресии"
   ]
  },
  {
   "cell_type": "code",
   "execution_count": 39,
   "metadata": {},
   "outputs": [
    {
     "data": {
      "text/html": [
       "<table>\n",
       "<caption>A data.frame: 1 × 1</caption>\n",
       "<thead>\n",
       "\t<tr><th></th><th scope=col>index</th></tr>\n",
       "\t<tr><th></th><th scope=col>&lt;int&gt;</th></tr>\n",
       "</thead>\n",
       "<tbody>\n",
       "\t<tr><th scope=row>GSM1053914_G_1.CEL</th><td>1</td></tr>\n",
       "</tbody>\n",
       "</table>\n"
      ],
      "text/latex": [
       "A data.frame: 1 × 1\n",
       "\\begin{tabular}{r|l}\n",
       "  & index\\\\\n",
       "  & <int>\\\\\n",
       "\\hline\n",
       "\tGSM1053914\\_G\\_1.CEL & 1\\\\\n",
       "\\end{tabular}\n"
      ],
      "text/markdown": [
       "\n",
       "A data.frame: 1 × 1\n",
       "\n",
       "| <!--/--> | index &lt;int&gt; |\n",
       "|---|---|\n",
       "| GSM1053914_G_1.CEL | 1 |\n",
       "\n"
      ],
      "text/plain": [
       "                   index\n",
       "GSM1053914_G_1.CEL 1    "
      ]
     },
     "metadata": {},
     "output_type": "display_data"
    }
   ],
   "source": [
    "pData(data.cel)"
   ]
  },
  {
   "cell_type": "code",
   "execution_count": 41,
   "metadata": {},
   "outputs": [
    {
     "data": {
      "text/html": [
       "<table>\n",
       "<caption>A data.frame: 6 × 0</caption>\n",
       "<tbody>\n",
       "\t<tr><th scope=row>1</th></tr>\n",
       "\t<tr><th scope=row>2</th></tr>\n",
       "\t<tr><th scope=row>3</th></tr>\n",
       "\t<tr><th scope=row>4</th></tr>\n",
       "\t<tr><th scope=row>5</th></tr>\n",
       "\t<tr><th scope=row>6</th></tr>\n",
       "</tbody>\n",
       "</table>\n"
      ],
      "text/latex": [
       "A data.frame: 6 × 0\n",
       "\\begin{tabular}{r|}\n",
       "\t1\\\\\n",
       "\t2\\\\\n",
       "\t3\\\\\n",
       "\t4\\\\\n",
       "\t5\\\\\n",
       "\t6\\\\\n",
       "\\end{tabular}\n"
      ],
      "text/markdown": [
       "\n",
       "A data.frame: 6 × 0\n",
       "\n",
       "| 1 |\n",
       "| 2 |\n",
       "| 3 |\n",
       "| 4 |\n",
       "| 5 |\n",
       "| 6 |\n",
       "\n"
      ],
      "text/plain": [
       " \n",
       "1\n",
       "2\n",
       "3\n",
       "4\n",
       "5\n",
       "6"
      ]
     },
     "metadata": {},
     "output_type": "display_data"
    }
   ],
   "source": [
    "head(fData(data.cel))"
   ]
  },
  {
   "cell_type": "code",
   "execution_count": 43,
   "metadata": {},
   "outputs": [
    {
     "data": {
      "text/html": [
       "<table>\n",
       "<caption>A matrix: 6 × 1 of type dbl</caption>\n",
       "<thead>\n",
       "\t<tr><th></th><th scope=col>GSM1053914_G_1.CEL</th></tr>\n",
       "</thead>\n",
       "<tbody>\n",
       "\t<tr><th scope=row>1</th><td>8792</td></tr>\n",
       "\t<tr><th scope=row>2</th><td> 117</td></tr>\n",
       "\t<tr><th scope=row>3</th><td>8322</td></tr>\n",
       "\t<tr><th scope=row>4</th><td>  94</td></tr>\n",
       "\t<tr><th scope=row>5</th><td>  59</td></tr>\n",
       "\t<tr><th scope=row>6</th><td> 135</td></tr>\n",
       "</tbody>\n",
       "</table>\n"
      ],
      "text/latex": [
       "A matrix: 6 × 1 of type dbl\n",
       "\\begin{tabular}{r|l}\n",
       "  & GSM1053914\\_G\\_1.CEL\\\\\n",
       "\\hline\n",
       "\t1 & 8792\\\\\n",
       "\t2 &  117\\\\\n",
       "\t3 & 8322\\\\\n",
       "\t4 &   94\\\\\n",
       "\t5 &   59\\\\\n",
       "\t6 &  135\\\\\n",
       "\\end{tabular}\n"
      ],
      "text/markdown": [
       "\n",
       "A matrix: 6 × 1 of type dbl\n",
       "\n",
       "| <!--/--> | GSM1053914_G_1.CEL |\n",
       "|---|---|\n",
       "| 1 | 8792 |\n",
       "| 2 |  117 |\n",
       "| 3 | 8322 |\n",
       "| 4 |   94 |\n",
       "| 5 |   59 |\n",
       "| 6 |  135 |\n",
       "\n"
      ],
      "text/plain": [
       "  GSM1053914_G_1.CEL\n",
       "1 8792              \n",
       "2  117              \n",
       "3 8322              \n",
       "4   94              \n",
       "5   59              \n",
       "6  135              "
      ]
     },
     "metadata": {},
     "output_type": "display_data"
    }
   ],
   "source": [
    "head(exprs(data.cel))"
   ]
  },
  {
   "cell_type": "markdown",
   "metadata": {},
   "source": [
    "### Как прочитать XYS файлы?"
   ]
  },
  {
   "cell_type": "code",
   "execution_count": 44,
   "metadata": {},
   "outputs": [
    {
     "name": "stderr",
     "output_type": "stream",
     "text": [
      "Loading required package: pd.hg18.60mer.expr\n",
      "\n",
      "Platform design info loaded.\n",
      "\n"
     ]
    },
    {
     "name": "stdout",
     "output_type": "stream",
     "text": [
      "Checking designs for each XYS file... Done.\n",
      "Allocating memory... Done.\n",
      "Reading ../data/somedata.xys.\n"
     ]
    },
    {
     "data": {
      "text/plain": [
       "ExpressionFeatureSet (storageMode: lockedEnvironment)\n",
       "assayData: 76774 features, 1 samples \n",
       "  element names: exprs \n",
       "protocolData\n",
       "  rowNames: somedata.xys\n",
       "  varLabels: exprs dates\n",
       "  varMetadata: labelDescription channel\n",
       "phenoData\n",
       "  rowNames: somedata.xys\n",
       "  varLabels: index\n",
       "  varMetadata: labelDescription channel\n",
       "featureData: none\n",
       "experimentData: use 'experimentData(object)'\n",
       "Annotation: pd.hg18.60mer.expr "
      ]
     },
     "metadata": {},
     "output_type": "display_data"
    }
   ],
   "source": [
    "data.xys <- read.xysfiles(\"../data/somedata.xys\")\n",
    "data.xys"
   ]
  }
 ],
 "metadata": {
  "kernelspec": {
   "display_name": "R",
   "language": "R",
   "name": "ir"
  },
  "language_info": {
   "codemirror_mode": "r",
   "file_extension": ".r",
   "mimetype": "text/x-r-source",
   "name": "R",
   "pygments_lexer": "r",
   "version": "3.6.1"
  }
 },
 "nbformat": 4,
 "nbformat_minor": 4
}
