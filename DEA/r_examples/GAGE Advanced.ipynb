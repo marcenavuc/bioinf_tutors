{
 "cells": [
  {
   "cell_type": "code",
   "execution_count": 1,
   "metadata": {},
   "outputs": [
    {
     "name": "stderr",
     "output_type": "stream",
     "text": [
      "\n",
      "\n",
      "\n",
      "\n",
      "##############################################################################\n",
      "Pathview is an open source software package distributed under GNU General\n",
      "Public License version 3 (GPLv3). Details of GPLv3 is available at\n",
      "http://www.gnu.org/licenses/gpl-3.0.html. Particullary, users are required to\n",
      "formally cite the original Pathview paper (not just mention it) in publications\n",
      "or products. For details, do citation(\"pathview\") within R.\n",
      "\n",
      "The pathview downloads and uses KEGG data. Non-academic uses may require a KEGG\n",
      "license agreement (details at http://www.kegg.jp/kegg/legal.html).\n",
      "##############################################################################\n",
      "\n"
     ]
    }
   ],
   "source": [
    "library(gage)\n",
    "library(pathview)\n",
    "\n",
    "data(gse16873)\n",
    "data(kegg.gs)"
   ]
  },
  {
   "cell_type": "code",
   "execution_count": 2,
   "metadata": {},
   "outputs": [
    {
     "data": {
      "text/html": [
       "<style>\n",
       ".list-inline {list-style: none; margin:0; padding: 0}\n",
       ".list-inline>li {display: inline-block}\n",
       ".list-inline>li:not(:last-child)::after {content: \"\\00b7\"; padding: 0 .5ex}\n",
       "</style>\n",
       "<ol class=list-inline><li>1</li><li>3</li><li>5</li><li>7</li><li>9</li><li>11</li></ol>\n"
      ],
      "text/latex": [
       "\\begin{enumerate*}\n",
       "\\item 1\n",
       "\\item 3\n",
       "\\item 5\n",
       "\\item 7\n",
       "\\item 9\n",
       "\\item 11\n",
       "\\end{enumerate*}\n"
      ],
      "text/markdown": [
       "1. 1\n",
       "2. 3\n",
       "3. 5\n",
       "4. 7\n",
       "5. 9\n",
       "6. 11\n",
       "\n",
       "\n"
      ],
      "text/plain": [
       "[1]  1  3  5  7  9 11"
      ]
     },
     "metadata": {},
     "output_type": "display_data"
    },
    {
     "data": {
      "text/html": [
       "<style>\n",
       ".list-inline {list-style: none; margin:0; padding: 0}\n",
       ".list-inline>li {display: inline-block}\n",
       ".list-inline>li:not(:last-child)::after {content: \"\\00b7\"; padding: 0 .5ex}\n",
       "</style>\n",
       "<ol class=list-inline><li>2</li><li>4</li><li>6</li><li>8</li><li>10</li><li>12</li></ol>\n"
      ],
      "text/latex": [
       "\\begin{enumerate*}\n",
       "\\item 2\n",
       "\\item 4\n",
       "\\item 6\n",
       "\\item 8\n",
       "\\item 10\n",
       "\\item 12\n",
       "\\end{enumerate*}\n"
      ],
      "text/markdown": [
       "1. 2\n",
       "2. 4\n",
       "3. 6\n",
       "4. 8\n",
       "5. 10\n",
       "6. 12\n",
       "\n",
       "\n"
      ],
      "text/plain": [
       "[1]  2  4  6  8 10 12"
      ]
     },
     "metadata": {},
     "output_type": "display_data"
    }
   ],
   "source": [
    "# Получаем индексы колонок двух классов\n",
    "refSamples <- grep('HN', colnames(gse16873))\n",
    "refSamples\n",
    "compSamples <- grep('DCIS', colnames(gse16873))\n",
    "compSamples"
   ]
  },
  {
   "cell_type": "code",
   "execution_count": 3,
   "metadata": {},
   "outputs": [],
   "source": [
    "gse16873.kegg.p <- gage(gse16873,\n",
    "                        gsets = kegg.gs,\n",
    "                        ref = refSamples,\n",
    "                        samp = compSamples)"
   ]
  },
  {
   "cell_type": "code",
   "execution_count": 4,
   "metadata": {},
   "outputs": [
    {
     "data": {
      "text/html": [
       "<table>\n",
       "<caption>A matrix: 6 × 11 of type dbl</caption>\n",
       "<thead>\n",
       "\t<tr><th></th><th scope=col>p.geomean</th><th scope=col>stat.mean</th><th scope=col>p.val</th><th scope=col>q.val</th><th scope=col>set.size</th><th scope=col>DCIS_1</th><th scope=col>DCIS_2</th><th scope=col>DCIS_3</th><th scope=col>DCIS_4</th><th scope=col>DCIS_5</th><th scope=col>DCIS_6</th></tr>\n",
       "</thead>\n",
       "<tbody>\n",
       "\t<tr><th scope=row>hsa04141 Protein processing in endoplasmic reticulum</th><td>0.0002164597</td><td>3.517131</td><td>9.236559e-18</td><td>1.477850e-15</td><td>144</td><td>1.909626e-05</td><td>4.500862e-06</td><td>4.338235e-03</td><td>0.0006625566</td><td>0.0008103988</td><td>0.0005137881</td></tr>\n",
       "\t<tr><th scope=row>hsa00190 Oxidative phosphorylation</th><td>0.0014970021</td><td>2.848815</td><td>3.279350e-12</td><td>2.623480e-10</td><td> 97</td><td>3.475070e-05</td><td>2.149291e-04</td><td>2.665382e-01</td><td>0.0060485163</td><td>0.0019291992</td><td>0.0004844961</td></tr>\n",
       "\t<tr><th scope=row>hsa03050 Proteasome</th><td>0.0047708296</td><td>2.631099</td><td>2.108534e-10</td><td>1.124551e-08</td><td> 39</td><td>8.947511e-04</td><td>3.504204e-03</td><td>2.374528e-02</td><td>0.0109516651</td><td>0.0005634787</td><td>0.0256647373</td></tr>\n",
       "\t<tr><th scope=row>hsa04142 Lysosome</th><td>0.0037176143</td><td>2.541611</td><td>4.027638e-10</td><td>1.611055e-08</td><td>108</td><td>9.028336e-03</td><td>6.278064e-02</td><td>4.882085e-06</td><td>0.0776453319</td><td>0.0007493152</td><td>0.0163971080</td></tr>\n",
       "\t<tr><th scope=row>hsa03060 Protein export</th><td>0.0186201404</td><td>2.118436</td><td>4.404710e-07</td><td>1.409507e-05</td><td> 18</td><td>9.442471e-04</td><td>1.365472e-02</td><td>5.193202e-02</td><td>0.0462144533</td><td>0.0095604241</td><td>0.1408766864</td></tr>\n",
       "\t<tr><th scope=row>hsa04145 Phagosome</th><td>0.0145567304</td><td>1.996678</td><td>6.258738e-07</td><td>1.668997e-05</td><td>132</td><td>7.176237e-02</td><td>2.369194e-01</td><td>4.056498e-05</td><td>0.0666306128</td><td>0.0033630990</td><td>0.0615631576</td></tr>\n",
       "</tbody>\n",
       "</table>\n"
      ],
      "text/latex": [
       "A matrix: 6 × 11 of type dbl\n",
       "\\begin{tabular}{r|lllllllllll}\n",
       "  & p.geomean & stat.mean & p.val & q.val & set.size & DCIS\\_1 & DCIS\\_2 & DCIS\\_3 & DCIS\\_4 & DCIS\\_5 & DCIS\\_6\\\\\n",
       "\\hline\n",
       "\thsa04141 Protein processing in endoplasmic reticulum & 0.0002164597 & 3.517131 & 9.236559e-18 & 1.477850e-15 & 144 & 1.909626e-05 & 4.500862e-06 & 4.338235e-03 & 0.0006625566 & 0.0008103988 & 0.0005137881\\\\\n",
       "\thsa00190 Oxidative phosphorylation & 0.0014970021 & 2.848815 & 3.279350e-12 & 2.623480e-10 &  97 & 3.475070e-05 & 2.149291e-04 & 2.665382e-01 & 0.0060485163 & 0.0019291992 & 0.0004844961\\\\\n",
       "\thsa03050 Proteasome & 0.0047708296 & 2.631099 & 2.108534e-10 & 1.124551e-08 &  39 & 8.947511e-04 & 3.504204e-03 & 2.374528e-02 & 0.0109516651 & 0.0005634787 & 0.0256647373\\\\\n",
       "\thsa04142 Lysosome & 0.0037176143 & 2.541611 & 4.027638e-10 & 1.611055e-08 & 108 & 9.028336e-03 & 6.278064e-02 & 4.882085e-06 & 0.0776453319 & 0.0007493152 & 0.0163971080\\\\\n",
       "\thsa03060 Protein export & 0.0186201404 & 2.118436 & 4.404710e-07 & 1.409507e-05 &  18 & 9.442471e-04 & 1.365472e-02 & 5.193202e-02 & 0.0462144533 & 0.0095604241 & 0.1408766864\\\\\n",
       "\thsa04145 Phagosome & 0.0145567304 & 1.996678 & 6.258738e-07 & 1.668997e-05 & 132 & 7.176237e-02 & 2.369194e-01 & 4.056498e-05 & 0.0666306128 & 0.0033630990 & 0.0615631576\\\\\n",
       "\\end{tabular}\n"
      ],
      "text/markdown": [
       "\n",
       "A matrix: 6 × 11 of type dbl\n",
       "\n",
       "| <!--/--> | p.geomean | stat.mean | p.val | q.val | set.size | DCIS_1 | DCIS_2 | DCIS_3 | DCIS_4 | DCIS_5 | DCIS_6 |\n",
       "|---|---|---|---|---|---|---|---|---|---|---|---|\n",
       "| hsa04141 Protein processing in endoplasmic reticulum | 0.0002164597 | 3.517131 | 9.236559e-18 | 1.477850e-15 | 144 | 1.909626e-05 | 4.500862e-06 | 4.338235e-03 | 0.0006625566 | 0.0008103988 | 0.0005137881 |\n",
       "| hsa00190 Oxidative phosphorylation | 0.0014970021 | 2.848815 | 3.279350e-12 | 2.623480e-10 |  97 | 3.475070e-05 | 2.149291e-04 | 2.665382e-01 | 0.0060485163 | 0.0019291992 | 0.0004844961 |\n",
       "| hsa03050 Proteasome | 0.0047708296 | 2.631099 | 2.108534e-10 | 1.124551e-08 |  39 | 8.947511e-04 | 3.504204e-03 | 2.374528e-02 | 0.0109516651 | 0.0005634787 | 0.0256647373 |\n",
       "| hsa04142 Lysosome | 0.0037176143 | 2.541611 | 4.027638e-10 | 1.611055e-08 | 108 | 9.028336e-03 | 6.278064e-02 | 4.882085e-06 | 0.0776453319 | 0.0007493152 | 0.0163971080 |\n",
       "| hsa03060 Protein export | 0.0186201404 | 2.118436 | 4.404710e-07 | 1.409507e-05 |  18 | 9.442471e-04 | 1.365472e-02 | 5.193202e-02 | 0.0462144533 | 0.0095604241 | 0.1408766864 |\n",
       "| hsa04145 Phagosome | 0.0145567304 | 1.996678 | 6.258738e-07 | 1.668997e-05 | 132 | 7.176237e-02 | 2.369194e-01 | 4.056498e-05 | 0.0666306128 | 0.0033630990 | 0.0615631576 |\n",
       "\n"
      ],
      "text/plain": [
       "                                                     p.geomean    stat.mean\n",
       "hsa04141 Protein processing in endoplasmic reticulum 0.0002164597 3.517131 \n",
       "hsa00190 Oxidative phosphorylation                   0.0014970021 2.848815 \n",
       "hsa03050 Proteasome                                  0.0047708296 2.631099 \n",
       "hsa04142 Lysosome                                    0.0037176143 2.541611 \n",
       "hsa03060 Protein export                              0.0186201404 2.118436 \n",
       "hsa04145 Phagosome                                   0.0145567304 1.996678 \n",
       "                                                     p.val        q.val       \n",
       "hsa04141 Protein processing in endoplasmic reticulum 9.236559e-18 1.477850e-15\n",
       "hsa00190 Oxidative phosphorylation                   3.279350e-12 2.623480e-10\n",
       "hsa03050 Proteasome                                  2.108534e-10 1.124551e-08\n",
       "hsa04142 Lysosome                                    4.027638e-10 1.611055e-08\n",
       "hsa03060 Protein export                              4.404710e-07 1.409507e-05\n",
       "hsa04145 Phagosome                                   6.258738e-07 1.668997e-05\n",
       "                                                     set.size DCIS_1      \n",
       "hsa04141 Protein processing in endoplasmic reticulum 144      1.909626e-05\n",
       "hsa00190 Oxidative phosphorylation                    97      3.475070e-05\n",
       "hsa03050 Proteasome                                   39      8.947511e-04\n",
       "hsa04142 Lysosome                                    108      9.028336e-03\n",
       "hsa03060 Protein export                               18      9.442471e-04\n",
       "hsa04145 Phagosome                                   132      7.176237e-02\n",
       "                                                     DCIS_2       DCIS_3      \n",
       "hsa04141 Protein processing in endoplasmic reticulum 4.500862e-06 4.338235e-03\n",
       "hsa00190 Oxidative phosphorylation                   2.149291e-04 2.665382e-01\n",
       "hsa03050 Proteasome                                  3.504204e-03 2.374528e-02\n",
       "hsa04142 Lysosome                                    6.278064e-02 4.882085e-06\n",
       "hsa03060 Protein export                              1.365472e-02 5.193202e-02\n",
       "hsa04145 Phagosome                                   2.369194e-01 4.056498e-05\n",
       "                                                     DCIS_4       DCIS_5      \n",
       "hsa04141 Protein processing in endoplasmic reticulum 0.0006625566 0.0008103988\n",
       "hsa00190 Oxidative phosphorylation                   0.0060485163 0.0019291992\n",
       "hsa03050 Proteasome                                  0.0109516651 0.0005634787\n",
       "hsa04142 Lysosome                                    0.0776453319 0.0007493152\n",
       "hsa03060 Protein export                              0.0462144533 0.0095604241\n",
       "hsa04145 Phagosome                                   0.0666306128 0.0033630990\n",
       "                                                     DCIS_6      \n",
       "hsa04141 Protein processing in endoplasmic reticulum 0.0005137881\n",
       "hsa00190 Oxidative phosphorylation                   0.0004844961\n",
       "hsa03050 Proteasome                                  0.0256647373\n",
       "hsa04142 Lysosome                                    0.0163971080\n",
       "hsa03060 Protein export                              0.1408766864\n",
       "hsa04145 Phagosome                                   0.0615631576"
      ]
     },
     "metadata": {},
     "output_type": "display_data"
    }
   ],
   "source": [
    "head(gse16873.kegg.p$greater)"
   ]
  },
  {
   "cell_type": "code",
   "execution_count": 5,
   "metadata": {},
   "outputs": [
    {
     "data": {
      "text/html": [
       "<style>\n",
       ".dl-inline {width: auto; margin:0; padding: 0}\n",
       ".dl-inline>dt, .dl-inline>dd {float: none; width: auto; display: inline-block}\n",
       ".dl-inline>dt::after {content: \":\\0020\"; padding-right: .5ex}\n",
       ".dl-inline>dt:not(:first-of-type) {padding-left: .5ex}\n",
       "</style><dl class=dl-inline><dt>hsa04141 Protein processing in endoplasmic reticulum</dt><dd>TRUE</dd><dt>hsa00190 Oxidative phosphorylation</dt><dd>TRUE</dd><dt>hsa03050 Proteasome</dt><dd>TRUE</dd><dt>hsa04142 Lysosome</dt><dd>TRUE</dd><dt>hsa03060 Protein export</dt><dd>TRUE</dd><dt>hsa04145 Phagosome</dt><dd>TRUE</dd></dl>\n"
      ],
      "text/latex": [
       "\\begin{description*}\n",
       "\\item[hsa04141 Protein processing in endoplasmic reticulum] TRUE\n",
       "\\item[hsa00190 Oxidative phosphorylation] TRUE\n",
       "\\item[hsa03050 Proteasome] TRUE\n",
       "\\item[hsa04142 Lysosome] TRUE\n",
       "\\item[hsa03060 Protein export] TRUE\n",
       "\\item[hsa04145 Phagosome] TRUE\n",
       "\\end{description*}\n"
      ],
      "text/markdown": [
       "hsa04141 Protein processing in endoplasmic reticulum\n",
       ":   TRUEhsa00190 Oxidative phosphorylation\n",
       ":   TRUEhsa03050 Proteasome\n",
       ":   TRUEhsa04142 Lysosome\n",
       ":   TRUEhsa03060 Protein export\n",
       ":   TRUEhsa04145 Phagosome\n",
       ":   TRUE\n",
       "\n"
      ],
      "text/plain": [
       "hsa04141 Protein processing in endoplasmic reticulum \n",
       "                                                TRUE \n",
       "                  hsa00190 Oxidative phosphorylation \n",
       "                                                TRUE \n",
       "                                 hsa03050 Proteasome \n",
       "                                                TRUE \n",
       "                                   hsa04142 Lysosome \n",
       "                                                TRUE \n",
       "                             hsa03060 Protein export \n",
       "                                                TRUE \n",
       "                                  hsa04145 Phagosome \n",
       "                                                TRUE "
      ]
     },
     "metadata": {},
     "output_type": "display_data"
    }
   ],
   "source": [
    "sel <- gse16873.kegg.p$greater[, \"q.val\"] < 0.1 & !is.na(gse16873.kegg.p$greater[,\"q.val\"])\n",
    "head(sel)"
   ]
  },
  {
   "cell_type": "code",
   "execution_count": 6,
   "metadata": {},
   "outputs": [],
   "source": [
    "path.ids <- rownames(gse16873.kegg.p$greater)[sel]\n",
    "path.ids2 <- substr(path.ids, 1, 8)"
   ]
  },
  {
   "cell_type": "code",
   "execution_count": 7,
   "metadata": {},
   "outputs": [
    {
     "data": {
      "text/html": [
       "<table>\n",
       "<caption>A matrix: 6 × 6 of type dbl</caption>\n",
       "<thead>\n",
       "\t<tr><th></th><th scope=col>DCIS_1</th><th scope=col>DCIS_2</th><th scope=col>DCIS_3</th><th scope=col>DCIS_4</th><th scope=col>DCIS_5</th><th scope=col>DCIS_6</th></tr>\n",
       "</thead>\n",
       "<tbody>\n",
       "\t<tr><th scope=row>10000</th><td>-0.30764480</td><td>-0.14722769</td><td>-0.023784808</td><td>-0.07056193</td><td>-0.001323087</td><td>-0.15026813</td></tr>\n",
       "\t<tr><th scope=row>10001</th><td> 0.41586805</td><td>-0.33477259</td><td>-0.513136907</td><td>-0.16653712</td><td> 0.111122223</td><td> 0.13400734</td></tr>\n",
       "\t<tr><th scope=row>10002</th><td> 0.19854925</td><td> 0.03789588</td><td> 0.341865341</td><td>-0.08527420</td><td> 0.767559264</td><td> 0.15828609</td></tr>\n",
       "\t<tr><th scope=row>10003</th><td>-0.23155297</td><td>-0.09659311</td><td>-0.104727283</td><td>-0.04801404</td><td>-0.208056443</td><td> 0.03344448</td></tr>\n",
       "\t<tr><th scope=row>100048912</th><td>-0.04490724</td><td>-0.05203146</td><td> 0.036390376</td><td> 0.04807823</td><td> 0.027205816</td><td> 0.05444739</td></tr>\n",
       "\t<tr><th scope=row>10004</th><td>-0.08756237</td><td>-0.05027725</td><td> 0.001821133</td><td> 0.03023835</td><td> 0.008034394</td><td>-0.06860749</td></tr>\n",
       "</tbody>\n",
       "</table>\n"
      ],
      "text/latex": [
       "A matrix: 6 × 6 of type dbl\n",
       "\\begin{tabular}{r|llllll}\n",
       "  & DCIS\\_1 & DCIS\\_2 & DCIS\\_3 & DCIS\\_4 & DCIS\\_5 & DCIS\\_6\\\\\n",
       "\\hline\n",
       "\t10000 & -0.30764480 & -0.14722769 & -0.023784808 & -0.07056193 & -0.001323087 & -0.15026813\\\\\n",
       "\t10001 &  0.41586805 & -0.33477259 & -0.513136907 & -0.16653712 &  0.111122223 &  0.13400734\\\\\n",
       "\t10002 &  0.19854925 &  0.03789588 &  0.341865341 & -0.08527420 &  0.767559264 &  0.15828609\\\\\n",
       "\t10003 & -0.23155297 & -0.09659311 & -0.104727283 & -0.04801404 & -0.208056443 &  0.03344448\\\\\n",
       "\t100048912 & -0.04490724 & -0.05203146 &  0.036390376 &  0.04807823 &  0.027205816 &  0.05444739\\\\\n",
       "\t10004 & -0.08756237 & -0.05027725 &  0.001821133 &  0.03023835 &  0.008034394 & -0.06860749\\\\\n",
       "\\end{tabular}\n"
      ],
      "text/markdown": [
       "\n",
       "A matrix: 6 × 6 of type dbl\n",
       "\n",
       "| <!--/--> | DCIS_1 | DCIS_2 | DCIS_3 | DCIS_4 | DCIS_5 | DCIS_6 |\n",
       "|---|---|---|---|---|---|---|\n",
       "| 10000 | -0.30764480 | -0.14722769 | -0.023784808 | -0.07056193 | -0.001323087 | -0.15026813 |\n",
       "| 10001 |  0.41586805 | -0.33477259 | -0.513136907 | -0.16653712 |  0.111122223 |  0.13400734 |\n",
       "| 10002 |  0.19854925 |  0.03789588 |  0.341865341 | -0.08527420 |  0.767559264 |  0.15828609 |\n",
       "| 10003 | -0.23155297 | -0.09659311 | -0.104727283 | -0.04801404 | -0.208056443 |  0.03344448 |\n",
       "| 100048912 | -0.04490724 | -0.05203146 |  0.036390376 |  0.04807823 |  0.027205816 |  0.05444739 |\n",
       "| 10004 | -0.08756237 | -0.05027725 |  0.001821133 |  0.03023835 |  0.008034394 | -0.06860749 |\n",
       "\n"
      ],
      "text/plain": [
       "          DCIS_1      DCIS_2      DCIS_3       DCIS_4      DCIS_5      \n",
       "10000     -0.30764480 -0.14722769 -0.023784808 -0.07056193 -0.001323087\n",
       "10001      0.41586805 -0.33477259 -0.513136907 -0.16653712  0.111122223\n",
       "10002      0.19854925  0.03789588  0.341865341 -0.08527420  0.767559264\n",
       "10003     -0.23155297 -0.09659311 -0.104727283 -0.04801404 -0.208056443\n",
       "100048912 -0.04490724 -0.05203146  0.036390376  0.04807823  0.027205816\n",
       "10004     -0.08756237 -0.05027725  0.001821133  0.03023835  0.008034394\n",
       "          DCIS_6     \n",
       "10000     -0.15026813\n",
       "10001      0.13400734\n",
       "10002      0.15828609\n",
       "10003      0.03344448\n",
       "100048912  0.05444739\n",
       "10004     -0.06860749"
      ]
     },
     "metadata": {},
     "output_type": "display_data"
    }
   ],
   "source": [
    "gse16873.d <- gse16873[, compSamples] - gse16873[, refSamples]\n",
    "head(gse16873.d)"
   ]
  },
  {
   "cell_type": "code",
   "execution_count": 11,
   "metadata": {},
   "outputs": [],
   "source": [
    "#setwd(paste(getwd(), \"FromAdvanced/\", sep='/'))"
   ]
  },
  {
   "cell_type": "code",
   "execution_count": 12,
   "metadata": {},
   "outputs": [
    {
     "name": "stderr",
     "output_type": "stream",
     "text": [
      "Info: Downloading xml files for hsa04141, 1/1 pathways..\n",
      "\n",
      "Info: Downloading png files for hsa04141, 1/1 pathways..\n",
      "\n",
      "'select()' returned 1:1 mapping between keys and columns\n",
      "\n",
      "Info: Working in directory /home/mark/Рабочий стол/bioinf/bioinf_tutors/DEA/r_examples/FromAdvanced\n",
      "\n",
      "Info: Writing image file hsa04141.pathview.multi.png\n",
      "\n",
      "Info: Downloading xml files for hsa00190, 1/1 pathways..\n",
      "\n",
      "Info: Downloading png files for hsa00190, 1/1 pathways..\n",
      "\n",
      "'select()' returned 1:1 mapping between keys and columns\n",
      "\n",
      "Info: Working in directory /home/mark/Рабочий стол/bioinf/bioinf_tutors/DEA/r_examples/FromAdvanced\n",
      "\n",
      "Info: Writing image file hsa00190.pathview.multi.png\n",
      "\n",
      "Info: some node width is different from others, and hence adjusted!\n",
      "\n",
      "Info: some node width is different from others, and hence adjusted!\n",
      "\n",
      "Info: Downloading xml files for hsa03050, 1/1 pathways..\n",
      "\n",
      "Info: Downloading png files for hsa03050, 1/1 pathways..\n",
      "\n",
      "'select()' returned 1:1 mapping between keys and columns\n",
      "\n",
      "Info: Working in directory /home/mark/Рабочий стол/bioinf/bioinf_tutors/DEA/r_examples/FromAdvanced\n",
      "\n",
      "Info: Writing image file hsa03050.pathview.multi.png\n",
      "\n",
      "Info: Downloading xml files for hsa04142, 1/1 pathways..\n",
      "\n",
      "Info: Downloading png files for hsa04142, 1/1 pathways..\n",
      "\n",
      "'select()' returned 1:1 mapping between keys and columns\n",
      "\n",
      "Info: Working in directory /home/mark/Рабочий стол/bioinf/bioinf_tutors/DEA/r_examples/FromAdvanced\n",
      "\n",
      "Info: Writing image file hsa04142.pathview.multi.png\n",
      "\n",
      "Info: some node width is different from others, and hence adjusted!\n",
      "\n",
      "Info: Downloading xml files for hsa03060, 1/1 pathways..\n",
      "\n",
      "Info: Downloading png files for hsa03060, 1/1 pathways..\n",
      "\n",
      "'select()' returned 1:1 mapping between keys and columns\n",
      "\n",
      "Info: Working in directory /home/mark/Рабочий стол/bioinf/bioinf_tutors/DEA/r_examples/FromAdvanced\n",
      "\n",
      "Info: Writing image file hsa03060.pathview.multi.png\n",
      "\n",
      "Info: Downloading xml files for hsa04145, 1/1 pathways..\n",
      "\n",
      "Info: Downloading png files for hsa04145, 1/1 pathways..\n",
      "\n",
      "'select()' returned 1:1 mapping between keys and columns\n",
      "\n",
      "Info: Working in directory /home/mark/Рабочий стол/bioinf/bioinf_tutors/DEA/r_examples/FromAdvanced\n",
      "\n",
      "Info: Writing image file hsa04145.pathview.multi.png\n",
      "\n",
      "Info: Downloading xml files for hsa04612, 1/1 pathways..\n",
      "\n",
      "Info: Downloading png files for hsa04612, 1/1 pathways..\n",
      "\n",
      "'select()' returned 1:1 mapping between keys and columns\n",
      "\n",
      "Info: Working in directory /home/mark/Рабочий стол/bioinf/bioinf_tutors/DEA/r_examples/FromAdvanced\n",
      "\n",
      "Info: Writing image file hsa04612.pathview.multi.png\n",
      "\n",
      "Info: Downloading xml files for hsa00520, 1/1 pathways..\n",
      "\n",
      "Info: Downloading png files for hsa00520, 1/1 pathways..\n",
      "\n",
      "'select()' returned 1:1 mapping between keys and columns\n",
      "\n",
      "Info: Working in directory /home/mark/Рабочий стол/bioinf/bioinf_tutors/DEA/r_examples/FromAdvanced\n",
      "\n",
      "Info: Writing image file hsa00520.pathview.multi.png\n",
      "\n",
      "Info: Downloading xml files for hsa00510, 1/1 pathways..\n",
      "\n",
      "Info: Downloading png files for hsa00510, 1/1 pathways..\n",
      "\n",
      "'select()' returned 1:1 mapping between keys and columns\n",
      "\n",
      "Info: Working in directory /home/mark/Рабочий стол/bioinf/bioinf_tutors/DEA/r_examples/FromAdvanced\n",
      "\n",
      "Info: Writing image file hsa00510.pathview.multi.png\n",
      "\n",
      "Info: Downloading xml files for hsa00500, 1/1 pathways..\n",
      "\n",
      "Info: Downloading png files for hsa00500, 1/1 pathways..\n",
      "\n",
      "'select()' returned 1:1 mapping between keys and columns\n",
      "\n",
      "Info: Working in directory /home/mark/Рабочий стол/bioinf/bioinf_tutors/DEA/r_examples/FromAdvanced\n",
      "\n",
      "Info: Writing image file hsa00500.pathview.multi.png\n",
      "\n",
      "Info: some node width is different from others, and hence adjusted!\n",
      "\n",
      "Info: Downloading xml files for hsa01040, 1/1 pathways..\n",
      "\n",
      "Info: Downloading png files for hsa01040, 1/1 pathways..\n",
      "\n",
      "'select()' returned 1:1 mapping between keys and columns\n",
      "\n",
      "Info: Working in directory /home/mark/Рабочий стол/bioinf/bioinf_tutors/DEA/r_examples/FromAdvanced\n",
      "\n",
      "Info: Writing image file hsa01040.pathview.multi.png\n",
      "\n",
      "Info: Downloading xml files for hsa04110, 1/1 pathways..\n",
      "\n",
      "Info: Downloading png files for hsa04110, 1/1 pathways..\n",
      "\n",
      "'select()' returned 1:1 mapping between keys and columns\n",
      "\n",
      "Info: Working in directory /home/mark/Рабочий стол/bioinf/bioinf_tutors/DEA/r_examples/FromAdvanced\n",
      "\n",
      "Info: Writing image file hsa04110.pathview.multi.png\n",
      "\n",
      "Info: Downloading xml files for hsa00860, 1/1 pathways..\n",
      "\n",
      "Info: Downloading png files for hsa00860, 1/1 pathways..\n",
      "\n",
      "'select()' returned 1:1 mapping between keys and columns\n",
      "\n",
      "Info: Working in directory /home/mark/Рабочий стол/bioinf/bioinf_tutors/DEA/r_examples/FromAdvanced\n",
      "\n",
      "Info: Writing image file hsa00860.pathview.multi.png\n",
      "\n",
      "Info: Downloading xml files for hsa04966, 1/1 pathways..\n",
      "\n",
      "Info: Downloading png files for hsa04966, 1/1 pathways..\n",
      "\n",
      "'select()' returned 1:1 mapping between keys and columns\n",
      "\n",
      "Info: Working in directory /home/mark/Рабочий стол/bioinf/bioinf_tutors/DEA/r_examples/FromAdvanced\n",
      "\n",
      "Info: Writing image file hsa04966.pathview.multi.png\n",
      "\n",
      "Info: Downloading xml files for hsa00240, 1/1 pathways..\n",
      "\n",
      "Info: Downloading png files for hsa00240, 1/1 pathways..\n",
      "\n",
      "'select()' returned 1:1 mapping between keys and columns\n",
      "\n",
      "Info: Working in directory /home/mark/Рабочий стол/bioinf/bioinf_tutors/DEA/r_examples/FromAdvanced\n",
      "\n",
      "Info: Writing image file hsa00240.pathview.multi.png\n",
      "\n",
      "Info: Downloading xml files for hsa04146, 1/1 pathways..\n",
      "\n",
      "Info: Downloading png files for hsa04146, 1/1 pathways..\n",
      "\n",
      "'select()' returned 1:1 mapping between keys and columns\n",
      "\n",
      "Info: Working in directory /home/mark/Рабочий стол/bioinf/bioinf_tutors/DEA/r_examples/FromAdvanced\n",
      "\n",
      "Info: Writing image file hsa04146.pathview.multi.png\n",
      "\n",
      "Info: Downloading xml files for hsa04620, 1/1 pathways..\n",
      "\n",
      "Info: Downloading png files for hsa04620, 1/1 pathways..\n",
      "\n",
      "'select()' returned 1:1 mapping between keys and columns\n",
      "\n",
      "Info: Working in directory /home/mark/Рабочий стол/bioinf/bioinf_tutors/DEA/r_examples/FromAdvanced\n",
      "\n",
      "Info: Writing image file hsa04620.pathview.multi.png\n",
      "\n",
      "Info: Downloading xml files for hsa04120, 1/1 pathways..\n",
      "\n",
      "Info: Downloading png files for hsa04120, 1/1 pathways..\n",
      "\n",
      "'select()' returned 1:1 mapping between keys and columns\n",
      "\n",
      "Info: Working in directory /home/mark/Рабочий стол/bioinf/bioinf_tutors/DEA/r_examples/FromAdvanced\n",
      "\n",
      "Info: Writing image file hsa04120.pathview.multi.png\n",
      "\n",
      "Info: Downloading xml files for hsa00790, 1/1 pathways..\n",
      "\n",
      "Info: Downloading png files for hsa00790, 1/1 pathways..\n",
      "\n",
      "'select()' returned 1:1 mapping between keys and columns\n",
      "\n",
      "Info: Working in directory /home/mark/Рабочий стол/bioinf/bioinf_tutors/DEA/r_examples/FromAdvanced\n",
      "\n",
      "Info: Writing image file hsa00790.pathview.multi.png\n",
      "\n",
      "Info: Downloading xml files for hsa00511, 1/1 pathways..\n",
      "\n",
      "Info: Downloading png files for hsa00511, 1/1 pathways..\n",
      "\n",
      "Warning: Number of mappable nodes is below 3, hsa00511 skipped!\n",
      "\n",
      "Info: Downloading xml files for hsa04114, 1/1 pathways..\n",
      "\n",
      "Info: Downloading png files for hsa04114, 1/1 pathways..\n",
      "\n",
      "'select()' returned 1:1 mapping between keys and columns\n",
      "\n",
      "Info: Working in directory /home/mark/Рабочий стол/bioinf/bioinf_tutors/DEA/r_examples/FromAdvanced\n",
      "\n",
      "Info: Writing image file hsa04114.pathview.multi.png\n",
      "\n",
      "Info: Downloading xml files for hsa00020, 1/1 pathways..\n",
      "\n",
      "Info: Downloading png files for hsa00020, 1/1 pathways..\n",
      "\n",
      "'select()' returned 1:1 mapping between keys and columns\n",
      "\n",
      "Info: Working in directory /home/mark/Рабочий стол/bioinf/bioinf_tutors/DEA/r_examples/FromAdvanced\n",
      "\n",
      "Info: Writing image file hsa00020.pathview.multi.png\n",
      "\n"
     ]
    }
   ],
   "source": [
    "pv.out.list <- sapply(path.ids2, function(pid) \n",
    "    pathview(gene.data = gse16873.d[, 1:2],\n",
    "             pathway.id = pid,\n",
    "             species = \"hsa\"))"
   ]
  },
  {
   "cell_type": "code",
   "execution_count": 13,
   "metadata": {},
   "outputs": [],
   "source": [
    "pv.out.list <- sapply(path.ids2, function(pid) \n",
    "    pathview(gene.data = gse16873.d[, 1:2],\n",
    "             pathway.id = pid,\n",
    "             keggview.native = FALSE\n",
    "             species = \"hsa\"))"
   ]
  },
  {
   "cell_type": "code",
   "execution_count": 25,
   "metadata": {},
   "outputs": [
    {
     "data": {
      "text/html": [
       "<style>\n",
       ".list-inline {list-style: none; margin:0; padding: 0}\n",
       ".list-inline>li {display: inline-block}\n",
       ".list-inline>li:not(:last-child)::after {content: \"\\00b7\"; padding: 0 .5ex}\n",
       "</style>\n",
       "<ol class=list-inline><li>'hsa04141'</li><li>'hsa00190'</li><li>'hsa03050'</li><li>'hsa04142'</li><li>'hsa03060'</li><li>'hsa04145'</li><li>'hsa04612'</li><li>'hsa00520'</li><li>'hsa00510'</li><li>'hsa00500'</li><li>'hsa01040'</li><li>'hsa04110'</li><li>'hsa00860'</li><li>'hsa04966'</li><li>'hsa00240'</li><li>'hsa04146'</li><li>'hsa04620'</li><li>'hsa04120'</li><li>'hsa00790'</li><li>'hsa00511'</li><li>'hsa04114'</li><li>'hsa00020'</li></ol>\n"
      ],
      "text/latex": [
       "\\begin{enumerate*}\n",
       "\\item 'hsa04141'\n",
       "\\item 'hsa00190'\n",
       "\\item 'hsa03050'\n",
       "\\item 'hsa04142'\n",
       "\\item 'hsa03060'\n",
       "\\item 'hsa04145'\n",
       "\\item 'hsa04612'\n",
       "\\item 'hsa00520'\n",
       "\\item 'hsa00510'\n",
       "\\item 'hsa00500'\n",
       "\\item 'hsa01040'\n",
       "\\item 'hsa04110'\n",
       "\\item 'hsa00860'\n",
       "\\item 'hsa04966'\n",
       "\\item 'hsa00240'\n",
       "\\item 'hsa04146'\n",
       "\\item 'hsa04620'\n",
       "\\item 'hsa04120'\n",
       "\\item 'hsa00790'\n",
       "\\item 'hsa00511'\n",
       "\\item 'hsa04114'\n",
       "\\item 'hsa00020'\n",
       "\\end{enumerate*}\n"
      ],
      "text/markdown": [
       "1. 'hsa04141'\n",
       "2. 'hsa00190'\n",
       "3. 'hsa03050'\n",
       "4. 'hsa04142'\n",
       "5. 'hsa03060'\n",
       "6. 'hsa04145'\n",
       "7. 'hsa04612'\n",
       "8. 'hsa00520'\n",
       "9. 'hsa00510'\n",
       "10. 'hsa00500'\n",
       "11. 'hsa01040'\n",
       "12. 'hsa04110'\n",
       "13. 'hsa00860'\n",
       "14. 'hsa04966'\n",
       "15. 'hsa00240'\n",
       "16. 'hsa04146'\n",
       "17. 'hsa04620'\n",
       "18. 'hsa04120'\n",
       "19. 'hsa00790'\n",
       "20. 'hsa00511'\n",
       "21. 'hsa04114'\n",
       "22. 'hsa00020'\n",
       "\n",
       "\n"
      ],
      "text/plain": [
       " [1] \"hsa04141\" \"hsa00190\" \"hsa03050\" \"hsa04142\" \"hsa03060\" \"hsa04145\"\n",
       " [7] \"hsa04612\" \"hsa00520\" \"hsa00510\" \"hsa00500\" \"hsa01040\" \"hsa04110\"\n",
       "[13] \"hsa00860\" \"hsa04966\" \"hsa00240\" \"hsa04146\" \"hsa04620\" \"hsa04120\"\n",
       "[19] \"hsa00790\" \"hsa00511\" \"hsa04114\" \"hsa00020\""
      ]
     },
     "metadata": {},
     "output_type": "display_data"
    }
   ],
   "source": [
    "path.ids2"
   ]
  },
  {
   "cell_type": "code",
   "execution_count": 28,
   "metadata": {},
   "outputs": [],
   "source": [
    "?pathview"
   ]
  },
  {
   "cell_type": "code",
   "execution_count": 29,
   "metadata": {},
   "outputs": [
    {
     "name": "stderr",
     "output_type": "stream",
     "text": [
      "'select()' returned 1:1 mapping between keys and columns\n",
      "\n",
      "Info: Working in directory /home/mark/Рабочий стол/bioinf/bioinf_tutors/DEA/r_examples\n",
      "\n",
      "Info: Writing image file hsa04110.pathview.multi.pdf\n",
      "\n"
     ]
    }
   ],
   "source": [
    "pathview(gene.data = gse16873.d[, 1:2],\n",
    "         pathway.id = \"hsa04110\",\n",
    "         kegg.native = FALSE,\n",
    "         species = \"hsa\")"
   ]
  },
  {
   "cell_type": "code",
   "execution_count": null,
   "metadata": {},
   "outputs": [],
   "source": []
  }
 ],
 "metadata": {
  "kernelspec": {
   "display_name": "R",
   "language": "R",
   "name": "ir"
  },
  "language_info": {
   "codemirror_mode": "r",
   "file_extension": ".r",
   "mimetype": "text/x-r-source",
   "name": "R",
   "pygments_lexer": "r",
   "version": "4.0.2"
  }
 },
 "nbformat": 4,
 "nbformat_minor": 4
}
