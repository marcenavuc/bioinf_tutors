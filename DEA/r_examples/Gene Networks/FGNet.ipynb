{
 "cells": [
  {
   "cell_type": "code",
   "execution_count": 2,
   "metadata": {},
   "outputs": [
    {
     "name": "stderr",
     "output_type": "stream",
     "text": [
      "Bioconductor version 3.10 (BiocManager 1.30.10), R 3.6.1 (2019-07-05)\n",
      "\n",
      "Installing package(s) 'FGNet'\n",
      "\n",
      "Updating HTML index of packages in '.Library'\n",
      "\n",
      "Making 'packages.html' ...\n",
      " done\n",
      "\n",
      "Old packages: 'ff'\n",
      "\n"
     ]
    }
   ],
   "source": [
    "# Устанавливаем библиотеку FGnet\n",
    "# Эта библиотека используется для быстрого построенния графов по генам\n",
    "BiocManager::install(\"FGNet\")\n",
    "BiocManager::install(\"org.Sc.sgd.db\")"
   ]
  },
  {
   "cell_type": "code",
   "execution_count": 7,
   "metadata": {},
   "outputs": [
    {
     "name": "stderr",
     "output_type": "stream",
     "text": [
      "Loading required package: AnnotationDbi\n",
      "\n",
      "Loading required package: stats4\n",
      "\n",
      "Loading required package: BiocGenerics\n",
      "\n",
      "Loading required package: parallel\n",
      "\n",
      "\n",
      "Attaching package: ‘BiocGenerics’\n",
      "\n",
      "\n",
      "The following objects are masked from ‘package:parallel’:\n",
      "\n",
      "    clusterApply, clusterApplyLB, clusterCall, clusterEvalQ,\n",
      "    clusterExport, clusterMap, parApply, parCapply, parLapply,\n",
      "    parLapplyLB, parRapply, parSapply, parSapplyLB\n",
      "\n",
      "\n",
      "The following objects are masked from ‘package:stats’:\n",
      "\n",
      "    IQR, mad, sd, var, xtabs\n",
      "\n",
      "\n",
      "The following objects are masked from ‘package:base’:\n",
      "\n",
      "    anyDuplicated, append, as.data.frame, basename, cbind, colnames,\n",
      "    dirname, do.call, duplicated, eval, evalq, Filter, Find, get, grep,\n",
      "    grepl, intersect, is.unsorted, lapply, Map, mapply, match, mget,\n",
      "    order, paste, pmax, pmax.int, pmin, pmin.int, Position, rank,\n",
      "    rbind, Reduce, rownames, sapply, setdiff, sort, table, tapply,\n",
      "    union, unique, unsplit, which, which.max, which.min\n",
      "\n",
      "\n",
      "Loading required package: Biobase\n",
      "\n",
      "Welcome to Bioconductor\n",
      "\n",
      "    Vignettes contain introductory material; view with\n",
      "    'browseVignettes()'. To cite Bioconductor, see\n",
      "    'citation(\"Biobase\")', and for packages 'citation(\"pkgname\")'.\n",
      "\n",
      "\n",
      "Loading required package: IRanges\n",
      "\n",
      "Loading required package: S4Vectors\n",
      "\n",
      "\n",
      "Attaching package: ‘S4Vectors’\n",
      "\n",
      "\n",
      "The following object is masked from ‘package:base’:\n",
      "\n",
      "    expand.grid\n",
      "\n",
      "\n",
      "\n",
      "\n"
     ]
    }
   ],
   "source": [
    "library(FGNet)\n",
    "library(org.Sc.sgd.db)"
   ]
  },
  {
   "cell_type": "code",
   "execution_count": 8,
   "metadata": {},
   "outputs": [],
   "source": [
    "# Выберем какие-нибудь гены\n",
    "genesYeast <- c(\"ADA2\", \"APC1\", \"APC11\", \"APC2\", \"APC4\", \"APC5\", \"APC9\", \"CDC16\", \n",
    "                \"CDC23\", \"CDC26\", \"CDC27\", \"CFT1\", \"CFT2\", \"DCP1\", \"DOC1\", \"FIP1\", \n",
    "                \"GCN5\", \"GLC7\", \"HFI1\", \"KEM1\", \"LSM1\", \"LSM2\", \"LSM3\", \"LSM4\", \n",
    "                \"LSM5\", \"LSM6\", \"LSM7\", \"LSM8\", \"MPE1\", \"NGG1\", \"PAP1\", \"PAT1\", \n",
    "                \"PFS2\", \"PTA1\", \"PTI1\", \"REF2\", \"RNA14\", \"RPN1\", \"RPN10\", \"RPN11\", \n",
    "                \"RPN13\", \"RPN2\", \"RPN3\", \"RPN5\", \"RPN6\", \"RPN8\", \"RPT1\", \"RPT3\", \n",
    "                \"RPT6\", \"SGF11\", \"SGF29\", \"SGF73\", \"SPT20\", \"SPT3\", \"SPT7\", \"SPT8\", \n",
    "                \"TRA1\", \"YSH1\", \"YTH1\")\n",
    "\n",
    "# Также добавим к ним аннотацию\n",
    "\n",
    "geneLabels <- unlist(as.list(org.Sc.sgdGENENAME))\n",
    "genesYeast <- sort(geneLabels[which(geneLabels %in% genesYeast)])\n",
    "\n",
    "# Optional: Gene expression (1=up, -1=down)\n",
    "genesYeastExpr <- setNames(c(rep(1,28), rep(-1,30)),genesYeast) "
   ]
  },
  {
   "cell_type": "code",
   "execution_count": 9,
   "metadata": {},
   "outputs": [
    {
     "name": "stderr",
     "output_type": "stream",
     "text": [
      "\n",
      "\n",
      "\n",
      "Attaching package: ‘SparseM’\n",
      "\n",
      "\n",
      "The following object is masked from ‘package:base’:\n",
      "\n",
      "    backsolve\n",
      "\n",
      "\n",
      "\n",
      "groupGOTerms: \tGOBPTerm, GOMFTerm, GOCCTerm environments built.\n",
      "\n",
      "\n",
      "Attaching package: ‘topGO’\n",
      "\n",
      "\n",
      "The following object is masked _by_ ‘package:IRanges’:\n",
      "\n",
      "    members\n",
      "\n",
      "\n",
      "\n",
      "groupGOTerms: \tGOBPTerm, GOMFTerm, GOCCTerm environments built.\n",
      "\n",
      "'select()' returned 1:many mapping between keys and columns\n",
      "\n",
      "'select()' returned 1:1 mapping between keys and columns\n",
      "\n",
      "\n",
      "Building most specific GOs .....\n",
      "\n",
      "\t( 2987 GO terms found. )\n",
      "\n",
      "\n",
      "Build GO DAG topology ..........\n",
      "\n",
      "\t( 5191 GO terms and 11712 relations. )\n",
      "\n",
      "\n",
      "Annotating nodes ...............\n",
      "\n",
      "\t( 5319 genes annotated to the GO terms. )\n",
      "\n",
      "\n",
      "\t\t\t -- Classic Algorithm -- \n",
      "\n",
      "\t\t the algorithm is scoring 563 nontrivial nodes\n",
      "\t\t parameters: \n",
      "\t\t\t test statistic: Fisher test\n",
      "\n",
      "\n",
      "Building most specific GOs .....\n",
      "\n",
      "\t( 1903 GO terms found. )\n",
      "\n",
      "\n",
      "Build GO DAG topology ..........\n",
      "\n",
      "\t( 2379 GO terms and 3160 relations. )\n",
      "\n",
      "\n",
      "Annotating nodes ...............\n",
      "\n",
      "\t( 5306 genes annotated to the GO terms. )\n",
      "\n",
      "\n",
      "\t\t\t -- Classic Algorithm -- \n",
      "\n",
      "\t\t the algorithm is scoring 117 nontrivial nodes\n",
      "\t\t parameters: \n",
      "\t\t\t test statistic: Fisher test\n",
      "\n",
      "\n",
      "Building most specific GOs .....\n",
      "\n",
      "\t( 791 GO terms found. )\n",
      "\n",
      "\n",
      "Build GO DAG topology ..........\n",
      "\n",
      "\t( 1060 GO terms and 2091 relations. )\n",
      "\n",
      "\n",
      "Annotating nodes ...............\n",
      "\n",
      "\t( 5325 genes annotated to the GO terms. )\n",
      "\n",
      "\n",
      "\t\t\t -- Classic Algorithm -- \n",
      "\n",
      "\t\t the algorithm is scoring 137 nontrivial nodes\n",
      "\t\t parameters: \n",
      "\t\t\t test statistic: Fisher test\n",
      "\n"
     ]
    }
   ],
   "source": [
    "# Построим граф по базе данных topGO, \n",
    "# которая описывает биололические процессы, относящиеся к генам\n",
    "feaResults_topGO <- fea_topGO(genesYeast, geneIdType=\"GENENAME\", organism=\"Sc\") "
   ]
  },
  {
   "cell_type": "code",
   "execution_count": 10,
   "metadata": {
    "scrolled": true
   },
   "outputs": [
    {
     "name": "stderr",
     "output_type": "stream",
     "text": [
      "The following metagroups/clusters have been filtered out: 2, 3, 8, 9, 10, 11, 12, 13, 14, 15, 16, 19, 20, 21, 22, 28, 29, 30, 32, 33, 34, 36, 37, 38, 39, 40, 41, 42, 43, 44, 45, 46, 47, 48, 49, 50, 51, 52, 55, 56, 58, 59, 60, 66, 67, 70, 71, 72, 78, 79, 81, 83, 87, 88, 89, 90, 91, 92, 94, 98, 103, 105, 106, 107, 110, 111, 113, 114, 115, 116, 121, 122, 123, 124, 125, 126, 128, 129, 132, 133, 134, 136, 138, 141, 142, 143, 144, 145, 147, 148, 149, 150, 153, 154, 157, 158, 159, 160, 161, 162, 163, 164, 165, 169, 171, 172, 173, 174, 177, 181, 182, 183, 184, 186, 187, 188, 189, 190, 194, 195, 196, 197, 198, 199, 203, 204, 208, 212, 219, 221, 222, 224, 225, 226, 227, 228, 229, 230, 233, 236, 237, 239, 244, 245, 248, 258, 259, 260, 261, 275, 276, 278, 279, 280, 281, 282, 283, 285, 287, 288\n",
      "\n"
     ]
    },
    {
     "ename": "ERROR",
     "evalue": "Error in browseURL(htmlFileName): 'browser' must be a non-empty character string\n",
     "output_type": "error",
     "traceback": [
      "Error in browseURL(htmlFileName): 'browser' must be a non-empty character string\nTraceback:\n",
      "1. FGNet_report(feaResults_topGO, geneExpr = genesYeastExpr)",
      "2. tryCatch({\n .     htmlFileName <- paste(currWD, .Platform$file.sep, jobName, \n .         \".html\", sep = \"\")\n .     createHtml(htmlFileName = htmlFileName, feaResults = feaResults, \n .         jobName = jobName, tablesGenes = tablesGenes, tablesTerms = tablesTerms, \n .         tool = tool, queryArgs = queryArgs, filterAttribute = filterAttribute, \n .         filterOperator = filterOperator, filterThreshold = filterThreshold, \n .         geneExpr = geneExpr, plotExpression = plotExpression, \n .         onlyGoLeaves = onlyGoLeaves, plotGoTree = plotGoTree, \n .         plotKeggPw = plotKeggPw)\n .     setwd(currWD)\n . }, error = function(e) {\n .     setwd(currWD)\n .     stop(e)\n . })",
      "3. tryCatchList(expr, classes, parentenv, handlers)",
      "4. tryCatchOne(expr, names, parentenv, handlers[[1L]])",
      "5. value[[3L]](cond)"
     ]
    }
   ],
   "source": [
    "# Построим графики\n",
    "FGNet_report(feaResults_topGO, geneExpr=genesYeastExpr) "
   ]
  },
  {
   "cell_type": "code",
   "execution_count": null,
   "metadata": {},
   "outputs": [],
   "source": [
    "# Не замечаем ошибку, которая у нас высветилась\n",
    "# Это нормально))\n",
    "# Главное, что у нас появилась папочка и html файл,\n",
    "# в которых собра отчет по нашим генам\n",
    "# в этом же отчете и лежат графы)"
   ]
  }
 ],
 "metadata": {
  "kernelspec": {
   "display_name": "R",
   "language": "R",
   "name": "ir"
  },
  "language_info": {
   "codemirror_mode": "r",
   "file_extension": ".r",
   "mimetype": "text/x-r-source",
   "name": "R",
   "pygments_lexer": "r",
   "version": "3.6.1"
  }
 },
 "nbformat": 4,
 "nbformat_minor": 4
}
