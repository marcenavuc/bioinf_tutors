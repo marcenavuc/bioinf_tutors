{
 "cells": [
  {
   "cell_type": "code",
   "execution_count": null,
   "metadata": {},
   "outputs": [],
   "source": [
    "# Устанавливаем пакеты  FGNet, gage, org.Hs.eg.db\n",
    "packages <- c(\"FGNet\", \"gage\", \"org.Hs.eg.db\")\n",
    "\n",
    "if (!requireNamespace(packages, quietly = TRUE)) {\n",
    "    BiocManager::install(packages)\n",
    "}"
   ]
  },
  {
   "cell_type": "code",
   "execution_count": 16,
   "metadata": {},
   "outputs": [],
   "source": [
    "# Загружаем библиотеки\n",
    "library(FGNet)\n",
    "library(gage)\n",
    "library(org.Hs.eg.db)\n",
    "\n",
    "# Загружаем тестовые данные\n",
    "# https://www.ncbi.nlm.nih.gov/geo/query/acc.cgi?acc=GSE16873\n",
    "# Это данные по раку груди\n",
    "data(gse16873)"
   ]
  },
  {
   "cell_type": "code",
   "execution_count": 17,
   "metadata": {},
   "outputs": [
    {
     "data": {
      "text/html": [
       "<table>\n",
       "<caption>A matrix: 6 × 12 of type dbl</caption>\n",
       "<thead>\n",
       "\t<tr><th></th><th scope=col>HN_1</th><th scope=col>DCIS_1</th><th scope=col>HN_2</th><th scope=col>DCIS_2</th><th scope=col>HN_3</th><th scope=col>DCIS_3</th><th scope=col>HN_4</th><th scope=col>DCIS_4</th><th scope=col>HN_5</th><th scope=col>DCIS_5</th><th scope=col>HN_6</th><th scope=col>DCIS_6</th></tr>\n",
       "</thead>\n",
       "<tbody>\n",
       "\t<tr><th scope=row>10000</th><td>6.765984</td><td>6.458339</td><td>6.921720</td><td>6.774493</td><td>7.010564</td><td>6.986779</td><td>6.958761</td><td>6.888199</td><td>6.949912</td><td>6.948589</td><td>7.220427</td><td>7.070159</td></tr>\n",
       "\t<tr><th scope=row>10001</th><td>6.339474</td><td>6.755342</td><td>7.177369</td><td>6.842597</td><td>7.392611</td><td>6.879474</td><td>6.296571</td><td>6.130034</td><td>7.831222</td><td>7.942344</td><td>7.665248</td><td>7.799255</td></tr>\n",
       "\t<tr><th scope=row>10002</th><td>6.591755</td><td>6.790304</td><td>6.735359</td><td>6.773255</td><td>6.700016</td><td>7.041881</td><td>6.586285</td><td>6.501011</td><td>6.884931</td><td>7.652490</td><td>7.342505</td><td>7.500791</td></tr>\n",
       "\t<tr><th scope=row>10003</th><td>6.822092</td><td>6.590539</td><td>6.508452</td><td>6.411859</td><td>6.575640</td><td>6.470913</td><td>6.896886</td><td>6.848872</td><td>6.615143</td><td>6.407087</td><td>6.618174</td><td>6.651619</td></tr>\n",
       "\t<tr><th scope=row>100048912</th><td>7.356051</td><td>7.311144</td><td>7.385513</td><td>7.333481</td><td>7.392233</td><td>7.428623</td><td>7.314579</td><td>7.362658</td><td>7.370044</td><td>7.397249</td><td>7.383196</td><td>7.437643</td></tr>\n",
       "\t<tr><th scope=row>10004</th><td>6.941935</td><td>6.854373</td><td>6.883973</td><td>6.833695</td><td>6.855043</td><td>6.856864</td><td>7.021072</td><td>7.051310</td><td>6.767242</td><td>6.775276</td><td>6.873855</td><td>6.805247</td></tr>\n",
       "</tbody>\n",
       "</table>\n"
      ],
      "text/latex": [
       "A matrix: 6 × 12 of type dbl\n",
       "\\begin{tabular}{r|llllllllllll}\n",
       "  & HN\\_1 & DCIS\\_1 & HN\\_2 & DCIS\\_2 & HN\\_3 & DCIS\\_3 & HN\\_4 & DCIS\\_4 & HN\\_5 & DCIS\\_5 & HN\\_6 & DCIS\\_6\\\\\n",
       "\\hline\n",
       "\t10000 & 6.765984 & 6.458339 & 6.921720 & 6.774493 & 7.010564 & 6.986779 & 6.958761 & 6.888199 & 6.949912 & 6.948589 & 7.220427 & 7.070159\\\\\n",
       "\t10001 & 6.339474 & 6.755342 & 7.177369 & 6.842597 & 7.392611 & 6.879474 & 6.296571 & 6.130034 & 7.831222 & 7.942344 & 7.665248 & 7.799255\\\\\n",
       "\t10002 & 6.591755 & 6.790304 & 6.735359 & 6.773255 & 6.700016 & 7.041881 & 6.586285 & 6.501011 & 6.884931 & 7.652490 & 7.342505 & 7.500791\\\\\n",
       "\t10003 & 6.822092 & 6.590539 & 6.508452 & 6.411859 & 6.575640 & 6.470913 & 6.896886 & 6.848872 & 6.615143 & 6.407087 & 6.618174 & 6.651619\\\\\n",
       "\t100048912 & 7.356051 & 7.311144 & 7.385513 & 7.333481 & 7.392233 & 7.428623 & 7.314579 & 7.362658 & 7.370044 & 7.397249 & 7.383196 & 7.437643\\\\\n",
       "\t10004 & 6.941935 & 6.854373 & 6.883973 & 6.833695 & 6.855043 & 6.856864 & 7.021072 & 7.051310 & 6.767242 & 6.775276 & 6.873855 & 6.805247\\\\\n",
       "\\end{tabular}\n"
      ],
      "text/markdown": [
       "\n",
       "A matrix: 6 × 12 of type dbl\n",
       "\n",
       "| <!--/--> | HN_1 | DCIS_1 | HN_2 | DCIS_2 | HN_3 | DCIS_3 | HN_4 | DCIS_4 | HN_5 | DCIS_5 | HN_6 | DCIS_6 |\n",
       "|---|---|---|---|---|---|---|---|---|---|---|---|---|\n",
       "| 10000 | 6.765984 | 6.458339 | 6.921720 | 6.774493 | 7.010564 | 6.986779 | 6.958761 | 6.888199 | 6.949912 | 6.948589 | 7.220427 | 7.070159 |\n",
       "| 10001 | 6.339474 | 6.755342 | 7.177369 | 6.842597 | 7.392611 | 6.879474 | 6.296571 | 6.130034 | 7.831222 | 7.942344 | 7.665248 | 7.799255 |\n",
       "| 10002 | 6.591755 | 6.790304 | 6.735359 | 6.773255 | 6.700016 | 7.041881 | 6.586285 | 6.501011 | 6.884931 | 7.652490 | 7.342505 | 7.500791 |\n",
       "| 10003 | 6.822092 | 6.590539 | 6.508452 | 6.411859 | 6.575640 | 6.470913 | 6.896886 | 6.848872 | 6.615143 | 6.407087 | 6.618174 | 6.651619 |\n",
       "| 100048912 | 7.356051 | 7.311144 | 7.385513 | 7.333481 | 7.392233 | 7.428623 | 7.314579 | 7.362658 | 7.370044 | 7.397249 | 7.383196 | 7.437643 |\n",
       "| 10004 | 6.941935 | 6.854373 | 6.883973 | 6.833695 | 6.855043 | 6.856864 | 7.021072 | 7.051310 | 6.767242 | 6.775276 | 6.873855 | 6.805247 |\n",
       "\n"
      ],
      "text/plain": [
       "          HN_1     DCIS_1   HN_2     DCIS_2   HN_3     DCIS_3   HN_4    \n",
       "10000     6.765984 6.458339 6.921720 6.774493 7.010564 6.986779 6.958761\n",
       "10001     6.339474 6.755342 7.177369 6.842597 7.392611 6.879474 6.296571\n",
       "10002     6.591755 6.790304 6.735359 6.773255 6.700016 7.041881 6.586285\n",
       "10003     6.822092 6.590539 6.508452 6.411859 6.575640 6.470913 6.896886\n",
       "100048912 7.356051 7.311144 7.385513 7.333481 7.392233 7.428623 7.314579\n",
       "10004     6.941935 6.854373 6.883973 6.833695 6.855043 6.856864 7.021072\n",
       "          DCIS_4   HN_5     DCIS_5   HN_6     DCIS_6  \n",
       "10000     6.888199 6.949912 6.948589 7.220427 7.070159\n",
       "10001     6.130034 7.831222 7.942344 7.665248 7.799255\n",
       "10002     6.501011 6.884931 7.652490 7.342505 7.500791\n",
       "10003     6.848872 6.615143 6.407087 6.618174 6.651619\n",
       "100048912 7.362658 7.370044 7.397249 7.383196 7.437643\n",
       "10004     7.051310 6.767242 6.775276 6.873855 6.805247"
      ]
     },
     "metadata": {},
     "output_type": "display_data"
    }
   ],
   "source": [
    "# Взглянем на данные\n",
    "head(gse16873)"
   ]
  },
  {
   "cell_type": "code",
   "execution_count": 19,
   "metadata": {},
   "outputs": [
    {
     "name": "stderr",
     "output_type": "stream",
     "text": [
      "'select()' returned 1:1 mapping between keys and columns\n",
      "\n"
     ]
    },
    {
     "data": {
      "text/html": [
       "<table>\n",
       "<caption>A data.frame: 6 × 2</caption>\n",
       "<thead>\n",
       "\t<tr><th></th><th scope=col>ENTREZID</th><th scope=col>SYMBOL</th></tr>\n",
       "\t<tr><th></th><th scope=col>&lt;chr&gt;</th><th scope=col>&lt;chr&gt;</th></tr>\n",
       "</thead>\n",
       "<tbody>\n",
       "\t<tr><th scope=row>1</th><td>10000    </td><td>AKT3      </td></tr>\n",
       "\t<tr><th scope=row>2</th><td>10001    </td><td>MED6      </td></tr>\n",
       "\t<tr><th scope=row>3</th><td>10002    </td><td>NR2E3     </td></tr>\n",
       "\t<tr><th scope=row>4</th><td>10003    </td><td>NAALAD2   </td></tr>\n",
       "\t<tr><th scope=row>5</th><td>100048912</td><td>CDKN2B-AS1</td></tr>\n",
       "\t<tr><th scope=row>6</th><td>10004    </td><td>NAALADL1  </td></tr>\n",
       "</tbody>\n",
       "</table>\n"
      ],
      "text/latex": [
       "A data.frame: 6 × 2\n",
       "\\begin{tabular}{r|ll}\n",
       "  & ENTREZID & SYMBOL\\\\\n",
       "  & <chr> & <chr>\\\\\n",
       "\\hline\n",
       "\t1 & 10000     & AKT3      \\\\\n",
       "\t2 & 10001     & MED6      \\\\\n",
       "\t3 & 10002     & NR2E3     \\\\\n",
       "\t4 & 10003     & NAALAD2   \\\\\n",
       "\t5 & 100048912 & CDKN2B-AS1\\\\\n",
       "\t6 & 10004     & NAALADL1  \\\\\n",
       "\\end{tabular}\n"
      ],
      "text/markdown": [
       "\n",
       "A data.frame: 6 × 2\n",
       "\n",
       "| <!--/--> | ENTREZID &lt;chr&gt; | SYMBOL &lt;chr&gt; |\n",
       "|---|---|---|\n",
       "| 1 | 10000     | AKT3       |\n",
       "| 2 | 10001     | MED6       |\n",
       "| 3 | 10002     | NR2E3      |\n",
       "| 4 | 10003     | NAALAD2    |\n",
       "| 5 | 100048912 | CDKN2B-AS1 |\n",
       "| 6 | 10004     | NAALADL1   |\n",
       "\n"
      ],
      "text/plain": [
       "  ENTREZID  SYMBOL    \n",
       "1 10000     AKT3      \n",
       "2 10001     MED6      \n",
       "3 10002     NR2E3     \n",
       "4 10003     NAALAD2   \n",
       "5 100048912 CDKN2B-AS1\n",
       "6 10004     NAALADL1  "
      ]
     },
     "metadata": {},
     "output_type": "display_data"
    }
   ],
   "source": [
    "# переводим ENTREZID в удобочитаемый формат записи SYMBOL\n",
    "geneSymbols <- select(org.Hs.eg.db,\n",
    "                      keytype=\"ENTREZID\", \n",
    "                      columns=\"SYMBOL\",\n",
    "                      keys=rownames(gse16873))\n",
    "\n",
    "head(geneSymbols)"
   ]
  },
  {
   "cell_type": "code",
   "execution_count": 20,
   "metadata": {},
   "outputs": [
    {
     "data": {
      "text/html": [
       "<style>\n",
       ".dl-inline {width: auto; margin:0; padding: 0}\n",
       ".dl-inline>dt, .dl-inline>dd {float: none; width: auto; display: inline-block}\n",
       ".dl-inline>dt::after {content: \":\\0020\"; padding-right: .5ex}\n",
       ".dl-inline>dt:not(:first-of-type) {padding-left: .5ex}\n",
       "</style><dl class=dl-inline><dt>10000</dt><dd>'AKT3'</dd><dt>10001</dt><dd>'MED6'</dd><dt>10002</dt><dd>'NR2E3'</dd><dt>10003</dt><dd>'NAALAD2'</dd><dt>100048912</dt><dd>'CDKN2B-AS1'</dd><dt>10004</dt><dd>'NAALADL1'</dd></dl>\n"
      ],
      "text/latex": [
       "\\begin{description*}\n",
       "\\item[10000] 'AKT3'\n",
       "\\item[10001] 'MED6'\n",
       "\\item[10002] 'NR2E3'\n",
       "\\item[10003] 'NAALAD2'\n",
       "\\item[100048912] 'CDKN2B-AS1'\n",
       "\\item[10004] 'NAALADL1'\n",
       "\\end{description*}\n"
      ],
      "text/markdown": [
       "10000\n",
       ":   'AKT3'10001\n",
       ":   'MED6'10002\n",
       ":   'NR2E3'10003\n",
       ":   'NAALAD2'100048912\n",
       ":   'CDKN2B-AS1'10004\n",
       ":   'NAALADL1'\n",
       "\n"
      ],
      "text/plain": [
       "       10000        10001        10002        10003    100048912        10004 \n",
       "      \"AKT3\"       \"MED6\"      \"NR2E3\"    \"NAALAD2\" \"CDKN2B-AS1\"   \"NAALADL1\" "
      ]
     },
     "metadata": {},
     "output_type": "display_data"
    }
   ],
   "source": [
    "# Сопоставляем индексы\n",
    "geneLabels <- geneSymbols$SYMBOL\n",
    "names(geneLabels) <- geneSymbols$ENTREZID\n",
    "head(geneLabels)"
   ]
  },
  {
   "cell_type": "code",
   "execution_count": 23,
   "metadata": {},
   "outputs": [
    {
     "data": {
      "text/html": [
       "<style>\n",
       ".list-inline {list-style: none; margin:0; padding: 0}\n",
       ".list-inline>li {display: inline-block}\n",
       ".list-inline>li:not(:last-child)::after {content: \"\\00b7\"; padding: 0 .5ex}\n",
       "</style>\n",
       "<ol class=list-inline><li>1</li><li>3</li><li>5</li><li>7</li><li>9</li><li>11</li></ol>\n"
      ],
      "text/latex": [
       "\\begin{enumerate*}\n",
       "\\item 1\n",
       "\\item 3\n",
       "\\item 5\n",
       "\\item 7\n",
       "\\item 9\n",
       "\\item 11\n",
       "\\end{enumerate*}\n"
      ],
      "text/markdown": [
       "1. 1\n",
       "2. 3\n",
       "3. 5\n",
       "4. 7\n",
       "5. 9\n",
       "6. 11\n",
       "\n",
       "\n"
      ],
      "text/plain": [
       "[1]  1  3  5  7  9 11"
      ]
     },
     "metadata": {},
     "output_type": "display_data"
    },
    {
     "data": {
      "text/html": [
       "<style>\n",
       ".list-inline {list-style: none; margin:0; padding: 0}\n",
       ".list-inline>li {display: inline-block}\n",
       ".list-inline>li:not(:last-child)::after {content: \"\\00b7\"; padding: 0 .5ex}\n",
       "</style>\n",
       "<ol class=list-inline><li>2</li><li>4</li><li>6</li><li>8</li><li>10</li><li>12</li></ol>\n"
      ],
      "text/latex": [
       "\\begin{enumerate*}\n",
       "\\item 2\n",
       "\\item 4\n",
       "\\item 6\n",
       "\\item 8\n",
       "\\item 10\n",
       "\\item 12\n",
       "\\end{enumerate*}\n"
      ],
      "text/markdown": [
       "1. 2\n",
       "2. 4\n",
       "3. 6\n",
       "4. 8\n",
       "5. 10\n",
       "6. 12\n",
       "\n",
       "\n"
      ],
      "text/plain": [
       "[1]  2  4  6  8 10 12"
      ]
     },
     "metadata": {},
     "output_type": "display_data"
    }
   ],
   "source": [
    "# Получаем индексы колонок двух классов\n",
    "refSamples <- grep('HN', colnames(gse16873))\n",
    "refSamples\n",
    "compSamples <- grep('DCIS', colnames(gse16873))\n",
    "compSamples"
   ]
  },
  {
   "cell_type": "code",
   "execution_count": 24,
   "metadata": {},
   "outputs": [
    {
     "name": "stderr",
     "output_type": "stream",
     "text": [
      "Gene-sets saved as geneSets.RData\n",
      "\n",
      "Raw GAGE results saved as 420814_gage_rawGageResults.RData\n",
      "\n",
      "Gene-term sets table saved as 420814_gage.txt\n",
      "\n"
     ]
    }
   ],
   "source": [
    "feaResults_gage <- fea_gage(eset=gse16873,  # Загружаем наши данные\n",
    "                         refSamples=refSamples,  # Индексы первого класса\n",
    "                         compSamples=compSamples,  # Индексы второго класса\n",
    "                         geneLabels=geneLabels,  # Наши сопоставления идишников\n",
    "                         annotations=\"REACTOME\",  # БД с аннотациями\n",
    "                         geneIdType=\"ENTREZID\",  # Тип идишников в наших данных\n",
    "                         organism=\"Hs\")  # Вид огранизма. В данном случае Hs - это человек"
   ]
  },
  {
   "cell_type": "code",
   "execution_count": 27,
   "metadata": {},
   "outputs": [
    {
     "name": "stdout",
     "output_type": "stream",
     "text": [
      "Package 'KEGGprofile' is required but not installed. Install now? (y/n) \n",
      "y\n"
     ]
    },
    {
     "name": "stderr",
     "output_type": "stream",
     "text": [
      "Bioconductor version 3.11 (BiocManager 1.30.10), R 4.0.2 (2020-06-22)\n",
      "\n",
      "Installing package(s) 'KEGGprofile'\n",
      "\n",
      "also installing the dependencies ‘dbplyr’, ‘BiocFileCache’, ‘TeachingDemos’, ‘KEGG.db’, ‘biomaRt’\n",
      "\n",
      "\n",
      "Updating HTML index of packages in '.Library'\n",
      "\n",
      "Making 'packages.html' ...\n",
      " done\n",
      "\n",
      "Old packages: 'bit', 'bit64', 'data.table', 'dplyr', 'ff', 'GOSemSim', 'httr',\n",
      "  'MASS', 'oligoClasses', 'ps', 'sys', 'tidyr'\n",
      "\n",
      "\n",
      "KEGG.db contains mappings based on older data because the original\n",
      "  resource was removed from the the public domain before the most\n",
      "  recent update was produced. This package should now be considered\n",
      "  deprecated and future versions of Bioconductor may not have it\n",
      "  available.  Users who want more current data are encouraged to look\n",
      "  at the KEGGREST or reactome.db packages\n",
      "\n",
      "\n"
     ]
    },
    {
     "ename": "ERROR",
     "evalue": "Error in browseURL(htmlFileName): 'browser' must be a non-empty character string\n",
     "output_type": "error",
     "traceback": [
      "Error in browseURL(htmlFileName): 'browser' must be a non-empty character string\nTraceback:\n",
      "1. FGNet_report(feaResults_gage, plotKeggPw = TRUE)",
      "2. tryCatch({\n .     htmlFileName <- paste(currWD, .Platform$file.sep, jobName, \n .         \".html\", sep = \"\")\n .     createHtml(htmlFileName = htmlFileName, feaResults = feaResults, \n .         jobName = jobName, tablesGenes = tablesGenes, tablesTerms = tablesTerms, \n .         tool = tool, queryArgs = queryArgs, filterAttribute = filterAttribute, \n .         filterOperator = filterOperator, filterThreshold = filterThreshold, \n .         geneExpr = geneExpr, plotExpression = plotExpression, \n .         onlyGoLeaves = onlyGoLeaves, plotGoTree = plotGoTree, \n .         plotKeggPw = plotKeggPw)\n .     setwd(currWD)\n . }, error = function(e) {\n .     setwd(currWD)\n .     stop(e)\n . })",
      "3. tryCatchList(expr, classes, parentenv, handlers)",
      "4. tryCatchOne(expr, names, parentenv, handlers[[1L]])",
      "5. value[[3L]](cond)"
     ]
    }
   ],
   "source": [
    "# Получаем отчет\n",
    "FGNet_report(feaResults_gage, plotKeggPw = TRUE)"
   ]
  },
  {
   "cell_type": "code",
   "execution_count": 32,
   "metadata": {},
   "outputs": [
    {
     "name": "stderr",
     "output_type": "stream",
     "text": [
      "'select()' returned 1:many mapping between keys and columns\n",
      "\n",
      "Gene-sets saved as geneSets.RData\n",
      "\n",
      "Raw GAGE results saved as 222539_gage_rawGageResults.RData\n",
      "\n",
      "Gene-term sets table saved as 222539_gage.txt\n",
      "\n"
     ]
    }
   ],
   "source": [
    "feaResults_gage <- fea_gage(eset=gse16873,  # Загружаем наши данные\n",
    "                         refSamples=refSamples,  # Индексы первого класса\n",
    "                         compSamples=compSamples,  # Индексы второго класса\n",
    "                         geneLabels=geneLabels,  # Наши сопоставления идишников\n",
    "                         annotations=\"KEGG\",  # БД с аннотациями\n",
    "                         geneIdType=\"ENTREZID\",  # Тип идишников в наших данных\n",
    "                         organism=\"Hs\")  # Вид огранизма. В данном случае Hs - это человек\n"
   ]
  },
  {
   "cell_type": "code",
   "execution_count": 33,
   "metadata": {},
   "outputs": [
    {
     "name": "stderr",
     "output_type": "stream",
     "text": [
      "Warning message in plotFGNet_bipartite(metagroupsMatrix = metagroupsMatrix, keepAllNodes = keepAllNodes, :\n",
      "“There is nothing to plot. There is no intersection between metagroups/clusters.”\n"
     ]
    },
    {
     "ename": "ERROR",
     "evalue": "Error: $ operator is invalid for atomic vectors\n",
     "output_type": "error",
     "traceback": [
      "Error: $ operator is invalid for atomic vectors\nTraceback:\n",
      "1. FGNet_report(feaResults_gage, plotKeggPw = TRUE)",
      "2. tryCatch({\n .     htmlFileName <- paste(currWD, .Platform$file.sep, jobName, \n .         \".html\", sep = \"\")\n .     createHtml(htmlFileName = htmlFileName, feaResults = feaResults, \n .         jobName = jobName, tablesGenes = tablesGenes, tablesTerms = tablesTerms, \n .         tool = tool, queryArgs = queryArgs, filterAttribute = filterAttribute, \n .         filterOperator = filterOperator, filterThreshold = filterThreshold, \n .         geneExpr = geneExpr, plotExpression = plotExpression, \n .         onlyGoLeaves = onlyGoLeaves, plotGoTree = plotGoTree, \n .         plotKeggPw = plotKeggPw)\n .     setwd(currWD)\n . }, error = function(e) {\n .     setwd(currWD)\n .     stop(e)\n . })",
      "3. tryCatchList(expr, classes, parentenv, handlers)",
      "4. tryCatchOne(expr, names, parentenv, handlers[[1L]])",
      "5. value[[3L]](cond)"
     ]
    }
   ],
   "source": [
    "FGNet_report(feaResults_gage, plotKeggPw = TRUE)"
   ]
  },
  {
   "cell_type": "code",
   "execution_count": null,
   "metadata": {},
   "outputs": [],
   "source": []
  }
 ],
 "metadata": {
  "kernelspec": {
   "display_name": "R",
   "language": "R",
   "name": "ir"
  },
  "language_info": {
   "codemirror_mode": "r",
   "file_extension": ".r",
   "mimetype": "text/x-r-source",
   "name": "R",
   "pygments_lexer": "r",
   "version": "3.6.1"
  }
 },
 "nbformat": 4,
 "nbformat_minor": 4
}
