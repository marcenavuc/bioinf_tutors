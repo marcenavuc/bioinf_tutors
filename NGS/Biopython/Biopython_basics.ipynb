{
 "cells": [
  {
   "cell_type": "markdown",
   "metadata": {},
   "source": [
    "## Полезные ссылки\n",
    "\n",
    "* Сайт проекта https://biopython.org/\n",
    "\n",
    "* Подробный туториал по Biopython и документация http://biopython.org/DIST/docs/tutorial/Tutorial.pdf\n",
    "\n",
    "* Репозитрий проекта, на котором можно заглянуть в исходники https://github.com/biopython/biopython\n",
    "\n",
    "* BLAST и его варианты: https://stepik.org/lesson/34543/step/1?unit=14075"
   ]
  },
  {
   "cell_type": "markdown",
   "metadata": {},
   "source": [
    "## Установка и обновление Biopython"
   ]
  },
  {
   "cell_type": "code",
   "execution_count": 1,
   "metadata": {},
   "outputs": [
    {
     "name": "stdout",
     "output_type": "stream",
     "text": [
      "Requirement already satisfied: biopython in c:\\users\\iliya\\anaconda3\\lib\\site-packages (1.77)\n",
      "Requirement already satisfied: numpy in c:\\users\\iliya\\anaconda3\\lib\\site-packages (from biopython) (1.18.1)\n"
     ]
    }
   ],
   "source": [
    "# установка\n",
    "!pip install biopython\n",
    "# ! pip3 install biopython"
   ]
  },
  {
   "cell_type": "code",
   "execution_count": 2,
   "metadata": {},
   "outputs": [
    {
     "name": "stdout",
     "output_type": "stream",
     "text": [
      "Requirement already up-to-date: biopython in c:\\users\\iliya\\anaconda3\\lib\\site-packages (1.77)\n",
      "Requirement already satisfied, skipping upgrade: numpy in c:\\users\\iliya\\anaconda3\\lib\\site-packages (from biopython) (1.18.1)\n"
     ]
    }
   ],
   "source": [
    "# обновление до последенй версии\n",
    "!pip install biopython --upgrade"
   ]
  },
  {
   "cell_type": "code",
   "execution_count": 3,
   "metadata": {},
   "outputs": [],
   "source": [
    "# импорт библиотеки\n",
    "import Bio"
   ]
  },
  {
   "cell_type": "markdown",
   "metadata": {},
   "source": [
    "## Seq объект"
   ]
  },
  {
   "cell_type": "code",
   "execution_count": 4,
   "metadata": {},
   "outputs": [
    {
     "name": "stdout",
     "output_type": "stream",
     "text": [
      "<class 'Bio.Seq.Seq'> AGTACGGTACT\n"
     ]
    }
   ],
   "source": [
    "from Bio.Seq import Seq\n",
    "\n",
    "my_seq = Seq('AGTACGGTACT')\n",
    "print(type(my_seq), my_seq)"
   ]
  },
  {
   "cell_type": "code",
   "execution_count": 5,
   "metadata": {
    "scrolled": true
   },
   "outputs": [
    {
     "data": {
      "text/plain": [
       "['__add__',\n",
       " '__class__',\n",
       " '__contains__',\n",
       " '__delattr__',\n",
       " '__dict__',\n",
       " '__dir__',\n",
       " '__doc__',\n",
       " '__eq__',\n",
       " '__format__',\n",
       " '__ge__',\n",
       " '__getattribute__',\n",
       " '__getitem__',\n",
       " '__gt__',\n",
       " '__hash__',\n",
       " '__imul__',\n",
       " '__init__',\n",
       " '__init_subclass__',\n",
       " '__le__',\n",
       " '__len__',\n",
       " '__lt__',\n",
       " '__module__',\n",
       " '__mul__',\n",
       " '__ne__',\n",
       " '__new__',\n",
       " '__radd__',\n",
       " '__reduce__',\n",
       " '__reduce_ex__',\n",
       " '__repr__',\n",
       " '__rmul__',\n",
       " '__setattr__',\n",
       " '__sizeof__',\n",
       " '__str__',\n",
       " '__subclasshook__',\n",
       " '__weakref__',\n",
       " '_data',\n",
       " '_get_seq_str_and_check_alphabet',\n",
       " 'alphabet',\n",
       " 'back_transcribe',\n",
       " 'complement',\n",
       " 'count',\n",
       " 'count_overlap',\n",
       " 'encode',\n",
       " 'endswith',\n",
       " 'find',\n",
       " 'index',\n",
       " 'join',\n",
       " 'lower',\n",
       " 'lstrip',\n",
       " 'reverse_complement',\n",
       " 'rfind',\n",
       " 'rindex',\n",
       " 'rsplit',\n",
       " 'rstrip',\n",
       " 'split',\n",
       " 'startswith',\n",
       " 'strip',\n",
       " 'tomutable',\n",
       " 'transcribe',\n",
       " 'translate',\n",
       " 'ungap',\n",
       " 'upper']"
      ]
     },
     "execution_count": 5,
     "metadata": {},
     "output_type": "execute_result"
    }
   ],
   "source": [
    "#доступные операторы\n",
    "dir(my_seq)"
   ]
  },
  {
   "cell_type": "code",
   "execution_count": 6,
   "metadata": {},
   "outputs": [
    {
     "name": "stdout",
     "output_type": "stream",
     "text": [
      "AGTACGGTACT\n",
      "AGTACCGTACT\n",
      "STV\n"
     ]
    },
    {
     "name": "stderr",
     "output_type": "stream",
     "text": [
      "C:\\Users\\iliya\\anaconda3\\lib\\site-packages\\Bio\\Seq.py:2742: BiopythonWarning: Partial codon, len(sequence) not a multiple of three. Explicitly trim the sequence or add trailing N before translation. This may become an error in future.\n",
      "  BiopythonWarning,\n"
     ]
    }
   ],
   "source": [
    "# видим интересные методы для данного объекта\n",
    "print(my_seq.back_transcribe())\n",
    "print(my_seq.reverse_complement())\n",
    "print(my_seq.translate()) # про таблицы генетического кода https://www.ncbi.nlm.nih.gov/Taxonomy/Utils/wprintgc.cgi"
   ]
  },
  {
   "cell_type": "code",
   "execution_count": 7,
   "metadata": {},
   "outputs": [
    {
     "name": "stdout",
     "output_type": "stream",
     "text": [
      "AGT  |  11  |  AGTT\n"
     ]
    }
   ],
   "source": [
    "# методы работы со строками для Seq объекта также доступны\n",
    "print(my_seq[0:3], ' | ', len(my_seq), ' | ',my_seq[0:3] + my_seq[-1])"
   ]
  },
  {
   "cell_type": "markdown",
   "metadata": {},
   "source": [
    "Если нам необъодимо, чтобы последовательность содержала в себе больше информации о данных, то используется класс SeqRecord (составляющей которого является класс Seq), который и последовательность, и данные о ней."
   ]
  },
  {
   "cell_type": "markdown",
   "metadata": {},
   "source": [
    "## SeqRecord"
   ]
  },
  {
   "cell_type": "code",
   "execution_count": 8,
   "metadata": {},
   "outputs": [],
   "source": [
    "from Bio import SeqIO"
   ]
  },
  {
   "cell_type": "markdown",
   "metadata": {},
   "source": [
    "Файл FASTA из примера:\n",
    "```\n",
    ">HSBGPG Human gene for bone gla protein (BGP)\n",
    "GGCAGATTCCCCCTAGACCCGCCCGCACCATGGTCAGGCATGCCCCTCCTCATCGCTGGGCACAGCCCAGAGGGT\n",
    "ATAAACAGTGCTGGAGGCTGGCGGGGCAGGCCAGCTGAGTCCTGAGCAGCAGCCCAGCGCAGCCACCGAGACACC\n",
    "ATGAGAGCCCTCACACTCCTCGCCCTATTGGCCCTGGCCGCACTTTGCATCGCTGGCCAGGCAGGTGAGTGCCCC\n",
    "CACCTCCCCTCAGGCCGCATTGCAGTGGGGGCTGAGAGGAGGAAGCACCATGGCCCACCTCTTCTCACCCCTTTG\n",
    "GCTGGCAGTCCCTTTGCAGTCTAACCACCTTGTTGCAGGCTCAATCCATTTGCCCCAGCTCTGCCCTTGCAGAGG\n",
    "GAGAGGAGGGAAGAGCAAGCTGCCCGAGACGCAGGGGAAGGAGGATGAGGGCCCTGGGGATGAGCTGGGGTGAAC\n",
    "CAGGCTCCCTTTCCTTTGCAGGTGCGAAGCCCAGCGGTGCAGAGTCCAGCAAAGGTGCAGGTATGAGGATGGACC\n",
    "TGATGGGTTCCTGGACCCTCCCCTCTCACCCTGGTCCCTCAGTCTCATTCCCCCACTCCTGCCACCTCCTGTCTG\n",
    "GCCATCAGGAAGGCCAGCCTGCTCCCCACCTGATCCTCCCAAACCCAGAGCCACCTGATGCCTGCCCCTCTGCTC\n",
    "CACAGCCTTTGTGTCCAAGCAGGAGGGCAGCGAGGTAGTGAAGAGACCCAGGCGCTACCTGTATCAATGGCTGGG\n",
    "GTGAGAGAAAAGGCAGAGCTGGGCCAAGGCCCTGCCTCTCCGGGATGGTCTGTGGGGGAGCTGCAGCAGGGAGTG\n",
    "GCCTCTCTGGGTTGTGGTGGGGGTACAGGCAGCCTGCCCTGGTGGGCACCCTGGAGCCCCATGTGTAGGGAGAGG\n",
    "AGGGATGGGCATTTTGCACGGGGGCTGATGCCACCACGTCGGGTGTCTCAGAGCCCCAGTCCCCTACCCGGATCC\n",
    "CCTGGAGCCCAGGAGGGAGGTGTGTGAGCTCAATCCGGACTGTGACGAGTTGGCTGACCACATCGGCTTTCAGGA\n",
    "GGCCTATCGGCGCTTCTACGGCCCGGTCTAGGGTGTCGCTCTGCTGGCCTGGCCGGCAACCCCAGTTCTGCTCCT\n",
    "CTCCAGGCACCCTTCTTTCCTCTTCCCCTTGCCCTTGCCCTGACCTCCCAGCCCTATGGATGTGGGGTCCCCATC\n",
    "ATCCCAGCTGCTCCCAAATAAACTCCAGAAG\n",
    "```"
   ]
  },
  {
   "cell_type": "code",
   "execution_count": 9,
   "metadata": {},
   "outputs": [
    {
     "name": "stdout",
     "output_type": "stream",
     "text": [
      "ID: HSBGPG\n",
      "Name: HSBGPG\n",
      "Description: HSBGPG Human gene for bone gla protein (BGP)\n",
      "Number of features: 0\n",
      "Seq('GGCAGATTCCCCCTAGACCCGCCCGCACCATGGTCAGGCATGCCCCTCCTCATC...AAG', SingleLetterAlphabet())\n"
     ]
    }
   ],
   "source": [
    "my_seq_fasta = SeqIO.read('fasta_example.fasta', 'fasta')\n",
    "print(my_seq_fasta)"
   ]
  },
  {
   "cell_type": "code",
   "execution_count": 10,
   "metadata": {},
   "outputs": [
    {
     "name": "stdout",
     "output_type": "stream",
     "text": [
      "<class 'Bio.SeqRecord.SeqRecord'>\n"
     ]
    }
   ],
   "source": [
    "print(type(my_seq_fasta))"
   ]
  },
  {
   "cell_type": "code",
   "execution_count": 11,
   "metadata": {
    "scrolled": true
   },
   "outputs": [
    {
     "data": {
      "text/plain": [
       "['__add__',\n",
       " '__bool__',\n",
       " '__class__',\n",
       " '__contains__',\n",
       " '__delattr__',\n",
       " '__dict__',\n",
       " '__dir__',\n",
       " '__doc__',\n",
       " '__eq__',\n",
       " '__format__',\n",
       " '__ge__',\n",
       " '__getattribute__',\n",
       " '__getitem__',\n",
       " '__gt__',\n",
       " '__hash__',\n",
       " '__init__',\n",
       " '__init_subclass__',\n",
       " '__iter__',\n",
       " '__le__',\n",
       " '__le___',\n",
       " '__len__',\n",
       " '__lt__',\n",
       " '__module__',\n",
       " '__ne__',\n",
       " '__new__',\n",
       " '__radd__',\n",
       " '__reduce__',\n",
       " '__reduce_ex__',\n",
       " '__repr__',\n",
       " '__setattr__',\n",
       " '__sizeof__',\n",
       " '__str__',\n",
       " '__subclasshook__',\n",
       " '__weakref__',\n",
       " '_per_letter_annotations',\n",
       " '_seq',\n",
       " '_set_per_letter_annotations',\n",
       " '_set_seq',\n",
       " 'annotations',\n",
       " 'dbxrefs',\n",
       " 'description',\n",
       " 'features',\n",
       " 'format',\n",
       " 'id',\n",
       " 'letter_annotations',\n",
       " 'lower',\n",
       " 'name',\n",
       " 'reverse_complement',\n",
       " 'seq',\n",
       " 'translate',\n",
       " 'upper']"
      ]
     },
     "execution_count": 11,
     "metadata": {},
     "output_type": "execute_result"
    }
   ],
   "source": [
    "dir(my_seq_fasta)"
   ]
  },
  {
   "cell_type": "code",
   "execution_count": 12,
   "metadata": {},
   "outputs": [
    {
     "name": "stdout",
     "output_type": "stream",
     "text": [
      "Id: HSBGPG\n",
      "Name: HSBGPG\n",
      "Description: HSBGPG Human gene for bone gla protein (BGP)\n",
      "Annotations: {}\n",
      "Sequence Data: GGCAGATTCCCCCTAGACCCGCCCGCACCATGGTCAGGCATGCCCCTCCTCATCGCTGGGCACAGCCCAGAGGGTATAAACAGTGCTGGAGGCTGGCGGGGCAGGCCAGCTGAGTCCTGAGCAGCAGCCCAGCGCAGCCACCGAGACACCATGAGAGCCCTCACACTCCTCGCCCTATTGGCCCTGGCCGCACTTTGCATCGCTGGCCAGGCAGGTGAGTGCCCCCACCTCCCCTCAGGCCGCATTGCAGTGGGGGCTGAGAGGAGGAAGCACCATGGCCCACCTCTTCTCACCCCTTTGGCTGGCAGTCCCTTTGCAGTCTAACCACCTTGTTGCAGGCTCAATCCATTTGCCCCAGCTCTGCCCTTGCAGAGGGAGAGGAGGGAAGAGCAAGCTGCCCGAGACGCAGGGGAAGGAGGATGAGGGCCCTGGGGATGAGCTGGGGTGAACCAGGCTCCCTTTCCTTTGCAGGTGCGAAGCCCAGCGGTGCAGAGTCCAGCAAAGGTGCAGGTATGAGGATGGACCTGATGGGTTCCTGGACCCTCCCCTCTCACCCTGGTCCCTCAGTCTCATTCCCCCACTCCTGCCACCTCCTGTCTGGCCATCAGGAAGGCCAGCCTGCTCCCCACCTGATCCTCCCAAACCCAGAGCCACCTGATGCCTGCCCCTCTGCTCCACAGCCTTTGTGTCCAAGCAGGAGGGCAGCGAGGTAGTGAAGAGACCCAGGCGCTACCTGTATCAATGGCTGGGGTGAGAGAAAAGGCAGAGCTGGGCCAAGGCCCTGCCTCTCCGGGATGGTCTGTGGGGGAGCTGCAGCAGGGAGTGGCCTCTCTGGGTTGTGGTGGGGGTACAGGCAGCCTGCCCTGGTGGGCACCCTGGAGCCCCATGTGTAGGGAGAGGAGGGATGGGCATTTTGCACGGGGGCTGATGCCACCACGTCGGGTGTCTCAGAGCCCCAGTCCCCTACCCGGATCCCCTGGAGCCCAGGAGGGAGGTGTGTGAGCTCAATCCGGACTGTGACGAGTTGGCTGACCACATCGGCTTTCAGGAGGCCTATCGGCGCTTCTACGGCCCGGTCTAGGGTGTCGCTCTGCTGGCCTGGCCGGCAACCCCAGTTCTGCTCCTCTCCAGGCACCCTTCTTTCCTCTTCCCCTTGCCCTTGCCCTGACCTCCCAGCCCTATGGATGTGGGGTCCCCATCATCCCAGCTGCTCCCAAATAAACTCCAGAAG\n",
      "Sequence Alphabet: SingleLetterAlphabet()\n"
     ]
    }
   ],
   "source": [
    "print(\"Id: %s\" % my_seq_fasta.id) \n",
    "print(\"Name: %s\" % my_seq_fasta.name) \n",
    "print(\"Description: %s\" % my_seq_fasta.description) \n",
    "print(\"Annotations: %s\" % my_seq_fasta.annotations) \n",
    "print(\"Sequence Data: %s\" % my_seq_fasta.seq) \n",
    "print(\"Sequence Alphabet: %s\" % my_seq_fasta.seq.alphabet)"
   ]
  },
  {
   "cell_type": "code",
   "execution_count": 13,
   "metadata": {},
   "outputs": [
    {
     "name": "stdout",
     "output_type": "stream",
     "text": [
      "1231\n"
     ]
    }
   ],
   "source": [
    "# поскольку SeqRecord объект содержит в себе объект класса Seq, то реализованы и методы, характерные для данного класса\n",
    "print(len(my_seq_fasta))"
   ]
  },
  {
   "cell_type": "code",
   "execution_count": 14,
   "metadata": {},
   "outputs": [
    {
     "name": "stdout",
     "output_type": "stream",
     "text": [
      "ID: <unknown id>\n",
      "Name: <unknown name>\n",
      "Description: <unknown description>\n",
      "Number of features: 0\n",
      "Seq('GRFPLDPPAPWSGMPLLIAGHSPEGINSAGGWRGRPAES*AAAQRSHRDTMRAL...TPE', HasStopCodon(ExtendedIUPACProtein(), '*'))\n"
     ]
    }
   ],
   "source": [
    "print(my_seq_fasta.translate(table=6)) # обращаем внимание на таблицу трансляции"
   ]
  },
  {
   "cell_type": "code",
   "execution_count": 15,
   "metadata": {},
   "outputs": [
    {
     "name": "stdout",
     "output_type": "stream",
     "text": [
      "ID: <unknown id>\n",
      "Name: <unknown name>\n",
      "Description: <unknown description>\n",
      "Number of features: 0\n",
      "Seq('CTTCTGGAGTTTATTTGGGAGCAGCTGGGATGATGGGGACCCCACATCCATAGG...GCC', SingleLetterAlphabet())\n"
     ]
    }
   ],
   "source": [
    "print(my_seq_fasta.reverse_complement())"
   ]
  },
  {
   "cell_type": "code",
   "execution_count": 16,
   "metadata": {},
   "outputs": [
    {
     "name": "stdout",
     "output_type": "stream",
     "text": [
      "<Bio.SeqIO.FastaIO.FastaIterator object at 0x00000179627DC748>\n"
     ]
    }
   ],
   "source": [
    "seqs = SeqIO.parse('fasta_seqs_example.fasta', 'fasta')\n",
    "print(seqs)"
   ]
  },
  {
   "cell_type": "code",
   "execution_count": 17,
   "metadata": {
    "scrolled": true
   },
   "outputs": [
    {
     "data": {
      "text/plain": [
       "['__class__',\n",
       " '__delattr__',\n",
       " '__dict__',\n",
       " '__dir__',\n",
       " '__doc__',\n",
       " '__eq__',\n",
       " '__format__',\n",
       " '__ge__',\n",
       " '__getattribute__',\n",
       " '__gt__',\n",
       " '__hash__',\n",
       " '__init__',\n",
       " '__init_subclass__',\n",
       " '__iter__',\n",
       " '__le__',\n",
       " '__lt__',\n",
       " '__module__',\n",
       " '__ne__',\n",
       " '__new__',\n",
       " '__next__',\n",
       " '__reduce__',\n",
       " '__reduce_ex__',\n",
       " '__repr__',\n",
       " '__setattr__',\n",
       " '__sizeof__',\n",
       " '__str__',\n",
       " '__subclasshook__',\n",
       " '__weakref__',\n",
       " 'alphabet',\n",
       " 'iterate',\n",
       " 'parse',\n",
       " 'records',\n",
       " 'should_close_stream',\n",
       " 'stream',\n",
       " 'title2ids']"
      ]
     },
     "execution_count": 17,
     "metadata": {},
     "output_type": "execute_result"
    }
   ],
   "source": [
    "dir(seqs)"
   ]
  },
  {
   "cell_type": "code",
   "execution_count": 18,
   "metadata": {},
   "outputs": [
    {
     "name": "stdout",
     "output_type": "stream",
     "text": [
      "<generator object FastaIterator.iterate at 0x00000179629FFCC8>\n"
     ]
    }
   ],
   "source": [
    "print(seqs.records)"
   ]
  },
  {
   "cell_type": "code",
   "execution_count": 19,
   "metadata": {},
   "outputs": [
    {
     "name": "stdout",
     "output_type": "stream",
     "text": [
      "ID: seq0\n",
      "Name: seq0\n",
      "Description: seq0\n",
      "Number of features: 0\n",
      "Seq('FQTWEEFSRAAEKLYLADPMKVRVVLKYRHVDGNLCIKVTDDLVCLVYRTDQAQ...EKF', SingleLetterAlphabet()) \n",
      "\n",
      "ID: seq1\n",
      "Name: seq1\n",
      "Description: seq1\n",
      "Number of features: 0\n",
      "Seq('KYRTWEEFTRAAEKLYQADPMKVRVVLKYRHCDGNLCIKVTDDVVCLLYRTDQA...TLM', SingleLetterAlphabet()) \n",
      "\n",
      "ID: seq2\n",
      "Name: seq2\n",
      "Description: seq2\n",
      "Number of features: 0\n",
      "Seq('EEYQTWEEFARAAEKLYLTDPMKVRVVLKYRHCDGNLCMKVTDDAVCLQYKTDQ...HGK', SingleLetterAlphabet()) \n",
      "\n",
      "ID: seq3\n",
      "Name: seq3\n",
      "Description: seq3\n",
      "Number of features: 0\n",
      "Seq('MYQVWEEFSRAVEKLYLTDPMKVRVVLKYRHCDGNLCIKVTDNSVCLQYKTDQAQDVK', SingleLetterAlphabet()) \n",
      "\n",
      "ID: seq4\n",
      "Name: seq4\n",
      "Description: seq4\n",
      "Number of features: 0\n",
      "Seq('EEFSRAVEKLYLTDPMKVRVVLKYRHCDGNLCIKVTDNSVVSYEMRLFGVQKDN...SLL', SingleLetterAlphabet()) \n",
      "\n",
      "ID: seq5\n",
      "Name: seq5\n",
      "Description: seq5\n",
      "Number of features: 0\n",
      "Seq('SWEEFAKAAEVLYLEDPMKCRMCTKYRHVDHKLVVKLTDNHTVLKYVTDMAQDV...LMR', SingleLetterAlphabet()) \n",
      "\n",
      "ID: seq6\n",
      "Name: seq6\n",
      "Description: seq6\n",
      "Number of features: 0\n",
      "Seq('FTNWEEFAKAAERLHSANPEKCRFVTKYNHTKGELVLKLTDDVVCLQYSTNQLQ...RSI', SingleLetterAlphabet()) \n",
      "\n",
      "ID: seq7\n",
      "Name: seq7\n",
      "Description: seq7\n",
      "Number of features: 0\n",
      "Seq('SWEEFVERSVQLFRGDPNATRYVMKYRHCEGKLVLKVTDDRECLKFKTDQAQDA...IFF', SingleLetterAlphabet()) \n",
      "\n",
      "ID: seq8\n",
      "Name: seq8\n",
      "Description: seq8\n",
      "Number of features: 0\n",
      "Seq('SWDEFVDRSVQLFRADPESTRYVMKYRHCDGKLVLKVTDNKECLKFKTDQAQEA...TLM', SingleLetterAlphabet()) \n",
      "\n",
      "ID: seq9\n",
      "Name: seq9\n",
      "Description: seq9\n",
      "Number of features: 0\n",
      "Seq('KNWEDFEIAAENMYMANPQNCRYTMKYVHSKGHILLKMSDNVKCVQYRAENMPDLKK', SingleLetterAlphabet()) \n",
      "\n",
      "ID: seq10\n",
      "Name: seq10\n",
      "Description: seq10\n",
      "Number of features: 0\n",
      "Seq('FDSWDEFVSKSVELFRNHPDTTRYVVKYRHCEGKLVLKVTDNHECLKFKTDQAQ...MEK', SingleLetterAlphabet()) \n",
      "\n"
     ]
    }
   ],
   "source": [
    "for record in seqs:\n",
    "    print(record, '\\n')"
   ]
  },
  {
   "cell_type": "code",
   "execution_count": 20,
   "metadata": {},
   "outputs": [
    {
     "name": "stdout",
     "output_type": "stream",
     "text": [
      "ID: U49845.1\n",
      "Name: SCU49845\n",
      "Description: Saccharomyces cerevisiae TCP1-beta gene, partial cds, and Axl2p (AXL2) and Rev7p (REV7) genes, complete cds\n",
      "Number of features: 6\n",
      "/molecule_type=DNA\n",
      "/data_file_division=PLN\n",
      "/date=21-JUN-1999\n",
      "/accessions=['U49845']\n",
      "/sequence_version=1\n",
      "/gi=1293613\n",
      "/keywords=['']\n",
      "/source=Saccharomyces cerevisiae (baker's yeast)\n",
      "/organism=Saccharomyces cerevisiae\n",
      "/taxonomy=['Eukaryota', 'Fungi', 'Ascomycota', 'Saccharomycotina', 'Saccharomycetes', 'Saccharomycetales', 'Saccharomycetaceae', 'Saccharomyces']\n",
      "/references=[Reference(title='Cloning and sequence of REV7, a gene whose function is required for DNA damage-induced mutagenesis in Saccharomyces cerevisiae', ...), Reference(title='Selection of axial growth sites in yeast requires Axl2p, a novel plasma membrane glycoprotein', ...), Reference(title='Direct Submission', ...)]\n",
      "Seq('GATCCTCCATATACAACGGTATCTCCACCTCAGGTTTAGATCTCAACAACGGAA...ATC', IUPACAmbiguousDNA())\n"
     ]
    }
   ],
   "source": [
    "my_seq_gb = SeqIO.read('gb_example.gb', 'genbank')\n",
    "print(my_seq_gb)"
   ]
  },
  {
   "cell_type": "code",
   "execution_count": 21,
   "metadata": {
    "scrolled": false
   },
   "outputs": [
    {
     "name": "stdout",
     "output_type": "stream",
     "text": [
      "type: source\n",
      "location: [0:5028](+)\n",
      "qualifiers:\n",
      "    Key: chromosome, Value: ['IX']\n",
      "    Key: db_xref, Value: ['taxon:4932']\n",
      "    Key: map, Value: ['9']\n",
      "    Key: organism, Value: ['Saccharomyces cerevisiae']\n",
      "\n",
      "type: CDS\n",
      "location: [<0:206](+)\n",
      "qualifiers:\n",
      "    Key: codon_start, Value: ['3']\n",
      "    Key: db_xref, Value: ['GI:1293614']\n",
      "    Key: product, Value: ['TCP1-beta']\n",
      "    Key: protein_id, Value: ['AAA98665.1']\n",
      "    Key: translation, Value: ['SSIYNGISTSGLDLNNGTIADMRQLGIVESYKLKRAVVSSASEAAEVLLRVDNIIRARPRTANRQHM']\n",
      "\n",
      "type: gene\n",
      "location: [686:3158](+)\n",
      "qualifiers:\n",
      "    Key: gene, Value: ['AXL2']\n",
      "\n",
      "type: CDS\n",
      "location: [686:3158](+)\n",
      "qualifiers:\n",
      "    Key: codon_start, Value: ['1']\n",
      "    Key: db_xref, Value: ['GI:1293615']\n",
      "    Key: function, Value: ['required for axial budding pattern of S. cerevisiae']\n",
      "    Key: gene, Value: ['AXL2']\n",
      "    Key: note, Value: ['plasma membrane glycoprotein']\n",
      "    Key: product, Value: ['Axl2p']\n",
      "    Key: protein_id, Value: ['AAA98666.1']\n",
      "    Key: translation, Value: ['MTQLQISLLLTATISLLHLVVATPYEAYPIGKQYPPVARVNESFTFQISNDTYKSSVDKTAQITYNCFDLPSWLSFDSSSRTFSGEPSSDLLSDANTTLYFNVILEGTDSADSTSLNNTYQFVVTNRPSISLSSDFNLLALLKNYGYTNGKNALKLDPNEVFNVTFDRSMFTNEESIVSYYGRSQLYNAPLPNWLFFDSGELKFTGTAPVINSAIAPETSYSFVIIATDIEGFSAVEVEFELVIGAHQLTTSIQNSLIINVTDTGNVSYDLPLNYVYLDDDPISSDKLGSINLLDAPDWVALDNATISGSVPDELLGKNSNPANFSVSIYDTYGDVIYFNFEVVSTTDLFAISSLPNINATRGEWFSYYFLPSQFTDYVNTNVSLEFTNSSQDHDWVKFQSSNLTLAGEVPKNFDKLSLGLKANQGSQSQELYFNIIGMDSKITHSNHSANATSTRSSHHSTSTSSYTSSTYTAKISSTSAAATSSAPAALPAANKTSSHNKKAVAIACGVAIPLGVILVALICFLIFWRRRRENPDDENLPHAISGPDLNNPANKPNQENATPLNNPFDDDASSYDDTSIARRLAALNTLKLDNHSATESDISSVDEKRDSLSGMNTYNDQFQSQSKEELLAKPPVQPPESPFFDPQNRSSSVYMDSEPAVNKSWRYTGNLSPVSDIVRDSYGSQKTVDTEKLFDLEAPEKEKRTSRDVTMSSLDPWNSNISPSPVRKSVTPSPYNVTKHRNRHLQNIQDSQSGKNGITPTTMSTSSSDDFVPVKDGENFCWVHSMEPDRRPSKKRLVDFSNKSNVNVGQVKDIHGRIPEML']\n",
      "\n",
      "type: gene\n",
      "location: [3299:4037](-)\n",
      "qualifiers:\n",
      "    Key: gene, Value: ['REV7']\n",
      "\n",
      "type: CDS\n",
      "location: [3299:4037](-)\n",
      "qualifiers:\n",
      "    Key: codon_start, Value: ['1']\n",
      "    Key: db_xref, Value: ['GI:1293616']\n",
      "    Key: gene, Value: ['REV7']\n",
      "    Key: product, Value: ['Rev7p']\n",
      "    Key: protein_id, Value: ['AAA98667.1']\n",
      "    Key: translation, Value: ['MNRWVEKWLRVYLKCYINLILFYRNVYPPQSFDYTTYQSFNLPQFVPINRHPALIDYIEELILDVLSKLTHVYRFSICIINKKNDLCIEKYVLDFSELQHVDKDDQIITETEVFDEFRSSLNSLIMHLEKLPKVNDDTITFEAVINAIELELGHKLDRNRRVDSLEEKAEIERDSNWVKCQEDENLPDNNGFQPPKIKLTSLVGSDVGPLIIHQFSEKLISGDDKILNGVYSQYEEGESIFGSLF']\n",
      "\n"
     ]
    }
   ],
   "source": [
    "for feature in my_seq_gb.features:\n",
    "    print(feature)"
   ]
  },
  {
   "cell_type": "code",
   "execution_count": 22,
   "metadata": {},
   "outputs": [
    {
     "name": "stdout",
     "output_type": "stream",
     "text": [
      "4932\n"
     ]
    }
   ],
   "source": [
    "# получаем айди таксона\n",
    "for feature in my_seq_gb.features:\n",
    "    if feature.type == 'source':\n",
    "        for key in feature.qualifiers:\n",
    "            if key == 'db_xref':\n",
    "                print(feature.qualifiers[key][0].split(':')[-1])"
   ]
  },
  {
   "cell_type": "code",
   "execution_count": 23,
   "metadata": {},
   "outputs": [
    {
     "name": "stdout",
     "output_type": "stream",
     "text": [
      "ID: <unknown id>\n",
      "Name: <unknown name>\n",
      "Description: <unknown description>\n",
      "Number of features: 2\n",
      "Seq('ATGAATAGATGGGTAGAGAAGTGGCTGAGGGTATACTTAAAATGCTACATTAAT...TAA', IUPACAmbiguousDNA())\n"
     ]
    }
   ],
   "source": [
    "unnanotated = my_seq_gb.features[-1].extract(my_seq_gb)\n",
    "print(unnanotated)"
   ]
  },
  {
   "cell_type": "code",
   "execution_count": 24,
   "metadata": {},
   "outputs": [],
   "source": [
    "# запишем последовательность в файл\n",
    "with open('unnanotated.fasta', 'w') as file:\n",
    "    SeqIO.write(unnanotated, file, 'fasta')"
   ]
  },
  {
   "cell_type": "markdown",
   "metadata": {},
   "source": [
    "## Бластим с помощью Biopython"
   ]
  },
  {
   "cell_type": "markdown",
   "metadata": {},
   "source": [
    "**Что из себя представляет бласт? Для каких задач можно использовать данный инструмент?**\n",
    "https://kodomo.fbb.msu.ru/~partyhard/term2/pr11/blast.html"
   ]
  },
  {
   "cell_type": "code",
   "execution_count": 25,
   "metadata": {
    "scrolled": true
   },
   "outputs": [],
   "source": [
    "from Bio.Blast import NCBIWWW"
   ]
  },
  {
   "cell_type": "code",
   "execution_count": 26,
   "metadata": {},
   "outputs": [
    {
     "name": "stdout",
     "output_type": "stream",
     "text": [
      "<_io.StringIO object at 0x0000017962A07DC8>\n"
     ]
    }
   ],
   "source": [
    "query = SeqIO.read('unnanotated.fasta', 'fasta') \n",
    "result = NCBIWWW.qblast('blastn', 'nt', query.seq) # в качестве query м.б. Seq объект, fasta или GenBankID\n",
    "print(result)"
   ]
  },
  {
   "cell_type": "code",
   "execution_count": 27,
   "metadata": {
    "scrolled": true
   },
   "outputs": [],
   "source": [
    "# можно записать в файл\n",
    "blast_result = result.read()\n",
    "\n",
    "with open('blast_out.xml', 'w') as outf:\n",
    "    outf.write(blast_result)"
   ]
  },
  {
   "cell_type": "markdown",
   "metadata": {},
   "source": [
    "## Как обработать результат бласта?"
   ]
  },
  {
   "cell_type": "code",
   "execution_count": 28,
   "metadata": {
    "scrolled": false
   },
   "outputs": [
    {
     "name": "stdout",
     "output_type": "stream",
     "text": [
      "Program: blastn (2.10.1+)\n",
      "  Query: No (738)\n",
      "         definition line\n",
      " Target: nt\n",
      "   Hits: ----  -----  ----------------------------------------------------------\n",
      "            #  # HSP  ID + description\n",
      "         ----  -----  ----------------------------------------------------------\n",
      "            0      1  gi|1586061139|gb|CP036480.1|  Saccharomyces cerevisiae ...\n",
      "            1      1  gi|1511320830|gb|CP033474.1|  Saccharomyces cerevisiae ...\n",
      "            2      1  gi|1511320813|gb|CP033491.1|  Saccharomyces cerevisiae ...\n",
      "            3      1  gi|1389182097|gb|CP029160.1|  Saccharomyces cerevisiae ...\n",
      "            4      1  gi|1386723604|gb|CP026295.1|  Saccharomyces cerevisiae ...\n",
      "            5      1  gi|1163001467|gb|CP020131.1|  Saccharomyces cerevisiae ...\n",
      "            6      1  gi|1047040830|gb|CP005016.2|  Saccharomyces cerevisiae ...\n",
      "            7      1  gi|1047040260|gb|CP004996.2|  Saccharomyces cerevisiae ...\n",
      "            8      1  gi|1031917693|gb|CP004993.2|  Saccharomyces cerevisiae ...\n",
      "            9      1  gi|1028010335|gb|CP004992.2|  Saccharomyces cerevisiae ...\n",
      "           10      1  gi|1024297358|gb|CP004991.2|  Saccharomyces cerevisiae ...\n",
      "           11      1  gi|1020924884|gb|CP005070.2|  Saccharomyces cerevisiae ...\n",
      "           12      1  gi|874346698|gb|CP011555.1|  Saccharomyces cerevisiae s...\n",
      "           13      1  gi|329138906|tpg|BK006942.2|  TPA_inf: Saccharomyces ce...\n",
      "           14      1  gi|296145633|ref|NM_001179487.1|  Saccharomyces cerevis...\n",
      "           15      1  gi|557761|emb|Z38059.1|  S.cerevisiae chromosome IX lam...\n",
      "           16      1  gi|1293613|gb|U49845.1|SCU49845  Saccharomyces cerevisi...\n",
      "           17      1  gi|460247|gb|U07228.1|SCU07228  Saccharomyces cerevisia...\n",
      "           18      1  gi|1802951738|gb|MN048020.1|  Synthetic construct clone...\n",
      "           19      1  gi|1163002342|gb|CP020182.1|  Saccharomyces cerevisiae ...\n",
      "           20      1  gi|1163001667|gb|CP020148.1|  Saccharomyces cerevisiae ...\n",
      "           21      1  gi|1134510291|gb|CP005069.2|  Saccharomyces cerevisiae ...\n",
      "           22      1  gi|1134510290|gb|CP005059.2|  Saccharomyces cerevisiae ...\n",
      "           23      1  gi|1115582951|gb|CP005058.2|  Saccharomyces cerevisiae ...\n",
      "           24      1  gi|1115582929|gb|CP005018.2|  Saccharomyces cerevisiae ...\n",
      "           25      1  gi|1115582911|gb|CP004988.2|  Saccharomyces cerevisiae ...\n",
      "           26      1  gi|1047041489|gb|CP005036.2|  Saccharomyces cerevisiae ...\n",
      "           27      1  gi|1039024448|gb|CP008244.1|  Saccharomyces cerevisiae ...\n",
      "           28      1  gi|1039023751|gb|CP008193.1|  Saccharomyces cerevisiae ...\n",
      "           29      1  gi|1034703564|gb|CP005025.2|  Saccharomyces cerevisiae ...\n",
      "           ~~~\n",
      "           47      1  gi|1134510289|gb|CP005049.2|  Saccharomyces cerevisiae ...\n",
      "           48      1  gi|1862907450|emb|LR813593.1|  Saccharomyces cerevisiae...\n",
      "           49      1  gi|1862888984|emb|LR813542.1|  Saccharomyces cerevisiae...\n"
     ]
    }
   ],
   "source": [
    "from Bio import SearchIO\n",
    "\n",
    "blast_qresult = SearchIO.read('blast_out.xml', 'blast-xml')\n",
    "print(blast_qresult)"
   ]
  },
  {
   "cell_type": "markdown",
   "metadata": {},
   "source": [
    "**HSP (High Scoring Pair) corresponds to the matching region between the query sequence and the database hit sequence.**\n",
    "\n",
    "**В каких случаях с точки зрения биологии может быть два и более hsp для одного хита?**"
   ]
  },
  {
   "cell_type": "code",
   "execution_count": 29,
   "metadata": {
    "scrolled": true
   },
   "outputs": [],
   "source": [
    "with open('blast_qresult.txt', 'w') as outf:\n",
    "    for hit in blast_qresult:\n",
    "        outf.write(str(hit) + '\\n')\n",
    "#Вывод этой ячейки записан в blast_qresult.txt"
   ]
  },
  {
   "cell_type": "code",
   "execution_count": 30,
   "metadata": {},
   "outputs": [
    {
     "data": {
      "text/plain": [
       "['_NON_STICKY_ATTRS',\n",
       " '__bool__',\n",
       " '__class__',\n",
       " '__contains__',\n",
       " '__delattr__',\n",
       " '__delitem__',\n",
       " '__dict__',\n",
       " '__dir__',\n",
       " '__doc__',\n",
       " '__eq__',\n",
       " '__format__',\n",
       " '__ge__',\n",
       " '__getattribute__',\n",
       " '__getitem__',\n",
       " '__gt__',\n",
       " '__hash__',\n",
       " '__init__',\n",
       " '__init_subclass__',\n",
       " '__iter__',\n",
       " '__le__',\n",
       " '__len__',\n",
       " '__lt__',\n",
       " '__module__',\n",
       " '__ne__',\n",
       " '__new__',\n",
       " '__reduce__',\n",
       " '__reduce_ex__',\n",
       " '__repr__',\n",
       " '__setattr__',\n",
       " '__setitem__',\n",
       " '__sizeof__',\n",
       " '__str__',\n",
       " '__subclasshook__',\n",
       " '__weakref__',\n",
       " '_description',\n",
       " '_description_alt',\n",
       " '_id',\n",
       " '_id_alt',\n",
       " '_items',\n",
       " '_query_description',\n",
       " '_query_id',\n",
       " '_transfer_attrs',\n",
       " '_validate_hsp',\n",
       " 'accession',\n",
       " 'append',\n",
       " 'attributes',\n",
       " 'blast_id',\n",
       " 'dbxrefs',\n",
       " 'description',\n",
       " 'description_all',\n",
       " 'filter',\n",
       " 'fragments',\n",
       " 'hsps',\n",
       " 'id',\n",
       " 'id_all',\n",
       " 'index',\n",
       " 'map',\n",
       " 'pop',\n",
       " 'query_description',\n",
       " 'query_id',\n",
       " 'seq_len',\n",
       " 'sort']"
      ]
     },
     "execution_count": 30,
     "metadata": {},
     "output_type": "execute_result"
    }
   ],
   "source": [
    "dir(hit)"
   ]
  },
  {
   "cell_type": "code",
   "execution_count": 31,
   "metadata": {},
   "outputs": [
    {
     "name": "stdout",
     "output_type": "stream",
     "text": [
      "      Query: No definition line\n",
      "        Hit: gi|1586061139|gb|CP036480.1| Saccharomyces cerevisiae strain ySR...\n",
      "Query range: [0:738] (1)\n",
      "  Hit range: [87948:88686] (-1)\n",
      "Quick stats: evalue 0; bitscore 1332.17\n",
      "  Fragments: 1 (738 columns)\n",
      "     Query - ATGAATAGATGGGTAGAGAAGTGGCTGAGGGTATACTTAAAATGCTACATTAATTTGAT~~~TTTAA\n",
      "             |||||||||||||||||||||||||||||||||||||||||||||||||||||||||||~~~|||||\n",
      "       Hit - ATGAATAGATGGGTAGAGAAGTGGCTGAGGGTATACTTAAAATGCTACATTAATTTGAT~~~TTTAA\n"
     ]
    }
   ],
   "source": [
    "blast_hsp = blast_qresult[0][0] # first hit, first hsp\n",
    "print(blast_hsp)"
   ]
  },
  {
   "cell_type": "code",
   "execution_count": 32,
   "metadata": {},
   "outputs": [
    {
     "data": {
      "text/plain": [
       "['_NON_STICKY_ATTRS',\n",
       " '__bool__',\n",
       " '__class__',\n",
       " '__contains__',\n",
       " '__delattr__',\n",
       " '__delitem__',\n",
       " '__dict__',\n",
       " '__dir__',\n",
       " '__doc__',\n",
       " '__eq__',\n",
       " '__format__',\n",
       " '__ge__',\n",
       " '__getattribute__',\n",
       " '__getitem__',\n",
       " '__gt__',\n",
       " '__hash__',\n",
       " '__init__',\n",
       " '__init_subclass__',\n",
       " '__iter__',\n",
       " '__le__',\n",
       " '__len__',\n",
       " '__lt__',\n",
       " '__module__',\n",
       " '__ne__',\n",
       " '__new__',\n",
       " '__reduce__',\n",
       " '__reduce_ex__',\n",
       " '__repr__',\n",
       " '__setattr__',\n",
       " '__setitem__',\n",
       " '__sizeof__',\n",
       " '__str__',\n",
       " '__subclasshook__',\n",
       " '__weakref__',\n",
       " '_aln_span_get',\n",
       " '_get_coords',\n",
       " '_hit_end_get',\n",
       " '_hit_inter_ranges_get',\n",
       " '_hit_inter_spans_get',\n",
       " '_hit_range_get',\n",
       " '_hit_span_get',\n",
       " '_hit_start_get',\n",
       " '_inter_ranges_get',\n",
       " '_inter_spans_get',\n",
       " '_items',\n",
       " '_query_end_get',\n",
       " '_query_inter_ranges_get',\n",
       " '_query_inter_spans_get',\n",
       " '_query_range_get',\n",
       " '_query_span_get',\n",
       " '_query_start_get',\n",
       " '_str_hsp_header',\n",
       " '_transfer_attrs',\n",
       " '_validate_fragment',\n",
       " 'aln',\n",
       " 'aln_all',\n",
       " 'aln_annotation',\n",
       " 'aln_annotation_all',\n",
       " 'aln_span',\n",
       " 'alphabet',\n",
       " 'bitscore',\n",
       " 'bitscore_raw',\n",
       " 'evalue',\n",
       " 'fragment',\n",
       " 'fragments',\n",
       " 'gap_num',\n",
       " 'hit',\n",
       " 'hit_all',\n",
       " 'hit_description',\n",
       " 'hit_end',\n",
       " 'hit_end_all',\n",
       " 'hit_features',\n",
       " 'hit_features_all',\n",
       " 'hit_frame',\n",
       " 'hit_frame_all',\n",
       " 'hit_id',\n",
       " 'hit_inter_ranges',\n",
       " 'hit_inter_spans',\n",
       " 'hit_range',\n",
       " 'hit_range_all',\n",
       " 'hit_span',\n",
       " 'hit_span_all',\n",
       " 'hit_start',\n",
       " 'hit_start_all',\n",
       " 'hit_strand',\n",
       " 'hit_strand_all',\n",
       " 'ident_num',\n",
       " 'is_fragmented',\n",
       " 'output_index',\n",
       " 'pos_num',\n",
       " 'query',\n",
       " 'query_all',\n",
       " 'query_description',\n",
       " 'query_end',\n",
       " 'query_end_all',\n",
       " 'query_features',\n",
       " 'query_features_all',\n",
       " 'query_frame',\n",
       " 'query_frame_all',\n",
       " 'query_id',\n",
       " 'query_inter_ranges',\n",
       " 'query_inter_spans',\n",
       " 'query_range',\n",
       " 'query_range_all',\n",
       " 'query_span',\n",
       " 'query_span_all',\n",
       " 'query_start',\n",
       " 'query_start_all',\n",
       " 'query_strand',\n",
       " 'query_strand_all']"
      ]
     },
     "execution_count": 32,
     "metadata": {},
     "output_type": "execute_result"
    }
   ],
   "source": [
    "# смотрим, какая информация есть по совпадению\n",
    "dir(blast_hsp)"
   ]
  },
  {
   "cell_type": "code",
   "execution_count": 33,
   "metadata": {},
   "outputs": [
    {
     "data": {
      "text/plain": [
       "dict_keys(['output_index', '_items', 'bitscore', 'bitscore_raw', 'evalue', 'ident_num', 'pos_num', 'gap_num'])"
      ]
     },
     "execution_count": 33,
     "metadata": {},
     "output_type": "execute_result"
    }
   ],
   "source": [
    "blast_hsp.__dict__.keys()"
   ]
  },
  {
   "cell_type": "code",
   "execution_count": 34,
   "metadata": {},
   "outputs": [
    {
     "name": "stdout",
     "output_type": "stream",
     "text": [
      "0.0\n"
     ]
    }
   ],
   "source": [
    "# неоторые показатели для фильтрации результатов\n",
    "print(blast_hsp.evalue) # e-value"
   ]
  },
  {
   "cell_type": "code",
   "execution_count": 35,
   "metadata": {},
   "outputs": [
    {
     "name": "stdout",
     "output_type": "stream",
     "text": [
      "738\n"
     ]
    }
   ],
   "source": [
    "print(blast_hsp.query_span) # длина выравнивания"
   ]
  },
  {
   "cell_type": "code",
   "execution_count": 36,
   "metadata": {},
   "outputs": [
    {
     "name": "stdout",
     "output_type": "stream",
     "text": [
      "738\n"
     ]
    }
   ],
   "source": [
    "print(blast_hsp.ident_num) # число идентичных остатков"
   ]
  },
  {
   "cell_type": "code",
   "execution_count": 37,
   "metadata": {},
   "outputs": [
    {
     "name": "stdout",
     "output_type": "stream",
     "text": [
      "gi|1586061139|gb|CP036480.1|\n"
     ]
    }
   ],
   "source": [
    "print(blast_hsp.hit_id) # айди совпадения"
   ]
  },
  {
   "cell_type": "code",
   "execution_count": 38,
   "metadata": {},
   "outputs": [],
   "source": [
    "# вытаскиваем айди для запроса\n",
    "hit_id = blast_hsp.hit_id.split('|')[-2]"
   ]
  },
  {
   "cell_type": "code",
   "execution_count": 39,
   "metadata": {
    "scrolled": true
   },
   "outputs": [
    {
     "data": {
      "text/html": [
       "<div>\n",
       "<style scoped>\n",
       "    .dataframe tbody tr th:only-of-type {\n",
       "        vertical-align: middle;\n",
       "    }\n",
       "\n",
       "    .dataframe tbody tr th {\n",
       "        vertical-align: top;\n",
       "    }\n",
       "\n",
       "    .dataframe thead th {\n",
       "        text-align: right;\n",
       "    }\n",
       "</style>\n",
       "<table border=\"1\" class=\"dataframe\">\n",
       "  <thead>\n",
       "    <tr style=\"text-align: right;\">\n",
       "      <th></th>\n",
       "      <th>HitAccID</th>\n",
       "      <th>Description</th>\n",
       "      <th>Span</th>\n",
       "      <th>Identity</th>\n",
       "    </tr>\n",
       "  </thead>\n",
       "  <tbody>\n",
       "    <tr>\n",
       "      <th>0</th>\n",
       "      <td>CP036480.1</td>\n",
       "      <td>Saccharomyces cerevisiae strain ySR128 chromos...</td>\n",
       "      <td>738</td>\n",
       "      <td>738</td>\n",
       "    </tr>\n",
       "    <tr>\n",
       "      <th>1</th>\n",
       "      <td>CP033474.1</td>\n",
       "      <td>Saccharomyces cerevisiae strain Y169 chromosome 9</td>\n",
       "      <td>738</td>\n",
       "      <td>738</td>\n",
       "    </tr>\n",
       "    <tr>\n",
       "      <th>2</th>\n",
       "      <td>CP033491.1</td>\n",
       "      <td>Saccharomyces cerevisiae strain X55 chromosome 9</td>\n",
       "      <td>738</td>\n",
       "      <td>738</td>\n",
       "    </tr>\n",
       "    <tr>\n",
       "      <th>3</th>\n",
       "      <td>CP029160.1</td>\n",
       "      <td>Saccharomyces cerevisiae strain SY14 chromosom...</td>\n",
       "      <td>738</td>\n",
       "      <td>738</td>\n",
       "    </tr>\n",
       "    <tr>\n",
       "      <th>4</th>\n",
       "      <td>CP026295.1</td>\n",
       "      <td>Saccharomyces cerevisiae strain BY4742 chromos...</td>\n",
       "      <td>738</td>\n",
       "      <td>738</td>\n",
       "    </tr>\n",
       "    <tr>\n",
       "      <th>5</th>\n",
       "      <td>CP020131.1</td>\n",
       "      <td>Saccharomyces cerevisiae strain S288c chromoso...</td>\n",
       "      <td>738</td>\n",
       "      <td>738</td>\n",
       "    </tr>\n",
       "    <tr>\n",
       "      <th>6</th>\n",
       "      <td>CP005016.2</td>\n",
       "      <td>Saccharomyces cerevisiae YJM1083 chromosome IX...</td>\n",
       "      <td>738</td>\n",
       "      <td>738</td>\n",
       "    </tr>\n",
       "    <tr>\n",
       "      <th>7</th>\n",
       "      <td>CP004996.2</td>\n",
       "      <td>Saccharomyces cerevisiae YJM470 chromosome IX ...</td>\n",
       "      <td>738</td>\n",
       "      <td>738</td>\n",
       "    </tr>\n",
       "    <tr>\n",
       "      <th>8</th>\n",
       "      <td>CP004993.2</td>\n",
       "      <td>Saccharomyces cerevisiae YJM451 chromosome IX ...</td>\n",
       "      <td>738</td>\n",
       "      <td>738</td>\n",
       "    </tr>\n",
       "    <tr>\n",
       "      <th>9</th>\n",
       "      <td>CP004992.2</td>\n",
       "      <td>Saccharomyces cerevisiae YJM450 chromosome IX ...</td>\n",
       "      <td>738</td>\n",
       "      <td>738</td>\n",
       "    </tr>\n",
       "    <tr>\n",
       "      <th>10</th>\n",
       "      <td>CP004991.2</td>\n",
       "      <td>Saccharomyces cerevisiae YJM428 chromosome IX ...</td>\n",
       "      <td>738</td>\n",
       "      <td>738</td>\n",
       "    </tr>\n",
       "    <tr>\n",
       "      <th>11</th>\n",
       "      <td>CP005070.2</td>\n",
       "      <td>Saccharomyces cerevisiae YJM1549 chromosome IX...</td>\n",
       "      <td>738</td>\n",
       "      <td>738</td>\n",
       "    </tr>\n",
       "    <tr>\n",
       "      <th>12</th>\n",
       "      <td>CP011555.1</td>\n",
       "      <td>Saccharomyces cerevisiae strain ySR127 chromos...</td>\n",
       "      <td>738</td>\n",
       "      <td>738</td>\n",
       "    </tr>\n",
       "    <tr>\n",
       "      <th>13</th>\n",
       "      <td>BK006942.2</td>\n",
       "      <td>TPA_inf: Saccharomyces cerevisiae S288C chromo...</td>\n",
       "      <td>738</td>\n",
       "      <td>738</td>\n",
       "    </tr>\n",
       "    <tr>\n",
       "      <th>14</th>\n",
       "      <td>NM_001179487.1</td>\n",
       "      <td>Saccharomyces cerevisiae S288C Rev7p (REV7), p...</td>\n",
       "      <td>738</td>\n",
       "      <td>738</td>\n",
       "    </tr>\n",
       "    <tr>\n",
       "      <th>15</th>\n",
       "      <td>Z38059.1</td>\n",
       "      <td>S.cerevisiae chromosome IX lambda clones 4357-...</td>\n",
       "      <td>738</td>\n",
       "      <td>738</td>\n",
       "    </tr>\n",
       "    <tr>\n",
       "      <th>16</th>\n",
       "      <td>U49845.1</td>\n",
       "      <td>Saccharomyces cerevisiae TCP1-beta gene, parti...</td>\n",
       "      <td>738</td>\n",
       "      <td>738</td>\n",
       "    </tr>\n",
       "    <tr>\n",
       "      <th>17</th>\n",
       "      <td>U07228.1</td>\n",
       "      <td>Saccharomyces cerevisiae Rev7p (REV7) gene, co...</td>\n",
       "      <td>738</td>\n",
       "      <td>738</td>\n",
       "    </tr>\n",
       "    <tr>\n",
       "      <th>18</th>\n",
       "      <td>MN048020.1</td>\n",
       "      <td>Synthetic construct clone CCSBy3019H12 Gateway...</td>\n",
       "      <td>737</td>\n",
       "      <td>737</td>\n",
       "    </tr>\n",
       "    <tr>\n",
       "      <th>19</th>\n",
       "      <td>CP020182.1</td>\n",
       "      <td>Saccharomyces cerevisiae strain SK1 chromosome...</td>\n",
       "      <td>738</td>\n",
       "      <td>736</td>\n",
       "    </tr>\n",
       "    <tr>\n",
       "      <th>20</th>\n",
       "      <td>CP020148.1</td>\n",
       "      <td>Saccharomyces cerevisiae strain DBVPG6044 chro...</td>\n",
       "      <td>738</td>\n",
       "      <td>736</td>\n",
       "    </tr>\n",
       "    <tr>\n",
       "      <th>21</th>\n",
       "      <td>CP005069.2</td>\n",
       "      <td>Saccharomyces cerevisiae YJM1527 chromosome IX...</td>\n",
       "      <td>738</td>\n",
       "      <td>736</td>\n",
       "    </tr>\n",
       "    <tr>\n",
       "      <th>22</th>\n",
       "      <td>CP005059.2</td>\n",
       "      <td>Saccharomyces cerevisiae YJM1443 chromosome IX...</td>\n",
       "      <td>738</td>\n",
       "      <td>736</td>\n",
       "    </tr>\n",
       "    <tr>\n",
       "      <th>23</th>\n",
       "      <td>CP005058.2</td>\n",
       "      <td>Saccharomyces cerevisiae YJM1439 chromosome IX...</td>\n",
       "      <td>738</td>\n",
       "      <td>736</td>\n",
       "    </tr>\n",
       "    <tr>\n",
       "      <th>24</th>\n",
       "      <td>CP005018.2</td>\n",
       "      <td>Saccharomyces cerevisiae YJM1133 chromosome IX...</td>\n",
       "      <td>738</td>\n",
       "      <td>736</td>\n",
       "    </tr>\n",
       "    <tr>\n",
       "      <th>25</th>\n",
       "      <td>CP004988.2</td>\n",
       "      <td>Saccharomyces cerevisiae YJM271 chromosome IX ...</td>\n",
       "      <td>738</td>\n",
       "      <td>736</td>\n",
       "    </tr>\n",
       "    <tr>\n",
       "      <th>26</th>\n",
       "      <td>CP005036.2</td>\n",
       "      <td>Saccharomyces cerevisiae YJM1338 chromosome IX...</td>\n",
       "      <td>738</td>\n",
       "      <td>736</td>\n",
       "    </tr>\n",
       "    <tr>\n",
       "      <th>27</th>\n",
       "      <td>CP008244.1</td>\n",
       "      <td>Saccharomyces cerevisiae strain HB_S_GIMBLETTR...</td>\n",
       "      <td>738</td>\n",
       "      <td>736</td>\n",
       "    </tr>\n",
       "    <tr>\n",
       "      <th>28</th>\n",
       "      <td>CP008193.1</td>\n",
       "      <td>Saccharomyces cerevisiae strain HB_S_GIMBLETTR...</td>\n",
       "      <td>738</td>\n",
       "      <td>736</td>\n",
       "    </tr>\n",
       "    <tr>\n",
       "      <th>29</th>\n",
       "      <td>CP005025.2</td>\n",
       "      <td>Saccharomyces cerevisiae YJM1248 chromosome IX...</td>\n",
       "      <td>738</td>\n",
       "      <td>736</td>\n",
       "    </tr>\n",
       "    <tr>\n",
       "      <th>30</th>\n",
       "      <td>CP005044.2</td>\n",
       "      <td>Saccharomyces cerevisiae YJM1386 chromosome IX...</td>\n",
       "      <td>738</td>\n",
       "      <td>736</td>\n",
       "    </tr>\n",
       "    <tr>\n",
       "      <th>31</th>\n",
       "      <td>CP004983.2</td>\n",
       "      <td>Saccharomyces cerevisiae YJM193 chromosome IX ...</td>\n",
       "      <td>738</td>\n",
       "      <td>736</td>\n",
       "    </tr>\n",
       "    <tr>\n",
       "      <th>32</th>\n",
       "      <td>CP005062.2</td>\n",
       "      <td>Saccharomyces cerevisiae YJM1450 chromosome IX...</td>\n",
       "      <td>738</td>\n",
       "      <td>736</td>\n",
       "    </tr>\n",
       "    <tr>\n",
       "      <th>33</th>\n",
       "      <td>CP005021.2</td>\n",
       "      <td>Saccharomyces cerevisiae YJM1202 chromosome IX...</td>\n",
       "      <td>738</td>\n",
       "      <td>736</td>\n",
       "    </tr>\n",
       "    <tr>\n",
       "      <th>34</th>\n",
       "      <td>CP005060.2</td>\n",
       "      <td>Saccharomyces cerevisiae YJM1444 chromosome IX...</td>\n",
       "      <td>738</td>\n",
       "      <td>736</td>\n",
       "    </tr>\n",
       "    <tr>\n",
       "      <th>35</th>\n",
       "      <td>CP005020.2</td>\n",
       "      <td>Saccharomyces cerevisiae YJM1199 chromosome IX...</td>\n",
       "      <td>738</td>\n",
       "      <td>736</td>\n",
       "    </tr>\n",
       "    <tr>\n",
       "      <th>36</th>\n",
       "      <td>CP004984.1</td>\n",
       "      <td>Saccharomyces cerevisiae YJM195 chromosome IX ...</td>\n",
       "      <td>738</td>\n",
       "      <td>736</td>\n",
       "    </tr>\n",
       "    <tr>\n",
       "      <th>37</th>\n",
       "      <td>LR813525.1</td>\n",
       "      <td>Saccharomyces cerevisiae strain BJ4 genome ass...</td>\n",
       "      <td>738</td>\n",
       "      <td>736</td>\n",
       "    </tr>\n",
       "    <tr>\n",
       "      <th>38</th>\n",
       "      <td>LR813508.1</td>\n",
       "      <td>Saccharomyces cerevisiae strain HLJ1 genome as...</td>\n",
       "      <td>738</td>\n",
       "      <td>736</td>\n",
       "    </tr>\n",
       "    <tr>\n",
       "      <th>39</th>\n",
       "      <td>CP048990.1</td>\n",
       "      <td>Saccharomyces pastorianus strain CBS 1483 chro...</td>\n",
       "      <td>738</td>\n",
       "      <td>735</td>\n",
       "    </tr>\n",
       "    <tr>\n",
       "      <th>40</th>\n",
       "      <td>CP046089.1</td>\n",
       "      <td>Saccharomyces cerevisiae strain CEN.PK113-7D c...</td>\n",
       "      <td>738</td>\n",
       "      <td>735</td>\n",
       "    </tr>\n",
       "    <tr>\n",
       "      <th>41</th>\n",
       "      <td>CP024003.1</td>\n",
       "      <td>Saccharomyces cerevisiae strain KSD-Yc chromos...</td>\n",
       "      <td>738</td>\n",
       "      <td>735</td>\n",
       "    </tr>\n",
       "    <tr>\n",
       "      <th>42</th>\n",
       "      <td>CP022974.1</td>\n",
       "      <td>Saccharomyces cerevisiae strain CEN.PK113-7D c...</td>\n",
       "      <td>738</td>\n",
       "      <td>735</td>\n",
       "    </tr>\n",
       "    <tr>\n",
       "      <th>43</th>\n",
       "      <td>CP020233.1</td>\n",
       "      <td>Saccharomyces cerevisiae strain UWOPS03-461.4 ...</td>\n",
       "      <td>738</td>\n",
       "      <td>735</td>\n",
       "    </tr>\n",
       "    <tr>\n",
       "      <th>44</th>\n",
       "      <td>CP020216.1</td>\n",
       "      <td>Saccharomyces cerevisiae strain YPS128 chromos...</td>\n",
       "      <td>738</td>\n",
       "      <td>735</td>\n",
       "    </tr>\n",
       "    <tr>\n",
       "      <th>45</th>\n",
       "      <td>CP020199.1</td>\n",
       "      <td>Saccharomyces cerevisiae strain Y12 chromosome...</td>\n",
       "      <td>738</td>\n",
       "      <td>735</td>\n",
       "    </tr>\n",
       "    <tr>\n",
       "      <th>46</th>\n",
       "      <td>CP020165.1</td>\n",
       "      <td>Saccharomyces cerevisiae strain DBVPG6765 chro...</td>\n",
       "      <td>738</td>\n",
       "      <td>735</td>\n",
       "    </tr>\n",
       "    <tr>\n",
       "      <th>47</th>\n",
       "      <td>CP005049.2</td>\n",
       "      <td>Saccharomyces cerevisiae YJM1400 chromosome IX...</td>\n",
       "      <td>738</td>\n",
       "      <td>735</td>\n",
       "    </tr>\n",
       "    <tr>\n",
       "      <th>48</th>\n",
       "      <td>LR813593.1</td>\n",
       "      <td>Saccharomyces cerevisiae strain SX2 genome ass...</td>\n",
       "      <td>738</td>\n",
       "      <td>735</td>\n",
       "    </tr>\n",
       "    <tr>\n",
       "      <th>49</th>\n",
       "      <td>LR813542.1</td>\n",
       "      <td>Saccharomyces cerevisiae strain Y55 genome ass...</td>\n",
       "      <td>738</td>\n",
       "      <td>735</td>\n",
       "    </tr>\n",
       "  </tbody>\n",
       "</table>\n",
       "</div>"
      ],
      "text/plain": [
       "          HitAccID                                        Description Span  \\\n",
       "0       CP036480.1  Saccharomyces cerevisiae strain ySR128 chromos...  738   \n",
       "1       CP033474.1  Saccharomyces cerevisiae strain Y169 chromosome 9  738   \n",
       "2       CP033491.1   Saccharomyces cerevisiae strain X55 chromosome 9  738   \n",
       "3       CP029160.1  Saccharomyces cerevisiae strain SY14 chromosom...  738   \n",
       "4       CP026295.1  Saccharomyces cerevisiae strain BY4742 chromos...  738   \n",
       "5       CP020131.1  Saccharomyces cerevisiae strain S288c chromoso...  738   \n",
       "6       CP005016.2  Saccharomyces cerevisiae YJM1083 chromosome IX...  738   \n",
       "7       CP004996.2  Saccharomyces cerevisiae YJM470 chromosome IX ...  738   \n",
       "8       CP004993.2  Saccharomyces cerevisiae YJM451 chromosome IX ...  738   \n",
       "9       CP004992.2  Saccharomyces cerevisiae YJM450 chromosome IX ...  738   \n",
       "10      CP004991.2  Saccharomyces cerevisiae YJM428 chromosome IX ...  738   \n",
       "11      CP005070.2  Saccharomyces cerevisiae YJM1549 chromosome IX...  738   \n",
       "12      CP011555.1  Saccharomyces cerevisiae strain ySR127 chromos...  738   \n",
       "13      BK006942.2  TPA_inf: Saccharomyces cerevisiae S288C chromo...  738   \n",
       "14  NM_001179487.1  Saccharomyces cerevisiae S288C Rev7p (REV7), p...  738   \n",
       "15        Z38059.1  S.cerevisiae chromosome IX lambda clones 4357-...  738   \n",
       "16        U49845.1  Saccharomyces cerevisiae TCP1-beta gene, parti...  738   \n",
       "17        U07228.1  Saccharomyces cerevisiae Rev7p (REV7) gene, co...  738   \n",
       "18      MN048020.1  Synthetic construct clone CCSBy3019H12 Gateway...  737   \n",
       "19      CP020182.1  Saccharomyces cerevisiae strain SK1 chromosome...  738   \n",
       "20      CP020148.1  Saccharomyces cerevisiae strain DBVPG6044 chro...  738   \n",
       "21      CP005069.2  Saccharomyces cerevisiae YJM1527 chromosome IX...  738   \n",
       "22      CP005059.2  Saccharomyces cerevisiae YJM1443 chromosome IX...  738   \n",
       "23      CP005058.2  Saccharomyces cerevisiae YJM1439 chromosome IX...  738   \n",
       "24      CP005018.2  Saccharomyces cerevisiae YJM1133 chromosome IX...  738   \n",
       "25      CP004988.2  Saccharomyces cerevisiae YJM271 chromosome IX ...  738   \n",
       "26      CP005036.2  Saccharomyces cerevisiae YJM1338 chromosome IX...  738   \n",
       "27      CP008244.1  Saccharomyces cerevisiae strain HB_S_GIMBLETTR...  738   \n",
       "28      CP008193.1  Saccharomyces cerevisiae strain HB_S_GIMBLETTR...  738   \n",
       "29      CP005025.2  Saccharomyces cerevisiae YJM1248 chromosome IX...  738   \n",
       "30      CP005044.2  Saccharomyces cerevisiae YJM1386 chromosome IX...  738   \n",
       "31      CP004983.2  Saccharomyces cerevisiae YJM193 chromosome IX ...  738   \n",
       "32      CP005062.2  Saccharomyces cerevisiae YJM1450 chromosome IX...  738   \n",
       "33      CP005021.2  Saccharomyces cerevisiae YJM1202 chromosome IX...  738   \n",
       "34      CP005060.2  Saccharomyces cerevisiae YJM1444 chromosome IX...  738   \n",
       "35      CP005020.2  Saccharomyces cerevisiae YJM1199 chromosome IX...  738   \n",
       "36      CP004984.1  Saccharomyces cerevisiae YJM195 chromosome IX ...  738   \n",
       "37      LR813525.1  Saccharomyces cerevisiae strain BJ4 genome ass...  738   \n",
       "38      LR813508.1  Saccharomyces cerevisiae strain HLJ1 genome as...  738   \n",
       "39      CP048990.1  Saccharomyces pastorianus strain CBS 1483 chro...  738   \n",
       "40      CP046089.1  Saccharomyces cerevisiae strain CEN.PK113-7D c...  738   \n",
       "41      CP024003.1  Saccharomyces cerevisiae strain KSD-Yc chromos...  738   \n",
       "42      CP022974.1  Saccharomyces cerevisiae strain CEN.PK113-7D c...  738   \n",
       "43      CP020233.1  Saccharomyces cerevisiae strain UWOPS03-461.4 ...  738   \n",
       "44      CP020216.1  Saccharomyces cerevisiae strain YPS128 chromos...  738   \n",
       "45      CP020199.1  Saccharomyces cerevisiae strain Y12 chromosome...  738   \n",
       "46      CP020165.1  Saccharomyces cerevisiae strain DBVPG6765 chro...  738   \n",
       "47      CP005049.2  Saccharomyces cerevisiae YJM1400 chromosome IX...  738   \n",
       "48      LR813593.1  Saccharomyces cerevisiae strain SX2 genome ass...  738   \n",
       "49      LR813542.1  Saccharomyces cerevisiae strain Y55 genome ass...  738   \n",
       "\n",
       "   Identity  \n",
       "0       738  \n",
       "1       738  \n",
       "2       738  \n",
       "3       738  \n",
       "4       738  \n",
       "5       738  \n",
       "6       738  \n",
       "7       738  \n",
       "8       738  \n",
       "9       738  \n",
       "10      738  \n",
       "11      738  \n",
       "12      738  \n",
       "13      738  \n",
       "14      738  \n",
       "15      738  \n",
       "16      738  \n",
       "17      738  \n",
       "18      737  \n",
       "19      736  \n",
       "20      736  \n",
       "21      736  \n",
       "22      736  \n",
       "23      736  \n",
       "24      736  \n",
       "25      736  \n",
       "26      736  \n",
       "27      736  \n",
       "28      736  \n",
       "29      736  \n",
       "30      736  \n",
       "31      736  \n",
       "32      736  \n",
       "33      736  \n",
       "34      736  \n",
       "35      736  \n",
       "36      736  \n",
       "37      736  \n",
       "38      736  \n",
       "39      735  \n",
       "40      735  \n",
       "41      735  \n",
       "42      735  \n",
       "43      735  \n",
       "44      735  \n",
       "45      735  \n",
       "46      735  \n",
       "47      735  \n",
       "48      735  \n",
       "49      735  "
      ]
     },
     "execution_count": 39,
     "metadata": {},
     "output_type": "execute_result"
    }
   ],
   "source": [
    "# получаем датафрейм для полученного бласт-аутпута\n",
    "import pandas as pd\n",
    "\n",
    "df = pd.DataFrame(columns=['HitAccID', 'Description', 'Span', 'Identity'])\n",
    "\n",
    "for hit in blast_qresult:\n",
    "    for hsp in hit:\n",
    "        if hsp.evalue < 1e-20:\n",
    "            df = df.append({'HitAccID': hsp.hit_id.split('|')[-2],\n",
    "                            'Description': hsp.hit_description,\n",
    "                            'Span': hsp.query_span,\n",
    "                            'Identity': hsp.ident_num\n",
    "            }, ignore_index=True)\n",
    "\n",
    "df"
   ]
  },
  {
   "cell_type": "code",
   "execution_count": 40,
   "metadata": {},
   "outputs": [],
   "source": [
    "# как сохранить полученный датафрейм\n",
    "df.to_csv('blast.result.tsv', sep='\\t')"
   ]
  },
  {
   "cell_type": "markdown",
   "metadata": {},
   "source": [
    "## Знакомимся с Entrez"
   ]
  },
  {
   "cell_type": "markdown",
   "metadata": {},
   "source": [
    "### Что можно делать?\n",
    "    \n",
    "*ESearch*:  Searching the Entrez databases\n",
    "    \n",
    "*ESummary*:  Retrieving summaries from primary IDs\n",
    "    \n",
    "*EFetch*:  Downloading full records from Entrez\n",
    "\n",
    "### Итого имеем конвейер работы:\n",
    "\n",
    "Запрос на поиск -> Получение саммари -> Отбор необходимого по критериям -> Получение данных"
   ]
  },
  {
   "cell_type": "markdown",
   "metadata": {},
   "source": [
    "### Получаем последовательность хита по результату бласта:"
   ]
  },
  {
   "cell_type": "code",
   "execution_count": 41,
   "metadata": {},
   "outputs": [],
   "source": [
    "from Bio import Entrez\n",
    "\n",
    "Entrez.email = 'example@mail.com' # обязательно заменить на свой адрес\n",
    "\n",
    "handle = Entrez.efetch(db='nucleotide', id=hit_id, rettype='gb', retmode='text')\n",
    "record = SeqIO.read(handle, 'gb')"
   ]
  },
  {
   "cell_type": "code",
   "execution_count": 42,
   "metadata": {},
   "outputs": [
    {
     "name": "stdout",
     "output_type": "stream",
     "text": [
      "ID: CP036480.1\n",
      "Name: CP036480\n",
      "Description: Saccharomyces cerevisiae strain ySR128 chromosome IX, complete sequence\n",
      "Database cross-references: BioProject:PRJNA524644, BioSample:SAMN11029472\n",
      "Number of features: 1\n",
      "/molecule_type=DNA\n",
      "/topology=linear\n",
      "/data_file_division=PLN\n",
      "/date=06-MAR-2019\n",
      "/accessions=['CP036480']\n",
      "/sequence_version=1\n",
      "/keywords=['']\n",
      "/source=Saccharomyces cerevisiae (baker's yeast)\n",
      "/organism=Saccharomyces cerevisiae\n",
      "/taxonomy=['Eukaryota', 'Fungi', 'Dikarya', 'Ascomycota', 'Saccharomycotina', 'Saccharomycetes', 'Saccharomycetales', 'Saccharomycetaceae', 'Saccharomyces']\n",
      "/references=[Reference(title='Clustered mutations in yeast and in human cancers can arise from damaged long single-strand DNA regions', ...), Reference(title='Direct Submission', ...)]\n",
      "/structured_comment=OrderedDict([('Genome-Assembly-Data', OrderedDict([('Assembly Method', 'CLC Genomics Workbench v. SEPT-2010'), ('Assembly Name', 'JFS2015'), ('Genome Representation', 'Full'), ('Expected Final Version', 'Yes'), ('Reference-guided Assembly', 'GCF_000146045.1'), ('Genome Coverage', '297.0x'), ('Sequencing Technology', 'Illumina HiSeq; Illumina GAII')]))])\n",
      "Seq('CACACACACCACACCCACACCACACCACACCACACCCACACCCACACACACCAC...TGT', IUPACAmbiguousDNA())\n"
     ]
    }
   ],
   "source": [
    "print(record)"
   ]
  },
  {
   "cell_type": "markdown",
   "metadata": {},
   "source": [
    "## Как скачать все геномы по запросу \"Ciliophora\"?"
   ]
  },
  {
   "cell_type": "markdown",
   "metadata": {},
   "source": [
    "### Запрос в Esearch: ищем, что имеется"
   ]
  },
  {
   "cell_type": "code",
   "execution_count": 43,
   "metadata": {},
   "outputs": [
    {
     "name": "stdout",
     "output_type": "stream",
     "text": [
      "{'Count': '45', 'RetMax': '45', 'RetStart': '0', 'IdList': ['7361641', '5804211', '5434811', '3578351', '3578341', '3571801', '3514681', '1560251', '1109571', '1066871', '962631', '890631', '890621', '751221', '611311', '602671', '602661', '602651', '602631', '602621', '602611', '585291', '512778', '488331', '475701', '475691', '475671', '475661', '475651', '475381', '421668', '399188', '399178', '396338', '376938', '313948', '313938', '295038', '246048', '208981', '200498', '200021', '200011', '190931', '189081'], 'TranslationSet': [{'From': 'Ciliophora', 'To': '\"Ciliophora\"[Organism]'}], 'TranslationStack': [{'Term': '\"Ciliophora\"[Organism]', 'Field': 'Organism', 'Count': '45', 'Explode': 'Y'}, 'GROUP'], 'QueryTranslation': '\"Ciliophora\"[Organism]'}\n",
      "Найдено 45 айди\n"
     ]
    }
   ],
   "source": [
    "from Bio import Entrez\n",
    "\n",
    "Entrez.email = 'example@mail.com' # обязательно заменить на свой адрес\n",
    "\n",
    "term = 'Ciliophora'\n",
    "\n",
    "handle = Entrez.esearch(db='assembly', term=term, retmax=100500)\n",
    "record = Entrez.read(handle)\n",
    "\n",
    "print(record)\n",
    "id_list = record['IdList']\n",
    "joined = ','.join(id_list)\n",
    "print(f\"Найдено {len(id_list)} айди\")"
   ]
  },
  {
   "cell_type": "markdown",
   "metadata": {},
   "source": [
    "### Запрос в Esummary: получаем саммари"
   ]
  },
  {
   "cell_type": "code",
   "execution_count": 44,
   "metadata": {},
   "outputs": [],
   "source": [
    "handle = Entrez.esummary(db='assembly',id=joined)\n",
    "record = Entrez.read(handle, validate=False) # validate=False ставить нужно не всегда, но на этих данных парсер не совсем корректно работает, поэтому валидацию отключаем"
   ]
  },
  {
   "cell_type": "markdown",
   "metadata": {},
   "source": [
    "**Подробнее про ошибку на 160 стр. документации http://biopython.org/DIST/docs/tutorial/Tutorial.pdf**"
   ]
  },
  {
   "cell_type": "code",
   "execution_count": 45,
   "metadata": {
    "scrolled": true
   },
   "outputs": [
    {
     "name": "stdout",
     "output_type": "stream",
     "text": [
      "{'AnomalousList': [],\n",
      " 'AsmReleaseDate_GenBank': '2020/07/16 00:00',\n",
      " 'AsmReleaseDate_RefSeq': '1/01/01 00:00',\n",
      " 'AsmUpdateDate': '2020/07/16 00:00',\n",
      " 'AssemblyAccession': 'GCA_013420745.1',\n",
      " 'AssemblyClass': 'haploid',\n",
      " 'AssemblyDescription': '',\n",
      " 'AssemblyName': 'ASM1342074v1',\n",
      " 'AssemblyStatus': 'Scaffold',\n",
      " 'AssemblyStatusSort': '5',\n",
      " 'AssemblyType': 'haploid',\n",
      " 'BioSampleAccn': 'SAMN11475838',\n",
      " 'BioSampleId': '11475838',\n",
      " 'Biosource': {'InfraspeciesList': [{'Sub_type': 'strain', 'Sub_value': 'QDPF01'}],\n",
      "               'Isolate': '',\n",
      "               'Sex': ''},\n",
      " 'ChainId': '13420745',\n",
      " 'ContigN50': '1652',\n",
      " 'Coverage': '200',\n",
      " 'EnsemblName': '',\n",
      " 'ExclFromRefSeq': [],\n",
      " 'FromType': '',\n",
      " 'FtpPath_Assembly_rpt': 'ftp://ftp.ncbi.nlm.nih.gov/genomes/all/GCA/013/420/745/GCA_013420745.1_ASM1342074v1/GCA_013420745.1_ASM1342074v1_assembly_report.txt',\n",
      " 'FtpPath_GenBank': 'ftp://ftp.ncbi.nlm.nih.gov/genomes/all/GCA/013/420/745/GCA_013420745.1_ASM1342074v1',\n",
      " 'FtpPath_RefSeq': '',\n",
      " 'FtpPath_Regions_rpt': '',\n",
      " 'FtpPath_Stats_rpt': 'ftp://ftp.ncbi.nlm.nih.gov/genomes/all/GCA/013/420/745/GCA_013420745.1_ASM1342074v1/GCA_013420745.1_ASM1342074v1_assembly_stats.txt',\n",
      " 'GB_BioProjects': [{'BioprojectAccn': 'PRJNA534036', 'BioprojectId': '534036'}],\n",
      " 'GB_Projects': [],\n",
      " 'GbUid': '20378438',\n",
      " 'LastMajorReleaseAccession': 'GCA_013420745.1',\n",
      " 'LastUpdateDate': '2020/07/16 00:00',\n",
      " 'LatestAccession': '',\n",
      " 'Meta': ' <Stats> <Stat category=\"alt_loci_count\" sequence_tag=\"all\">0</Stat> <Stat category=\"chromosome_count\" sequence_tag=\"all\">0</Stat> <Stat category=\"contig_count\" sequence_tag=\"all\">37875</Stat> <Stat category=\"contig_l50\" sequence_tag=\"all\">7377</Stat> <Stat category=\"contig_n50\" sequence_tag=\"all\">1652</Stat> <Stat category=\"non_chromosome_replicon_count\" sequence_tag=\"all\">0</Stat> <Stat category=\"replicon_count\" sequence_tag=\"all\">0</Stat> <Stat category=\"scaffold_count\" sequence_tag=\"all\">37545</Stat> <Stat category=\"scaffold_count\" sequence_tag=\"placed\">0</Stat> <Stat category=\"scaffold_count\" sequence_tag=\"unlocalized\">0</Stat> <Stat category=\"scaffold_count\" sequence_tag=\"unplaced\">0</Stat> <Stat category=\"scaffold_l50\" sequence_tag=\"all\">7185</Stat> <Stat category=\"scaffold_n50\" sequence_tag=\"all\">1666</Stat> <Stat category=\"total_length\" sequence_tag=\"all\">52519477</Stat> <Stat category=\"ungapped_length\" sequence_tag=\"all\">52501735</Stat> </Stats> <FtpSites>   <FtpPath type=\"Assembly_rpt\">ftp://ftp.ncbi.nlm.nih.gov/genomes/all/GCA/013/420/745/GCA_013420745.1_ASM1342074v1/GCA_013420745.1_ASM1342074v1_assembly_report.txt</FtpPath>   <FtpPath type=\"GenBank\">ftp://ftp.ncbi.nlm.nih.gov/genomes/all/GCA/013/420/745/GCA_013420745.1_ASM1342074v1</FtpPath>   <FtpPath type=\"Stats_rpt\">ftp://ftp.ncbi.nlm.nih.gov/genomes/all/GCA/013/420/745/GCA_013420745.1_ASM1342074v1/GCA_013420745.1_ASM1342074v1_assembly_stats.txt</FtpPath> </FtpSites> <assembly-level>8</assembly-level> <assembly-status>Scaffold</assembly-status> <representative-status>representative genome</representative-status> <submitter-organization>Institute of Evolution &amp; Marine Biodiversity, Ocean University of China, Qingdao 266003, China</submitter-organization>    ',\n",
      " 'Organism': 'Pseudokeronopsis flava (ciliates)',\n",
      " 'PartialGenomeRepresentation': 'false',\n",
      " 'Primary': '20378428',\n",
      " 'PropertyList': ['full-genome-representation', 'latest', 'latest_genbank', 'representative', 'wgs'],\n",
      " 'RS_BioProjects': [],\n",
      " 'RS_Projects': [],\n",
      " 'RefSeq_category': 'representative genome',\n",
      " 'ReleaseLevel': 'Major',\n",
      " 'ReleaseType': 'Major',\n",
      " 'RsUid': '',\n",
      " 'ScaffoldN50': '1666',\n",
      " 'SeqReleaseDate': '2020/07/16 00:00',\n",
      " 'SortOrder': '2C5X9999983470134207459800',\n",
      " 'SpeciesName': 'Pseudokeronopsis flava',\n",
      " 'SpeciesTaxid': '311387',\n",
      " 'SubmissionDate': '2020/07/16 00:00',\n",
      " 'SubmitterOrganization': 'Institute of Evolution & Marine Biodiversity, Ocean University of China, Qingdao 266003, China',\n",
      " 'Synonym': {'Genbank': 'GCA_013420745.1', 'RefSeq': '', 'Similarity': ''},\n",
      " 'Taxid': '311387',\n",
      " 'UCSCName': '',\n",
      " 'WGS': 'SWAP01'}\n"
     ]
    }
   ],
   "source": [
    "import pprint\n",
    "\n",
    "for summary in record['DocumentSummarySet']['DocumentSummary']:\n",
    "    # print(len(record['DocumentSummarySet']['DocumentSummary'])) # контроль количества полученных summary\n",
    "    pprint.pprint(summary)\n",
    "    break"
   ]
  },
  {
   "cell_type": "code",
   "execution_count": 46,
   "metadata": {},
   "outputs": [
    {
     "name": "stdout",
     "output_type": "stream",
     "text": [
      "GCA_013420745.1\n",
      "Scaffold\n",
      "Pseudokeronopsis flava\n",
      "311387\n",
      "ftp://ftp.ncbi.nlm.nih.gov/genomes/all/GCA/013/420/745/GCA_013420745.1_ASM1342074v1\n",
      "20378428\n"
     ]
    }
   ],
   "source": [
    "for summary in record['DocumentSummarySet']['DocumentSummary']:\n",
    "    print(summary['AssemblyAccession'])\n",
    "    print(summary['AssemblyStatus'])\n",
    "    print(summary['SpeciesName'])\n",
    "    print(summary['SpeciesTaxid'])\n",
    "    print(summary['FtpPath_GenBank'])\n",
    "    print(summary['Primary'])\n",
    "    break"
   ]
  },
  {
   "cell_type": "markdown",
   "metadata": {},
   "source": [
    "### Запрос в Efetch: получаем данные"
   ]
  },
  {
   "cell_type": "code",
   "execution_count": 47,
   "metadata": {},
   "outputs": [
    {
     "name": "stdout",
     "output_type": "stream",
     "text": [
      "ID: AG102891.1\n",
      "Name: AG102891\n",
      "Description: Pan troglodytes DNA, clone: PTB-106F10.F, genomic survey sequence\n",
      "Number of features: 1\n",
      "/molecule_type=DNA\n",
      "/topology=linear\n",
      "/data_file_division=GSS\n",
      "/date=03-NOV-2001\n",
      "/accessions=['AG102891']\n",
      "/sequence_version=1\n",
      "/keywords=['GSS']\n",
      "/source=Pan troglodytes (chimpanzee)\n",
      "/organism=Pan troglodytes\n",
      "/taxonomy=['Eukaryota', 'Metazoa', 'Chordata', 'Craniata', 'Vertebrata', 'Euteleostomi', 'Mammalia', 'Eutheria', 'Euarchontoglires', 'Primates', 'Haplorrhini', 'Catarrhini', 'Hominidae', 'Pan']\n",
      "/references=[Reference(title='BAC end sequences of Library PTB', ...), Reference(title='Direct Submission', ...)]\n",
      "/comment=Clones are derived from the chimpanzee BAC library PTB This BAC end\n",
      "was generated during the R&D process and may have higher chance of\n",
      "clone tracking errors.\n",
      " PRIMERS\n",
      "     Sequencing: -21M13\n",
      " LIBRARY\n",
      "     Vector    : pKS145\n",
      "     R.Site 1  : SacI\n",
      "     R.Site 2  : SacI.\n",
      "Seq('AAACAGCGTTCCGGATCCCGTGATCGCCGCTACGCGTTCGAAAGCTTCGCGACG...CAG', IUPACAmbiguousDNA())\n"
     ]
    }
   ],
   "source": [
    "handle = Entrez.efetch(db='nucleotide', id='16723408', rettype='gb', retmode='text')\n",
    "record = SeqIO.read(handle, 'gb')\n",
    "print(record)"
   ]
  },
  {
   "cell_type": "markdown",
   "metadata": {},
   "source": [
    "### Скачать можно и с помощью стандартных библиотек"
   ]
  },
  {
   "cell_type": "code",
   "execution_count": 48,
   "metadata": {},
   "outputs": [
    {
     "data": {
      "text/plain": [
       "('GCA_010577775.1_ASM1057777v1', <email.message.Message at 0x17964ffe2c8>)"
      ]
     },
     "execution_count": 48,
     "metadata": {},
     "output_type": "execute_result"
    }
   ],
   "source": [
    "import urllib.request\n",
    "\n",
    "prefix = 'ftp://ftp.ncbi.nlm.nih.gov/genomes/all/GCA/010/577/775/GCA_010577775.1_ASM1057777v1'\n",
    "urllib.request.urlretrieve(prefix, 'GCA_010577775.1_ASM1057777v1')"
   ]
  },
  {
   "cell_type": "code",
   "execution_count": 49,
   "metadata": {},
   "outputs": [
    {
     "data": {
      "text/plain": [
       "('GCA_010577775.1_ASM1057777v1.fna.gz',\n",
       " <email.message.Message at 0x17964fe01c8>)"
      ]
     },
     "execution_count": 49,
     "metadata": {},
     "output_type": "execute_result"
    }
   ],
   "source": [
    "link = prefix + '/GCA_010577775.1_ASM1057777v1_genomic.fna.gz'\n",
    "urllib.request.urlretrieve(link, 'GCA_010577775.1_ASM1057777v1.fna.gz')"
   ]
  },
  {
   "cell_type": "markdown",
   "metadata": {},
   "source": [
    "## Спасибо за внимание!"
   ]
  }
 ],
 "metadata": {
  "kernelspec": {
   "display_name": "Python 3",
   "language": "python",
   "name": "python3"
  },
  "language_info": {
   "codemirror_mode": {
    "name": "ipython",
    "version": 3
   },
   "file_extension": ".py",
   "mimetype": "text/x-python",
   "name": "python",
   "nbconvert_exporter": "python",
   "pygments_lexer": "ipython3",
   "version": "3.7.6"
  }
 },
 "nbformat": 4,
 "nbformat_minor": 4
}
