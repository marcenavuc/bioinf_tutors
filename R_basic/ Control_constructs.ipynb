{
 "cells": [
  {
   "cell_type": "markdown",
   "metadata": {},
   "source": [
    "# Управляющие конструкции: условные операторы\n",
    "\n",
    "## *if* и *else*\n",
    "\n",
    "Условный оператор ***if*** ничем не отличается от подобных ему в других языках программирования:\n",
    "\n",
    "    if (\"условие\") {\"действие\"} else {\"другое действие\"}"
   ]
  },
  {
   "cell_type": "code",
   "execution_count": 1,
   "metadata": {},
   "outputs": [
    {
     "name": "stdout",
     "output_type": "stream",
     "text": [
      "[1] \"greater\"\n"
     ]
    }
   ],
   "source": [
    "if (2^10 > 10^3) {\n",
    "    print(\"greater\")\n",
    "} else {\n",
    "    print(\"less\")\n",
    "}\n",
    "# В R команды считываются построчно, поэтому переносить else на новую строку нельзя"
   ]
  },
  {
   "cell_type": "markdown",
   "metadata": {},
   "source": [
    "## *ifelse*\n",
    "\n",
    "Иногда нам захочется поставить в скобки условия вектор неединичной длины, например:"
   ]
  },
  {
   "cell_type": "code",
   "execution_count": 4,
   "metadata": {},
   "outputs": [
    {
     "name": "stderr",
     "output_type": "stream",
     "text": [
      "Warning message in if (c(TRUE, FALSE)) {:\n",
      "\"длина условия > 1, будет использован только первый элемент\""
     ]
    },
    {
     "name": "stdout",
     "output_type": "stream",
     "text": [
      "[1] \"hello\"\n"
     ]
    }
   ],
   "source": [
    "if (c(TRUE, FALSE)) {\n",
    "    print(\"hello\")\n",
    "}\n",
    "# При использовании в таком случае оператора if, решение будет принято только на основании первого элемента вектора"
   ]
  },
  {
   "cell_type": "markdown",
   "metadata": {},
   "source": [
    "Для проверки некоторого условия на целом векторе логических значений можно использовать ***ifelse***:"
   ]
  },
  {
   "cell_type": "code",
   "execution_count": 11,
   "metadata": {},
   "outputs": [
    {
     "data": {
      "text/html": [
       "<ol class=list-inline>\n",
       "\t<li>'Решка'</li>\n",
       "\t<li>'Решка'</li>\n",
       "\t<li>'Орёл'</li>\n",
       "\t<li>'Орёл'</li>\n",
       "\t<li>'Решка'</li>\n",
       "\t<li>'Орёл'</li>\n",
       "\t<li>'Орёл'</li>\n",
       "\t<li>'Орёл'</li>\n",
       "</ol>\n"
      ],
      "text/latex": [
       "\\begin{enumerate*}\n",
       "\\item 'Решка'\n",
       "\\item 'Решка'\n",
       "\\item 'Орёл'\n",
       "\\item 'Орёл'\n",
       "\\item 'Решка'\n",
       "\\item 'Орёл'\n",
       "\\item 'Орёл'\n",
       "\\item 'Орёл'\n",
       "\\end{enumerate*}\n"
      ],
      "text/markdown": [
       "1. 'Решка'\n",
       "2. 'Решка'\n",
       "3. 'Орёл'\n",
       "4. 'Орёл'\n",
       "5. 'Решка'\n",
       "6. 'Орёл'\n",
       "7. 'Орёл'\n",
       "8. 'Орёл'\n",
       "\n",
       "\n"
      ],
      "text/plain": [
       "[1] \"Решка\" \"Решка\" \"Орёл\"  \"Орёл\"  \"Решка\" \"Орёл\"  \"Орёл\"  \"Орёл\" "
      ]
     },
     "metadata": {},
     "output_type": "display_data"
    }
   ],
   "source": [
    "ifelse (runif(8) > 0.5, \"Орёл\", \"Решка\")\n",
    "# Здесь функция runif вернёт вектор случайных значений из диапазона [0;1], состоящий из 8-ми элементов\n",
    "# При проверке каждого значения, если условие истинно, то выведется первая строка - \"Орёл\", иначе - вторая строка - \"Решка\""
   ]
  },
  {
   "cell_type": "markdown",
   "metadata": {},
   "source": [
    "Оператор ***ifelse*** может быть вложенным:"
   ]
  },
  {
   "cell_type": "code",
   "execution_count": 14,
   "metadata": {},
   "outputs": [
    {
     "data": {
      "text/html": [
       "<ol class=list-inline>\n",
       "\t<li>'Камень'</li>\n",
       "\t<li>'Ножницы'</li>\n",
       "\t<li>'Камень'</li>\n",
       "\t<li>'Бумага'</li>\n",
       "\t<li>'Бумага'</li>\n",
       "\t<li>'Камень'</li>\n",
       "\t<li>'Камень'</li>\n",
       "\t<li>'Ножницы'</li>\n",
       "</ol>\n"
      ],
      "text/latex": [
       "\\begin{enumerate*}\n",
       "\\item 'Камень'\n",
       "\\item 'Ножницы'\n",
       "\\item 'Камень'\n",
       "\\item 'Бумага'\n",
       "\\item 'Бумага'\n",
       "\\item 'Камень'\n",
       "\\item 'Камень'\n",
       "\\item 'Ножницы'\n",
       "\\end{enumerate*}\n"
      ],
      "text/markdown": [
       "1. 'Камень'\n",
       "2. 'Ножницы'\n",
       "3. 'Камень'\n",
       "4. 'Бумага'\n",
       "5. 'Бумага'\n",
       "6. 'Камень'\n",
       "7. 'Камень'\n",
       "8. 'Ножницы'\n",
       "\n",
       "\n"
      ],
      "text/plain": [
       "[1] \"Камень\"  \"Ножницы\" \"Камень\"  \"Бумага\"  \"Бумага\"  \"Камень\"  \"Камень\" \n",
       "[8] \"Ножницы\""
      ]
     },
     "metadata": {},
     "output_type": "display_data"
    }
   ],
   "source": [
    "x <- runif(8)\n",
    "ifelse (x > 2/3, \"Камень\",\n",
    "        ifelse (x > 1/3, \"Ножницы\", \"Бумага\"))\n",
    "# Здесь при истинности условия выведется \"Камень\", а при ложности будет проверено еще одно условие"
   ]
  },
  {
   "cell_type": "markdown",
   "metadata": {},
   "source": [
    "## Множественный выбор: *switch*\n",
    "\n",
    "Оператор ***switch*** позволяет заменить несколько операторов ***if***, проверяя несколько условий сразу:"
   ]
  },
  {
   "cell_type": "code",
   "execution_count": 15,
   "metadata": {},
   "outputs": [
    {
     "data": {
      "text/html": [
       "2"
      ],
      "text/latex": [
       "2"
      ],
      "text/markdown": [
       "2"
      ],
      "text/plain": [
       "[1] 2"
      ]
     },
     "metadata": {},
     "output_type": "display_data"
    },
    {
     "data": {
      "text/html": [
       "'hi'"
      ],
      "text/latex": [
       "'hi'"
      ],
      "text/markdown": [
       "'hi'"
      ],
      "text/plain": [
       "[1] \"hi\""
      ]
     },
     "metadata": {},
     "output_type": "display_data"
    },
    {
     "data": {
      "text/html": [
       "0"
      ],
      "text/latex": [
       "0"
      ],
      "text/markdown": [
       "0"
      ],
      "text/plain": [
       "[1] 0"
      ]
     },
     "metadata": {},
     "output_type": "display_data"
    }
   ],
   "source": [
    "a <- \"qwerty\"\n",
    "switch (a, qwerty = 2, abacaba = \"hi\", 0)\n",
    "b <- \"abacaba\"\n",
    "switch (b, qwerty = 2, abacaba = \"hi\", 0)\n",
    "c <- \"wut\"\n",
    "switch (c, qwerty = 2, abacaba = \"hi\", 0)\n",
    "# Первым аргументом switch принимает то, что нужно сравнивать, аргументы далее - то, с чем нужно сравнивать\n",
    "# Последний аргумент - возвращаемое значение, если ни одно из значений нам не подошло"
   ]
  },
  {
   "cell_type": "markdown",
   "metadata": {},
   "source": [
    "**!!!** Данный пример - лишь одно из многих возможных применений ***switch***, хотя используется он, тем не менее, редко"
   ]
  },
  {
   "cell_type": "markdown",
   "metadata": {},
   "source": [
    "# Управляющие конструкции: циклы\n",
    "\n",
    "Работа циклов в R не отличается от других языков программирования, ограничимся примерами:\n",
    "\n",
    "## *repeat*"
   ]
  },
  {
   "cell_type": "code",
   "execution_count": 20,
   "metadata": {},
   "outputs": [
    {
     "name": "stdout",
     "output_type": "stream",
     "text": [
      "[1] 0.6469905\n",
      "[1] 0.7536099\n",
      "[1] 0.09818787\n",
      "[1] 0.9389185\n"
     ]
    }
   ],
   "source": [
    "i <- 0\n",
    "repeat {\n",
    "    i <- runif(1)\n",
    "    print(i)\n",
    "    if (i > 0.8)\n",
    "        break\n",
    "}\n",
    "# Здесь на каждой итерации цикла отрабатывает уже знакомая нам функция runif. Цикл прервётся (за счет break),\n",
    "# если значение i станет больше 0.8"
   ]
  },
  {
   "cell_type": "markdown",
   "metadata": {},
   "source": [
    "## *while*"
   ]
  },
  {
   "cell_type": "code",
   "execution_count": 22,
   "metadata": {},
   "outputs": [
    {
     "name": "stdout",
     "output_type": "stream",
     "text": [
      "[1] 110\n",
      "[1] 220\n",
      "[1] 330\n",
      "[1] 440\n",
      "[1] 550\n",
      "[1] 660\n",
      "[1] 770\n",
      "[1] 880\n",
      "[1] 990\n",
      "[1] 1100\n",
      "[1] 1210\n",
      "[1] 1320\n",
      "[1] 1430\n",
      "[1] 1540\n",
      "[1] 1650\n",
      "[1] 1760\n",
      "[1] 1870\n",
      "[1] 1980\n",
      "[1] 2090\n"
     ]
    }
   ],
   "source": [
    "i <- 0\n",
    "while (i <= 2020) {\n",
    "    i <- i + 110\n",
    "    print(i)\n",
    "}\n",
    "# Цикл выполняется, пока истинно условие в скобках"
   ]
  },
  {
   "cell_type": "markdown",
   "metadata": {},
   "source": [
    "## *for*"
   ]
  },
  {
   "cell_type": "code",
   "execution_count": 23,
   "metadata": {},
   "outputs": [
    {
     "name": "stdout",
     "output_type": "stream",
     "text": [
      "[1] 1\n",
      "[1] 3\n",
      "[1] 5\n",
      "[1] 7\n",
      "[1] 9\n",
      "[1] 11\n"
     ]
    }
   ],
   "source": [
    "for (i in 1:11) {\n",
    "    if (i %% 2 != 0)\n",
    "        print(i)\n",
    "}\n",
    "# Переменная i в цикле создалась автоматически и прошла с шагом 1 от 1 до 11"
   ]
  },
  {
   "cell_type": "markdown",
   "metadata": {},
   "source": [
    "Цикл ***for*** также поддерживает итерацию по разным структурам данных, итерацию с разным шагом и т.д.  \n",
    "Для более полной информации можно воспользоваться встроенной справкой языка"
   ]
  },
  {
   "cell_type": "markdown",
   "metadata": {},
   "source": [
    "## Когда for - плохо\n",
    "\n",
    "Рассмотрим два примера, в каждом из которых попытаемся посчитать значения корней из всех чисел от 1 до 10^7, и в каждом из них выведем время работы алгоритма:"
   ]
  },
  {
   "cell_type": "code",
   "execution_count": 35,
   "metadata": {},
   "outputs": [
    {
     "data": {
      "text/plain": [
       "   user  system elapsed \n",
       "  23.40    3.19   26.61 "
      ]
     },
     "metadata": {},
     "output_type": "display_data"
    }
   ],
   "source": [
    "arr <- 1:10^8\n",
    "system.time({\n",
    "    x <- 0\n",
    "    for (i in arr)\n",
    "        x[i] <- sqrt(arr[i])\n",
    "})"
   ]
  },
  {
   "cell_type": "markdown",
   "metadata": {},
   "source": [
    "У данного кода два слабых места:\n",
    "1. Цикл ***for*** работает хуже, чем векторизированные методы\n",
    "2. Изначально вектору *x* было присвоено значение 0, значит длина вектора была равна 1. В ходе работы цикла приходилось все время увеличивать размер вектора, перезаписывая его в памяти, что занимает много времени"
   ]
  },
  {
   "cell_type": "markdown",
   "metadata": {},
   "source": [
    "Приведем пример векторизованного способа решения той же задачи:"
   ]
  },
  {
   "cell_type": "code",
   "execution_count": 36,
   "metadata": {},
   "outputs": [
    {
     "data": {
      "text/plain": [
       "   user  system elapsed \n",
       "   0.84    0.26    1.11 "
      ]
     },
     "metadata": {},
     "output_type": "display_data"
    }
   ],
   "source": [
    "system.time({\n",
    "    y <- sqrt(arr)\n",
    "})"
   ]
  },
  {
   "cell_type": "markdown",
   "metadata": {},
   "source": [
    "Отлично видна разница (несколько порядков!) во времени работы этих алгоритмов, хотя результаты их идентичны:"
   ]
  },
  {
   "cell_type": "code",
   "execution_count": 37,
   "metadata": {},
   "outputs": [
    {
     "data": {
      "text/html": [
       "TRUE"
      ],
      "text/latex": [
       "TRUE"
      ],
      "text/markdown": [
       "TRUE"
      ],
      "text/plain": [
       "[1] TRUE"
      ]
     },
     "metadata": {},
     "output_type": "display_data"
    }
   ],
   "source": [
    "identical(x, y)"
   ]
  },
  {
   "cell_type": "markdown",
   "metadata": {},
   "source": [
    "**Векторизация** - одна из основ языка R. Важно использовать данное преимущество и писать эффективный и короткий код"
   ]
  }
 ],
 "metadata": {
  "kernelspec": {
   "display_name": "R",
   "language": "R",
   "name": "ir"
  },
  "language_info": {
   "codemirror_mode": "r",
   "file_extension": ".r",
   "mimetype": "text/x-r-source",
   "name": "R",
   "pygments_lexer": "r",
   "version": "3.6.1"
  }
 },
 "nbformat": 4,
 "nbformat_minor": 4
}
