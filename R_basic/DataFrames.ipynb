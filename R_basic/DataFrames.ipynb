{
 "cells": [
  {
   "cell_type": "markdown",
   "metadata": {},
   "source": [
    "# Дата фреймы\n",
    "\n",
    "- **Дата фрейм** (data frame) - двумерная таблица с данными (Excel spreadsheet, SQL-таблица)\n",
    "- Фактически стандартный способ хранения данных в формате \"наблюдения-переменные\"\n",
    "- Дата фрейм наследует свойства матрицы (прямоугольная форма) и списка (переменные могут быть разных типов)"
   ]
  },
  {
   "cell_type": "markdown",
   "metadata": {},
   "source": [
    "## Создание data frame\n",
    "\n",
    "Осуществляется одноимённой функцией **`data.frame`**, синтаксис схож с созданием именованных списков и именованных векторов:"
   ]
  },
  {
   "cell_type": "code",
   "execution_count": 1,
   "metadata": {},
   "outputs": [
    {
     "data": {
      "text/html": [
       "<table>\n",
       "<thead><tr><th scope=col>x</th><th scope=col>y</th><th scope=col>z</th></tr></thead>\n",
       "<tbody>\n",
       "\t<tr><td>1    </td><td>A    </td><td> TRUE</td></tr>\n",
       "\t<tr><td>2    </td><td>B    </td><td>FALSE</td></tr>\n",
       "\t<tr><td>3    </td><td>C    </td><td> TRUE</td></tr>\n",
       "\t<tr><td>4    </td><td>D    </td><td>FALSE</td></tr>\n",
       "</tbody>\n",
       "</table>\n"
      ],
      "text/latex": [
       "\\begin{tabular}{r|lll}\n",
       " x & y & z\\\\\n",
       "\\hline\n",
       "\t 1     & A     &  TRUE\\\\\n",
       "\t 2     & B     & FALSE\\\\\n",
       "\t 3     & C     &  TRUE\\\\\n",
       "\t 4     & D     & FALSE\\\\\n",
       "\\end{tabular}\n"
      ],
      "text/markdown": [
       "\n",
       "| x | y | z |\n",
       "|---|---|---|\n",
       "| 1     | A     |  TRUE |\n",
       "| 2     | B     | FALSE |\n",
       "| 3     | C     |  TRUE |\n",
       "| 4     | D     | FALSE |\n",
       "\n"
      ],
      "text/plain": [
       "  x y z    \n",
       "1 1 A  TRUE\n",
       "2 2 B FALSE\n",
       "3 3 C  TRUE\n",
       "4 4 D FALSE"
      ]
     },
     "metadata": {},
     "output_type": "display_data"
    }
   ],
   "source": [
    "df <- data.frame(x = 1:4, y = LETTERS[1:4], z = c(TRUE, FALSE))\n",
    "df"
   ]
  },
  {
   "cell_type": "markdown",
   "metadata": {},
   "source": [
    "Для получения свойств о любом объекте в R существует функция **`str`**:"
   ]
  },
  {
   "cell_type": "code",
   "execution_count": 2,
   "metadata": {},
   "outputs": [
    {
     "name": "stdout",
     "output_type": "stream",
     "text": [
      "'data.frame':\t4 obs. of  3 variables:\n",
      " $ x: int  1 2 3 4\n",
      " $ y: Factor w/ 4 levels \"A\",\"B\",\"C\",\"D\": 1 2 3 4\n",
      " $ z: logi  TRUE FALSE TRUE FALSE\n"
     ]
    }
   ],
   "source": [
    "str(df)\n",
    "\n",
    "# Здесь переменная y имеет тип Фактор. Подробно о них будет рассказано чуть позже"
   ]
  },
  {
   "cell_type": "markdown",
   "metadata": {},
   "source": [
    "Чтобы задать имена строчкам дата фрейма, можно воспользоваться аргументом `row.names` функции **`data.frame`**:"
   ]
  },
  {
   "cell_type": "code",
   "execution_count": 2,
   "metadata": {},
   "outputs": [
    {
     "data": {
      "text/html": [
       "<table>\n",
       "<thead><tr><th></th><th scope=col>x</th><th scope=col>y</th><th scope=col>z</th></tr></thead>\n",
       "<tbody>\n",
       "\t<tr><th scope=row>Analysis</th><td>1   </td><td>A   </td><td>TRUE</td></tr>\n",
       "\t<tr><th scope=row>Bioinformatics</th><td>2   </td><td>B   </td><td>TRUE</td></tr>\n",
       "\t<tr><th scope=row>Calculating</th><td>3   </td><td>C   </td><td>TRUE</td></tr>\n",
       "\t<tr><th scope=row>Development</th><td>4   </td><td>D   </td><td>TRUE</td></tr>\n",
       "</tbody>\n",
       "</table>\n"
      ],
      "text/latex": [
       "\\begin{tabular}{r|lll}\n",
       "  & x & y & z\\\\\n",
       "\\hline\n",
       "\tAnalysis & 1    & A    & TRUE\\\\\n",
       "\tBioinformatics & 2    & B    & TRUE\\\\\n",
       "\tCalculating & 3    & C    & TRUE\\\\\n",
       "\tDevelopment & 4    & D    & TRUE\\\\\n",
       "\\end{tabular}\n"
      ],
      "text/markdown": [
       "\n",
       "| <!--/--> | x | y | z |\n",
       "|---|---|---|---|\n",
       "| Analysis | 1    | A    | TRUE |\n",
       "| Bioinformatics | 2    | B    | TRUE |\n",
       "| Calculating | 3    | C    | TRUE |\n",
       "| Development | 4    | D    | TRUE |\n",
       "\n"
      ],
      "text/plain": [
       "               x y z   \n",
       "Analysis       1 A TRUE\n",
       "Bioinformatics 2 B TRUE\n",
       "Calculating    3 C TRUE\n",
       "Development    4 D TRUE"
      ]
     },
     "metadata": {},
     "output_type": "display_data"
    }
   ],
   "source": [
    "df <- data.frame(x = 1:4, y = LETTERS[1:4], z = c(TRUE), row.names = c(\"Analysis\", \"Bioinformatics\",\n",
    "                                                                             \"Calculating\", \"Development\"))\n",
    "df"
   ]
  },
  {
   "cell_type": "markdown",
   "metadata": {},
   "source": [
    "Векторы имён столбцов и строк можно получить с помощью функций **`colnames`** и **`rownames`** (**`dimnames`** - лист всех имён):"
   ]
  },
  {
   "cell_type": "code",
   "execution_count": 10,
   "metadata": {},
   "outputs": [
    {
     "data": {
      "text/html": [
       "<ol class=list-inline>\n",
       "\t<li>'x'</li>\n",
       "\t<li>'y'</li>\n",
       "\t<li>'z'</li>\n",
       "</ol>\n"
      ],
      "text/latex": [
       "\\begin{enumerate*}\n",
       "\\item 'x'\n",
       "\\item 'y'\n",
       "\\item 'z'\n",
       "\\end{enumerate*}\n"
      ],
      "text/markdown": [
       "1. 'x'\n",
       "2. 'y'\n",
       "3. 'z'\n",
       "\n",
       "\n"
      ],
      "text/plain": [
       "[1] \"x\" \"y\" \"z\""
      ]
     },
     "metadata": {},
     "output_type": "display_data"
    },
    {
     "data": {
      "text/html": [
       "<ol class=list-inline>\n",
       "\t<li>'Analysis'</li>\n",
       "\t<li>'Bioinformatics'</li>\n",
       "\t<li>'Calculating'</li>\n",
       "\t<li>'Development'</li>\n",
       "</ol>\n"
      ],
      "text/latex": [
       "\\begin{enumerate*}\n",
       "\\item 'Analysis'\n",
       "\\item 'Bioinformatics'\n",
       "\\item 'Calculating'\n",
       "\\item 'Development'\n",
       "\\end{enumerate*}\n"
      ],
      "text/markdown": [
       "1. 'Analysis'\n",
       "2. 'Bioinformatics'\n",
       "3. 'Calculating'\n",
       "4. 'Development'\n",
       "\n",
       "\n"
      ],
      "text/plain": [
       "[1] \"Analysis\"       \"Bioinformatics\" \"Calculating\"    \"Development\"   "
      ]
     },
     "metadata": {},
     "output_type": "display_data"
    },
    {
     "data": {
      "text/html": [
       "<ol>\n",
       "\t<li><ol class=list-inline>\n",
       "\t<li>'Analysis'</li>\n",
       "\t<li>'Bioinformatics'</li>\n",
       "\t<li>'Calculating'</li>\n",
       "\t<li>'Development'</li>\n",
       "</ol>\n",
       "</li>\n",
       "\t<li><ol class=list-inline>\n",
       "\t<li>'x'</li>\n",
       "\t<li>'y'</li>\n",
       "\t<li>'z'</li>\n",
       "</ol>\n",
       "</li>\n",
       "</ol>\n"
      ],
      "text/latex": [
       "\\begin{enumerate}\n",
       "\\item \\begin{enumerate*}\n",
       "\\item 'Analysis'\n",
       "\\item 'Bioinformatics'\n",
       "\\item 'Calculating'\n",
       "\\item 'Development'\n",
       "\\end{enumerate*}\n",
       "\n",
       "\\item \\begin{enumerate*}\n",
       "\\item 'x'\n",
       "\\item 'y'\n",
       "\\item 'z'\n",
       "\\end{enumerate*}\n",
       "\n",
       "\\end{enumerate}\n"
      ],
      "text/markdown": [
       "1. 1. 'Analysis'\n",
       "2. 'Bioinformatics'\n",
       "3. 'Calculating'\n",
       "4. 'Development'\n",
       "\n",
       "\n",
       "\n",
       "2. 1. 'x'\n",
       "2. 'y'\n",
       "3. 'z'\n",
       "\n",
       "\n",
       "\n",
       "\n",
       "\n"
      ],
      "text/plain": [
       "[[1]]\n",
       "[1] \"Analysis\"       \"Bioinformatics\" \"Calculating\"    \"Development\"   \n",
       "\n",
       "[[2]]\n",
       "[1] \"x\" \"y\" \"z\"\n"
      ]
     },
     "metadata": {},
     "output_type": "display_data"
    }
   ],
   "source": [
    "colnames(df)\n",
    "rownames(df)\n",
    "dimnames(df) # Возвращает list!"
   ]
  },
  {
   "cell_type": "markdown",
   "metadata": {},
   "source": [
    "## Размерности\n",
    "\n",
    "Количество столбцов, строк можно узнать с помощью функций **`ncol`** и **`nrow`** соответственно (**`dim`** - все размерности):"
   ]
  },
  {
   "cell_type": "code",
   "execution_count": 11,
   "metadata": {},
   "outputs": [
    {
     "data": {
      "text/html": [
       "3"
      ],
      "text/latex": [
       "3"
      ],
      "text/markdown": [
       "3"
      ],
      "text/plain": [
       "[1] 3"
      ]
     },
     "metadata": {},
     "output_type": "display_data"
    },
    {
     "data": {
      "text/html": [
       "4"
      ],
      "text/latex": [
       "4"
      ],
      "text/markdown": [
       "4"
      ],
      "text/plain": [
       "[1] 4"
      ]
     },
     "metadata": {},
     "output_type": "display_data"
    },
    {
     "data": {
      "text/html": [
       "<ol class=list-inline>\n",
       "\t<li>4</li>\n",
       "\t<li>3</li>\n",
       "</ol>\n"
      ],
      "text/latex": [
       "\\begin{enumerate*}\n",
       "\\item 4\n",
       "\\item 3\n",
       "\\end{enumerate*}\n"
      ],
      "text/markdown": [
       "1. 4\n",
       "2. 3\n",
       "\n",
       "\n"
      ],
      "text/plain": [
       "[1] 4 3"
      ]
     },
     "metadata": {},
     "output_type": "display_data"
    }
   ],
   "source": [
    "ncol(df)\n",
    "nrow(df)\n",
    "dim(df)"
   ]
  },
  {
   "cell_type": "markdown",
   "metadata": {},
   "source": [
    "**!** Два важных момента:\n",
    "- Функция **`length`** в случае с **data frame** возвращает количество столбцов (переменных), а не общее количество элементов\n",
    "- Функция **`names`** также возвращает имена столбцов"
   ]
  },
  {
   "cell_type": "code",
   "execution_count": 13,
   "metadata": {},
   "outputs": [
    {
     "data": {
      "text/html": [
       "3"
      ],
      "text/latex": [
       "3"
      ],
      "text/markdown": [
       "3"
      ],
      "text/plain": [
       "[1] 3"
      ]
     },
     "metadata": {},
     "output_type": "display_data"
    },
    {
     "data": {
      "text/html": [
       "<ol class=list-inline>\n",
       "\t<li>'x'</li>\n",
       "\t<li>'y'</li>\n",
       "\t<li>'z'</li>\n",
       "</ol>\n"
      ],
      "text/latex": [
       "\\begin{enumerate*}\n",
       "\\item 'x'\n",
       "\\item 'y'\n",
       "\\item 'z'\n",
       "\\end{enumerate*}\n"
      ],
      "text/markdown": [
       "1. 'x'\n",
       "2. 'y'\n",
       "3. 'z'\n",
       "\n",
       "\n"
      ],
      "text/plain": [
       "[1] \"x\" \"y\" \"z\""
      ]
     },
     "metadata": {},
     "output_type": "display_data"
    }
   ],
   "source": [
    "length(df)\n",
    "names(df)"
   ]
  },
  {
   "cell_type": "markdown",
   "metadata": {},
   "source": [
    "## Индексация\n",
    "\n",
    "Работают все виды индексаций, как для матрицы (положительная, отрицательная, именная, логическая):"
   ]
  },
  {
   "cell_type": "code",
   "execution_count": 24,
   "metadata": {},
   "outputs": [
    {
     "data": {
      "text/html": [
       "<table>\n",
       "<thead><tr><th></th><th scope=col>y</th><th scope=col>z</th></tr></thead>\n",
       "<tbody>\n",
       "\t<tr><th scope=row>Calculating</th><td>C   </td><td>TRUE</td></tr>\n",
       "\t<tr><th scope=row>Development</th><td>D   </td><td>TRUE</td></tr>\n",
       "</tbody>\n",
       "</table>\n"
      ],
      "text/latex": [
       "\\begin{tabular}{r|ll}\n",
       "  & y & z\\\\\n",
       "\\hline\n",
       "\tCalculating & C    & TRUE\\\\\n",
       "\tDevelopment & D    & TRUE\\\\\n",
       "\\end{tabular}\n"
      ],
      "text/markdown": [
       "\n",
       "| <!--/--> | y | z |\n",
       "|---|---|---|\n",
       "| Calculating | C    | TRUE |\n",
       "| Development | D    | TRUE |\n",
       "\n"
      ],
      "text/plain": [
       "            y z   \n",
       "Calculating C TRUE\n",
       "Development D TRUE"
      ]
     },
     "metadata": {},
     "output_type": "display_data"
    }
   ],
   "source": [
    "df[3:4, -1] # 3-я и 4-я строки по всем стобцам кроме 1-го"
   ]
  },
  {
   "cell_type": "code",
   "execution_count": 32,
   "metadata": {},
   "outputs": [
    {
     "data": {
      "text/html": [
       "<table>\n",
       "<thead><tr><th></th><th scope=col>x</th><th scope=col>z</th></tr></thead>\n",
       "<tbody>\n",
       "\t<tr><th scope=row>Analysis</th><td>1   </td><td>TRUE</td></tr>\n",
       "\t<tr><th scope=row>Calculating</th><td>3   </td><td>TRUE</td></tr>\n",
       "</tbody>\n",
       "</table>\n"
      ],
      "text/latex": [
       "\\begin{tabular}{r|ll}\n",
       "  & x & z\\\\\n",
       "\\hline\n",
       "\tAnalysis & 1    & TRUE\\\\\n",
       "\tCalculating & 3    & TRUE\\\\\n",
       "\\end{tabular}\n"
      ],
      "text/markdown": [
       "\n",
       "| <!--/--> | x | z |\n",
       "|---|---|---|\n",
       "| Analysis | 1    | TRUE |\n",
       "| Calculating | 3    | TRUE |\n",
       "\n"
      ],
      "text/plain": [
       "            x z   \n",
       "Analysis    1 TRUE\n",
       "Calculating 3 TRUE"
      ]
     },
     "metadata": {},
     "output_type": "display_data"
    }
   ],
   "source": [
    "df[c(TRUE, FALSE), c(\"x\", \"z\")]"
   ]
  },
  {
   "cell_type": "markdown",
   "metadata": {},
   "source": [
    "Один индекс можно пропустить, чтобы обратиться к столбцу или строке целиком (**!не забывайте про схлопывание размерности**):"
   ]
  },
  {
   "cell_type": "code",
   "execution_count": 34,
   "metadata": {
    "scrolled": true
   },
   "outputs": [
    {
     "data": {
      "text/html": [
       "<ol class=list-inline>\n",
       "\t<li>1</li>\n",
       "\t<li>2</li>\n",
       "\t<li>3</li>\n",
       "\t<li>4</li>\n",
       "</ol>\n"
      ],
      "text/latex": [
       "\\begin{enumerate*}\n",
       "\\item 1\n",
       "\\item 2\n",
       "\\item 3\n",
       "\\item 4\n",
       "\\end{enumerate*}\n"
      ],
      "text/markdown": [
       "1. 1\n",
       "2. 2\n",
       "3. 3\n",
       "4. 4\n",
       "\n",
       "\n"
      ],
      "text/plain": [
       "[1] 1 2 3 4"
      ]
     },
     "metadata": {},
     "output_type": "display_data"
    },
    {
     "data": {
      "text/html": [
       "<table>\n",
       "<thead><tr><th></th><th scope=col>x</th></tr></thead>\n",
       "<tbody>\n",
       "\t<tr><th scope=row>Analysis</th><td>1</td></tr>\n",
       "\t<tr><th scope=row>Bioinformatics</th><td>2</td></tr>\n",
       "\t<tr><th scope=row>Calculating</th><td>3</td></tr>\n",
       "\t<tr><th scope=row>Development</th><td>4</td></tr>\n",
       "</tbody>\n",
       "</table>\n"
      ],
      "text/latex": [
       "\\begin{tabular}{r|l}\n",
       "  & x\\\\\n",
       "\\hline\n",
       "\tAnalysis & 1\\\\\n",
       "\tBioinformatics & 2\\\\\n",
       "\tCalculating & 3\\\\\n",
       "\tDevelopment & 4\\\\\n",
       "\\end{tabular}\n"
      ],
      "text/markdown": [
       "\n",
       "| <!--/--> | x |\n",
       "|---|---|\n",
       "| Analysis | 1 |\n",
       "| Bioinformatics | 2 |\n",
       "| Calculating | 3 |\n",
       "| Development | 4 |\n",
       "\n"
      ],
      "text/plain": [
       "               x\n",
       "Analysis       1\n",
       "Bioinformatics 2\n",
       "Calculating    3\n",
       "Development    4"
      ]
     },
     "metadata": {},
     "output_type": "display_data"
    }
   ],
   "source": [
    "df[, 1]\n",
    "df[, 1, drop = FALSE]"
   ]
  },
  {
   "cell_type": "markdown",
   "metadata": {},
   "source": [
    "Но для обращения к единичному столбцу (переменной) удобно использовать индексацию, как у списка:"
   ]
  },
  {
   "cell_type": "code",
   "execution_count": 4,
   "metadata": {},
   "outputs": [
    {
     "data": {
      "text/html": [
       "<ol class=list-inline>\n",
       "\t<li>1</li>\n",
       "\t<li>2</li>\n",
       "\t<li>3</li>\n",
       "\t<li>4</li>\n",
       "</ol>\n"
      ],
      "text/latex": [
       "\\begin{enumerate*}\n",
       "\\item 1\n",
       "\\item 2\n",
       "\\item 3\n",
       "\\item 4\n",
       "\\end{enumerate*}\n"
      ],
      "text/markdown": [
       "1. 1\n",
       "2. 2\n",
       "3. 3\n",
       "4. 4\n",
       "\n",
       "\n"
      ],
      "text/plain": [
       "[1] 1 2 3 4"
      ]
     },
     "metadata": {},
     "output_type": "display_data"
    }
   ],
   "source": [
    "df$x # df[[1]], df[[\"x\"]]"
   ]
  },
  {
   "cell_type": "markdown",
   "metadata": {},
   "source": [
    "## Фильтрация по условию: `subset`\n",
    "\n",
    "Как и во многих объектах языка R, чтобы выбрать элементы по некоторым признакам, можно воспользоваться логическим индексированием:"
   ]
  },
  {
   "cell_type": "code",
   "execution_count": 5,
   "metadata": {},
   "outputs": [
    {
     "data": {
      "text/html": [
       "<table>\n",
       "<thead><tr><th></th><th scope=col>x</th><th scope=col>y</th><th scope=col>z</th></tr></thead>\n",
       "<tbody>\n",
       "\t<tr><th scope=row>Calculating</th><td>3   </td><td>C   </td><td>TRUE</td></tr>\n",
       "\t<tr><th scope=row>Development</th><td>4   </td><td>D   </td><td>TRUE</td></tr>\n",
       "</tbody>\n",
       "</table>\n"
      ],
      "text/latex": [
       "\\begin{tabular}{r|lll}\n",
       "  & x & y & z\\\\\n",
       "\\hline\n",
       "\tCalculating & 3    & C    & TRUE\\\\\n",
       "\tDevelopment & 4    & D    & TRUE\\\\\n",
       "\\end{tabular}\n"
      ],
      "text/markdown": [
       "\n",
       "| <!--/--> | x | y | z |\n",
       "|---|---|---|---|\n",
       "| Calculating | 3    | C    | TRUE |\n",
       "| Development | 4    | D    | TRUE |\n",
       "\n"
      ],
      "text/plain": [
       "            x y z   \n",
       "Calculating 3 C TRUE\n",
       "Development 4 D TRUE"
      ]
     },
     "metadata": {},
     "output_type": "display_data"
    }
   ],
   "source": [
    "df[df$x > 2, ] # Вернёт полные строки, в которых значение x больше 2"
   ]
  },
  {
   "cell_type": "markdown",
   "metadata": {},
   "source": [
    "Также существует функция **`subset`**, позволяющая не дублировать название **data frame**:"
   ]
  },
  {
   "cell_type": "code",
   "execution_count": 3,
   "metadata": {},
   "outputs": [
    {
     "data": {
      "text/html": [
       "<table>\n",
       "<thead><tr><th></th><th scope=col>x</th><th scope=col>y</th><th scope=col>z</th></tr></thead>\n",
       "<tbody>\n",
       "\t<tr><th scope=row>Calculating</th><td>3   </td><td>C   </td><td>TRUE</td></tr>\n",
       "\t<tr><th scope=row>Development</th><td>4   </td><td>D   </td><td>TRUE</td></tr>\n",
       "</tbody>\n",
       "</table>\n"
      ],
      "text/latex": [
       "\\begin{tabular}{r|lll}\n",
       "  & x & y & z\\\\\n",
       "\\hline\n",
       "\tCalculating & 3    & C    & TRUE\\\\\n",
       "\tDevelopment & 4    & D    & TRUE\\\\\n",
       "\\end{tabular}\n"
      ],
      "text/markdown": [
       "\n",
       "| <!--/--> | x | y | z |\n",
       "|---|---|---|---|\n",
       "| Calculating | 3    | C    | TRUE |\n",
       "| Development | 4    | D    | TRUE |\n",
       "\n"
      ],
      "text/plain": [
       "            x y z   \n",
       "Calculating 3 C TRUE\n",
       "Development 4 D TRUE"
      ]
     },
     "metadata": {},
     "output_type": "display_data"
    }
   ],
   "source": [
    "subset(df, x > 2)"
   ]
  },
  {
   "cell_type": "markdown",
   "metadata": {},
   "source": [
    "С помощью аргумента `select` можно выбрать отдельные столбцы:"
   ]
  },
  {
   "cell_type": "code",
   "execution_count": 4,
   "metadata": {},
   "outputs": [
    {
     "data": {
      "text/html": [
       "<table>\n",
       "<thead><tr><th></th><th scope=col>x</th><th scope=col>z</th></tr></thead>\n",
       "<tbody>\n",
       "\t<tr><th scope=row>Calculating</th><td>3   </td><td>TRUE</td></tr>\n",
       "\t<tr><th scope=row>Development</th><td>4   </td><td>TRUE</td></tr>\n",
       "</tbody>\n",
       "</table>\n"
      ],
      "text/latex": [
       "\\begin{tabular}{r|ll}\n",
       "  & x & z\\\\\n",
       "\\hline\n",
       "\tCalculating & 3    & TRUE\\\\\n",
       "\tDevelopment & 4    & TRUE\\\\\n",
       "\\end{tabular}\n"
      ],
      "text/markdown": [
       "\n",
       "| <!--/--> | x | z |\n",
       "|---|---|---|\n",
       "| Calculating | 3    | TRUE |\n",
       "| Development | 4    | TRUE |\n",
       "\n"
      ],
      "text/plain": [
       "            x z   \n",
       "Calculating 3 TRUE\n",
       "Development 4 TRUE"
      ]
     },
     "metadata": {},
     "output_type": "display_data"
    }
   ],
   "source": [
    "subset(df, x > 2, select = c(x, z))"
   ]
  },
  {
   "cell_type": "markdown",
   "metadata": {},
   "source": [
    "## Комбинирование data frame: `rbind` / `cbind`\n",
    "\n",
    "Обе функции работают, как для матриц:"
   ]
  },
  {
   "cell_type": "code",
   "execution_count": 6,
   "metadata": {},
   "outputs": [
    {
     "data": {
      "text/html": [
       "<table>\n",
       "<thead><tr><th></th><th scope=col>x</th><th scope=col>y</th><th scope=col>z</th></tr></thead>\n",
       "<tbody>\n",
       "\t<tr><th scope=row>Analysis</th><td>1   </td><td>A   </td><td>TRUE</td></tr>\n",
       "\t<tr><th scope=row>Bioinformatics</th><td>2   </td><td>B   </td><td>TRUE</td></tr>\n",
       "\t<tr><th scope=row>Calculating</th><td>3   </td><td>C   </td><td>TRUE</td></tr>\n",
       "\t<tr><th scope=row>Development</th><td>4   </td><td>D   </td><td>TRUE</td></tr>\n",
       "\t<tr><th scope=row>Experiment</th><td>5   </td><td>E   </td><td>TRUE</td></tr>\n",
       "\t<tr><th scope=row>Function</th><td>6   </td><td>F   </td><td>TRUE</td></tr>\n",
       "</tbody>\n",
       "</table>\n"
      ],
      "text/latex": [
       "\\begin{tabular}{r|lll}\n",
       "  & x & y & z\\\\\n",
       "\\hline\n",
       "\tAnalysis & 1    & A    & TRUE\\\\\n",
       "\tBioinformatics & 2    & B    & TRUE\\\\\n",
       "\tCalculating & 3    & C    & TRUE\\\\\n",
       "\tDevelopment & 4    & D    & TRUE\\\\\n",
       "\tExperiment & 5    & E    & TRUE\\\\\n",
       "\tFunction & 6    & F    & TRUE\\\\\n",
       "\\end{tabular}\n"
      ],
      "text/markdown": [
       "\n",
       "| <!--/--> | x | y | z |\n",
       "|---|---|---|---|\n",
       "| Analysis | 1    | A    | TRUE |\n",
       "| Bioinformatics | 2    | B    | TRUE |\n",
       "| Calculating | 3    | C    | TRUE |\n",
       "| Development | 4    | D    | TRUE |\n",
       "| Experiment | 5    | E    | TRUE |\n",
       "| Function | 6    | F    | TRUE |\n",
       "\n"
      ],
      "text/plain": [
       "               x y z   \n",
       "Analysis       1 A TRUE\n",
       "Bioinformatics 2 B TRUE\n",
       "Calculating    3 C TRUE\n",
       "Development    4 D TRUE\n",
       "Experiment     5 E TRUE\n",
       "Function       6 F TRUE"
      ]
     },
     "metadata": {},
     "output_type": "display_data"
    }
   ],
   "source": [
    "rbind(df, data.frame(x = 5:6, y = c(\"E\", \"F\"), z = TRUE, row.names = c(\"Experiment\", \"Function\")))"
   ]
  },
  {
   "cell_type": "code",
   "execution_count": 7,
   "metadata": {},
   "outputs": [
    {
     "data": {
      "text/html": [
       "<table>\n",
       "<thead><tr><th></th><th scope=col>x</th><th scope=col>y</th><th scope=col>z</th><th scope=col>i</th><th scope=col>j</th></tr></thead>\n",
       "<tbody>\n",
       "\t<tr><th scope=row>Analysis</th><td>1    </td><td>A    </td><td>TRUE </td><td>4    </td><td>Error</td></tr>\n",
       "\t<tr><th scope=row>Bioinformatics</th><td>2    </td><td>B    </td><td>TRUE </td><td>3    </td><td>Error</td></tr>\n",
       "\t<tr><th scope=row>Calculating</th><td>3    </td><td>C    </td><td>TRUE </td><td>2    </td><td>Error</td></tr>\n",
       "\t<tr><th scope=row>Development</th><td>4    </td><td>D    </td><td>TRUE </td><td>1    </td><td>Error</td></tr>\n",
       "</tbody>\n",
       "</table>\n"
      ],
      "text/latex": [
       "\\begin{tabular}{r|lllll}\n",
       "  & x & y & z & i & j\\\\\n",
       "\\hline\n",
       "\tAnalysis & 1     & A     & TRUE  & 4     & Error\\\\\n",
       "\tBioinformatics & 2     & B     & TRUE  & 3     & Error\\\\\n",
       "\tCalculating & 3     & C     & TRUE  & 2     & Error\\\\\n",
       "\tDevelopment & 4     & D     & TRUE  & 1     & Error\\\\\n",
       "\\end{tabular}\n"
      ],
      "text/markdown": [
       "\n",
       "| <!--/--> | x | y | z | i | j |\n",
       "|---|---|---|---|---|---|\n",
       "| Analysis | 1     | A     | TRUE  | 4     | Error |\n",
       "| Bioinformatics | 2     | B     | TRUE  | 3     | Error |\n",
       "| Calculating | 3     | C     | TRUE  | 2     | Error |\n",
       "| Development | 4     | D     | TRUE  | 1     | Error |\n",
       "\n"
      ],
      "text/plain": [
       "               x y z    i j    \n",
       "Analysis       1 A TRUE 4 Error\n",
       "Bioinformatics 2 B TRUE 3 Error\n",
       "Calculating    3 C TRUE 2 Error\n",
       "Development    4 D TRUE 1 Error"
      ]
     },
     "metadata": {},
     "output_type": "display_data"
    }
   ],
   "source": [
    "cbind(df, data.frame(i = 4:1, j = c(\"Error\")))"
   ]
  },
  {
   "cell_type": "markdown",
   "metadata": {},
   "source": [
    "## Комбинирование data frame: `merge`\n",
    "\n",
    "Функция **`merge`** позволяет комбинировать **data frame** по ключу (аргумент `by`) - выбранной нами переменной из **data frame**, по которой строки комбинируемых структур будут соотнесены между собой:"
   ]
  },
  {
   "cell_type": "code",
   "execution_count": 5,
   "metadata": {},
   "outputs": [
    {
     "data": {
      "text/html": [
       "<table>\n",
       "<thead><tr><th></th><th scope=col>x</th><th scope=col>y</th><th scope=col>z</th></tr></thead>\n",
       "<tbody>\n",
       "\t<tr><th scope=row>Analysis</th><td>1   </td><td>A   </td><td>TRUE</td></tr>\n",
       "\t<tr><th scope=row>Bioinformatics</th><td>2   </td><td>B   </td><td>TRUE</td></tr>\n",
       "\t<tr><th scope=row>Calculating</th><td>3   </td><td>C   </td><td>TRUE</td></tr>\n",
       "\t<tr><th scope=row>Development</th><td>4   </td><td>D   </td><td>TRUE</td></tr>\n",
       "</tbody>\n",
       "</table>\n"
      ],
      "text/latex": [
       "\\begin{tabular}{r|lll}\n",
       "  & x & y & z\\\\\n",
       "\\hline\n",
       "\tAnalysis & 1    & A    & TRUE\\\\\n",
       "\tBioinformatics & 2    & B    & TRUE\\\\\n",
       "\tCalculating & 3    & C    & TRUE\\\\\n",
       "\tDevelopment & 4    & D    & TRUE\\\\\n",
       "\\end{tabular}\n"
      ],
      "text/markdown": [
       "\n",
       "| <!--/--> | x | y | z |\n",
       "|---|---|---|---|\n",
       "| Analysis | 1    | A    | TRUE |\n",
       "| Bioinformatics | 2    | B    | TRUE |\n",
       "| Calculating | 3    | C    | TRUE |\n",
       "| Development | 4    | D    | TRUE |\n",
       "\n"
      ],
      "text/plain": [
       "               x y z   \n",
       "Analysis       1 A TRUE\n",
       "Bioinformatics 2 B TRUE\n",
       "Calculating    3 C TRUE\n",
       "Development    4 D TRUE"
      ]
     },
     "metadata": {},
     "output_type": "display_data"
    },
    {
     "data": {
      "text/html": [
       "<table>\n",
       "<thead><tr><th scope=col>x</th><th scope=col>amount</th><th scope=col>y</th></tr></thead>\n",
       "<tbody>\n",
       "\t<tr><td>3   </td><td> 400</td><td>C   </td></tr>\n",
       "\t<tr><td>2   </td><td> 300</td><td>B   </td></tr>\n",
       "\t<tr><td>9   </td><td>1000</td><td>D   </td></tr>\n",
       "\t<tr><td>1   </td><td>  60</td><td>Q   </td></tr>\n",
       "</tbody>\n",
       "</table>\n"
      ],
      "text/latex": [
       "\\begin{tabular}{r|lll}\n",
       " x & amount & y\\\\\n",
       "\\hline\n",
       "\t 3    &  400 & C   \\\\\n",
       "\t 2    &  300 & B   \\\\\n",
       "\t 9    & 1000 & D   \\\\\n",
       "\t 1    &   60 & Q   \\\\\n",
       "\\end{tabular}\n"
      ],
      "text/markdown": [
       "\n",
       "| x | amount | y |\n",
       "|---|---|---|\n",
       "| 3    |  400 | C    |\n",
       "| 2    |  300 | B    |\n",
       "| 9    | 1000 | D    |\n",
       "| 1    |   60 | Q    |\n",
       "\n"
      ],
      "text/plain": [
       "  x amount y\n",
       "1 3  400   C\n",
       "2 2  300   B\n",
       "3 9 1000   D\n",
       "4 1   60   Q"
      ]
     },
     "metadata": {},
     "output_type": "display_data"
    },
    {
     "data": {
      "text/html": [
       "<table>\n",
       "<thead><tr><th scope=col>x</th><th scope=col>y.x</th><th scope=col>z</th><th scope=col>amount</th><th scope=col>y.y</th></tr></thead>\n",
       "<tbody>\n",
       "\t<tr><td>1   </td><td>A   </td><td>TRUE</td><td> 60 </td><td>Q   </td></tr>\n",
       "\t<tr><td>2   </td><td>B   </td><td>TRUE</td><td>300 </td><td>B   </td></tr>\n",
       "\t<tr><td>3   </td><td>C   </td><td>TRUE</td><td>400 </td><td>C   </td></tr>\n",
       "</tbody>\n",
       "</table>\n"
      ],
      "text/latex": [
       "\\begin{tabular}{r|lllll}\n",
       " x & y.x & z & amount & y.y\\\\\n",
       "\\hline\n",
       "\t 1    & A    & TRUE &  60  & Q   \\\\\n",
       "\t 2    & B    & TRUE & 300  & B   \\\\\n",
       "\t 3    & C    & TRUE & 400  & C   \\\\\n",
       "\\end{tabular}\n"
      ],
      "text/markdown": [
       "\n",
       "| x | y.x | z | amount | y.y |\n",
       "|---|---|---|---|---|\n",
       "| 1    | A    | TRUE |  60  | Q    |\n",
       "| 2    | B    | TRUE | 300  | B    |\n",
       "| 3    | C    | TRUE | 400  | C    |\n",
       "\n"
      ],
      "text/plain": [
       "  x y.x z    amount y.y\n",
       "1 1 A   TRUE  60    Q  \n",
       "2 2 B   TRUE 300    B  \n",
       "3 3 C   TRUE 400    C  "
      ]
     },
     "metadata": {},
     "output_type": "display_data"
    }
   ],
   "source": [
    "df_amount <- data.frame(x = c(3, 2, 9, 1), amount = c(400, 300, 1000, 60), y = c(\"C\", \"B\", \"D\", \"Q\"))\n",
    "df; df_amount\n",
    "merge(df, df_amount, by = \"x\")\n",
    "\n",
    "# Здесь merge сопоставит столбцы x между собой по значениям в них, соотнеся остальные значения строк data frame'ов"
   ]
  },
  {
   "cell_type": "markdown",
   "metadata": {},
   "source": [
    "Обязательно, чтобы переменная-ключ присутствовала в обоих **data frame**, т.к. именно по ней сопоставляются данные.  \n",
    "Кроме этого можно включать в соединение все элементы по вертикали и горизонтали (аргументы `all.x`, `all.y`, `all`), а также вообще не указывать ключ (полное соединение по всем совпавшим переменным):"
   ]
  },
  {
   "cell_type": "code",
   "execution_count": 6,
   "metadata": {},
   "outputs": [
    {
     "data": {
      "text/html": [
       "<table>\n",
       "<thead><tr><th scope=col>x</th><th scope=col>y</th><th scope=col>z</th><th scope=col>amount</th></tr></thead>\n",
       "<tbody>\n",
       "\t<tr><td>2   </td><td>B   </td><td>TRUE</td><td>300 </td></tr>\n",
       "\t<tr><td>3   </td><td>C   </td><td>TRUE</td><td>400 </td></tr>\n",
       "</tbody>\n",
       "</table>\n"
      ],
      "text/latex": [
       "\\begin{tabular}{r|llll}\n",
       " x & y & z & amount\\\\\n",
       "\\hline\n",
       "\t 2    & B    & TRUE & 300 \\\\\n",
       "\t 3    & C    & TRUE & 400 \\\\\n",
       "\\end{tabular}\n"
      ],
      "text/markdown": [
       "\n",
       "| x | y | z | amount |\n",
       "|---|---|---|---|\n",
       "| 2    | B    | TRUE | 300  |\n",
       "| 3    | C    | TRUE | 400  |\n",
       "\n"
      ],
      "text/plain": [
       "  x y z    amount\n",
       "1 2 B TRUE 300   \n",
       "2 3 C TRUE 400   "
      ]
     },
     "metadata": {},
     "output_type": "display_data"
    }
   ],
   "source": [
    "merge(df, df_amount)\n",
    "\n",
    "# Сопоставление всех значений одноимённых столбцов (у строки совпадать должны значения во ВСЕХ одноимённых столбцов)"
   ]
  },
  {
   "cell_type": "code",
   "execution_count": 11,
   "metadata": {},
   "outputs": [
    {
     "data": {
      "text/html": [
       "<table>\n",
       "<thead><tr><th scope=col>x</th><th scope=col>y</th><th scope=col>z</th><th scope=col>amount</th></tr></thead>\n",
       "<tbody>\n",
       "\t<tr><td>1   </td><td>A   </td><td>TRUE</td><td>  NA</td></tr>\n",
       "\t<tr><td>1   </td><td>Q   </td><td>  NA</td><td>  60</td></tr>\n",
       "\t<tr><td>2   </td><td>B   </td><td>TRUE</td><td> 300</td></tr>\n",
       "\t<tr><td>3   </td><td>C   </td><td>TRUE</td><td> 400</td></tr>\n",
       "\t<tr><td>4   </td><td>D   </td><td>TRUE</td><td>  NA</td></tr>\n",
       "\t<tr><td>9   </td><td>D   </td><td>  NA</td><td>1000</td></tr>\n",
       "</tbody>\n",
       "</table>\n"
      ],
      "text/latex": [
       "\\begin{tabular}{r|llll}\n",
       " x & y & z & amount\\\\\n",
       "\\hline\n",
       "\t 1    & A    & TRUE &   NA\\\\\n",
       "\t 1    & Q    &   NA &   60\\\\\n",
       "\t 2    & B    & TRUE &  300\\\\\n",
       "\t 3    & C    & TRUE &  400\\\\\n",
       "\t 4    & D    & TRUE &   NA\\\\\n",
       "\t 9    & D    &   NA & 1000\\\\\n",
       "\\end{tabular}\n"
      ],
      "text/markdown": [
       "\n",
       "| x | y | z | amount |\n",
       "|---|---|---|---|\n",
       "| 1    | A    | TRUE |   NA |\n",
       "| 1    | Q    |   NA |   60 |\n",
       "| 2    | B    | TRUE |  300 |\n",
       "| 3    | C    | TRUE |  400 |\n",
       "| 4    | D    | TRUE |   NA |\n",
       "| 9    | D    |   NA | 1000 |\n",
       "\n"
      ],
      "text/plain": [
       "  x y z    amount\n",
       "1 1 A TRUE   NA  \n",
       "2 1 Q   NA   60  \n",
       "3 2 B TRUE  300  \n",
       "4 3 C TRUE  400  \n",
       "5 4 D TRUE   NA  \n",
       "6 9 D   NA 1000  "
      ]
     },
     "metadata": {},
     "output_type": "display_data"
    }
   ],
   "source": [
    "merge(df, df_amount, by = c(\"x\", \"y\"), all = TRUE)\n",
    "\n",
    "# Сопоставление всех по x и y + всё остальное, что не удалось полностью сопоставить из обоих data frame"
   ]
  },
  {
   "cell_type": "code",
   "execution_count": 17,
   "metadata": {},
   "outputs": [
    {
     "data": {
      "text/html": [
       "<table>\n",
       "<thead><tr><th scope=col>x</th><th scope=col>y</th><th scope=col>z</th><th scope=col>amount</th></tr></thead>\n",
       "<tbody>\n",
       "\t<tr><td>1   </td><td>A   </td><td>TRUE</td><td> NA </td></tr>\n",
       "\t<tr><td>2   </td><td>B   </td><td>TRUE</td><td>300 </td></tr>\n",
       "\t<tr><td>3   </td><td>C   </td><td>TRUE</td><td>400 </td></tr>\n",
       "\t<tr><td>4   </td><td>D   </td><td>TRUE</td><td> NA </td></tr>\n",
       "</tbody>\n",
       "</table>\n"
      ],
      "text/latex": [
       "\\begin{tabular}{r|llll}\n",
       " x & y & z & amount\\\\\n",
       "\\hline\n",
       "\t 1    & A    & TRUE &  NA \\\\\n",
       "\t 2    & B    & TRUE & 300 \\\\\n",
       "\t 3    & C    & TRUE & 400 \\\\\n",
       "\t 4    & D    & TRUE &  NA \\\\\n",
       "\\end{tabular}\n"
      ],
      "text/markdown": [
       "\n",
       "| x | y | z | amount |\n",
       "|---|---|---|---|\n",
       "| 1    | A    | TRUE |  NA  |\n",
       "| 2    | B    | TRUE | 300  |\n",
       "| 3    | C    | TRUE | 400  |\n",
       "| 4    | D    | TRUE |  NA  |\n",
       "\n"
      ],
      "text/plain": [
       "  x y z    amount\n",
       "1 1 A TRUE  NA   \n",
       "2 2 B TRUE 300   \n",
       "3 3 C TRUE 400   \n",
       "4 4 D TRUE  NA   "
      ]
     },
     "metadata": {},
     "output_type": "display_data"
    }
   ],
   "source": [
    "merge(df, df_amount, by = c(\"x\", \"y\"), all.x = TRUE)\n",
    "\n",
    "# Сопоставление всех по x и y + все несопоставившиеся строки из первого data frame (присоединяем второй к первому)"
   ]
  },
  {
   "cell_type": "code",
   "execution_count": 18,
   "metadata": {},
   "outputs": [
    {
     "data": {
      "text/html": [
       "<table>\n",
       "<thead><tr><th scope=col>x</th><th scope=col>y</th><th scope=col>z</th><th scope=col>amount</th></tr></thead>\n",
       "<tbody>\n",
       "\t<tr><td>1   </td><td>Q   </td><td>  NA</td><td>  60</td></tr>\n",
       "\t<tr><td>2   </td><td>B   </td><td>TRUE</td><td> 300</td></tr>\n",
       "\t<tr><td>3   </td><td>C   </td><td>TRUE</td><td> 400</td></tr>\n",
       "\t<tr><td>9   </td><td>D   </td><td>  NA</td><td>1000</td></tr>\n",
       "</tbody>\n",
       "</table>\n"
      ],
      "text/latex": [
       "\\begin{tabular}{r|llll}\n",
       " x & y & z & amount\\\\\n",
       "\\hline\n",
       "\t 1    & Q    &   NA &   60\\\\\n",
       "\t 2    & B    & TRUE &  300\\\\\n",
       "\t 3    & C    & TRUE &  400\\\\\n",
       "\t 9    & D    &   NA & 1000\\\\\n",
       "\\end{tabular}\n"
      ],
      "text/markdown": [
       "\n",
       "| x | y | z | amount |\n",
       "|---|---|---|---|\n",
       "| 1    | Q    |   NA |   60 |\n",
       "| 2    | B    | TRUE |  300 |\n",
       "| 3    | C    | TRUE |  400 |\n",
       "| 9    | D    |   NA | 1000 |\n",
       "\n"
      ],
      "text/plain": [
       "  x y z    amount\n",
       "1 1 Q   NA   60  \n",
       "2 2 B TRUE  300  \n",
       "3 3 C TRUE  400  \n",
       "4 9 D   NA 1000  "
      ]
     },
     "metadata": {},
     "output_type": "display_data"
    }
   ],
   "source": [
    "merge(df, df_amount, by = c(\"x\", \"y\"), all.y = TRUE)\n",
    "\n",
    "# Сопоставление всех по x и y + все несопоставившиеся строки из второго data frame (присоединяем первый ко второму)"
   ]
  }
 ],
 "metadata": {
  "kernelspec": {
   "display_name": "R",
   "language": "R",
   "name": "ir"
  },
  "language_info": {
   "codemirror_mode": "r",
   "file_extension": ".r",
   "mimetype": "text/x-r-source",
   "name": "R",
   "pygments_lexer": "r",
   "version": "3.6.1"
  }
 },
 "nbformat": 4,
 "nbformat_minor": 4
}
