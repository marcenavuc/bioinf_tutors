{
 "cells": [
  {
   "cell_type": "markdown",
   "metadata": {},
   "source": [
    "# Пакеты (packages) в R\n",
    "\n",
    "(Следует запускать все примеры кода, связанные с пакетами, чтобы убедиться, что установка пакетов на вашей машине проходит успешно)\n",
    "\n",
    "- R спроектирован как расширяемый язык, основанный на пакетах\n",
    "- Ядро языка - пакет **base**\n",
    "- Вместе с **base** уже загружены несколько пакетов, которые либо уже подключены, либо их можно подключить без необходимости скачивания\n",
    "- Важно не путать пакет (package) с библиотекой (library) - это разные вещи\n",
    "- Библиотека в R - это место на диске, где хранятся пакеты\n",
    "\n",
    "## Где скачивать пакеты\n",
    "\n",
    "В основном язык R будет скачивать пакеты из центрального репозитория **CRAN** или одного из его зеркал. Также возможно ручное скачивание специализированных пакетов из **GitHub** или **Bitbucket**.  \n",
    "Еще одним крайне полезным ресурсом в контексте изучения биоинформатики является **Bioconductor**. Данный ресурс содержит множество пакетов для биоинформатических исследований.\n",
    "\n",
    "- **CRAN**: https://cran.r-project.org\n",
    "- **GitHub**: https://github.com\n",
    "- **Bitbucket**: https://bitbucket.org\n",
    "- **Bioconductor**: https://www.bioconductor.org\n",
    "\n",
    "## Как скачивать и устанавливать пакеты\n",
    "\n",
    "Во-первых, мы всегда можем посмотреть список установленных пакетов:"
   ]
  },
  {
   "cell_type": "code",
   "execution_count": null,
   "metadata": {},
   "outputs": [],
   "source": [
    "installed.packages()"
   ]
  },
  {
   "cell_type": "markdown",
   "metadata": {},
   "source": [
    "Но многие пакеты не подключаются вместе с **base**. Например, при вызове функции из пакета **grid** произойдет ошибка, потому что этот пакет пока что не подключен (но уже скачан):"
   ]
  },
  {
   "cell_type": "code",
   "execution_count": 4,
   "metadata": {},
   "outputs": [
    {
     "ename": "ERROR",
     "evalue": "Error in grid.newpage(): не могу найти функцию \"grid.newpage\"\n",
     "output_type": "error",
     "traceback": [
      "Error in grid.newpage(): не могу найти функцию \"grid.newpage\"\nTraceback:\n"
     ]
    }
   ],
   "source": [
    "grid.newpage()"
   ]
  },
  {
   "cell_type": "markdown",
   "metadata": {},
   "source": [
    "- Чтобы подключить пакет, используется функция ***library*** (именно из-за её названия возникает путаница с пакетами и библиотеками):"
   ]
  },
  {
   "cell_type": "code",
   "execution_count": 3,
   "metadata": {},
   "outputs": [
    {
     "data": {
      "image/png": "[encoded data removed]",
      "text/plain": [
       "plot without title"
      ]
     },
     "metadata": {},
     "output_type": "display_data"
    }
   ],
   "source": [
    "library(grid)\n",
    "#library(\"grid\")\n",
    "grid.newpage()\n",
    "grid.lines()\n",
    "# Две последние функции из подключенного пакета создадут белый перечеркнутый квадрат"
   ]
  },
  {
   "cell_type": "markdown",
   "metadata": {},
   "source": [
    "- Если же пакет еще не скачан, мы должны загрузить его из репозитория **CRAN** с помощью функции ***install.packages***:"
   ]
  },
  {
   "cell_type": "code",
   "execution_count": null,
   "metadata": {
    "scrolled": true
   },
   "outputs": [],
   "source": [
    "install.packages(\"xts\", dependencies = TRUE)\n",
    "# Здесь нельзя писать название пакета без \"\"\n",
    "# Указав аругмент dependencies, мы сказали установить все пакеты, от которых зависит пакет xts(без них пакет не заработает)\n",
    "library(xts)"
   ]
  },
  {
   "cell_type": "markdown",
   "metadata": {},
   "source": [
    "- Важным моментом является загрузка пакетов из **Bioconductor**. Для начала работы необходимо подключить пакет **BiocManager** (несколько иным образом):"
   ]
  },
  {
   "cell_type": "code",
   "execution_count": null,
   "metadata": {},
   "outputs": [],
   "source": [
    "if (!requireNamespace(\"BiocManager\", quietly = TRUE))\n",
    "    install.packages(\"BiocManager\")\n",
    "BiocManager::install() # Или любая текущая версия: version = \"...\""
   ]
  },
  {
   "cell_type": "markdown",
   "metadata": {},
   "source": [
    "Далее с помощью всё той же функции ***install*** можем подключать пакеты:"
   ]
  },
  {
   "cell_type": "code",
   "execution_count": null,
   "metadata": {
    "scrolled": true
   },
   "outputs": [],
   "source": [
    "BiocManager::install(c(\"GenomicFeatures\", \"AnnotationDbi\"))"
   ]
  },
  {
   "cell_type": "markdown",
   "metadata": {},
   "source": [
    "- Для подключения пакета из GitHub нужно воспользоваться одним из двух пакетов: **devtools** или **githubinstall**. Функция ***install_github*** из первого пакета требует имя разработчика пакета и его название на GitHub. Функция ***githubinstall*** из второго пакета требует только название пакета"
   ]
  },
  {
   "cell_type": "code",
   "execution_count": null,
   "metadata": {},
   "outputs": [],
   "source": [
    "install.packages(\"devtools\")\n",
    "install_github(\"DeveloperName/PackageName\")\n",
    "\n",
    "install.packages(\"githubinstall\")\n",
    "githubinstall(\"PackageName\")\n",
    "\n",
    "# Можно заменить названия пакетов на реальные и попробовать обе функции"
   ]
  },
  {
   "cell_type": "markdown",
   "metadata": {},
   "source": [
    "- Для подключения пакета из Bitbucket необходимо воспользоваться функцией ***install_bitbucket*** из пакета **devtools**"
   ]
  },
  {
   "cell_type": "code",
   "execution_count": null,
   "metadata": {},
   "outputs": [],
   "source": [
    "install_bitbucket(\"DeveloperName/PackageName\")"
   ]
  },
  {
   "cell_type": "markdown",
   "metadata": {},
   "source": [
    "- Чтобы обновить все установленные из **CRAN** (или имеющиеся в нём) пакеты, можно использовать функцию ***update.packages***:"
   ]
  },
  {
   "cell_type": "code",
   "execution_count": null,
   "metadata": {},
   "outputs": [],
   "source": [
    "update.packages()"
   ]
  },
  {
   "cell_type": "markdown",
   "metadata": {},
   "source": [
    "- Версии других пакетов нужно проверять вручную (см. справку по пакетам GitHub, Bioc, Bitbucket) и обновлять при необходимости"
   ]
  },
  {
   "cell_type": "markdown",
   "metadata": {},
   "source": [
    "- Если какие-то пакеты не работают, можно посмотреть, какие пакеты подключены в данной сессии, с помощь функции ***sessionInfo***:"
   ]
  },
  {
   "cell_type": "code",
   "execution_count": null,
   "metadata": {},
   "outputs": [],
   "source": [
    "sessionInfo()"
   ]
  }
 ],
 "metadata": {
  "kernelspec": {
   "display_name": "R",
   "language": "R",
   "name": "ir"
  },
  "language_info": {
   "codemirror_mode": "r",
   "file_extension": ".r",
   "mimetype": "text/x-r-source",
   "name": "R",
   "pygments_lexer": "r",
   "version": "3.6.1"
  }
 },
 "nbformat": 4,
 "nbformat_minor": 4
}
