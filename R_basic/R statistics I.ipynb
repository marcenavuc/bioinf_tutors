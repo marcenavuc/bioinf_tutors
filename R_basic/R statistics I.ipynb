{
 "cells": [
  {
   "cell_type": "markdown",
   "metadata": {},
   "source": [
    "# Статистика в R - первая часть\n",
    "В R доступны несколько встроенных статистических функций. Рассмотрим их применение на датасете **pirates** из библиотеки **yarrr**."
   ]
  },
  {
   "cell_type": "code",
   "execution_count": 3,
   "metadata": {},
   "outputs": [],
   "source": [
    "# install.packages('yarrr')         # для работы с датасетом установите библиотеку 'yarrr'\n",
    "library(yarrr)"
   ]
  },
  {
   "cell_type": "markdown",
   "metadata": {},
   "source": [
    "После загрузки можно посмотреть на датасет **pirates**: это таблица с данными по 1000 выжившим пиратам и их характеристикам (пол, возраст и т.д.). Функция **head** покажет первые несколько строк из датасета."
   ]
  },
  {
   "cell_type": "code",
   "execution_count": 4,
   "metadata": {},
   "outputs": [
    {
     "data": {
      "text/html": [
       "<table>\n",
       "<thead><tr><th scope=col>id</th><th scope=col>sex</th><th scope=col>age</th><th scope=col>height</th><th scope=col>weight</th><th scope=col>headband</th><th scope=col>college</th><th scope=col>tattoos</th><th scope=col>tchests</th><th scope=col>parrots</th><th scope=col>favorite.pirate</th><th scope=col>sword.type</th><th scope=col>eyepatch</th><th scope=col>sword.time</th><th scope=col>beard.length</th><th scope=col>fav.pixar</th><th scope=col>grogg</th></tr></thead>\n",
       "<tbody>\n",
       "\t<tr><td>1                  </td><td>male               </td><td>28                 </td><td>173.11             </td><td> 70.5              </td><td>yes                </td><td>JSSFP              </td><td> 9                 </td><td> 0                 </td><td>0                  </td><td>Jack Sparrow       </td><td>cutlass            </td><td>1                  </td><td> 0.58              </td><td>16                 </td><td>Monsters, Inc.     </td><td>11                 </td></tr>\n",
       "\t<tr><td>2                  </td><td>male               </td><td>31                 </td><td>209.25             </td><td>105.6              </td><td>yes                </td><td>JSSFP              </td><td> 9                 </td><td>11                 </td><td>0                  </td><td>Jack Sparrow       </td><td>cutlass            </td><td>0                  </td><td> 1.11              </td><td>21                 </td><td>WALL-E             </td><td> 9                 </td></tr>\n",
       "\t<tr><td>3                  </td><td>male               </td><td>26                 </td><td>169.95             </td><td> 77.1              </td><td>yes                </td><td>CCCC               </td><td>10                 </td><td>10                 </td><td>1                  </td><td>Jack Sparrow       </td><td>cutlass            </td><td>1                  </td><td> 1.44              </td><td>19                 </td><td>Inside Out         </td><td> 7                 </td></tr>\n",
       "\t<tr><td>4                  </td><td>female             </td><td>31                 </td><td>144.29             </td><td> 58.5              </td><td>no                 </td><td>JSSFP              </td><td> 2                 </td><td> 0                 </td><td>2                  </td><td>Jack Sparrow       </td><td>scimitar           </td><td>1                  </td><td>36.11              </td><td> 2                 </td><td>Inside Out         </td><td> 9                 </td></tr>\n",
       "\t<tr><td>5                  </td><td>female             </td><td>41                 </td><td>157.85             </td><td> 58.4              </td><td>yes                </td><td>JSSFP              </td><td> 9                 </td><td> 6                 </td><td>4                  </td><td>Hook               </td><td>cutlass            </td><td>1                  </td><td> 0.11              </td><td> 0                 </td><td>Inside Out         </td><td>14                 </td></tr>\n",
       "\t<tr><td>6                  </td><td>male               </td><td>26                 </td><td>190.20             </td><td> 85.4              </td><td>yes                </td><td>CCCC               </td><td> 7                 </td><td>19                 </td><td>0                  </td><td>Jack Sparrow       </td><td>cutlass            </td><td>1                  </td><td> 0.59              </td><td>17                 </td><td>Monsters University</td><td> 7                 </td></tr>\n",
       "</tbody>\n",
       "</table>\n"
      ],
      "text/latex": [
       "\\begin{tabular}{r|lllllllllllllllll}\n",
       " id & sex & age & height & weight & headband & college & tattoos & tchests & parrots & favorite.pirate & sword.type & eyepatch & sword.time & beard.length & fav.pixar & grogg\\\\\n",
       "\\hline\n",
       "\t 1                   & male                & 28                  & 173.11              &  70.5               & yes                 & JSSFP               &  9                  &  0                  & 0                   & Jack Sparrow        & cutlass             & 1                   &  0.58               & 16                  & Monsters, Inc.      & 11                 \\\\\n",
       "\t 2                   & male                & 31                  & 209.25              & 105.6               & yes                 & JSSFP               &  9                  & 11                  & 0                   & Jack Sparrow        & cutlass             & 0                   &  1.11               & 21                  & WALL-E              &  9                 \\\\\n",
       "\t 3                   & male                & 26                  & 169.95              &  77.1               & yes                 & CCCC                & 10                  & 10                  & 1                   & Jack Sparrow        & cutlass             & 1                   &  1.44               & 19                  & Inside Out          &  7                 \\\\\n",
       "\t 4                   & female              & 31                  & 144.29              &  58.5               & no                  & JSSFP               &  2                  &  0                  & 2                   & Jack Sparrow        & scimitar            & 1                   & 36.11               &  2                  & Inside Out          &  9                 \\\\\n",
       "\t 5                   & female              & 41                  & 157.85              &  58.4               & yes                 & JSSFP               &  9                  &  6                  & 4                   & Hook                & cutlass             & 1                   &  0.11               &  0                  & Inside Out          & 14                 \\\\\n",
       "\t 6                   & male                & 26                  & 190.20              &  85.4               & yes                 & CCCC                &  7                  & 19                  & 0                   & Jack Sparrow        & cutlass             & 1                   &  0.59               & 17                  & Monsters University &  7                 \\\\\n",
       "\\end{tabular}\n"
      ],
      "text/markdown": [
       "\n",
       "| id | sex | age | height | weight | headband | college | tattoos | tchests | parrots | favorite.pirate | sword.type | eyepatch | sword.time | beard.length | fav.pixar | grogg |\n",
       "|---|---|---|---|---|---|---|---|---|---|---|---|---|---|---|---|---|\n",
       "| 1                   | male                | 28                  | 173.11              |  70.5               | yes                 | JSSFP               |  9                  |  0                  | 0                   | Jack Sparrow        | cutlass             | 1                   |  0.58               | 16                  | Monsters, Inc.      | 11                  |\n",
       "| 2                   | male                | 31                  | 209.25              | 105.6               | yes                 | JSSFP               |  9                  | 11                  | 0                   | Jack Sparrow        | cutlass             | 0                   |  1.11               | 21                  | WALL-E              |  9                  |\n",
       "| 3                   | male                | 26                  | 169.95              |  77.1               | yes                 | CCCC                | 10                  | 10                  | 1                   | Jack Sparrow        | cutlass             | 1                   |  1.44               | 19                  | Inside Out          |  7                  |\n",
       "| 4                   | female              | 31                  | 144.29              |  58.5               | no                  | JSSFP               |  2                  |  0                  | 2                   | Jack Sparrow        | scimitar            | 1                   | 36.11               |  2                  | Inside Out          |  9                  |\n",
       "| 5                   | female              | 41                  | 157.85              |  58.4               | yes                 | JSSFP               |  9                  |  6                  | 4                   | Hook                | cutlass             | 1                   |  0.11               |  0                  | Inside Out          | 14                  |\n",
       "| 6                   | male                | 26                  | 190.20              |  85.4               | yes                 | CCCC                |  7                  | 19                  | 0                   | Jack Sparrow        | cutlass             | 1                   |  0.59               | 17                  | Monsters University |  7                  |\n",
       "\n"
      ],
      "text/plain": [
       "  id sex    age height weight headband college tattoos tchests parrots\n",
       "1 1  male   28  173.11  70.5  yes      JSSFP    9       0      0      \n",
       "2 2  male   31  209.25 105.6  yes      JSSFP    9      11      0      \n",
       "3 3  male   26  169.95  77.1  yes      CCCC    10      10      1      \n",
       "4 4  female 31  144.29  58.5  no       JSSFP    2       0      2      \n",
       "5 5  female 41  157.85  58.4  yes      JSSFP    9       6      4      \n",
       "6 6  male   26  190.20  85.4  yes      CCCC     7      19      0      \n",
       "  favorite.pirate sword.type eyepatch sword.time beard.length\n",
       "1 Jack Sparrow    cutlass    1         0.58      16          \n",
       "2 Jack Sparrow    cutlass    0         1.11      21          \n",
       "3 Jack Sparrow    cutlass    1         1.44      19          \n",
       "4 Jack Sparrow    scimitar   1        36.11       2          \n",
       "5 Hook            cutlass    1         0.11       0          \n",
       "6 Jack Sparrow    cutlass    1         0.59      17          \n",
       "  fav.pixar           grogg\n",
       "1 Monsters, Inc.      11   \n",
       "2 WALL-E               9   \n",
       "3 Inside Out           7   \n",
       "4 Inside Out           9   \n",
       "5 Inside Out          14   \n",
       "6 Monsters University  7   "
      ]
     },
     "metadata": {},
     "output_type": "display_data"
    }
   ],
   "source": [
    "head(pirates)"
   ]
  },
  {
   "cell_type": "markdown",
   "metadata": {},
   "source": [
    "Теперь, когда у нас есть данные, можно переходить к статистике: мы будем выполнять тесты на проверку гипотез через встроенные функции **t-test**, **correlation test**, и **chi-square test**. Чем они отличаются вы узнаете далее."
   ]
  },
  {
   "cell_type": "markdown",
   "metadata": {},
   "source": [
    "*Примеры применения:*"
   ]
  },
  {
   "cell_type": "markdown",
   "metadata": {},
   "source": [
    "**t-test**: возраст пиратов в среднем отличается от 30 лет?"
   ]
  },
  {
   "cell_type": "code",
   "execution_count": 5,
   "metadata": {},
   "outputs": [
    {
     "data": {
      "text/plain": [
       "\n",
       "\tOne Sample t-test\n",
       "\n",
       "data:  pirates$age\n",
       "t = -14.427, df = 999, p-value < 2.2e-16\n",
       "alternative hypothesis: true mean is not equal to 30\n",
       "95 percent confidence interval:\n",
       " 27.00092 27.71908\n",
       "sample estimates:\n",
       "mean of x \n",
       "    27.36 \n"
      ]
     },
     "metadata": {},
     "output_type": "display_data"
    }
   ],
   "source": [
    "t.test(x = pirates$age, \n",
    "       mu = 30)"
   ]
  },
  {
   "cell_type": "markdown",
   "metadata": {},
   "source": [
    "**correlation test**: существует ли зависимость между возрастом пиратов и ростом?"
   ]
  },
  {
   "cell_type": "code",
   "execution_count": 6,
   "metadata": {},
   "outputs": [
    {
     "data": {
      "text/plain": [
       "\n",
       "\tPearson's product-moment correlation\n",
       "\n",
       "data:  age and height\n",
       "t = -6.9204, df = 998, p-value = 8.042e-12\n",
       "alternative hypothesis: true correlation is not equal to 0\n",
       "95 percent confidence interval:\n",
       " -0.2723684 -0.1540389\n",
       "sample estimates:\n",
       "       cor \n",
       "-0.2139885 \n"
      ]
     },
     "metadata": {},
     "output_type": "display_data"
    }
   ],
   "source": [
    "cor.test(formula = ~ age + height,\n",
    "          data = pirates)"
   ]
  },
  {
   "cell_type": "markdown",
   "metadata": {},
   "source": [
    "**chi-square test**: есть ли зависимость между колледжом и любимым пиратом? "
   ]
  },
  {
   "cell_type": "code",
   "execution_count": 7,
   "metadata": {},
   "outputs": [
    {
     "data": {
      "text/plain": [
       "\n",
       "\tPearson's Chi-squared test\n",
       "\n",
       "data:  pirates$college and pirates$favorite.pirate\n",
       "X-squared = 52.138, df = 5, p-value = 5.054e-10\n"
      ]
     },
     "metadata": {},
     "output_type": "display_data"
    }
   ],
   "source": [
    "chisq.test(x = pirates$college,\n",
    "           y = pirates$favorite.pirate)"
   ]
  },
  {
   "cell_type": "markdown",
   "metadata": {},
   "source": [
    "Прежде чем приступить к рассмотрению этих функций, необходимо понять - *зачем нужны тесты на проверку гипотез и как их составить?* Для этого мы обсудим теоритическую часть."
   ]
  },
  {
   "cell_type": "markdown",
   "metadata": {},
   "source": [
    "# Введение в статистический анализ"
   ]
  },
  {
   "cell_type": "markdown",
   "metadata": {},
   "source": [
    "\"Зависит ли успеваемость ученика от успешной сдачи экзамена?\", \"Есть ли связь между числом царапин у человека и наличием у него домашнего животного?\" - ответы на такие вопросы, называемыми *статистическими гипотезами* может дать **статистический анализ**, позволяющий найти корреляцию (связь) между величинами."
   ]
  },
  {
   "cell_type": "markdown",
   "metadata": {},
   "source": [
    "Для проверки статистических гипотез необходимо ввести понятия: **нулевая гипотеза** и **альтернативная**. Первая рассматривает ситуацию с *неизменными условиями*, в то время как вторая ей *противопоставляется*."
   ]
  },
  {
   "cell_type": "markdown",
   "metadata": {},
   "source": [
    "Предположим, что мы хотим проверить гипотезу: *действительно ли у европейских пиратов больше попугаев, чем у американских?*"
   ]
  },
  {
   "cell_type": "markdown",
   "metadata": {},
   "source": [
    "**Н0** (нулевая нипотеза): у европейских и американских пиратов **одинаковое** количество попугаев\n",
    "<br>**Н1** (альтернативная гипотеза): у европейских и американских пиратов **разное** количество попугаев"
   ]
  },
  {
   "cell_type": "markdown",
   "metadata": {},
   "source": [
    "У 20 пиратов (10 европейцев, 10 американцев) спросили, сколько попугаев у них есть. Результаты опроса представим в виде вектора, а затем перенесем в dataframe:"
   ]
  },
  {
   "cell_type": "code",
   "execution_count": 8,
   "metadata": {},
   "outputs": [],
   "source": [
    "american.parrots <- c(4, 1, 0, 2, 1, 6, 0, 3, 1, 3)\n",
    "european.parrots <- c(3, 5, 1, 1, 3, 6, 11, 2, 1, 4)\n",
    "\n",
    "# не забывайте, что  точка в R не является спец. символом!"
   ]
  },
  {
   "cell_type": "code",
   "execution_count": 9,
   "metadata": {},
   "outputs": [],
   "source": [
    "parrots.survey <- data.frame(\"parrots\" = c(american.parrots, european.parrots),\n",
    "                             \"group\" = rep(c(\"American\", \"European\"), each = 10),\n",
    "                             stringsAsFactors = FALSE)"
   ]
  },
  {
   "cell_type": "code",
   "execution_count": 10,
   "metadata": {},
   "outputs": [
    {
     "data": {
      "text/html": [
       "<table>\n",
       "<thead><tr><th scope=col>parrots</th><th scope=col>group</th></tr></thead>\n",
       "<tbody>\n",
       "\t<tr><td> 4      </td><td>American</td></tr>\n",
       "\t<tr><td> 1      </td><td>American</td></tr>\n",
       "\t<tr><td> 0      </td><td>American</td></tr>\n",
       "\t<tr><td> 2      </td><td>American</td></tr>\n",
       "\t<tr><td> 1      </td><td>American</td></tr>\n",
       "\t<tr><td> 6      </td><td>American</td></tr>\n",
       "\t<tr><td> 0      </td><td>American</td></tr>\n",
       "\t<tr><td> 3      </td><td>American</td></tr>\n",
       "\t<tr><td> 1      </td><td>American</td></tr>\n",
       "\t<tr><td> 3      </td><td>American</td></tr>\n",
       "\t<tr><td> 3      </td><td>European</td></tr>\n",
       "\t<tr><td> 5      </td><td>European</td></tr>\n",
       "\t<tr><td> 1      </td><td>European</td></tr>\n",
       "\t<tr><td> 1      </td><td>European</td></tr>\n",
       "\t<tr><td> 3      </td><td>European</td></tr>\n",
       "\t<tr><td> 6      </td><td>European</td></tr>\n",
       "\t<tr><td>11      </td><td>European</td></tr>\n",
       "\t<tr><td> 2      </td><td>European</td></tr>\n",
       "\t<tr><td> 1      </td><td>European</td></tr>\n",
       "\t<tr><td> 4      </td><td>European</td></tr>\n",
       "</tbody>\n",
       "</table>\n"
      ],
      "text/latex": [
       "\\begin{tabular}{r|ll}\n",
       " parrots & group\\\\\n",
       "\\hline\n",
       "\t  4       & American\\\\\n",
       "\t  1       & American\\\\\n",
       "\t  0       & American\\\\\n",
       "\t  2       & American\\\\\n",
       "\t  1       & American\\\\\n",
       "\t  6       & American\\\\\n",
       "\t  0       & American\\\\\n",
       "\t  3       & American\\\\\n",
       "\t  1       & American\\\\\n",
       "\t  3       & American\\\\\n",
       "\t  3       & European\\\\\n",
       "\t  5       & European\\\\\n",
       "\t  1       & European\\\\\n",
       "\t  1       & European\\\\\n",
       "\t  3       & European\\\\\n",
       "\t  6       & European\\\\\n",
       "\t 11       & European\\\\\n",
       "\t  2       & European\\\\\n",
       "\t  1       & European\\\\\n",
       "\t  4       & European\\\\\n",
       "\\end{tabular}\n"
      ],
      "text/markdown": [
       "\n",
       "| parrots | group |\n",
       "|---|---|\n",
       "|  4       | American |\n",
       "|  1       | American |\n",
       "|  0       | American |\n",
       "|  2       | American |\n",
       "|  1       | American |\n",
       "|  6       | American |\n",
       "|  0       | American |\n",
       "|  3       | American |\n",
       "|  1       | American |\n",
       "|  3       | American |\n",
       "|  3       | European |\n",
       "|  5       | European |\n",
       "|  1       | European |\n",
       "|  1       | European |\n",
       "|  3       | European |\n",
       "|  6       | European |\n",
       "| 11       | European |\n",
       "|  2       | European |\n",
       "|  1       | European |\n",
       "|  4       | European |\n",
       "\n"
      ],
      "text/plain": [
       "   parrots group   \n",
       "1   4      American\n",
       "2   1      American\n",
       "3   0      American\n",
       "4   2      American\n",
       "5   1      American\n",
       "6   6      American\n",
       "7   0      American\n",
       "8   3      American\n",
       "9   1      American\n",
       "10  3      American\n",
       "11  3      European\n",
       "12  5      European\n",
       "13  1      European\n",
       "14  1      European\n",
       "15  3      European\n",
       "16  6      European\n",
       "17 11      European\n",
       "18  2      European\n",
       "19  1      European\n",
       "20  4      European"
      ]
     },
     "metadata": {},
     "output_type": "display_data"
    }
   ],
   "source": [
    "parrots.survey        # вывод полученного dataframe"
   ]
  },
  {
   "cell_type": "markdown",
   "metadata": {},
   "source": [
    "Теперь попробуем представить наши данные в виде наглядного статистического графика:"
   ]
  },
  {
   "cell_type": "code",
   "execution_count": 11,
   "metadata": {},
   "outputs": [
    {
     "data": {
      "image/png": "[encoded data removed]",
      "text/plain": [
       "Plot with title \"Parrots Survey\""
      ]
     },
     "metadata": {},
     "output_type": "display_data"
    }
   ],
   "source": [
    "yarrr::pirateplot(parrots ~ group,            # корреляция\n",
    "                  data = parrots.survey,      # датасет\n",
    "                  main = \"Parrots Survey\",    # название графика\n",
    "                  ylab = \"Number of Parrots\", # название оси y\n",
    "                  xlab = \"Group\",             # название оси x\n",
    "                  pal = \"pony\",               # цветовая схема (optional)\n",
    "                  theme = 2,                  # выбор типа графика\n",
    "                  point.o = .8,               # непрозрачность точек, ср. линии и проч.\n",
    "                  cap.beans = TRUE)"
   ]
  },
  {
   "cell_type": "markdown",
   "metadata": {},
   "source": [
    "Наверняка у вас появился вопрос: а что это за график и как его интерпретировать? Это так называемый **pirate plot** - созданный разработчиками R график, совмещающий три параметра: необработанные (входные) данные, описательную статистику и выходные данные."
   ]
  },
  {
   "cell_type": "markdown",
   "metadata": {},
   "source": [
    "Что показано на графике:\n",
    "- фигуры (похожие на вазы) показывают максимальное и минимальное значения в выборках (верх и низ вазы, соответственно) и плотность распределения\n",
    "- толстой черной линией указаны медианы выборок\n",
    "- цветные прямоугольники показывают 50% наблюдений (где верхняя сторона - верхний квартиль, нижняя - нижний квартиль)\n",
    "\n",
    "<br><i>нижний квартиль показывает значение, ниже которого находится четверть наблюдений\n",
    "<br><i>верхний квартиль показывает значение, выше которого находится четверть наблюдений"
   ]
  },
  {
   "cell_type": "markdown",
   "metadata": {},
   "source": [
    "Pirate plot это частный случай стандартного **boxplot** (называемого в статистике \"ящик с усами\"), вы можете его вывести установив параметр: theme = 4"
   ]
  },
  {
   "cell_type": "code",
   "execution_count": 12,
   "metadata": {},
   "outputs": [
    {
     "data": {
      "image/png": "[encoded data removed]",
      "text/plain": [
       "Plot with title \"Parrots Survey\""
      ]
     },
     "metadata": {},
     "output_type": "display_data"
    }
   ],
   "source": [
    "yarrr::pirateplot(parrots ~ group,                  \n",
    "                  data = parrots.survey,\n",
    "                  main = \"Parrots Survey\",\n",
    "                  ylab = \"Number of Parrots\",\n",
    "                  xlab = \"Group\",\n",
    "                  pal = \"pony\", \n",
    "                  theme = 4, point.o = .8, cap.beans = TRUE)"
   ]
  },
  {
   "cell_type": "markdown",
   "metadata": {},
   "source": [
    "Таким способом вы можете строить графическую интерпретацию своих данных, наглядно отображающую основные статистические параметры."
   ]
  },
  {
   "cell_type": "markdown",
   "metadata": {},
   "source": [
    "Альтернативой построения такого графика является функция **summary**"
   ]
  },
  {
   "cell_type": "code",
   "execution_count": 13,
   "metadata": {},
   "outputs": [
    {
     "data": {
      "text/plain": [
       "   Min. 1st Qu.  Median    Mean 3rd Qu.    Max. \n",
       "    0.0     1.0     1.5     2.1     3.0     6.0 "
      ]
     },
     "metadata": {},
     "output_type": "display_data"
    },
    {
     "data": {
      "text/plain": [
       "   Min. 1st Qu.  Median    Mean 3rd Qu.    Max. \n",
       "   1.00    1.25    3.00    3.70    4.75   11.00 "
      ]
     },
     "metadata": {},
     "output_type": "display_data"
    }
   ],
   "source": [
    "summary(american.parrots)\n",
    "summary(european.parrots)"
   ]
  },
  {
   "cell_type": "markdown",
   "metadata": {},
   "source": [
    "Мы научились строить один из статистических графиков, но для полноценных проверок гипотез нужно научиться *оценивать их значимость* и отвергать неподходящие."
   ]
  },
  {
   "cell_type": "markdown",
   "metadata": {},
   "source": [
    "# Статистические критерии"
   ]
  },
  {
   "cell_type": "markdown",
   "metadata": {},
   "source": [
    "Статистический критерий - особое правило, позволяющее принять или отвергнуть статистическую гипотезу. Чтобы его построить, необходимо выбрать правильную функцию (формулу), в зависимости от типа ваших данных (много ли у вас наблюдений, были ли они собраны у одного человека или у группы и т.д.)."
   ]
  },
  {
   "cell_type": "markdown",
   "metadata": {},
   "source": [
    "Вернемся к нашим гипотезам с попугаями и проверим через **t-test**, именуемый **t-критерием Стьюдента***, верна ли наша альтернативная гипотеза или нет."
   ]
  },
  {
   "cell_type": "markdown",
   "metadata": {},
   "source": [
    "<i>* t-критерий стьюдента - статистический метод, который позволяет сравнивать средние значения двух выборок и на основе результатов теста делать заключение о том, различаются ли они друг от друга статистически или нет."
   ]
  },
  {
   "cell_type": "markdown",
   "metadata": {},
   "source": [
    "# t.test()"
   ]
  },
  {
   "cell_type": "markdown",
   "metadata": {},
   "source": [
    "|Параметр|Описание|\n",
    "|---|---|\n",
    "|x|Набор данных (вектор), с которыми сравнивается нулевая гипотеза|\n",
    "|mu|Нулевая гипотеза (некоторое известное значение)|\n",
    "|alternative|Параметр выбора типа теста: \"two.sided\", \"greater\" или “less\"|\n",
    "|subset|Опциональный параметр для выбора нескольких параметров для сравнения|"
   ]
  },
  {
   "cell_type": "code",
   "execution_count": 40,
   "metadata": {},
   "outputs": [
    {
     "data": {
      "text/plain": [
       "\n",
       "\tWelch Two Sample t-test\n",
       "\n",
       "data:  american.parrots and european.parrots\n",
       "t = -1.3915, df = 15.002, p-value = 0.1844\n",
       "alternative hypothesis: true difference in means is not equal to 0\n",
       "95 percent confidence interval:\n",
       " -4.0508849  0.8508849\n",
       "sample estimates:\n",
       "mean of x mean of y \n",
       "      2.1       3.7 \n"
      ]
     },
     "metadata": {},
     "output_type": "display_data"
    }
   ],
   "source": [
    "parrots.test <- t.test(x = american.parrots,       # Смотрим зависимость по количеству попугаев\n",
    "                       y = european.parrots,\n",
    "                       alternative = \"two.sided\") \n",
    "parrots.test"
   ]
  },
  {
   "cell_type": "markdown",
   "metadata": {},
   "source": [
    "Для проверки значимости полученных результатов посмотрим на значение **p-value*** (выведем отдельно)\n",
    "<br>\n",
    "<br>*<i>p-value это вероятность получить такие или более выраженные различия при условии, что в генеральной совокупности никаких различий на самом деле нет. Если он меньше 0,05 - нулевая гипотеза отвергается, а альтернативная признается верной"
   ]
  },
  {
   "cell_type": "code",
   "execution_count": 15,
   "metadata": {},
   "outputs": [
    {
     "data": {
      "text/html": [
       "0.184379716913732"
      ],
      "text/latex": [
       "0.184379716913732"
      ],
      "text/markdown": [
       "0.184379716913732"
      ],
      "text/plain": [
       "[1] 0.1843797"
      ]
     },
     "metadata": {},
     "output_type": "display_data"
    }
   ],
   "source": [
    "parrots.test$p.value"
   ]
  },
  {
   "cell_type": "markdown",
   "metadata": {},
   "source": [
    "Полученное значение меньше 0,05 => гипотеза Н0 *отклоняется*, а H1 *признается значимой*."
   ]
  },
  {
   "cell_type": "markdown",
   "metadata": {},
   "source": [
    "Мы проверили гипотезы на двух выборках: пиратах из Англии и Америки, но t-test можно провести и для одной выборки, наблюдения которой будут сравниваться с *некоторым параметром*, представляющим нулевую гипотезу."
   ]
  },
  {
   "cell_type": "markdown",
   "metadata": {},
   "source": [
    "Вспомним про датасет **pirates**, который мы загрузили в самом начале, и проведем t-test для него: посмотрим, отличается ли в среднем вес пиратов от 80 кг."
   ]
  },
  {
   "cell_type": "markdown",
   "metadata": {},
   "source": [
    "**Н0**: вес пиратов *не отличается* от 80 кг\n",
    "<br>**Н1**: вес пиратов *отличается* от 80 кг"
   ]
  },
  {
   "cell_type": "code",
   "execution_count": 16,
   "metadata": {},
   "outputs": [],
   "source": [
    "weight.ttest <- t.test(x = pirates$weight,  \n",
    "                       mu = 80)              # значение, с которым сравниваем выборку (нулевая гипотеза)"
   ]
  },
  {
   "cell_type": "code",
   "execution_count": 17,
   "metadata": {},
   "outputs": [
    {
     "data": {
      "text/plain": [
       "\n",
       "\tOne Sample t-test\n",
       "\n",
       "data:  pirates$weight\n",
       "t = -29.962, df = 999, p-value < 2.2e-16\n",
       "alternative hypothesis: true mean is not equal to 80\n",
       "95 percent confidence interval:\n",
       " 69.07292 70.41628\n",
       "sample estimates:\n",
       "mean of x \n",
       "  69.7446 \n"
      ]
     },
     "metadata": {},
     "output_type": "display_data"
    }
   ],
   "source": [
    "weight.ttest"
   ]
  },
  {
   "cell_type": "markdown",
   "metadata": {},
   "source": [
    "p-value гораздо меньше 0,05 => вес в среднем отличается от 80 кг, среднее значение по выборке можно увидеть в последней строке\n",
    "<br> А что если заменить параметр (нулевую гипотезу) на 69,7? p-value должна показать, что нулевая гипотеза верная"
   ]
  },
  {
   "cell_type": "code",
   "execution_count": 20,
   "metadata": {},
   "outputs": [],
   "source": [
    "weight.ttest <- t.test(x = pirates$weight,  \n",
    "                       mu = 69.7) "
   ]
  },
  {
   "cell_type": "code",
   "execution_count": 21,
   "metadata": {},
   "outputs": [
    {
     "data": {
      "text/plain": [
       "\n",
       "\tOne Sample t-test\n",
       "\n",
       "data:  pirates$weight\n",
       "t = 0.1303, df = 999, p-value = 0.8964\n",
       "alternative hypothesis: true mean is not equal to 69.7\n",
       "95 percent confidence interval:\n",
       " 69.07292 70.41628\n",
       "sample estimates:\n",
       "mean of x \n",
       "  69.7446 \n"
      ]
     },
     "metadata": {},
     "output_type": "display_data"
    }
   ],
   "source": [
    "weight.ttest"
   ]
  },
  {
   "cell_type": "markdown",
   "metadata": {},
   "source": [
    "Как и предполагалось: p-value больше 0,05 => *нулевая гипотеза признается значимой* - вес пиратов в среднем около 70 кг"
   ]
  },
  {
   "cell_type": "markdown",
   "metadata": {},
   "source": [
    "То что мы сейчас провели называется **тестом с одновыборочным t-критерием** - у нас было *одно* известное значение, с которым мы сравнивали выборку."
   ]
  },
  {
   "cell_type": "markdown",
   "metadata": {},
   "source": [
    "Но мы можем сравнивать данные и по *двум* значениям, т.е. **двухвыборочному t-критерию**, всё, что нам понадобится - переменная (вторая выборка), значения которой *варьируются по двум параметрам*."
   ]
  },
  {
   "cell_type": "code",
   "execution_count": null,
   "metadata": {},
   "outputs": [],
   "source": [
    "# Общий синтаксис (не запускать!)\n",
    "\n",
    "t.test(formula = y ~ x,    # x - переменная, принимающая 2 значения (укажете больше - получите ошибку)\n",
    "       data = df)"
   ]
  },
  {
   "cell_type": "markdown",
   "metadata": {},
   "source": [
    "Проверим гипотезу: зависит ли вес пиратов от возраста, причем рассматривать будем 30 и 40-летних:"
   ]
  },
  {
   "cell_type": "code",
   "execution_count": 24,
   "metadata": {},
   "outputs": [
    {
     "data": {
      "text/plain": [
       "\n",
       "\tWelch Two Sample t-test\n",
       "\n",
       "data:  weight by age\n",
       "t = 0.94943, df = 13.575, p-value = 0.359\n",
       "alternative hypothesis: true difference in means is not equal to 0\n",
       "95 percent confidence interval:\n",
       " -2.325927  6.001337\n",
       "sample estimates:\n",
       "mean in group 30 mean in group 40 \n",
       "         69.6377          67.8000 \n"
      ]
     },
     "metadata": {},
     "output_type": "display_data"
    }
   ],
   "source": [
    "weightage.htest <- t.test(formula = weight ~ age,\n",
    "                          data = pirates,\n",
    "                          subset = age %in% c(30, 40))  # указание возраста\n",
    "\n",
    "weightage.htest"
   ]
  },
  {
   "cell_type": "markdown",
   "metadata": {},
   "source": [
    "Выводы по результату сделайте сами."
   ]
  },
  {
   "cell_type": "code",
   "execution_count": 39,
   "metadata": {},
   "outputs": [
    {
     "data": {
      "text/plain": [
       "\n",
       "\tWelch Two Sample t-test\n",
       "\n",
       "data:  parrots by eyepatch\n",
       "t = -1.7634, df = 449.48, p-value = 0.0785\n",
       "alternative hypothesis: true difference in means is not equal to 0\n",
       "95 percent confidence interval:\n",
       " -0.95531729  0.05170459\n",
       "sample estimates:\n",
       "mean in group 0 mean in group 1 \n",
       "       2.372093        2.823899 \n"
      ]
     },
     "metadata": {},
     "output_type": "display_data"
    }
   ],
   "source": [
    "t.test(formula = parrots ~ eyepatch,      # Проверяем зависимость наличия попугая от повязки на глазу у пиратов-мужчин\n",
    "       data = pirates,\n",
    "       subset = sex == \"male\")"
   ]
  },
  {
   "cell_type": "markdown",
   "metadata": {},
   "source": [
    "# cor.test()"
   ]
  },
  {
   "cell_type": "markdown",
   "metadata": {},
   "source": [
    "Вы также можете провести обычную **корреляцию**: допустим, мы хотим посмотреть зависимость количества татуировок у пиратов от их возраста:"
   ]
  },
  {
   "cell_type": "code",
   "execution_count": 82,
   "metadata": {},
   "outputs": [
    {
     "data": {
      "text/plain": [
       "\n",
       "\tPearson's product-moment correlation\n",
       "\n",
       "data:  tattoos and age\n",
       "t = 0.76541, df = 998, p-value = 0.4442\n",
       "alternative hypothesis: true correlation is not equal to 0\n",
       "95 percent confidence interval:\n",
       " -0.03782828  0.08608543\n",
       "sample estimates:\n",
       "       cor \n",
       "0.02422161 \n"
      ]
     },
     "metadata": {},
     "output_type": "display_data"
    }
   ],
   "source": [
    "tattoosage <- cor.test(formula = ~ tattoos + age,\n",
    "                       data = pirates)\n",
    "tattoosage"
   ]
  },
  {
   "cell_type": "code",
   "execution_count": 83,
   "metadata": {},
   "outputs": [],
   "source": [
    "age.parrots.ctest <- cor.test(x = pirates$age,        # Аналогичные результаты другим способом записи\n",
    "                              y = pirates$parrots)"
   ]
  },
  {
   "cell_type": "markdown",
   "metadata": {},
   "source": [
    "# chsq.test()"
   ]
  },
  {
   "cell_type": "markdown",
   "metadata": {},
   "source": [
    "Еще одно статистическое распределение (тест) - **хи-квадрат**. Показывает есть ли разница в показателях результатов по номинальной шкале (например, пол, цвет глаз, имя и т. д.).\n",
    "\n",
    "*обратите внимание: функция chsq.test() принимает файлы табличного вида (table())*\n"
   ]
  },
  {
   "cell_type": "code",
   "execution_count": null,
   "metadata": {},
   "outputs": [],
   "source": [
    "# Общий синтаксис (не запускать!)\n",
    "chisq.test(x = table(x))"
   ]
  },
  {
   "cell_type": "markdown",
   "metadata": {},
   "source": [
    "Хи-квадрат тесты также могут быть *одно-* и *двухвыборочными*. Проведем **одновыборочный хи-квадрат тест**, чтобы узнать - одинаково ли распространены колледжи пиратов?"
   ]
  },
  {
   "cell_type": "code",
   "execution_count": 84,
   "metadata": {},
   "outputs": [
    {
     "data": {
      "text/plain": [
       "\n",
       " CCCC JSSFP \n",
       "  658   342 "
      ]
     },
     "metadata": {},
     "output_type": "display_data"
    }
   ],
   "source": [
    "table(pirates$college)   # Получаем таблицу из столбца"
   ]
  },
  {
   "cell_type": "markdown",
   "metadata": {},
   "source": [
    "По результатам: в колледж CCCC ходило явно больше пиратов => результаты распространены неодинаково => сам параметр хи-квадрат должен быть *большим*, а p-value должна быть *маленькой*."
   ]
  },
  {
   "cell_type": "code",
   "execution_count": 86,
   "metadata": {},
   "outputs": [
    {
     "data": {
      "text/plain": [
       "\n",
       "\tChi-squared test for given probabilities\n",
       "\n",
       "data:  table(pirates$college)\n",
       "X-squared = 99.856, df = 1, p-value < 2.2e-16\n"
      ]
     },
     "metadata": {},
     "output_type": "display_data"
    }
   ],
   "source": [
    "college.cstest <- chisq.test(x = table(pirates$college))\n",
    "college.cstest"
   ]
  },
  {
   "cell_type": "markdown",
   "metadata": {},
   "source": [
    "*Результаты подтвердились.*"
   ]
  },
  {
   "cell_type": "markdown",
   "metadata": {},
   "source": [
    "Если вы хотите увидеть, зависит ли частота одной номинальной переменной от второй номинальной переменной, вы должны провести **двухвыборочный тест хи-квадрат**. Например, мы можем узнать, есть ли связь между колледжем, в который пошел пират, и носит ли он / она повязку на глазу."
   ]
  },
  {
   "cell_type": "code",
   "execution_count": 87,
   "metadata": {},
   "outputs": [
    {
     "data": {
      "text/plain": [
       "   \n",
       "    CCCC JSSFP\n",
       "  0  225   117\n",
       "  1  433   225"
      ]
     },
     "metadata": {},
     "output_type": "display_data"
    }
   ],
   "source": [
    "table(pirates$eyepatch,  # Создание таблицы из двух столбиков\n",
    "      pirates$college)"
   ]
  },
  {
   "cell_type": "code",
   "execution_count": 88,
   "metadata": {},
   "outputs": [
    {
     "data": {
      "text/plain": [
       "\n",
       "\tPearson's Chi-squared test with Yates' continuity correction\n",
       "\n",
       "data:  table(pirates$college, pirates$eyepatch)\n",
       "X-squared = 0, df = 1, p-value = 1\n"
      ]
     },
     "metadata": {},
     "output_type": "display_data"
    }
   ],
   "source": [
    "colpatch.cstest <- chisq.test(x = table(pirates$college,        # Проверка теста\n",
    "                                        pirates$eyepatch))\n",
    "\n",
    "colpatch.cstest"
   ]
  },
  {
   "cell_type": "markdown",
   "metadata": {},
   "source": [
    "p-value = 1 сообщает о плохих результатах: колледж и повязка на глазу никак не связаны между собой.   "
   ]
  },
  {
   "cell_type": "markdown",
   "metadata": {},
   "source": [
    "# Функция APA"
   ]
  },
  {
   "cell_type": "markdown",
   "metadata": {},
   "source": [
    "Для более краткого вывода результов статистических тестов можно воспользоваться функцией APA:"
   ]
  },
  {
   "cell_type": "code",
   "execution_count": 89,
   "metadata": {},
   "outputs": [
    {
     "data": {
      "text/html": [
       "'mean difference = -0.22, t(135.47) = 0.35, p = 0.73 (2-tailed)'"
      ],
      "text/latex": [
       "'mean difference = -0.22, t(135.47) = 0.35, p = 0.73 (2-tailed)'"
      ],
      "text/markdown": [
       "'mean difference = -0.22, t(135.47) = 0.35, p = 0.73 (2-tailed)'"
      ],
      "text/plain": [
       "[1] \"mean difference = -0.22, t(135.47) = 0.35, p = 0.73 (2-tailed)\""
      ]
     },
     "metadata": {},
     "output_type": "display_data"
    }
   ],
   "source": [
    "test.result <- t.test(age ~ headband,      # Пример для t-test\n",
    "                      data = pirates)\n",
    "yarrr::apa(test.result)"
   ]
  },
  {
   "cell_type": "code",
   "execution_count": 90,
   "metadata": {},
   "outputs": [
    {
     "data": {
      "text/html": [
       "'r = 0.19, t(998) = 6.13, p &lt; 0.01 (2-tailed)'"
      ],
      "text/latex": [
       "'r = 0.19, t(998) = 6.13, p < 0.01 (2-tailed)'"
      ],
      "text/markdown": [
       "'r = 0.19, t(998) = 6.13, p &lt; 0.01 (2-tailed)'"
      ],
      "text/plain": [
       "[1] \"r = 0.19, t(998) = 6.13, p < 0.01 (2-tailed)\""
      ]
     },
     "metadata": {},
     "output_type": "display_data"
    }
   ],
   "source": [
    "age.parrots.ctest <- cor.test(formula = ~ age + parrots,      # Пример для корреляции\n",
    "                              data = pirates)\n",
    "yarrr::apa(age.parrots.ctest)"
   ]
  },
  {
   "cell_type": "markdown",
   "metadata": {},
   "source": [
    "*Продолжение применения статистического анализа в R ищете в файле **R statistics II**!*"
   ]
  }
 ],
 "metadata": {
  "kernelspec": {
   "display_name": "R",
   "language": "R",
   "name": "ir"
  },
  "language_info": {
   "codemirror_mode": "r",
   "file_extension": ".r",
   "mimetype": "text/x-r-source",
   "name": "R",
   "pygments_lexer": "r",
   "version": "3.6.1"
  }
 },
 "nbformat": 4,
 "nbformat_minor": 4
}
