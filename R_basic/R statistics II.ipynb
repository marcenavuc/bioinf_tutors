{
 "cells": [
  {
   "cell_type": "markdown",
   "metadata": {},
   "source": [
    "# Статистика в R - часть вторая"
   ]
  },
  {
   "cell_type": "markdown",
   "metadata": {},
   "source": [
    "*Это продолжение руководства по использованию статистики в R, настоятельно рекомендуем ознакомиться с первой частью перед прочтением этого документа*"
   ]
  },
  {
   "cell_type": "markdown",
   "metadata": {},
   "source": [
    "В предыдущей части мы научились сравнивать одну выборку с некоторым известным значением или с другой выборкой, т.е. мы проводили **попарное сравнениие**. Теперь рассмотрим метод, позволяющий сравнивать *множество* выборок между собой - **ANOVA**."
   ]
  },
  {
   "cell_type": "markdown",
   "metadata": {},
   "source": [
    "# ANOVA - дисперсионный анализ"
   ]
  },
  {
   "cell_type": "markdown",
   "metadata": {},
   "source": [
    "ANOVA сравнивает насколько сильно отличаются **дисперсии** данных *по выборке* (внутригрупповая дисперсия) и *между выборками* (межгрупповая дисперсия).\n",
    "<br>Межгрупповая дисперсия **велика** => группы действительно **различаются** по своим средним значениям.\n",
    "<br>Межгрупповая дисперсия **мала** => все группы **одинаковы**"
   ]
  },
  {
   "cell_type": "markdown",
   "metadata": {},
   "source": [
    "Алгоритм выполнения ANOVA можно выполнить двумя способами:"
   ]
  },
  {
   "cell_type": "code",
   "execution_count": null,
   "metadata": {},
   "outputs": [],
   "source": [
    "# Способ I - не запускать!\n",
    "mod.aov <- aov(formula = y ~ x1 + x2 + ...,       # Шаг 1: создать объект aov\n",
    "               data = data)\n",
    "\n",
    "summary(mod.aov)                                  # Шаг 2: просмотреть summary"
   ]
  },
  {
   "cell_type": "code",
   "execution_count": null,
   "metadata": {},
   "outputs": [],
   "source": [
    "# Способ II - не запускать!\n",
    "model.ANOVA <- lm(y ~ x1 + x2 + ...,              # Шаг 1: создать объект lm (линейная модель)\n",
    "                  data = data)\n",
    "\n",
    "anova(model.ANOVA)                                # шаг 2: применить функцию anova"
   ]
  },
  {
   "cell_type": "markdown",
   "metadata": {},
   "source": [
    "**Обратите внимание:** в формуле *formula = y ~ x* переменная **y** должна быть **числом**, а **x** - переменной, показывающей **категорию**. Если у вас x это числовые данные, то сначала их нужно перевести в тип данных *factor*."
   ]
  },
  {
   "cell_type": "markdown",
   "metadata": {},
   "source": [
    "# Односторонний дисперсионный анализ"
   ]
  },
  {
   "cell_type": "markdown",
   "metadata": {},
   "source": [
    "Проведем дисперсионный анализ на данных по пассажирам Титаника из датасета **titanic**."
   ]
  },
  {
   "cell_type": "code",
   "execution_count": 1,
   "metadata": {},
   "outputs": [
    {
     "name": "stdout",
     "output_type": "stream",
     "text": [
      "package 'titanic' successfully unpacked and MD5 sums checked\n",
      "\n",
      "The downloaded binary packages are in\n",
      "\tC:\\Users\\User\\AppData\\Local\\Temp\\RtmpKizGRm\\downloaded_packages\n"
     ]
    }
   ],
   "source": [
    "install.packages(\"titanic\")       # Загрузите датасет"
   ]
  },
  {
   "cell_type": "code",
   "execution_count": 3,
   "metadata": {},
   "outputs": [
    {
     "data": {
      "text/html": [
       "<table>\n",
       "<thead><tr><th scope=col>PassengerId</th><th scope=col>Survived</th><th scope=col>Pclass</th><th scope=col>Name</th><th scope=col>Sex</th><th scope=col>Age</th><th scope=col>SibSp</th><th scope=col>Parch</th><th scope=col>Ticket</th><th scope=col>Fare</th><th scope=col>Cabin</th><th scope=col>Embarked</th></tr></thead>\n",
       "<tbody>\n",
       "\t<tr><td>1                                                  </td><td>0                                                  </td><td>3                                                  </td><td>Braund, Mr. Owen Harris                            </td><td>male                                               </td><td>22                                                 </td><td>1                                                  </td><td>0                                                  </td><td>A/5 21171                                          </td><td> 7.2500                                            </td><td>                                                   </td><td>S                                                  </td></tr>\n",
       "\t<tr><td>2                                                  </td><td>1                                                  </td><td>1                                                  </td><td>Cumings, Mrs. John Bradley (Florence Briggs Thayer)</td><td>female                                             </td><td>38                                                 </td><td>1                                                  </td><td>0                                                  </td><td>PC 17599                                           </td><td>71.2833                                            </td><td>C85                                                </td><td>C                                                  </td></tr>\n",
       "\t<tr><td>3                                                  </td><td>1                                                  </td><td>3                                                  </td><td>Heikkinen, Miss. Laina                             </td><td>female                                             </td><td>26                                                 </td><td>0                                                  </td><td>0                                                  </td><td>STON/O2. 3101282                                   </td><td> 7.9250                                            </td><td>                                                   </td><td>S                                                  </td></tr>\n",
       "\t<tr><td>4                                                  </td><td>1                                                  </td><td>1                                                  </td><td>Futrelle, Mrs. Jacques Heath (Lily May Peel)       </td><td>female                                             </td><td>35                                                 </td><td>1                                                  </td><td>0                                                  </td><td>113803                                             </td><td>53.1000                                            </td><td>C123                                               </td><td>S                                                  </td></tr>\n",
       "\t<tr><td>5                                                  </td><td>0                                                  </td><td>3                                                  </td><td>Allen, Mr. William Henry                           </td><td>male                                               </td><td>35                                                 </td><td>0                                                  </td><td>0                                                  </td><td>373450                                             </td><td> 8.0500                                            </td><td>                                                   </td><td>S                                                  </td></tr>\n",
       "\t<tr><td>6                                                  </td><td>0                                                  </td><td>3                                                  </td><td>Moran, Mr. James                                   </td><td>male                                               </td><td>NA                                                 </td><td>0                                                  </td><td>0                                                  </td><td>330877                                             </td><td> 8.4583                                            </td><td>                                                   </td><td>Q                                                  </td></tr>\n",
       "</tbody>\n",
       "</table>\n"
      ],
      "text/latex": [
       "\\begin{tabular}{r|llllllllllll}\n",
       " PassengerId & Survived & Pclass & Name & Sex & Age & SibSp & Parch & Ticket & Fare & Cabin & Embarked\\\\\n",
       "\\hline\n",
       "\t 1                                                   & 0                                                   & 3                                                   & Braund, Mr. Owen Harris                             & male                                                & 22                                                  & 1                                                   & 0                                                   & A/5 21171                                           &  7.2500                                             &                                                     & S                                                  \\\\\n",
       "\t 2                                                   & 1                                                   & 1                                                   & Cumings, Mrs. John Bradley (Florence Briggs Thayer) & female                                              & 38                                                  & 1                                                   & 0                                                   & PC 17599                                            & 71.2833                                             & C85                                                 & C                                                  \\\\\n",
       "\t 3                                                   & 1                                                   & 3                                                   & Heikkinen, Miss. Laina                              & female                                              & 26                                                  & 0                                                   & 0                                                   & STON/O2. 3101282                                    &  7.9250                                             &                                                     & S                                                  \\\\\n",
       "\t 4                                                   & 1                                                   & 1                                                   & Futrelle, Mrs. Jacques Heath (Lily May Peel)        & female                                              & 35                                                  & 1                                                   & 0                                                   & 113803                                              & 53.1000                                             & C123                                                & S                                                  \\\\\n",
       "\t 5                                                   & 0                                                   & 3                                                   & Allen, Mr. William Henry                            & male                                                & 35                                                  & 0                                                   & 0                                                   & 373450                                              &  8.0500                                             &                                                     & S                                                  \\\\\n",
       "\t 6                                                   & 0                                                   & 3                                                   & Moran, Mr. James                                    & male                                                & NA                                                  & 0                                                   & 0                                                   & 330877                                              &  8.4583                                             &                                                     & Q                                                  \\\\\n",
       "\\end{tabular}\n"
      ],
      "text/markdown": [
       "\n",
       "| PassengerId | Survived | Pclass | Name | Sex | Age | SibSp | Parch | Ticket | Fare | Cabin | Embarked |\n",
       "|---|---|---|---|---|---|---|---|---|---|---|---|\n",
       "| 1                                                   | 0                                                   | 3                                                   | Braund, Mr. Owen Harris                             | male                                                | 22                                                  | 1                                                   | 0                                                   | A/5 21171                                           |  7.2500                                             |                                                     | S                                                   |\n",
       "| 2                                                   | 1                                                   | 1                                                   | Cumings, Mrs. John Bradley (Florence Briggs Thayer) | female                                              | 38                                                  | 1                                                   | 0                                                   | PC 17599                                            | 71.2833                                             | C85                                                 | C                                                   |\n",
       "| 3                                                   | 1                                                   | 3                                                   | Heikkinen, Miss. Laina                              | female                                              | 26                                                  | 0                                                   | 0                                                   | STON/O2. 3101282                                    |  7.9250                                             |                                                     | S                                                   |\n",
       "| 4                                                   | 1                                                   | 1                                                   | Futrelle, Mrs. Jacques Heath (Lily May Peel)        | female                                              | 35                                                  | 1                                                   | 0                                                   | 113803                                              | 53.1000                                             | C123                                                | S                                                   |\n",
       "| 5                                                   | 0                                                   | 3                                                   | Allen, Mr. William Henry                            | male                                                | 35                                                  | 0                                                   | 0                                                   | 373450                                              |  8.0500                                             |                                                     | S                                                   |\n",
       "| 6                                                   | 0                                                   | 3                                                   | Moran, Mr. James                                    | male                                                | NA                                                  | 0                                                   | 0                                                   | 330877                                              |  8.4583                                             |                                                     | Q                                                   |\n",
       "\n"
      ],
      "text/plain": [
       "  PassengerId Survived Pclass\n",
       "1 1           0        3     \n",
       "2 2           1        1     \n",
       "3 3           1        3     \n",
       "4 4           1        1     \n",
       "5 5           0        3     \n",
       "6 6           0        3     \n",
       "  Name                                                Sex    Age SibSp Parch\n",
       "1 Braund, Mr. Owen Harris                             male   22  1     0    \n",
       "2 Cumings, Mrs. John Bradley (Florence Briggs Thayer) female 38  1     0    \n",
       "3 Heikkinen, Miss. Laina                              female 26  0     0    \n",
       "4 Futrelle, Mrs. Jacques Heath (Lily May Peel)        female 35  1     0    \n",
       "5 Allen, Mr. William Henry                            male   35  0     0    \n",
       "6 Moran, Mr. James                                    male   NA  0     0    \n",
       "  Ticket           Fare    Cabin Embarked\n",
       "1 A/5 21171         7.2500       S       \n",
       "2 PC 17599         71.2833 C85   C       \n",
       "3 STON/O2. 3101282  7.9250       S       \n",
       "4 113803           53.1000 C123  S       \n",
       "5 373450            8.0500       S       \n",
       "6 330877            8.4583       Q       "
      ]
     },
     "metadata": {},
     "output_type": "display_data"
    }
   ],
   "source": [
    "library(titanic)         # Просмотр содержимого датасета\n",
    "head(titanic_train)"
   ]
  },
  {
   "cell_type": "markdown",
   "metadata": {},
   "source": [
    "Давайте сгруппируем пассажиров Титаника по *номеру класса*, которым они плыли, и посмотрим есть ли внутри классов различия по *возрасту* пассажиров. Формулируем гипотезы:"
   ]
  },
  {
   "cell_type": "markdown",
   "metadata": {},
   "source": [
    "**Н0:** различий по возрасту внутри классов **нет**\n",
    "<br>**H1:** различия по возрасту внутри классов **есть**"
   ]
  },
  {
   "cell_type": "markdown",
   "metadata": {},
   "source": [
    "Сначала построим графики, чтобы убедиться в **нормальном распределении данных** (процедура необязательная)."
   ]
  },
  {
   "cell_type": "code",
   "execution_count": 17,
   "metadata": {},
   "outputs": [
    {
     "name": "stderr",
     "output_type": "stream",
     "text": [
      "`stat_bin()` using `bins = 30`. Pick better value with `binwidth`.\n",
      "Warning message:\n",
      "\"Removed 177 rows containing non-finite values (stat_bin).\""
     ]
    },
    {
     "data": {
      "image/png": "[encoded data removed]",
      "text/plain": [
       "plot without title"
      ]
     },
     "metadata": {},
     "output_type": "display_data"
    }
   ],
   "source": [
    "library(ggplot2)\n",
    "ggplot(titanic_train, aes(x = Age)) + geom_histogram() + facet_wrap(~ Pclass, ncol = 1)"
   ]
  },
  {
   "cell_type": "markdown",
   "metadata": {},
   "source": [
    "Распределение нормальное - применяем ANOVA:"
   ]
  },
  {
   "cell_type": "code",
   "execution_count": 33,
   "metadata": {},
   "outputs": [
    {
     "data": {
      "text/plain": [
       "                   Df Sum Sq Mean Sq F value Pr(>F)    \n",
       "as.factor(Pclass)   2  20930   10465   57.44 <2e-16 ***\n",
       "Residuals         711 129527     182                   \n",
       "---\n",
       "Signif. codes:  0 '***' 0.001 '**' 0.01 '*' 0.05 '.' 0.1 ' ' 1\n",
       "177 observations deleted due to missingness"
      ]
     },
     "metadata": {},
     "output_type": "display_data"
    }
   ],
   "source": [
    "titanic.aov <- aov(formula = Age ~ as.factor(Pclass),     # formula = Числовая_переменная ~ Категория\n",
    "                   data = titanic_train)\n",
    "summary(titanic.aov)"
   ]
  },
  {
   "cell_type": "markdown",
   "metadata": {},
   "source": [
    "*Либо вторым способом:*"
   ]
  },
  {
   "cell_type": "code",
   "execution_count": 39,
   "metadata": {},
   "outputs": [
    {
     "data": {
      "text/html": [
       "<table>\n",
       "<thead><tr><th></th><th scope=col>Df</th><th scope=col>Sum Sq</th><th scope=col>Mean Sq</th><th scope=col>F value</th><th scope=col>Pr(&gt;F)</th></tr></thead>\n",
       "<tbody>\n",
       "\t<tr><th scope=row>as.factor(Pclass)</th><td>  2         </td><td> 20929.63   </td><td>10464.8139  </td><td>57.44348    </td><td>7.487984e-24</td></tr>\n",
       "\t<tr><th scope=row>Residuals</th><td>711         </td><td>129527.01   </td><td>  182.1758  </td><td>      NA    </td><td>          NA</td></tr>\n",
       "</tbody>\n",
       "</table>\n"
      ],
      "text/latex": [
       "\\begin{tabular}{r|lllll}\n",
       "  & Df & Sum Sq & Mean Sq & F value & Pr(>F)\\\\\n",
       "\\hline\n",
       "\tas.factor(Pclass) &   2          &  20929.63    & 10464.8139   & 57.44348     & 7.487984e-24\\\\\n",
       "\tResiduals & 711          & 129527.01    &   182.1758   &       NA     &           NA\\\\\n",
       "\\end{tabular}\n"
      ],
      "text/markdown": [
       "\n",
       "| <!--/--> | Df | Sum Sq | Mean Sq | F value | Pr(>F) |\n",
       "|---|---|---|---|---|---|\n",
       "| as.factor(Pclass) |   2          |  20929.63    | 10464.8139   | 57.44348     | 7.487984e-24 |\n",
       "| Residuals | 711          | 129527.01    |   182.1758   |       NA     |           NA |\n",
       "\n"
      ],
      "text/plain": [
       "                  Df  Sum Sq    Mean Sq    F value  Pr(>F)      \n",
       "as.factor(Pclass)   2  20929.63 10464.8139 57.44348 7.487984e-24\n",
       "Residuals         711 129527.01   182.1758       NA           NA"
      ]
     },
     "metadata": {},
     "output_type": "display_data"
    }
   ],
   "source": [
    "titanicANOVA <- lm(Age ~ as.factor(Pclass),  # Не забываем перевести численную переменную Pclass в factor!\n",
    "                   data = titanic_train) \n",
    "anova(titanicANOVA)"
   ]
  },
  {
   "cell_type": "markdown",
   "metadata": {},
   "source": [
    "Для оценки результатов посмотрим на P-value: она маленькая => *H0 отвергается* => отличия по возрасту людей в разных классах **присутствуют**."
   ]
  },
  {
   "cell_type": "markdown",
   "metadata": {},
   "source": [
    "Мы убедились в своей альтернативной гипотезе, но пока не знаем между какими пассажирскими классами есть различие. В этом поможет тест **Tukey method** или **Среднее Тьюки**, встроенный в R в виде функции *TukeyHSD()*."
   ]
  },
  {
   "cell_type": "code",
   "execution_count": 44,
   "metadata": {},
   "outputs": [
    {
     "data": {
      "text/plain": [
       "  Tukey multiple comparisons of means\n",
       "    95% family-wise confidence level\n",
       "\n",
       "Fit: aov(formula = titanicANOVA)\n",
       "\n",
       "$`as.factor(Pclass)`\n",
       "          diff        lwr        upr     p adj\n",
       "2-1  -8.355811 -11.704133  -5.007489 0.0000000\n",
       "3-1 -13.092821 -15.962198 -10.223445 0.0000000\n",
       "3-2  -4.737010  -7.676279  -1.797742 0.0004884\n"
      ]
     },
     "metadata": {},
     "output_type": "display_data"
    }
   ],
   "source": [
    "TukeyHSD(aov(titanicANOVA))"
   ]
  },
  {
   "cell_type": "markdown",
   "metadata": {},
   "source": [
    "Для анализа результатов посмотрим на получившуюся таблицу, где каждая строка представляет попарное сравнение классов, которыми путешествовали пассажиры: 2-1, 3-1 и 3-2. Столбик *diff* показывает **доверительный интервал**, *lwr* и *upr* его **границы** и последний столбик отвечает за **p-value**."
   ]
  },
  {
   "cell_type": "markdown",
   "metadata": {},
   "source": [
    "P-value везде низкая => во *всех* классах в среднем **присутствует разница в возрасте** (Н0 отвергается во всех случаях)."
   ]
  },
  {
   "cell_type": "markdown",
   "metadata": {},
   "source": [
    "# Двухсторонний дисперсионный анализ"
   ]
  },
  {
   "cell_type": "markdown",
   "metadata": {},
   "source": [
    "Для проведения двухстороннего дисперсионного анализа просто увеличьте число переменных-категорий. "
   ]
  },
  {
   "cell_type": "markdown",
   "metadata": {},
   "source": [
    "Пример: насколько отличаются выживаемость пассажиров в зависимости от места их посадки и количества сестер/братьев, с которыми они плыли:"
   ]
  },
  {
   "cell_type": "code",
   "execution_count": 45,
   "metadata": {},
   "outputs": [
    {
     "data": {
      "text/html": [
       "<table>\n",
       "<thead><tr><th></th><th scope=col>Df</th><th scope=col>Sum Sq</th><th scope=col>Mean Sq</th><th scope=col>F value</th><th scope=col>Pr(&gt;F)</th></tr></thead>\n",
       "<tbody>\n",
       "\t<tr><th scope=row>Embarked</th><td>  3         </td><td>  7.017292  </td><td>2.3390975   </td><td>10.496917   </td><td>8.673212e-07</td></tr>\n",
       "\t<tr><th scope=row>as.factor(SibSp)</th><td>  6         </td><td>  7.390926  </td><td>1.2318211   </td><td> 5.527912   </td><td>1.234133e-05</td></tr>\n",
       "\t<tr><th scope=row>Residuals</th><td>881         </td><td>196.319054  </td><td>0.2228366   </td><td>       NA   </td><td>          NA</td></tr>\n",
       "</tbody>\n",
       "</table>\n"
      ],
      "text/latex": [
       "\\begin{tabular}{r|lllll}\n",
       "  & Df & Sum Sq & Mean Sq & F value & Pr(>F)\\\\\n",
       "\\hline\n",
       "\tEmbarked &   3          &   7.017292   & 2.3390975    & 10.496917    & 8.673212e-07\\\\\n",
       "\tas.factor(SibSp) &   6          &   7.390926   & 1.2318211    &  5.527912    & 1.234133e-05\\\\\n",
       "\tResiduals & 881          & 196.319054   & 0.2228366    &        NA    &           NA\\\\\n",
       "\\end{tabular}\n"
      ],
      "text/markdown": [
       "\n",
       "| <!--/--> | Df | Sum Sq | Mean Sq | F value | Pr(>F) |\n",
       "|---|---|---|---|---|---|\n",
       "| Embarked |   3          |   7.017292   | 2.3390975    | 10.496917    | 8.673212e-07 |\n",
       "| as.factor(SibSp) |   6          |   7.390926   | 1.2318211    |  5.527912    | 1.234133e-05 |\n",
       "| Residuals | 881          | 196.319054   | 0.2228366    |        NA    |           NA |\n",
       "\n"
      ],
      "text/plain": [
       "                 Df  Sum Sq     Mean Sq   F value   Pr(>F)      \n",
       "Embarked           3   7.017292 2.3390975 10.496917 8.673212e-07\n",
       "as.factor(SibSp)   6   7.390926 1.2318211  5.527912 1.234133e-05\n",
       "Residuals        881 196.319054 0.2228366        NA           NA"
      ]
     },
     "metadata": {},
     "output_type": "display_data"
    }
   ],
   "source": [
    "survived.or.not.ANOVA <- lm(Survived ~ Embarked + as.factor(SibSp),      # Добавляем нужные переменные\n",
    "                            data = titanic_train)\n",
    "anova(survived.or.not.ANOVA)"
   ]
  },
  {
   "cell_type": "code",
   "execution_count": 43,
   "metadata": {},
   "outputs": [
    {
     "data": {
      "text/plain": [
       "  Tukey multiple comparisons of means\n",
       "    95% family-wise confidence level\n",
       "\n",
       "Fit: aov(formula = survived.or.not.ANOVA)\n",
       "\n",
       "$Embarked\n",
       "           diff        lwr          upr     p adj\n",
       "C-  -0.44642857 -1.3106931  0.417835989 0.5442822\n",
       "Q-  -0.61038961 -1.4806417  0.259862466 0.2714327\n",
       "S-  -0.66304348 -1.5235422  0.197455205 0.1950333\n",
       "Q-C -0.16396104 -0.3311759  0.003253841 0.0569852\n",
       "S-C -0.21661491 -0.3218771 -0.111352736 0.0000009\n",
       "S-Q -0.05265387 -0.1991652  0.093857465 0.7914524\n",
       "\n",
       "$`as.factor(SibSp)`\n",
       "             diff         lwr        upr     p adj\n",
       "1-0  1.789126e-01  0.06705618 0.29076905 0.0000544\n",
       "2-0  1.129565e-01 -0.15667624 0.38258924 0.8791620\n",
       "3-0 -4.927025e-02 -0.40257981 0.30403931 0.9996227\n",
       "4-0 -1.443044e-01 -0.47794128 0.18933240 0.8619415\n",
       "5-0 -2.992702e-01 -0.92569415 0.32715365 0.7955414\n",
       "8-0 -2.992702e-01 -0.82955803 0.23101754 0.6378596\n",
       "2-1 -6.595611e-02 -0.34669132 0.21477910 0.9929197\n",
       "3-1 -2.281829e-01 -0.59003654 0.13367083 0.5053085\n",
       "4-1 -3.232171e-01 -0.66588888 0.01945478 0.0793060\n",
       "5-1 -4.781829e-01 -1.10946516 0.15309945 0.2759733\n",
       "8-1 -4.781829e-01 -1.01420112 0.05783540 0.1164517\n",
       "3-2 -1.622267e-01 -0.59940868 0.27495518 0.9291627\n",
       "4-2 -2.572609e-01 -0.67870363 0.16418174 0.5457147\n",
       "5-2 -4.122267e-01 -1.08950608 0.26505259 0.5492901\n",
       "8-2 -4.122267e-01 -1.00172275 0.17726925 0.3737032\n",
       "4-3 -9.503419e-02 -0.57434596 0.38427757 0.9972090\n",
       "5-3 -2.500000e-01 -0.96472591 0.46472591 0.9461674\n",
       "8-3 -2.500000e-01 -0.88216403 0.38216403 0.9057474\n",
       "5-4 -1.549658e-01 -0.86017430 0.55024269 0.9950769\n",
       "8-4 -1.549658e-01 -0.77634915 0.46641753 0.9902504\n",
       "8-5 -1.276756e-15 -0.81682961 0.81682961 1.0000000\n"
      ]
     },
     "metadata": {},
     "output_type": "display_data"
    }
   ],
   "source": [
    "TukeyHSD(aov(survived.or.not.ANOVA))"
   ]
  },
  {
   "cell_type": "markdown",
   "metadata": {},
   "source": [
    "Выводы по полученным данным сделайте сами."
   ]
  },
  {
   "cell_type": "markdown",
   "metadata": {},
   "source": [
    "*Продолжение применения статистического анализа в R ищите в файле **R statistics III**!*"
   ]
  }
 ],
 "metadata": {
  "kernelspec": {
   "display_name": "R",
   "language": "R",
   "name": "ir"
  },
  "language_info": {
   "codemirror_mode": "r",
   "file_extension": ".r",
   "mimetype": "text/x-r-source",
   "name": "R",
   "pygments_lexer": "r",
   "version": "3.6.1"
  }
 },
 "nbformat": 4,
 "nbformat_minor": 4
}
