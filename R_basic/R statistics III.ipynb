{
 "cells": [
  {
   "cell_type": "markdown",
   "metadata": {},
   "source": [
    "# Статистика в R - часть третья"
   ]
  },
  {
   "cell_type": "markdown",
   "metadata": {},
   "source": [
    "*Перед прочтением настоятельно рекомендуем ознакомиться с предыдущими частями данного руководства*"
   ]
  },
  {
   "cell_type": "markdown",
   "metadata": {},
   "source": [
    "В этой части мы узнаем об одной из самых часто используемых моделей в статистическом анализе - **линейной регрессии**, которая показывает зависимость одной переменной от одного или нескольких факторов. Уравнение линейной регресии выглядит так:"
   ]
  },
  {
   "cell_type": "markdown",
   "metadata": {},
   "source": [
    "$$y=\\beta_{0}+\\beta_{1}x_{1}+\\beta_{2}x_{2}+...\\beta_{n}x_{n}$$"
   ]
  },
  {
   "cell_type": "markdown",
   "metadata": {},
   "source": [
    "*Бета* - это параметры (коэффициенты) регрессии, *x* - регрессоры (факторы) модели, *n* - количество факторов модели."
   ]
  },
  {
   "cell_type": "markdown",
   "metadata": {},
   "source": [
    "Строить модели линейной регрессии будем по датасету **diamonds** из библотеки **yarrr**. Датасет содержит информацию по 150 алмазам (вес, чистота, цвет и стоимость)."
   ]
  },
  {
   "cell_type": "code",
   "execution_count": 2,
   "metadata": {},
   "outputs": [
    {
     "name": "stdout",
     "output_type": "stream",
     "text": [
      "package 'yarrr' successfully unpacked and MD5 sums checked\n",
      "\n",
      "The downloaded binary packages are in\n",
      "\tC:\\Users\\User\\AppData\\Local\\Temp\\RtmpG6CJAk\\downloaded_packages\n"
     ]
    }
   ],
   "source": [
    "# install.packages('yarrr')         # Для работы с датасетом установите библиотеку 'yarrr'"
   ]
  },
  {
   "cell_type": "code",
   "execution_count": 3,
   "metadata": {},
   "outputs": [
    {
     "name": "stderr",
     "output_type": "stream",
     "text": [
      "Warning message:\n",
      "\"package 'yarrr' was built under R version 3.6.3\"Loading required package: jpeg\n",
      "Loading required package: BayesFactor\n",
      "Warning message:\n",
      "\"package 'BayesFactor' was built under R version 3.6.3\"Loading required package: coda\n",
      "Warning message:\n",
      "\"package 'coda' was built under R version 3.6.3\"Loading required package: Matrix\n",
      "************\n",
      "Welcome to BayesFactor 0.9.12-4.2. If you have questions, please contact Richard Morey (richarddmorey@gmail.com).\n",
      "\n",
      "Type BFManual() to open the manual.\n",
      "************\n",
      "Loading required package: circlize\n",
      "Warning message:\n",
      "\"package 'circlize' was built under R version 3.6.3\"========================================\n",
      "circlize version 0.4.10\n",
      "CRAN page: https://cran.r-project.org/package=circlize\n",
      "Github page: https://github.com/jokergoo/circlize\n",
      "Documentation: https://jokergoo.github.io/circlize_book/book/\n",
      "\n",
      "If you use it in published research, please cite:\n",
      "Gu, Z. circlize implements and enhances circular visualization\n",
      "  in R. Bioinformatics 2014.\n",
      "\n",
      "This message can be suppressed by:\n",
      "  suppressPackageStartupMessages(library(circlize))\n",
      "========================================\n",
      "\n",
      "yarrr v0.1.5. Citation info at citation('yarrr'). Package guide at yarrr.guide()\n",
      "Email me at Nathaniel.D.Phillips.is@gmail.com\n"
     ]
    },
    {
     "data": {
      "text/html": [
       "<table>\n",
       "<thead><tr><th scope=col>weight</th><th scope=col>clarity</th><th scope=col>color</th><th scope=col>value</th></tr></thead>\n",
       "<tbody>\n",
       "\t<tr><td> 9.35</td><td>0.88 </td><td>4    </td><td>182.5</td></tr>\n",
       "\t<tr><td>11.10</td><td>1.05 </td><td>5    </td><td>191.2</td></tr>\n",
       "\t<tr><td> 8.65</td><td>0.85 </td><td>6    </td><td>175.7</td></tr>\n",
       "\t<tr><td>10.43</td><td>1.15 </td><td>5    </td><td>195.2</td></tr>\n",
       "\t<tr><td>10.62</td><td>0.92 </td><td>5    </td><td>181.6</td></tr>\n",
       "\t<tr><td>12.35</td><td>0.44 </td><td>4    </td><td>182.9</td></tr>\n",
       "</tbody>\n",
       "</table>\n"
      ],
      "text/latex": [
       "\\begin{tabular}{r|llll}\n",
       " weight & clarity & color & value\\\\\n",
       "\\hline\n",
       "\t  9.35 & 0.88  & 4     & 182.5\\\\\n",
       "\t 11.10 & 1.05  & 5     & 191.2\\\\\n",
       "\t  8.65 & 0.85  & 6     & 175.7\\\\\n",
       "\t 10.43 & 1.15  & 5     & 195.2\\\\\n",
       "\t 10.62 & 0.92  & 5     & 181.6\\\\\n",
       "\t 12.35 & 0.44  & 4     & 182.9\\\\\n",
       "\\end{tabular}\n"
      ],
      "text/markdown": [
       "\n",
       "| weight | clarity | color | value |\n",
       "|---|---|---|---|\n",
       "|  9.35 | 0.88  | 4     | 182.5 |\n",
       "| 11.10 | 1.05  | 5     | 191.2 |\n",
       "|  8.65 | 0.85  | 6     | 175.7 |\n",
       "| 10.43 | 1.15  | 5     | 195.2 |\n",
       "| 10.62 | 0.92  | 5     | 181.6 |\n",
       "| 12.35 | 0.44  | 4     | 182.9 |\n",
       "\n"
      ],
      "text/plain": [
       "  weight clarity color value\n",
       "1  9.35  0.88    4     182.5\n",
       "2 11.10  1.05    5     191.2\n",
       "3  8.65  0.85    6     175.7\n",
       "4 10.43  1.15    5     195.2\n",
       "5 10.62  0.92    5     181.6\n",
       "6 12.35  0.44    4     182.9"
      ]
     },
     "metadata": {},
     "output_type": "display_data"
    }
   ],
   "source": [
    "library(yarrr)\n",
    "head(diamonds)"
   ]
  },
  {
   "cell_type": "markdown",
   "metadata": {},
   "source": [
    "Построим линейную модель, которую мы можем использовать для оценки *стоимости* каждого алмаза, как линейной комбинации трех независимых переменных: его *веса*, *чистоты* и *цвета*:"
   ]
  },
  {
   "cell_type": "markdown",
   "metadata": {},
   "source": [
    "$$\\beta_{Int} + \\beta_{weight} \\times weight + \\beta_{clarity} \\times clarity + \\beta_{color} \\times color$$"
   ]
  },
  {
   "cell_type": "markdown",
   "metadata": {},
   "source": [
    "**Обратите внимание:** данную линейную модель мы строим на данных с **нормальным распределением**."
   ]
  },
  {
   "cell_type": "code",
   "execution_count": 4,
   "metadata": {},
   "outputs": [],
   "source": [
    "# Строим модель с зависимой переменной value и 3-мя независимыми: weight, clarity, color\n",
    "diamonds.lm <- lm(formula = value ~ weight + clarity + color,\n",
    "                  data = diamonds)"
   ]
  },
  {
   "cell_type": "code",
   "execution_count": 5,
   "metadata": {},
   "outputs": [
    {
     "data": {
      "text/plain": [
       "\n",
       "Call:\n",
       "lm(formula = value ~ weight + clarity + color, data = diamonds)\n",
       "\n",
       "Residuals:\n",
       "     Min       1Q   Median       3Q      Max \n",
       "-10.4046  -3.5473  -0.1134   3.2552  11.0464 \n",
       "\n",
       "Coefficients:\n",
       "            Estimate Std. Error t value Pr(>|t|)    \n",
       "(Intercept) 148.3354     3.6253  40.917   <2e-16 ***\n",
       "weight        2.1894     0.2000  10.948   <2e-16 ***\n",
       "clarity      21.6922     2.1429  10.123   <2e-16 ***\n",
       "color        -0.4549     0.3646  -1.248    0.214    \n",
       "---\n",
       "Signif. codes:  0 '***' 0.001 '**' 0.01 '*' 0.05 '.' 0.1 ' ' 1\n",
       "\n",
       "Residual standard error: 4.672 on 146 degrees of freedom\n",
       "Multiple R-squared:  0.6373,\tAdjusted R-squared:  0.6298 \n",
       "F-statistic: 85.49 on 3 and 146 DF,  p-value: < 2.2e-16\n"
      ]
     },
     "metadata": {},
     "output_type": "display_data"
    }
   ],
   "source": [
    "summary(diamonds.lm)   # Вывод результатов - через summary"
   ]
  },
  {
   "cell_type": "markdown",
   "metadata": {},
   "source": [
    "Нас интересует колонка **Estimate**, содержимое которой - коэффициенты для уравнения нашей линейной регрессии. Подставте их в уравнение и вы получите модель для оценки стоимости алмазов."
   ]
  },
  {
   "cell_type": "markdown",
   "metadata": {},
   "source": [
    "С помощью линейной модели вы можете предсказывать значения зависимой переменной (в нашем случае - стоимость алмазов) через параметр **fitted.values**."
   ]
  },
  {
   "cell_type": "code",
   "execution_count": 6,
   "metadata": {},
   "outputs": [],
   "source": [
    "# Получаем предсказанные значения и записываем в новый столбик исходной таблицы\n",
    "diamonds$value.lm <- diamonds.lm$fitted.values "
   ]
  },
  {
   "cell_type": "code",
   "execution_count": 7,
   "metadata": {},
   "outputs": [
    {
     "data": {
      "text/html": [
       "<table>\n",
       "<thead><tr><th scope=col>weight</th><th scope=col>clarity</th><th scope=col>color</th><th scope=col>value</th><th scope=col>value.lm</th></tr></thead>\n",
       "<tbody>\n",
       "\t<tr><td> 9.35   </td><td>0.88    </td><td>4       </td><td>182.5   </td><td>186.0758</td></tr>\n",
       "\t<tr><td>11.10   </td><td>1.05    </td><td>5       </td><td>191.2   </td><td>193.1401</td></tr>\n",
       "\t<tr><td> 8.65   </td><td>0.85    </td><td>6       </td><td>175.7   </td><td>182.9826</td></tr>\n",
       "\t<tr><td>10.43   </td><td>1.15    </td><td>5       </td><td>195.2   </td><td>193.8424</td></tr>\n",
       "\t<tr><td>10.62   </td><td>0.92    </td><td>5       </td><td>181.6   </td><td>189.2692</td></tr>\n",
       "\t<tr><td>12.35   </td><td>0.44    </td><td>4       </td><td>182.9   </td><td>183.0995</td></tr>\n",
       "</tbody>\n",
       "</table>\n"
      ],
      "text/latex": [
       "\\begin{tabular}{r|lllll}\n",
       " weight & clarity & color & value & value.lm\\\\\n",
       "\\hline\n",
       "\t  9.35    & 0.88     & 4        & 182.5    & 186.0758\\\\\n",
       "\t 11.10    & 1.05     & 5        & 191.2    & 193.1401\\\\\n",
       "\t  8.65    & 0.85     & 6        & 175.7    & 182.9826\\\\\n",
       "\t 10.43    & 1.15     & 5        & 195.2    & 193.8424\\\\\n",
       "\t 10.62    & 0.92     & 5        & 181.6    & 189.2692\\\\\n",
       "\t 12.35    & 0.44     & 4        & 182.9    & 183.0995\\\\\n",
       "\\end{tabular}\n"
      ],
      "text/markdown": [
       "\n",
       "| weight | clarity | color | value | value.lm |\n",
       "|---|---|---|---|---|\n",
       "|  9.35    | 0.88     | 4        | 182.5    | 186.0758 |\n",
       "| 11.10    | 1.05     | 5        | 191.2    | 193.1401 |\n",
       "|  8.65    | 0.85     | 6        | 175.7    | 182.9826 |\n",
       "| 10.43    | 1.15     | 5        | 195.2    | 193.8424 |\n",
       "| 10.62    | 0.92     | 5        | 181.6    | 189.2692 |\n",
       "| 12.35    | 0.44     | 4        | 182.9    | 183.0995 |\n",
       "\n"
      ],
      "text/plain": [
       "  weight clarity color value value.lm\n",
       "1  9.35  0.88    4     182.5 186.0758\n",
       "2 11.10  1.05    5     191.2 193.1401\n",
       "3  8.65  0.85    6     175.7 182.9826\n",
       "4 10.43  1.15    5     195.2 193.8424\n",
       "5 10.62  0.92    5     181.6 189.2692\n",
       "6 12.35  0.44    4     182.9 183.0995"
      ]
     },
     "metadata": {},
     "output_type": "display_data"
    }
   ],
   "source": [
    "head(diamonds)"
   ]
  },
  {
   "cell_type": "markdown",
   "metadata": {},
   "source": [
    "Последний столбик: **предсказанные** значения стоимости алмаза, исходя из его веса, чистоты и цвета, а предпоследний столбик - **реальные** значения. Для наглядного отображения можно построить график:"
   ]
  },
  {
   "cell_type": "code",
   "execution_count": 8,
   "metadata": {},
   "outputs": [
    {
     "data": {
      "image/png": "[encoded data removed]",
      "text/plain": [
       "Plot with title \"Regression fits of diamond values\""
      ]
     },
     "metadata": {},
     "output_type": "display_data"
    }
   ],
   "source": [
    "plot(x = diamonds$value,                          \n",
    "     y = diamonds.lm$fitted.values,\n",
    "     xlab = \"True Values\",\n",
    "     ylab = \"Model Fitted Values\",\n",
    "     main = \"Regression fits of diamond values\")\n",
    "\n",
    "abline(b = 1, a = 0)       # Линия около которой должны располагаться предсказанные значения"
   ]
  },
  {
   "cell_type": "markdown",
   "metadata": {},
   "source": [
    "Попробуем предсказать значения стоимости новых алмазов по новым данным. Создадим таблицу:"
   ]
  },
  {
   "cell_type": "code",
   "execution_count": 9,
   "metadata": {},
   "outputs": [],
   "source": [
    "new.weights <- c(10, 20, 15)\n",
    "new.clarity <- c(1.5, 5.0, 0.2)\n",
    "new.color <- c(5, 2, 3)\n",
    "\n",
    "new.diamonds <- data.frame(\"weight\" = new.weights, \"clarity\" = new.clarity, \"color\" = new.color)"
   ]
  },
  {
   "cell_type": "code",
   "execution_count": 10,
   "metadata": {},
   "outputs": [
    {
     "data": {
      "text/html": [
       "<table>\n",
       "<thead><tr><th scope=col>weight</th><th scope=col>clarity</th><th scope=col>color</th></tr></thead>\n",
       "<tbody>\n",
       "\t<tr><td>10 </td><td>1.5</td><td>5  </td></tr>\n",
       "\t<tr><td>20 </td><td>5.0</td><td>2  </td></tr>\n",
       "\t<tr><td>15 </td><td>0.2</td><td>3  </td></tr>\n",
       "</tbody>\n",
       "</table>\n"
      ],
      "text/latex": [
       "\\begin{tabular}{r|lll}\n",
       " weight & clarity & color\\\\\n",
       "\\hline\n",
       "\t 10  & 1.5 & 5  \\\\\n",
       "\t 20  & 5.0 & 2  \\\\\n",
       "\t 15  & 0.2 & 3  \\\\\n",
       "\\end{tabular}\n"
      ],
      "text/markdown": [
       "\n",
       "| weight | clarity | color |\n",
       "|---|---|---|\n",
       "| 10  | 1.5 | 5   |\n",
       "| 20  | 5.0 | 2   |\n",
       "| 15  | 0.2 | 3   |\n",
       "\n"
      ],
      "text/plain": [
       "  weight clarity color\n",
       "1 10     1.5     5    \n",
       "2 20     5.0     2    \n",
       "3 15     0.2     3    "
      ]
     },
     "metadata": {},
     "output_type": "display_data"
    }
   ],
   "source": [
    "head(new.diamonds)"
   ]
  },
  {
   "cell_type": "code",
   "execution_count": 11,
   "metadata": {},
   "outputs": [
    {
     "data": {
      "text/html": [
       "<dl class=dl-horizontal>\n",
       "\t<dt>1</dt>\n",
       "\t\t<dd>200.493169613474</dd>\n",
       "\t<dt>2</dt>\n",
       "\t\t<dd>299.674778721286</dd>\n",
       "\t<dt>3</dt>\n",
       "\t\t<dd>184.15033358613</dd>\n",
       "</dl>\n"
      ],
      "text/latex": [
       "\\begin{description*}\n",
       "\\item[1] 200.493169613474\n",
       "\\item[2] 299.674778721286\n",
       "\\item[3] 184.15033358613\n",
       "\\end{description*}\n"
      ],
      "text/markdown": [
       "1\n",
       ":   200.4931696134742\n",
       ":   299.6747787212863\n",
       ":   184.15033358613\n",
       "\n"
      ],
      "text/plain": [
       "       1        2        3 \n",
       "200.4932 299.6748 184.1503 "
      ]
     },
     "metadata": {},
     "output_type": "display_data"
    }
   ],
   "source": [
    "predict(object = diamonds.lm,     # Модель регрессии с предсказанными значениями\n",
    "        newdata = new.diamonds) "
   ]
  },
  {
   "cell_type": "markdown",
   "metadata": {},
   "source": [
    "Чтобы включить условия взаимодействия\\* в регрессионную модель, проведите операцию **центрирования независимых переменных** и добавьте их в формулу."
   ]
  },
  {
   "cell_type": "markdown",
   "metadata": {},
   "source": [
    "\\* *Условия взаимодействия между переменными проверяют, зависит ли влияние одной переменной от другой*"
   ]
  },
  {
   "cell_type": "code",
   "execution_count": 12,
   "metadata": {},
   "outputs": [],
   "source": [
    "diamonds$weight.c <- diamonds$weight - mean(diamonds$weight)\n",
    "diamonds$clarity.c <- diamonds$clarity - mean(diamonds$clarity)\n",
    "\n",
    "# Create a regression model with interactions of centered variables\n",
    "diamonds.int.lm <- lm(formula = value ~ weight.c * clarity.c,\n",
    "                      data = diamonds)"
   ]
  },
  {
   "cell_type": "code",
   "execution_count": 13,
   "metadata": {},
   "outputs": [
    {
     "data": {
      "text/html": [
       "<table>\n",
       "<thead><tr><th></th><th scope=col>Estimate</th><th scope=col>Std. Error</th><th scope=col>t value</th><th scope=col>Pr(&gt;|t|)</th></tr></thead>\n",
       "<tbody>\n",
       "\t<tr><th scope=row>(Intercept)</th><td>189.401518   </td><td>0.3830999    </td><td>494.392034   </td><td>2.907642e-237</td></tr>\n",
       "\t<tr><th scope=row>weight.c</th><td>  2.222877   </td><td>0.1987610    </td><td> 11.183671   </td><td> 2.322231e-21</td></tr>\n",
       "\t<tr><th scope=row>clarity.c</th><td> 22.248309   </td><td>2.1338360    </td><td> 10.426438   </td><td> 2.271834e-19</td></tr>\n",
       "\t<tr><th scope=row>weight.c:clarity.c</th><td>  1.244697   </td><td>1.0551311    </td><td>  1.179661   </td><td> 2.400537e-01</td></tr>\n",
       "</tbody>\n",
       "</table>\n"
      ],
      "text/latex": [
       "\\begin{tabular}{r|llll}\n",
       "  & Estimate & Std. Error & t value & Pr(>\\textbar{}t\\textbar{})\\\\\n",
       "\\hline\n",
       "\t(Intercept) & 189.401518    & 0.3830999     & 494.392034    & 2.907642e-237\\\\\n",
       "\tweight.c &   2.222877    & 0.1987610     &  11.183671    &  2.322231e-21\\\\\n",
       "\tclarity.c &  22.248309    & 2.1338360     &  10.426438    &  2.271834e-19\\\\\n",
       "\tweight.c:clarity.c &   1.244697    & 1.0551311     &   1.179661    &  2.400537e-01\\\\\n",
       "\\end{tabular}\n"
      ],
      "text/markdown": [
       "\n",
       "| <!--/--> | Estimate | Std. Error | t value | Pr(>|t|) |\n",
       "|---|---|---|---|---|\n",
       "| (Intercept) | 189.401518    | 0.3830999     | 494.392034    | 2.907642e-237 |\n",
       "| weight.c |   2.222877    | 0.1987610     |  11.183671    |  2.322231e-21 |\n",
       "| clarity.c |  22.248309    | 2.1338360     |  10.426438    |  2.271834e-19 |\n",
       "| weight.c:clarity.c |   1.244697    | 1.0551311     |   1.179661    |  2.400537e-01 |\n",
       "\n"
      ],
      "text/plain": [
       "                   Estimate   Std. Error t value    Pr(>|t|)     \n",
       "(Intercept)        189.401518 0.3830999  494.392034 2.907642e-237\n",
       "weight.c             2.222877 0.1987610   11.183671  2.322231e-21\n",
       "clarity.c           22.248309 2.1338360   10.426438  2.271834e-19\n",
       "weight.c:clarity.c   1.244697 1.0551311    1.179661  2.400537e-01"
      ]
     },
     "metadata": {},
     "output_type": "display_data"
    }
   ],
   "source": [
    "summary(diamonds.int.lm)$coefficients # Показ только коэффициентов"
   ]
  },
  {
   "cell_type": "markdown",
   "metadata": {},
   "source": [
    "Если у вас есть линейная регрессионная модель, то вы можете вывести ее результаты в табличке **ANOVA**:"
   ]
  },
  {
   "cell_type": "code",
   "execution_count": 15,
   "metadata": {},
   "outputs": [
    {
     "data": {
      "text/plain": [
       "             Df Sum Sq Mean Sq F value Pr(>F)    \n",
       "weight        1   3218    3218 147.397 <2e-16 ***\n",
       "clarity       1   2347    2347 107.531 <2e-16 ***\n",
       "color         1     34      34   1.557  0.214    \n",
       "Residuals   146   3187      22                   \n",
       "---\n",
       "Signif. codes:  0 '***' 0.001 '**' 0.01 '*' 0.05 '.' 0.1 ' ' 1"
      ]
     },
     "metadata": {},
     "output_type": "display_data"
    }
   ],
   "source": [
    "diamonds.aov <- aov(diamonds.lm)\n",
    "summary(diamonds.aov)"
   ]
  },
  {
   "cell_type": "markdown",
   "metadata": {},
   "source": [
    "# Сравнение регрессионных моделей с помощью ANOVA"
   ]
  },
  {
   "cell_type": "markdown",
   "metadata": {},
   "source": [
    "Допустим, вы построили две регрессионные модели - простую и сложную\\* - но не можете решить какая из них лучше. Для сравнения качества (уровня значимости) моделей используется знакомая нам функция **anova()**. "
   ]
  },
  {
   "cell_type": "markdown",
   "metadata": {},
   "source": [
    "\\* *Сложность модели зависит от количества независимых переменных, включенных в нее*"
   ]
  },
  {
   "cell_type": "markdown",
   "metadata": {},
   "source": [
    "Если **p-value** в результате сравнения окажется **менее 0,05** => **сложная модель лучше**\n",
    "<br>В противном случае отдавайте предпочтение простой модели."
   ]
  },
  {
   "cell_type": "markdown",
   "metadata": {},
   "source": [
    "Построим 3 модели линейной регрессии с разным количеством независимых переменных и сравним их качество:"
   ]
  },
  {
   "cell_type": "code",
   "execution_count": 20,
   "metadata": {},
   "outputs": [],
   "source": [
    "# Модель 1: только вес\n",
    "diamonds.mod1 <- lm(value ~ weight, data = diamonds)\n",
    "\n",
    "# Модель 2: вес и чистота\n",
    "diamonds.mod2 <- lm(value ~ weight + clarity, data = diamonds)\n",
    "\n",
    "# Модель 3: вес, чистота и цвет\n",
    "diamonds.mod3 <- lm(value ~ weight + clarity + color, data = diamonds)"
   ]
  },
  {
   "cell_type": "code",
   "execution_count": 23,
   "metadata": {},
   "outputs": [
    {
     "data": {
      "text/html": [
       "<table>\n",
       "<thead><tr><th scope=col>Res.Df</th><th scope=col>RSS</th><th scope=col>Df</th><th scope=col>Sum of Sq</th><th scope=col>F</th><th scope=col>Pr(&gt;F)</th></tr></thead>\n",
       "<tbody>\n",
       "\t<tr><td>148         </td><td>5568.748    </td><td>NA          </td><td>      NA    </td><td>     NA     </td><td>          NA</td></tr>\n",
       "\t<tr><td>147         </td><td>3221.273    </td><td> 1          </td><td>2347.475    </td><td>107.125     </td><td>3.373243e-19</td></tr>\n",
       "</tbody>\n",
       "</table>\n"
      ],
      "text/latex": [
       "\\begin{tabular}{r|llllll}\n",
       " Res.Df & RSS & Df & Sum of Sq & F & Pr(>F)\\\\\n",
       "\\hline\n",
       "\t 148          & 5568.748     & NA           &       NA     &      NA      &           NA\\\\\n",
       "\t 147          & 3221.273     &  1           & 2347.475     & 107.125      & 3.373243e-19\\\\\n",
       "\\end{tabular}\n"
      ],
      "text/markdown": [
       "\n",
       "| Res.Df | RSS | Df | Sum of Sq | F | Pr(>F) |\n",
       "|---|---|---|---|---|---|\n",
       "| 148          | 5568.748     | NA           |       NA     |      NA      |           NA |\n",
       "| 147          | 3221.273     |  1           | 2347.475     | 107.125      | 3.373243e-19 |\n",
       "\n"
      ],
      "text/plain": [
       "  Res.Df RSS      Df Sum of Sq F       Pr(>F)      \n",
       "1 148    5568.748 NA       NA       NA           NA\n",
       "2 147    3221.273  1 2347.475  107.125 3.373243e-19"
      ]
     },
     "metadata": {},
     "output_type": "display_data"
    }
   ],
   "source": [
    "anova(diamonds.mod1, diamonds.mod2)      # Сравнение моделей 1 и 2"
   ]
  },
  {
   "cell_type": "markdown",
   "metadata": {},
   "source": [
    "P-value оказалась маленькой => добавление в модель параметра \"чистота алмаза\" *улучшило* качество исходной модели."
   ]
  },
  {
   "cell_type": "code",
   "execution_count": 25,
   "metadata": {},
   "outputs": [
    {
     "data": {
      "text/html": [
       "<table>\n",
       "<thead><tr><th scope=col>Res.Df</th><th scope=col>RSS</th><th scope=col>Df</th><th scope=col>Sum of Sq</th><th scope=col>F</th><th scope=col>Pr(&gt;F)</th></tr></thead>\n",
       "<tbody>\n",
       "\t<tr><td>147      </td><td>3221.273 </td><td>NA       </td><td>      NA </td><td>      NA </td><td>       NA</td></tr>\n",
       "\t<tr><td>146      </td><td>3187.282 </td><td> 1       </td><td>33.99118 </td><td>1.557036 </td><td>0.2140973</td></tr>\n",
       "</tbody>\n",
       "</table>\n"
      ],
      "text/latex": [
       "\\begin{tabular}{r|llllll}\n",
       " Res.Df & RSS & Df & Sum of Sq & F & Pr(>F)\\\\\n",
       "\\hline\n",
       "\t 147       & 3221.273  & NA        &       NA  &       NA  &        NA\\\\\n",
       "\t 146       & 3187.282  &  1        & 33.99118  & 1.557036  & 0.2140973\\\\\n",
       "\\end{tabular}\n"
      ],
      "text/markdown": [
       "\n",
       "| Res.Df | RSS | Df | Sum of Sq | F | Pr(>F) |\n",
       "|---|---|---|---|---|---|\n",
       "| 147       | 3221.273  | NA        |       NA  |       NA  |        NA |\n",
       "| 146       | 3187.282  |  1        | 33.99118  | 1.557036  | 0.2140973 |\n",
       "\n"
      ],
      "text/plain": [
       "  Res.Df RSS      Df Sum of Sq F        Pr(>F)   \n",
       "1 147    3221.273 NA       NA        NA        NA\n",
       "2 146    3187.282  1 33.99118  1.557036 0.2140973"
      ]
     },
     "metadata": {},
     "output_type": "display_data"
    }
   ],
   "source": [
    "anova(diamonds.mod2, diamonds.mod3)      # Сравнение моделей 2 и 3"
   ]
  },
  {
   "cell_type": "markdown",
   "metadata": {},
   "source": [
    "P-value = 0.2 => добавление параметра \"цвет алмаза\" *ухудшило* качество модели. Значит наиболее качественная модель - *вторая*."
   ]
  },
  {
   "cell_type": "markdown",
   "metadata": {},
   "source": [
    "Также можно сравнивать модели отличающиеся более чем по 1 параметру, к примеру, сравним модели 1 и 3:"
   ]
  },
  {
   "cell_type": "code",
   "execution_count": 26,
   "metadata": {},
   "outputs": [
    {
     "data": {
      "text/html": [
       "<table>\n",
       "<thead><tr><th scope=col>Res.Df</th><th scope=col>RSS</th><th scope=col>Df</th><th scope=col>Sum of Sq</th><th scope=col>F</th><th scope=col>Pr(&gt;F)</th></tr></thead>\n",
       "<tbody>\n",
       "\t<tr><td>148         </td><td>5568.748    </td><td>NA          </td><td>      NA    </td><td>      NA    </td><td>          NA</td></tr>\n",
       "\t<tr><td>146         </td><td>3187.282    </td><td> 2          </td><td>2381.467    </td><td>54.54399    </td><td>2.038865e-18</td></tr>\n",
       "</tbody>\n",
       "</table>\n"
      ],
      "text/latex": [
       "\\begin{tabular}{r|llllll}\n",
       " Res.Df & RSS & Df & Sum of Sq & F & Pr(>F)\\\\\n",
       "\\hline\n",
       "\t 148          & 5568.748     & NA           &       NA     &       NA     &           NA\\\\\n",
       "\t 146          & 3187.282     &  2           & 2381.467     & 54.54399     & 2.038865e-18\\\\\n",
       "\\end{tabular}\n"
      ],
      "text/markdown": [
       "\n",
       "| Res.Df | RSS | Df | Sum of Sq | F | Pr(>F) |\n",
       "|---|---|---|---|---|---|\n",
       "| 148          | 5568.748     | NA           |       NA     |       NA     |           NA |\n",
       "| 146          | 3187.282     |  2           | 2381.467     | 54.54399     | 2.038865e-18 |\n",
       "\n"
      ],
      "text/plain": [
       "  Res.Df RSS      Df Sum of Sq F        Pr(>F)      \n",
       "1 148    5568.748 NA       NA        NA           NA\n",
       "2 146    3187.282  2 2381.467  54.54399 2.038865e-18"
      ]
     },
     "metadata": {},
     "output_type": "display_data"
    }
   ],
   "source": [
    "anova(diamonds.mod1, diamonds.mod3)"
   ]
  },
  {
   "cell_type": "markdown",
   "metadata": {},
   "source": [
    "Как видите, модель 3 оказывается *лучше*, чем 1 (но не лучше модели 2, что мы выяснили ранее)."
   ]
  },
  {
   "cell_type": "markdown",
   "metadata": {},
   "source": [
    "# Регрессионные модели на данных *без* нормального распределения"
   ]
  },
  {
   "cell_type": "markdown",
   "metadata": {},
   "source": [
    "Функцию *lm()* используют только на данных с нормальным распределением. Если у ваших данных распределение иное, то вам понадобится функция *glm()*, которая построит **обобщенную линейную модель**."
   ]
  },
  {
   "cell_type": "markdown",
   "metadata": {},
   "source": [
    "В параметрах функции вы можете выбрать тип распределения ваших данных:"
   ]
  },
  {
   "cell_type": "markdown",
   "metadata": {},
   "source": [
    "|family name|тип распределения|\n",
    "|---|---|\n",
    "|\"binomial\"|Биноминальное распределение - подходит если у данных значения 0 и 1|\n",
    "|\"gaussian\"|Гауссово (нормальное) распределение - вывод как у функции lm()|\n",
    "|\"Gamma\"|Гамма-распределение - подходит для искаженных данных|\n",
    "|\"inverse.gaussian\"|Обратно-гауссовская регрессия - смещенное нормальное распределение|\n",
    "|\"poisson\"|Распределение Пуассона - подходит для подсчета данных|"
   ]
  },
  {
   "cell_type": "markdown",
   "metadata": {},
   "source": [
    "Построим биноминальное распределение на датасете с алмазами, но сначала добавим некоторый бинарный параметр *value.g190*, показывающий *больше ли стоимость алмаза чем 190 или нет*."
   ]
  },
  {
   "cell_type": "code",
   "execution_count": 27,
   "metadata": {},
   "outputs": [],
   "source": [
    "diamonds$value.g190 <- diamonds$value > 190     # Параметр добавлен"
   ]
  },
  {
   "cell_type": "code",
   "execution_count": 28,
   "metadata": {},
   "outputs": [],
   "source": [
    "diamond.glm <- glm(formula = value.g190 ~ weight + clarity + color,     # Строим модель биноминального распределения\n",
    "                   data = diamonds,\n",
    "                   family = binomial)"
   ]
  },
  {
   "cell_type": "code",
   "execution_count": 29,
   "metadata": {},
   "outputs": [
    {
     "data": {
      "text/html": [
       "<table>\n",
       "<thead><tr><th></th><th scope=col>Estimate</th><th scope=col>Std. Error</th><th scope=col>z value</th><th scope=col>Pr(&gt;|z|)</th></tr></thead>\n",
       "<tbody>\n",
       "\t<tr><th scope=row>(Intercept)</th><td>-18.8009011 </td><td>3.4634258   </td><td>-5.428412   </td><td>5.685775e-08</td></tr>\n",
       "\t<tr><th scope=row>weight</th><td>  1.1251118 </td><td>0.1968203   </td><td> 5.716441   </td><td>1.087783e-08</td></tr>\n",
       "\t<tr><th scope=row>clarity</th><td>  9.2909721 </td><td>1.9629068   </td><td> 4.733272   </td><td>2.209289e-06</td></tr>\n",
       "\t<tr><th scope=row>color</th><td> -0.3836406 </td><td>0.2480698   </td><td>-1.546503   </td><td>1.219832e-01</td></tr>\n",
       "</tbody>\n",
       "</table>\n"
      ],
      "text/latex": [
       "\\begin{tabular}{r|llll}\n",
       "  & Estimate & Std. Error & z value & Pr(>\\textbar{}z\\textbar{})\\\\\n",
       "\\hline\n",
       "\t(Intercept) & -18.8009011  & 3.4634258    & -5.428412    & 5.685775e-08\\\\\n",
       "\tweight &   1.1251118  & 0.1968203    &  5.716441    & 1.087783e-08\\\\\n",
       "\tclarity &   9.2909721  & 1.9629068    &  4.733272    & 2.209289e-06\\\\\n",
       "\tcolor &  -0.3836406  & 0.2480698    & -1.546503    & 1.219832e-01\\\\\n",
       "\\end{tabular}\n"
      ],
      "text/markdown": [
       "\n",
       "| <!--/--> | Estimate | Std. Error | z value | Pr(>|z|) |\n",
       "|---|---|---|---|---|\n",
       "| (Intercept) | -18.8009011  | 3.4634258    | -5.428412    | 5.685775e-08 |\n",
       "| weight |   1.1251118  | 0.1968203    |  5.716441    | 1.087783e-08 |\n",
       "| clarity |   9.2909721  | 1.9629068    |  4.733272    | 2.209289e-06 |\n",
       "| color |  -0.3836406  | 0.2480698    | -1.546503    | 1.219832e-01 |\n",
       "\n"
      ],
      "text/plain": [
       "            Estimate    Std. Error z value   Pr(>|z|)    \n",
       "(Intercept) -18.8009011 3.4634258  -5.428412 5.685775e-08\n",
       "weight        1.1251118 0.1968203   5.716441 1.087783e-08\n",
       "clarity       9.2909721 1.9629068   4.733272 2.209289e-06\n",
       "color        -0.3836406 0.2480698  -1.546503 1.219832e-01"
      ]
     },
     "metadata": {},
     "output_type": "display_data"
    }
   ],
   "source": [
    "summary(diamond.glm)$coefficients"
   ]
  },
  {
   "cell_type": "markdown",
   "metadata": {},
   "source": [
    "Так же как и в случае линейной регрессии мы можем предсказать значения через *fitted.values*:"
   ]
  },
  {
   "cell_type": "code",
   "execution_count": 30,
   "metadata": {},
   "outputs": [],
   "source": [
    "diamonds$pred.g190 <- diamond.glm$fitted.values"
   ]
  },
  {
   "cell_type": "code",
   "execution_count": 31,
   "metadata": {},
   "outputs": [
    {
     "data": {
      "text/html": [
       "<table>\n",
       "<thead><tr><th scope=col>weight</th><th scope=col>clarity</th><th scope=col>color</th><th scope=col>value</th><th scope=col>pred.g190</th></tr></thead>\n",
       "<tbody>\n",
       "\t<tr><td> 9.35     </td><td>0.88      </td><td>4         </td><td>182.5     </td><td>0.16251772</td></tr>\n",
       "\t<tr><td>11.10     </td><td>1.05      </td><td>5         </td><td>191.2     </td><td>0.82129665</td></tr>\n",
       "\t<tr><td> 8.65     </td><td>0.85      </td><td>6         </td><td>175.7     </td><td>0.03008442</td></tr>\n",
       "\t<tr><td>10.43     </td><td>1.15      </td><td>5         </td><td>195.2     </td><td>0.84559083</td></tr>\n",
       "\t<tr><td>10.62     </td><td>0.92      </td><td>5         </td><td>181.6     </td><td>0.44454833</td></tr>\n",
       "\t<tr><td>12.35     </td><td>0.44      </td><td>4         </td><td>182.9     </td><td>0.08688269</td></tr>\n",
       "</tbody>\n",
       "</table>\n"
      ],
      "text/latex": [
       "\\begin{tabular}{r|lllll}\n",
       " weight & clarity & color & value & pred.g190\\\\\n",
       "\\hline\n",
       "\t  9.35      & 0.88       & 4          & 182.5      & 0.16251772\\\\\n",
       "\t 11.10      & 1.05       & 5          & 191.2      & 0.82129665\\\\\n",
       "\t  8.65      & 0.85       & 6          & 175.7      & 0.03008442\\\\\n",
       "\t 10.43      & 1.15       & 5          & 195.2      & 0.84559083\\\\\n",
       "\t 10.62      & 0.92       & 5          & 181.6      & 0.44454833\\\\\n",
       "\t 12.35      & 0.44       & 4          & 182.9      & 0.08688269\\\\\n",
       "\\end{tabular}\n"
      ],
      "text/markdown": [
       "\n",
       "| weight | clarity | color | value | pred.g190 |\n",
       "|---|---|---|---|---|\n",
       "|  9.35      | 0.88       | 4          | 182.5      | 0.16251772 |\n",
       "| 11.10      | 1.05       | 5          | 191.2      | 0.82129665 |\n",
       "|  8.65      | 0.85       | 6          | 175.7      | 0.03008442 |\n",
       "| 10.43      | 1.15       | 5          | 195.2      | 0.84559083 |\n",
       "| 10.62      | 0.92       | 5          | 181.6      | 0.44454833 |\n",
       "| 12.35      | 0.44       | 4          | 182.9      | 0.08688269 |\n",
       "\n"
      ],
      "text/plain": [
       "  weight clarity color value pred.g190 \n",
       "1  9.35  0.88    4     182.5 0.16251772\n",
       "2 11.10  1.05    5     191.2 0.82129665\n",
       "3  8.65  0.85    6     175.7 0.03008442\n",
       "4 10.43  1.15    5     195.2 0.84559083\n",
       "5 10.62  0.92    5     181.6 0.44454833\n",
       "6 12.35  0.44    4     182.9 0.08688269"
      ]
     },
     "metadata": {},
     "output_type": "display_data"
    }
   ],
   "source": [
    "head(diamonds[c(\"weight\", \"clarity\", \"color\", \"value\", \"pred.g190\")])"
   ]
  },
  {
   "cell_type": "markdown",
   "metadata": {},
   "source": [
    "Результат последней колонки показывает вероятность, с которой алмаз имеет стоимость выше 190. "
   ]
  },
  {
   "cell_type": "markdown",
   "metadata": {},
   "source": [
    "Предсказывать новые значения по такой модели тоже можно, воспользуемся построенной нами ранее таблицей *new.diamonds* и посчитаем вероятность того, что стоимость алмаза выше 190:"
   ]
  },
  {
   "cell_type": "code",
   "execution_count": 41,
   "metadata": {},
   "outputs": [],
   "source": [
    "logit.predictions <- predict(object = diamond.glm,    # Рассчитываем logit.predictions (пока это не вероятности)\n",
    "                             newdata = new.diamonds)"
   ]
  },
  {
   "cell_type": "code",
   "execution_count": 38,
   "metadata": {},
   "outputs": [
    {
     "data": {
      "text/html": [
       "<dl class=dl-horizontal>\n",
       "\t<dt>1</dt>\n",
       "\t\t<dd>4.46847168942027</dd>\n",
       "\t<dt>2</dt>\n",
       "\t\t<dd>49.3889130963031</dd>\n",
       "\t<dt>3</dt>\n",
       "\t\t<dd>-1.21695207865091</dd>\n",
       "</dl>\n"
      ],
      "text/latex": [
       "\\begin{description*}\n",
       "\\item[1] 4.46847168942027\n",
       "\\item[2] 49.3889130963031\n",
       "\\item[3] -1.21695207865091\n",
       "\\end{description*}\n"
      ],
      "text/markdown": [
       "1\n",
       ":   4.468471689420272\n",
       ":   49.38891309630313\n",
       ":   -1.21695207865091\n",
       "\n"
      ],
      "text/plain": [
       "        1         2         3 \n",
       " 4.468472 49.388913 -1.216952 "
      ]
     },
     "metadata": {},
     "output_type": "display_data"
    }
   ],
   "source": [
    "head(logit.predictions)"
   ]
  },
  {
   "cell_type": "code",
   "execution_count": 35,
   "metadata": {},
   "outputs": [],
   "source": [
    "prob.predictions <- 1 / (1 + exp(-logit.predictions))   # Преобразуем logit.predictions в вероятности "
   ]
  },
  {
   "cell_type": "code",
   "execution_count": 37,
   "metadata": {},
   "outputs": [
    {
     "data": {
      "text/html": [
       "<dl class=dl-horizontal>\n",
       "\t<dt>1</dt>\n",
       "\t\t<dd>0.988665128035135</dd>\n",
       "\t<dt>2</dt>\n",
       "\t\t<dd>1</dd>\n",
       "\t<dt>3</dt>\n",
       "\t\t<dd>0.228473272848381</dd>\n",
       "</dl>\n"
      ],
      "text/latex": [
       "\\begin{description*}\n",
       "\\item[1] 0.988665128035135\n",
       "\\item[2] 1\n",
       "\\item[3] 0.228473272848381\n",
       "\\end{description*}\n"
      ],
      "text/markdown": [
       "1\n",
       ":   0.9886651280351352\n",
       ":   13\n",
       ":   0.228473272848381\n",
       "\n"
      ],
      "text/plain": [
       "        1         2         3 \n",
       "0.9886651 1.0000000 0.2284733 "
      ]
     },
     "metadata": {},
     "output_type": "display_data"
    }
   ],
   "source": [
    "prob.predictions      # Вывод результата"
   ]
  },
  {
   "cell_type": "markdown",
   "metadata": {},
   "source": [
    "С вероятностью в **98%** первый алмаз имеет стоимость выше 190, **100%** у второго алмаза и **22%** у третьего."
   ]
  },
  {
   "cell_type": "markdown",
   "metadata": {},
   "source": [
    "Линию регрессии легко добавить на график распределения через abline():"
   ]
  },
  {
   "cell_type": "code",
   "execution_count": 40,
   "metadata": {},
   "outputs": [
    {
     "data": {
      "image/png": "[encoded data removed]",
      "text/plain": [
       "Plot with title \"Adding a regression line with abline()\""
      ]
     },
     "metadata": {},
     "output_type": "display_data"
    }
   ],
   "source": [
    "plot(x = diamonds$weight,\n",
    "     y = diamonds$value,\n",
    "     xlab = \"Weight\",\n",
    "     ylab = \"Value\",\n",
    "     main = \"Adding a regression line with abline()\")\n",
    "\n",
    "diamonds.lm <- lm(formula = value ~ weight,\n",
    "                  data = diamonds)\n",
    "\n",
    "abline(diamonds.lm,\n",
    "       col = \"red\", lwd = 2)"
   ]
  },
  {
   "cell_type": "markdown",
   "metadata": {},
   "source": [
    "# Преображение искаженных данных к виду стандартной регрессии"
   ]
  },
  {
   "cell_type": "markdown",
   "metadata": {},
   "source": [
    "Под искаженными данными будем понимать такие, что не имеют нормального распределения. Но это можно исправить!"
   ]
  },
  {
   "cell_type": "markdown",
   "metadata": {},
   "source": [
    "Взглянем на датасет **movies** из библиотеки 'yarr'."
   ]
  },
  {
   "cell_type": "code",
   "execution_count": 49,
   "metadata": {
    "scrolled": true
   },
   "outputs": [
    {
     "data": {
      "text/html": [
       "<table>\n",
       "<thead><tr><th scope=col>name</th><th scope=col>rating</th><th scope=col>genre</th><th scope=col>creative.type</th><th scope=col>time</th><th scope=col>year</th><th scope=col>production.method</th><th scope=col>sequel</th><th scope=col>budget</th><th scope=col>revenue.all</th><th scope=col>revenue.dom</th><th scope=col>revenue.int</th><th scope=col>revenue.inf</th></tr></thead>\n",
       "<tbody>\n",
       "\t<tr><td>Avatar                     </td><td>PG-13                      </td><td>Action                     </td><td>Science Fiction            </td><td>162                        </td><td>2009                       </td><td>Animation/Live Action      </td><td>0                          </td><td>425                        </td><td>2783.919                   </td><td>760.5076                   </td><td>2023.411                   </td><td> 826.1981                  </td></tr>\n",
       "\t<tr><td>Titanic                    </td><td>PG-13                      </td><td>Thriller/Suspense          </td><td>Historical Fiction         </td><td>194                        </td><td>1997                       </td><td>Live Action                </td><td>0                          </td><td>200                        </td><td>2207.616                   </td><td>658.6723                   </td><td>1548.943                   </td><td>1139.1828                  </td></tr>\n",
       "\t<tr><td>Jurassic World             </td><td>PG-13                      </td><td>Action                     </td><td>Science Fiction            </td><td>124                        </td><td>2015                       </td><td>Live Action                </td><td>1                          </td><td>215                        </td><td>1665.444                   </td><td>651.4436                   </td><td>1014.000                   </td><td> 651.4436                  </td></tr>\n",
       "\t<tr><td>The Avengers               </td><td>PG-13                      </td><td>Adventure                  </td><td>Super Hero                 </td><td>143                        </td><td>2012                       </td><td>Animation/Live Action      </td><td>0                          </td><td>225                        </td><td>1519.480                   </td><td>623.2795                   </td><td> 896.200                   </td><td> 655.3831                  </td></tr>\n",
       "\t<tr><td>Furious 7                  </td><td>PG-13                      </td><td>Action                     </td><td>Contemporary Fiction       </td><td>137                        </td><td>2014                       </td><td>Live Action                </td><td>1                          </td><td>190                        </td><td>1516.247                   </td><td>351.0329                   </td><td>1165.214                   </td><td> 351.0329                  </td></tr>\n",
       "\t<tr><td>The Avengers: Age of Ultron</td><td>PG-13                      </td><td>Action                     </td><td>Super Hero                 </td><td>141                        </td><td>2015                       </td><td>Live Action                </td><td>1                          </td><td>250                        </td><td>1404.706                   </td><td>459.0059                   </td><td> 945.700                   </td><td> 459.0059                  </td></tr>\n",
       "</tbody>\n",
       "</table>\n"
      ],
      "text/latex": [
       "\\begin{tabular}{r|lllllllllllll}\n",
       " name & rating & genre & creative.type & time & year & production.method & sequel & budget & revenue.all & revenue.dom & revenue.int & revenue.inf\\\\\n",
       "\\hline\n",
       "\t Avatar                      & PG-13                       & Action                      & Science Fiction             & 162                         & 2009                        & Animation/Live Action       & 0                           & 425                         & 2783.919                    & 760.5076                    & 2023.411                    &  826.1981                  \\\\\n",
       "\t Titanic                     & PG-13                       & Thriller/Suspense           & Historical Fiction          & 194                         & 1997                        & Live Action                 & 0                           & 200                         & 2207.616                    & 658.6723                    & 1548.943                    & 1139.1828                  \\\\\n",
       "\t Jurassic World              & PG-13                       & Action                      & Science Fiction             & 124                         & 2015                        & Live Action                 & 1                           & 215                         & 1665.444                    & 651.4436                    & 1014.000                    &  651.4436                  \\\\\n",
       "\t The Avengers                & PG-13                       & Adventure                   & Super Hero                  & 143                         & 2012                        & Animation/Live Action       & 0                           & 225                         & 1519.480                    & 623.2795                    &  896.200                    &  655.3831                  \\\\\n",
       "\t Furious 7                   & PG-13                       & Action                      & Contemporary Fiction        & 137                         & 2014                        & Live Action                 & 1                           & 190                         & 1516.247                    & 351.0329                    & 1165.214                    &  351.0329                  \\\\\n",
       "\t The Avengers: Age of Ultron & PG-13                       & Action                      & Super Hero                  & 141                         & 2015                        & Live Action                 & 1                           & 250                         & 1404.706                    & 459.0059                    &  945.700                    &  459.0059                  \\\\\n",
       "\\end{tabular}\n"
      ],
      "text/markdown": [
       "\n",
       "| name | rating | genre | creative.type | time | year | production.method | sequel | budget | revenue.all | revenue.dom | revenue.int | revenue.inf |\n",
       "|---|---|---|---|---|---|---|---|---|---|---|---|---|\n",
       "| Avatar                      | PG-13                       | Action                      | Science Fiction             | 162                         | 2009                        | Animation/Live Action       | 0                           | 425                         | 2783.919                    | 760.5076                    | 2023.411                    |  826.1981                   |\n",
       "| Titanic                     | PG-13                       | Thriller/Suspense           | Historical Fiction          | 194                         | 1997                        | Live Action                 | 0                           | 200                         | 2207.616                    | 658.6723                    | 1548.943                    | 1139.1828                   |\n",
       "| Jurassic World              | PG-13                       | Action                      | Science Fiction             | 124                         | 2015                        | Live Action                 | 1                           | 215                         | 1665.444                    | 651.4436                    | 1014.000                    |  651.4436                   |\n",
       "| The Avengers                | PG-13                       | Adventure                   | Super Hero                  | 143                         | 2012                        | Animation/Live Action       | 0                           | 225                         | 1519.480                    | 623.2795                    |  896.200                    |  655.3831                   |\n",
       "| Furious 7                   | PG-13                       | Action                      | Contemporary Fiction        | 137                         | 2014                        | Live Action                 | 1                           | 190                         | 1516.247                    | 351.0329                    | 1165.214                    |  351.0329                   |\n",
       "| The Avengers: Age of Ultron | PG-13                       | Action                      | Super Hero                  | 141                         | 2015                        | Live Action                 | 1                           | 250                         | 1404.706                    | 459.0059                    |  945.700                    |  459.0059                   |\n",
       "\n"
      ],
      "text/plain": [
       "  name                        rating genre             creative.type       \n",
       "1 Avatar                      PG-13  Action            Science Fiction     \n",
       "2 Titanic                     PG-13  Thriller/Suspense Historical Fiction  \n",
       "3 Jurassic World              PG-13  Action            Science Fiction     \n",
       "4 The Avengers                PG-13  Adventure         Super Hero          \n",
       "5 Furious 7                   PG-13  Action            Contemporary Fiction\n",
       "6 The Avengers: Age of Ultron PG-13  Action            Super Hero          \n",
       "  time year production.method     sequel budget revenue.all revenue.dom\n",
       "1 162  2009 Animation/Live Action 0      425    2783.919    760.5076   \n",
       "2 194  1997 Live Action           0      200    2207.616    658.6723   \n",
       "3 124  2015 Live Action           1      215    1665.444    651.4436   \n",
       "4 143  2012 Animation/Live Action 0      225    1519.480    623.2795   \n",
       "5 137  2014 Live Action           1      190    1516.247    351.0329   \n",
       "6 141  2015 Live Action           1      250    1404.706    459.0059   \n",
       "  revenue.int revenue.inf\n",
       "1 2023.411     826.1981  \n",
       "2 1548.943    1139.1828  \n",
       "3 1014.000     651.4436  \n",
       "4  896.200     655.3831  \n",
       "5 1165.214     351.0329  \n",
       "6  945.700     459.0059  "
      ]
     },
     "metadata": {},
     "output_type": "display_data"
    }
   ],
   "source": [
    "head(movies)   # Не забудьте подключить library(yarrr) (мы это уже сделали в самом начале)"
   ]
  },
  {
   "cell_type": "markdown",
   "metadata": {},
   "source": [
    "Допустим, что мы захотели посмотреть распределение кассовых сборов фильмов. Построим гистограмму, чтобы увидеть какое распределение на данный момент имеют наши данные."
   ]
  },
  {
   "cell_type": "code",
   "execution_count": 56,
   "metadata": {},
   "outputs": [
    {
     "data": {
      "image/png": "[encoded data removed]",
      "text/plain": [
       "Plot with title \"Кассовые сборы\n",
       "Данные до изменений\""
      ]
     },
     "metadata": {},
     "output_type": "display_data"
    }
   ],
   "source": [
    "hist(movies$revenue.all, \n",
    "     main = \"Кассовые сборы\\nДанные до изменений\")"
   ]
  },
  {
   "cell_type": "markdown",
   "metadata": {},
   "source": [
    "Распределение явно не является нормальным - чтобы это исправить **прологарифмируем** данные по кассовым сборам. Такой подход является стандартным при нормализации данных."
   ]
  },
  {
   "cell_type": "code",
   "execution_count": 57,
   "metadata": {},
   "outputs": [],
   "source": [
    "movies$revenue.all.log <- log(movies$revenue.all)    # Добавим новую переменную с прологарифмированными значениями"
   ]
  },
  {
   "cell_type": "code",
   "execution_count": 59,
   "metadata": {},
   "outputs": [
    {
     "data": {
      "image/png": "[encoded data removed]",
      "text/plain": [
       "Plot with title \"Прологарифмированные значения кассовых сборов\""
      ]
     },
     "metadata": {},
     "output_type": "display_data"
    }
   ],
   "source": [
    "hist(movies$revenue.all.log, \n",
    "     main = \"Прологарифмированные значения кассовых сборов\")"
   ]
  },
  {
   "cell_type": "markdown",
   "metadata": {},
   "source": [
    "Значения все еще слегка искажены, но они приняли более нормальное распределение."
   ]
  }
 ],
 "metadata": {
  "kernelspec": {
   "display_name": "R",
   "language": "R",
   "name": "ir"
  },
  "language_info": {
   "codemirror_mode": "r",
   "file_extension": ".r",
   "mimetype": "text/x-r-source",
   "name": "R",
   "pygments_lexer": "r",
   "version": "3.6.1"
  }
 },
 "nbformat": 4,
 "nbformat_minor": 4
}
