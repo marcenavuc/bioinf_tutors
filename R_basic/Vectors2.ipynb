{
 "cells": [
  {
   "cell_type": "markdown",
   "metadata": {},
   "source": [
    "# Векторы в R (часть 2)\n",
    "\n",
    "## Правила переписывания (recycling)\n",
    "\n",
    "Ранее уже приводился пример работы векторной арифметики на двух векторах разной длины. Приведём несколько общих правил для таких случаев:\n",
    "1. Длина вектора-результата равна длине большего из векторов\n",
    "2. Меньший вектор дублируется (переписывается), пока его длина не совпадёт с длиной большего вектора\n",
    "3. Если длина большего вектора не делится нацело на длину меньшего, то выдаётся предупреждение"
   ]
  },
  {
   "cell_type": "code",
   "execution_count": 4,
   "metadata": {},
   "outputs": [
    {
     "name": "stderr",
     "output_type": "stream",
     "text": [
      "Warning message in 1:5 + 1:2:\n",
      "\"длина большего объекта не является произведением длины меньшего объекта\""
     ]
    },
    {
     "data": {
      "text/html": [
       "<ol class=list-inline>\n",
       "\t<li>2</li>\n",
       "\t<li>4</li>\n",
       "\t<li>4</li>\n",
       "\t<li>6</li>\n",
       "\t<li>6</li>\n",
       "</ol>\n"
      ],
      "text/latex": [
       "\\begin{enumerate*}\n",
       "\\item 2\n",
       "\\item 4\n",
       "\\item 4\n",
       "\\item 6\n",
       "\\item 6\n",
       "\\end{enumerate*}\n"
      ],
      "text/markdown": [
       "1. 2\n",
       "2. 4\n",
       "3. 4\n",
       "4. 6\n",
       "5. 6\n",
       "\n",
       "\n"
      ],
      "text/plain": [
       "[1] 2 4 4 6 6"
      ]
     },
     "metadata": {},
     "output_type": "display_data"
    }
   ],
   "source": [
    "1:5 + 1:2\n",
    "# (1, 2, 3, 4, 5) + (1, 2, 1, 2, 1) = (2, 4, 4, 6, 6)"
   ]
  },
  {
   "cell_type": "markdown",
   "metadata": {},
   "source": [
    "Данная особенность оказывается очень удобной при необходимости производить массовые операции над векторами:"
   ]
  },
  {
   "cell_type": "code",
   "execution_count": 5,
   "metadata": {},
   "outputs": [
    {
     "data": {
      "text/html": [
       "<ol class=list-inline>\n",
       "\t<li>4</li>\n",
       "\t<li>8</li>\n",
       "\t<li>12</li>\n",
       "\t<li>16</li>\n",
       "\t<li>20</li>\n",
       "\t<li>24</li>\n",
       "\t<li>28</li>\n",
       "\t<li>32</li>\n",
       "\t<li>36</li>\n",
       "</ol>\n"
      ],
      "text/latex": [
       "\\begin{enumerate*}\n",
       "\\item 4\n",
       "\\item 8\n",
       "\\item 12\n",
       "\\item 16\n",
       "\\item 20\n",
       "\\item 24\n",
       "\\item 28\n",
       "\\item 32\n",
       "\\item 36\n",
       "\\end{enumerate*}\n"
      ],
      "text/markdown": [
       "1. 4\n",
       "2. 8\n",
       "3. 12\n",
       "4. 16\n",
       "5. 20\n",
       "6. 24\n",
       "7. 28\n",
       "8. 32\n",
       "9. 36\n",
       "\n",
       "\n"
      ],
      "text/plain": [
       "[1]  4  8 12 16 20 24 28 32 36"
      ]
     },
     "metadata": {},
     "output_type": "display_data"
    }
   ],
   "source": [
    "1:9 * 4"
   ]
  },
  {
   "cell_type": "code",
   "execution_count": 6,
   "metadata": {},
   "outputs": [
    {
     "data": {
      "text/html": [
       "<ol class=list-inline>\n",
       "\t<li>1</li>\n",
       "\t<li>8</li>\n",
       "\t<li>27</li>\n",
       "\t<li>64</li>\n",
       "\t<li>125</li>\n",
       "\t<li>216</li>\n",
       "</ol>\n"
      ],
      "text/latex": [
       "\\begin{enumerate*}\n",
       "\\item 1\n",
       "\\item 8\n",
       "\\item 27\n",
       "\\item 64\n",
       "\\item 125\n",
       "\\item 216\n",
       "\\end{enumerate*}\n"
      ],
      "text/markdown": [
       "1. 1\n",
       "2. 8\n",
       "3. 27\n",
       "4. 64\n",
       "5. 125\n",
       "6. 216\n",
       "\n",
       "\n"
      ],
      "text/plain": [
       "[1]   1   8  27  64 125 216"
      ]
     },
     "metadata": {},
     "output_type": "display_data"
    }
   ],
   "source": [
    "(1:6) ^ 3"
   ]
  },
  {
   "cell_type": "code",
   "execution_count": 10,
   "metadata": {},
   "outputs": [
    {
     "data": {
      "text/html": [
       "<ol class=list-inline>\n",
       "\t<li>FALSE</li>\n",
       "\t<li>FALSE</li>\n",
       "\t<li>FALSE</li>\n",
       "\t<li>FALSE</li>\n",
       "\t<li>FALSE</li>\n",
       "\t<li>FALSE</li>\n",
       "\t<li>FALSE</li>\n",
       "\t<li>FALSE</li>\n",
       "\t<li>FALSE</li>\n",
       "\t<li>FALSE</li>\n",
       "\t<li>TRUE</li>\n",
       "\t<li>TRUE</li>\n",
       "\t<li>TRUE</li>\n",
       "</ol>\n"
      ],
      "text/latex": [
       "\\begin{enumerate*}\n",
       "\\item FALSE\n",
       "\\item FALSE\n",
       "\\item FALSE\n",
       "\\item FALSE\n",
       "\\item FALSE\n",
       "\\item FALSE\n",
       "\\item FALSE\n",
       "\\item FALSE\n",
       "\\item FALSE\n",
       "\\item FALSE\n",
       "\\item TRUE\n",
       "\\item TRUE\n",
       "\\item TRUE\n",
       "\\end{enumerate*}\n"
      ],
      "text/markdown": [
       "1. FALSE\n",
       "2. FALSE\n",
       "3. FALSE\n",
       "4. FALSE\n",
       "5. FALSE\n",
       "6. FALSE\n",
       "7. FALSE\n",
       "8. FALSE\n",
       "9. FALSE\n",
       "10. FALSE\n",
       "11. TRUE\n",
       "12. TRUE\n",
       "13. TRUE\n",
       "\n",
       "\n"
      ],
      "text/plain": [
       " [1] FALSE FALSE FALSE FALSE FALSE FALSE FALSE FALSE FALSE FALSE  TRUE  TRUE\n",
       "[13]  TRUE"
      ]
     },
     "metadata": {},
     "output_type": "display_data"
    }
   ],
   "source": [
    "seq(0.1, 2.5, by = 0.2) > 2"
   ]
  },
  {
   "cell_type": "markdown",
   "metadata": {},
   "source": [
    "## Доступ к элементам вектора\n",
    "\n",
    "Чтение и запись элементов осуществляется с помощью оператора **[ ]**:"
   ]
  },
  {
   "cell_type": "code",
   "execution_count": 14,
   "metadata": {},
   "outputs": [
    {
     "data": {
      "text/html": [
       "<ol class=list-inline>\n",
       "\t<li>20</li>\n",
       "\t<li>25</li>\n",
       "\t<li>30</li>\n",
       "</ol>\n"
      ],
      "text/latex": [
       "\\begin{enumerate*}\n",
       "\\item 20\n",
       "\\item 25\n",
       "\\item 30\n",
       "\\end{enumerate*}\n"
      ],
      "text/markdown": [
       "1. 20\n",
       "2. 25\n",
       "3. 30\n",
       "\n",
       "\n"
      ],
      "text/plain": [
       "[1] 20 25 30"
      ]
     },
     "metadata": {},
     "output_type": "display_data"
    },
    {
     "data": {
      "text/html": [
       "<ol class=list-inline>\n",
       "\t<li>10</li>\n",
       "\t<li>15</li>\n",
       "\t<li>4</li>\n",
       "\t<li>5</li>\n",
       "\t<li>6</li>\n",
       "\t<li>35</li>\n",
       "\t<li>40</li>\n",
       "\t<li>45</li>\n",
       "\t<li>50</li>\n",
       "</ol>\n"
      ],
      "text/latex": [
       "\\begin{enumerate*}\n",
       "\\item 10\n",
       "\\item 15\n",
       "\\item 4\n",
       "\\item 5\n",
       "\\item 6\n",
       "\\item 35\n",
       "\\item 40\n",
       "\\item 45\n",
       "\\item 50\n",
       "\\end{enumerate*}\n"
      ],
      "text/markdown": [
       "1. 10\n",
       "2. 15\n",
       "3. 4\n",
       "4. 5\n",
       "5. 6\n",
       "6. 35\n",
       "7. 40\n",
       "8. 45\n",
       "9. 50\n",
       "\n",
       "\n"
      ],
      "text/plain": [
       "[1] 10 15  4  5  6 35 40 45 50"
      ]
     },
     "metadata": {},
     "output_type": "display_data"
    }
   ],
   "source": [
    "x <- seq(10, 50, by = 5)\n",
    "ind <- 3:5\n",
    "x[ind] # Обращение к подмножеству элементов вектора по индексу ind\n",
    "arr <- x[ind] # Запись подмножества элементов вектора x по индексу ind в переменную arr\n",
    "arr <- arr / 5\n",
    "x[ind] <- arr # Замена подмножества элементов вектора x по индексу ind на множество значений вектора arr\n",
    "x"
   ]
  },
  {
   "cell_type": "markdown",
   "metadata": {},
   "source": [
    "Для индекса ind существует несколько правил:\n",
    "1. Отсутствие индекса"
   ]
  },
  {
   "cell_type": "code",
   "execution_count": 15,
   "metadata": {},
   "outputs": [
    {
     "data": {
      "text/html": [
       "<ol class=list-inline>\n",
       "\t<li>10</li>\n",
       "\t<li>15</li>\n",
       "\t<li>4</li>\n",
       "\t<li>5</li>\n",
       "\t<li>6</li>\n",
       "\t<li>35</li>\n",
       "\t<li>40</li>\n",
       "\t<li>45</li>\n",
       "\t<li>50</li>\n",
       "</ol>\n"
      ],
      "text/latex": [
       "\\begin{enumerate*}\n",
       "\\item 10\n",
       "\\item 15\n",
       "\\item 4\n",
       "\\item 5\n",
       "\\item 6\n",
       "\\item 35\n",
       "\\item 40\n",
       "\\item 45\n",
       "\\item 50\n",
       "\\end{enumerate*}\n"
      ],
      "text/markdown": [
       "1. 10\n",
       "2. 15\n",
       "3. 4\n",
       "4. 5\n",
       "5. 6\n",
       "6. 35\n",
       "7. 40\n",
       "8. 45\n",
       "9. 50\n",
       "\n",
       "\n"
      ],
      "text/plain": [
       "[1] 10 15  4  5  6 35 40 45 50"
      ]
     },
     "metadata": {},
     "output_type": "display_data"
    }
   ],
   "source": [
    "x[]\n",
    "# Обращение ко всему вектору"
   ]
  },
  {
   "cell_type": "markdown",
   "metadata": {},
   "source": [
    "2. Положительные индексы (элементы по указанному индексу)"
   ]
  },
  {
   "cell_type": "code",
   "execution_count": 17,
   "metadata": {},
   "outputs": [
    {
     "data": {
      "text/html": [
       "10"
      ],
      "text/latex": [
       "10"
      ],
      "text/markdown": [
       "10"
      ],
      "text/plain": [
       "[1] 10"
      ]
     },
     "metadata": {},
     "output_type": "display_data"
    },
    {
     "data": {
      "text/html": [
       "<ol class=list-inline>\n",
       "\t<li>15</li>\n",
       "\t<li>4</li>\n",
       "\t<li>5</li>\n",
       "\t<li>6</li>\n",
       "</ol>\n"
      ],
      "text/latex": [
       "\\begin{enumerate*}\n",
       "\\item 15\n",
       "\\item 4\n",
       "\\item 5\n",
       "\\item 6\n",
       "\\end{enumerate*}\n"
      ],
      "text/markdown": [
       "1. 15\n",
       "2. 4\n",
       "3. 5\n",
       "4. 6\n",
       "\n",
       "\n"
      ],
      "text/plain": [
       "[1] 15  4  5  6"
      ]
     },
     "metadata": {},
     "output_type": "display_data"
    },
    {
     "data": {
      "text/html": [
       "<ol class=list-inline>\n",
       "\t<li>10</li>\n",
       "\t<li>15</li>\n",
       "\t<li>6</li>\n",
       "\t<li>35</li>\n",
       "\t<li>40</li>\n",
       "\t<li>35</li>\n",
       "</ol>\n"
      ],
      "text/latex": [
       "\\begin{enumerate*}\n",
       "\\item 10\n",
       "\\item 15\n",
       "\\item 6\n",
       "\\item 35\n",
       "\\item 40\n",
       "\\item 35\n",
       "\\end{enumerate*}\n"
      ],
      "text/markdown": [
       "1. 10\n",
       "2. 15\n",
       "3. 6\n",
       "4. 35\n",
       "5. 40\n",
       "6. 35\n",
       "\n",
       "\n"
      ],
      "text/plain": [
       "[1] 10 15  6 35 40 35"
      ]
     },
     "metadata": {},
     "output_type": "display_data"
    }
   ],
   "source": [
    "x[1] # Конкретный элемент\n",
    "x[2:5] # Подмножество\n",
    "x[c(1, 2, 5:7, x[5])] # Несколько подмножеств"
   ]
  },
  {
   "cell_type": "markdown",
   "metadata": {},
   "source": [
    "3. Отрицательные индексы (элементы кроме указанных по индексу)"
   ]
  },
  {
   "cell_type": "code",
   "execution_count": 20,
   "metadata": {},
   "outputs": [
    {
     "data": {
      "text/html": [
       "<ol class=list-inline>\n",
       "\t<li>10</li>\n",
       "\t<li>4</li>\n",
       "\t<li>5</li>\n",
       "\t<li>6</li>\n",
       "\t<li>35</li>\n",
       "\t<li>40</li>\n",
       "\t<li>45</li>\n",
       "\t<li>50</li>\n",
       "</ol>\n"
      ],
      "text/latex": [
       "\\begin{enumerate*}\n",
       "\\item 10\n",
       "\\item 4\n",
       "\\item 5\n",
       "\\item 6\n",
       "\\item 35\n",
       "\\item 40\n",
       "\\item 45\n",
       "\\item 50\n",
       "\\end{enumerate*}\n"
      ],
      "text/markdown": [
       "1. 10\n",
       "2. 4\n",
       "3. 5\n",
       "4. 6\n",
       "5. 35\n",
       "6. 40\n",
       "7. 45\n",
       "8. 50\n",
       "\n",
       "\n"
      ],
      "text/plain": [
       "[1] 10  4  5  6 35 40 45 50"
      ]
     },
     "metadata": {},
     "output_type": "display_data"
    },
    {
     "data": {
      "text/html": [
       "<ol class=list-inline>\n",
       "\t<li>10</li>\n",
       "\t<li>15</li>\n",
       "\t<li>35</li>\n",
       "\t<li>40</li>\n",
       "\t<li>45</li>\n",
       "\t<li>50</li>\n",
       "</ol>\n"
      ],
      "text/latex": [
       "\\begin{enumerate*}\n",
       "\\item 10\n",
       "\\item 15\n",
       "\\item 35\n",
       "\\item 40\n",
       "\\item 45\n",
       "\\item 50\n",
       "\\end{enumerate*}\n"
      ],
      "text/markdown": [
       "1. 10\n",
       "2. 15\n",
       "3. 35\n",
       "4. 40\n",
       "5. 45\n",
       "6. 50\n",
       "\n",
       "\n"
      ],
      "text/plain": [
       "[1] 10 15 35 40 45 50"
      ]
     },
     "metadata": {},
     "output_type": "display_data"
    },
    {
     "data": {
      "text/html": [
       "<ol class=list-inline>\n",
       "\t<li>10</li>\n",
       "\t<li>15</li>\n",
       "\t<li>4</li>\n",
       "\t<li>5</li>\n",
       "\t<li>6</li>\n",
       "\t<li>35</li>\n",
       "\t<li>40</li>\n",
       "\t<li>45</li>\n",
       "</ol>\n"
      ],
      "text/latex": [
       "\\begin{enumerate*}\n",
       "\\item 10\n",
       "\\item 15\n",
       "\\item 4\n",
       "\\item 5\n",
       "\\item 6\n",
       "\\item 35\n",
       "\\item 40\n",
       "\\item 45\n",
       "\\end{enumerate*}\n"
      ],
      "text/markdown": [
       "1. 10\n",
       "2. 15\n",
       "3. 4\n",
       "4. 5\n",
       "5. 6\n",
       "6. 35\n",
       "7. 40\n",
       "8. 45\n",
       "\n",
       "\n"
      ],
      "text/plain": [
       "[1] 10 15  4  5  6 35 40 45"
      ]
     },
     "metadata": {},
     "output_type": "display_data"
    }
   ],
   "source": [
    "x[-2] # Кроме 2-го элемента\n",
    "x[-(3:5)] # Кроме элементов с 3-го по 5-й\n",
    "x[-length(x)] # Все элементы, кроме последнего"
   ]
  },
  {
   "cell_type": "markdown",
   "metadata": {},
   "source": [
    "4. Логические индексы (элементы, соответствующие значению *TRUE*)"
   ]
  },
  {
   "cell_type": "code",
   "execution_count": 23,
   "metadata": {},
   "outputs": [
    {
     "data": {
      "text/html": [
       "<ol class=list-inline>\n",
       "\t<li>10</li>\n",
       "\t<li>4</li>\n",
       "\t<li>6</li>\n",
       "\t<li>40</li>\n",
       "\t<li>50</li>\n",
       "</ol>\n"
      ],
      "text/latex": [
       "\\begin{enumerate*}\n",
       "\\item 10\n",
       "\\item 4\n",
       "\\item 6\n",
       "\\item 40\n",
       "\\item 50\n",
       "\\end{enumerate*}\n"
      ],
      "text/markdown": [
       "1. 10\n",
       "2. 4\n",
       "3. 6\n",
       "4. 40\n",
       "5. 50\n",
       "\n",
       "\n"
      ],
      "text/plain": [
       "[1] 10  4  6 40 50"
      ]
     },
     "metadata": {},
     "output_type": "display_data"
    },
    {
     "data": {
      "text/html": [
       "<ol class=list-inline>\n",
       "\t<li>10</li>\n",
       "\t<li>4</li>\n",
       "\t<li>6</li>\n",
       "\t<li>40</li>\n",
       "\t<li>50</li>\n",
       "</ol>\n"
      ],
      "text/latex": [
       "\\begin{enumerate*}\n",
       "\\item 10\n",
       "\\item 4\n",
       "\\item 6\n",
       "\\item 40\n",
       "\\item 50\n",
       "\\end{enumerate*}\n"
      ],
      "text/markdown": [
       "1. 10\n",
       "2. 4\n",
       "3. 6\n",
       "4. 40\n",
       "5. 50\n",
       "\n",
       "\n"
      ],
      "text/plain": [
       "[1] 10  4  6 40 50"
      ]
     },
     "metadata": {},
     "output_type": "display_data"
    }
   ],
   "source": [
    "x[rep(c(TRUE, FALSE), 5)] # Элементы на нечётных позициях - TRUE, на чётных - FALSE\n",
    "x[1:9 %% 2 != 0] # Идентичный пример"
   ]
  },
  {
   "cell_type": "markdown",
   "metadata": {},
   "source": [
    "5. Именные индексы (элементы по указанным именам)"
   ]
  },
  {
   "cell_type": "code",
   "execution_count": 8,
   "metadata": {},
   "outputs": [
    {
     "data": {
      "text/html": [
       "<dl class=dl-horizontal>\n",
       "\t<dt>two</dt>\n",
       "\t\t<dd>2</dd>\n",
       "\t<dt>six</dt>\n",
       "\t\t<dd>6</dd>\n",
       "\t<dt>3</dt>\n",
       "\t\t<dd>&lt;NA&gt;</dd>\n",
       "</dl>\n"
      ],
      "text/latex": [
       "\\begin{description*}\n",
       "\\item[two] 2\n",
       "\\item[six] 6\n",
       "\\item[3] <NA>\n",
       "\\end{description*}\n"
      ],
      "text/markdown": [
       "two\n",
       ":   2six\n",
       ":   63\n",
       ":   &lt;NA&gt;\n",
       "\n"
      ],
      "text/plain": [
       " two  six <NA> \n",
       "   2    6   NA "
      ]
     },
     "metadata": {},
     "output_type": "display_data"
    }
   ],
   "source": [
    "y <- c(six = 6, four = 4, two = 2, zero = 0)\n",
    "y[c(\"two\", \"six\", \"Hello world\")]\n",
    "# При неизвестном имени имеем NA\n",
    "names(y) <- NULL"
   ]
  },
  {
   "cell_type": "markdown",
   "metadata": {},
   "source": [
    "## *all* и *any*\n",
    "\n",
    "С помощью функции ***all*** можно проверить, удовлетворяют ли *все* элементы вектора некторому условию. ***any*** проверяет соответствие *некоторых* элементов условию:"
   ]
  },
  {
   "cell_type": "code",
   "execution_count": 5,
   "metadata": {},
   "outputs": [
    {
     "data": {
      "text/html": [
       "TRUE"
      ],
      "text/latex": [
       "TRUE"
      ],
      "text/markdown": [
       "TRUE"
      ],
      "text/plain": [
       "[1] TRUE"
      ]
     },
     "metadata": {},
     "output_type": "display_data"
    },
    {
     "data": {
      "text/html": [
       "FALSE"
      ],
      "text/latex": [
       "FALSE"
      ],
      "text/markdown": [
       "FALSE"
      ],
      "text/plain": [
       "[1] FALSE"
      ]
     },
     "metadata": {},
     "output_type": "display_data"
    }
   ],
   "source": [
    "all(y < 7)\n",
    "all(y > 0)"
   ]
  },
  {
   "cell_type": "code",
   "execution_count": 6,
   "metadata": {},
   "outputs": [
    {
     "data": {
      "text/html": [
       "TRUE"
      ],
      "text/latex": [
       "TRUE"
      ],
      "text/markdown": [
       "TRUE"
      ],
      "text/plain": [
       "[1] TRUE"
      ]
     },
     "metadata": {},
     "output_type": "display_data"
    },
    {
     "data": {
      "text/html": [
       "FALSE"
      ],
      "text/latex": [
       "FALSE"
      ],
      "text/markdown": [
       "FALSE"
      ],
      "text/plain": [
       "[1] FALSE"
      ]
     },
     "metadata": {},
     "output_type": "display_data"
    }
   ],
   "source": [
    "any(y > 0)\n",
    "any(y < 0)"
   ]
  },
  {
   "cell_type": "markdown",
   "metadata": {},
   "source": [
    "## *which*\n",
    "\n",
    "Функция ***which*** возвращает индексы элементов, удовлетворяющих условию:"
   ]
  },
  {
   "cell_type": "code",
   "execution_count": 9,
   "metadata": {},
   "outputs": [
    {
     "data": {
      "text/html": [
       "<ol class=list-inline>\n",
       "\t<li>1</li>\n",
       "\t<li>2</li>\n",
       "</ol>\n"
      ],
      "text/latex": [
       "\\begin{enumerate*}\n",
       "\\item 1\n",
       "\\item 2\n",
       "\\end{enumerate*}\n"
      ],
      "text/markdown": [
       "1. 1\n",
       "2. 2\n",
       "\n",
       "\n"
      ],
      "text/plain": [
       "[1] 1 2"
      ]
     },
     "metadata": {},
     "output_type": "display_data"
    }
   ],
   "source": [
    "which(y > 2)"
   ]
  },
  {
   "cell_type": "markdown",
   "metadata": {},
   "source": [
    "***which.min*** и ***which.max*** возвращают позицию наименьшего и наибольшего элементов соответственно:"
   ]
  },
  {
   "cell_type": "code",
   "execution_count": 10,
   "metadata": {},
   "outputs": [
    {
     "data": {
      "text/html": [
       "4"
      ],
      "text/latex": [
       "4"
      ],
      "text/markdown": [
       "4"
      ],
      "text/plain": [
       "[1] 4"
      ]
     },
     "metadata": {},
     "output_type": "display_data"
    },
    {
     "data": {
      "text/html": [
       "1"
      ],
      "text/latex": [
       "1"
      ],
      "text/markdown": [
       "1"
      ],
      "text/plain": [
       "[1] 1"
      ]
     },
     "metadata": {},
     "output_type": "display_data"
    }
   ],
   "source": [
    "which.min(y)\n",
    "which.max(y)"
   ]
  },
  {
   "cell_type": "markdown",
   "metadata": {},
   "source": [
    "## Атрибуты объектов\n",
    "\n",
    "- \"Cвойства\" объектов, по типу *length*, существуют всегда, вне зависимости от нашего желания\n",
    "- *Атрибуты* (names, dim...) могут присутствовать при необходимости (можно задавать функцией ***attr***)"
   ]
  },
  {
   "cell_type": "code",
   "execution_count": 1,
   "metadata": {},
   "outputs": [
    {
     "data": {
      "text/html": [
       "<dl>\n",
       "\t<dt>$names</dt>\n",
       "\t\t<dd><ol class=list-inline>\n",
       "\t<li>'one'</li>\n",
       "\t<li>'two'</li>\n",
       "\t<li>'three'</li>\n",
       "</ol>\n",
       "</dd>\n",
       "\t<dt>$author</dt>\n",
       "\t\t<dd>'Translator'</dd>\n",
       "</dl>\n"
      ],
      "text/latex": [
       "\\begin{description}\n",
       "\\item[\\$names] \\begin{enumerate*}\n",
       "\\item 'one'\n",
       "\\item 'two'\n",
       "\\item 'three'\n",
       "\\end{enumerate*}\n",
       "\n",
       "\\item[\\$author] 'Translator'\n",
       "\\end{description}\n"
      ],
      "text/markdown": [
       "$names\n",
       ":   1. 'one'\n",
       "2. 'two'\n",
       "3. 'three'\n",
       "\n",
       "\n",
       "\n",
       "$author\n",
       ":   'Translator'\n",
       "\n",
       "\n"
      ],
      "text/plain": [
       "$names\n",
       "[1] \"one\"   \"two\"   \"three\"\n",
       "\n",
       "$author\n",
       "[1] \"Translator\"\n"
      ]
     },
     "metadata": {},
     "output_type": "display_data"
    }
   ],
   "source": [
    "z <- c(1, 2, 3)\n",
    "names(z) <- c(\"one\", \"two\", \"three\")\n",
    "attr(z, \"author\") <- \"Translator\"\n",
    "attributes(z) # Возвращает атрибуты объекта"
   ]
  },
  {
   "cell_type": "code",
   "execution_count": 3,
   "metadata": {},
   "outputs": [
    {
     "data": {
      "text/plain": [
       "NULL"
      ]
     },
     "metadata": {},
     "output_type": "display_data"
    }
   ],
   "source": [
    "attributes(z) <- NULL\n",
    "attributes(z)\n",
    "# Удаление атрибутов"
   ]
  },
  {
   "cell_type": "markdown",
   "metadata": {},
   "source": [
    "## Интересная задача на векторизацию\n",
    "\n",
    "Пусть есть вектор чисел от 1 до 50. Необходимо все числа, делящиеся на 2, возвести в квадрат, делящиеся на 3, - в куб, а делящиеся и на 2, и на 3, - в шестую степень. Приведём банальный метод решения, который доступен в любом языке программирования:"
   ]
  },
  {
   "cell_type": "code",
   "execution_count": 38,
   "metadata": {},
   "outputs": [
    {
     "data": {
      "text/html": [
       "<ol class=list-inline>\n",
       "\t<li>1</li>\n",
       "\t<li>4</li>\n",
       "\t<li>27</li>\n",
       "\t<li>16</li>\n",
       "\t<li>5</li>\n",
       "\t<li>46656</li>\n",
       "\t<li>7</li>\n",
       "\t<li>64</li>\n",
       "\t<li>729</li>\n",
       "\t<li>100</li>\n",
       "\t<li>11</li>\n",
       "\t<li>2985984</li>\n",
       "\t<li>13</li>\n",
       "\t<li>196</li>\n",
       "\t<li>3375</li>\n",
       "\t<li>256</li>\n",
       "\t<li>17</li>\n",
       "\t<li>34012224</li>\n",
       "\t<li>19</li>\n",
       "\t<li>400</li>\n",
       "</ol>\n"
      ],
      "text/latex": [
       "\\begin{enumerate*}\n",
       "\\item 1\n",
       "\\item 4\n",
       "\\item 27\n",
       "\\item 16\n",
       "\\item 5\n",
       "\\item 46656\n",
       "\\item 7\n",
       "\\item 64\n",
       "\\item 729\n",
       "\\item 100\n",
       "\\item 11\n",
       "\\item 2985984\n",
       "\\item 13\n",
       "\\item 196\n",
       "\\item 3375\n",
       "\\item 256\n",
       "\\item 17\n",
       "\\item 34012224\n",
       "\\item 19\n",
       "\\item 400\n",
       "\\end{enumerate*}\n"
      ],
      "text/markdown": [
       "1. 1\n",
       "2. 4\n",
       "3. 27\n",
       "4. 16\n",
       "5. 5\n",
       "6. 46656\n",
       "7. 7\n",
       "8. 64\n",
       "9. 729\n",
       "10. 100\n",
       "11. 11\n",
       "12. 2985984\n",
       "13. 13\n",
       "14. 196\n",
       "15. 3375\n",
       "16. 256\n",
       "17. 17\n",
       "18. 34012224\n",
       "19. 19\n",
       "20. 400\n",
       "\n",
       "\n"
      ],
      "text/plain": [
       " [1]        1        4       27       16        5    46656        7       64\n",
       " [9]      729      100       11  2985984       13      196     3375      256\n",
       "[17]       17 34012224       19      400"
      ]
     },
     "metadata": {},
     "output_type": "display_data"
    }
   ],
   "source": [
    "a <- 1:20\n",
    "for (i in a) {\n",
    "    if (!i %% 6) {\n",
    "        a[i] <- a[i]^6\n",
    "    } else if (!i %% 3) {\n",
    "        a[i] <- a[i]^3\n",
    "    } else if (!i %% 2) {\n",
    "        a[i] <- a[i]^2\n",
    "    }\n",
    "}\n",
    "a\n",
    "\n",
    "# В данном решении задачи цикл for проходит по всем элементам вектора и проверяет условия делимости"
   ]
  },
  {
   "cell_type": "markdown",
   "metadata": {},
   "source": [
    "Приведём пример более красивого решения, использующего векторизацию:"
   ]
  },
  {
   "cell_type": "code",
   "execution_count": 39,
   "metadata": {},
   "outputs": [
    {
     "data": {
      "text/html": [
       "<ol class=list-inline>\n",
       "\t<li>FALSE</li>\n",
       "\t<li>TRUE</li>\n",
       "\t<li>FALSE</li>\n",
       "\t<li>TRUE</li>\n",
       "\t<li>FALSE</li>\n",
       "\t<li>TRUE</li>\n",
       "\t<li>FALSE</li>\n",
       "\t<li>TRUE</li>\n",
       "\t<li>FALSE</li>\n",
       "\t<li>TRUE</li>\n",
       "\t<li>FALSE</li>\n",
       "\t<li>TRUE</li>\n",
       "\t<li>FALSE</li>\n",
       "\t<li>TRUE</li>\n",
       "\t<li>FALSE</li>\n",
       "\t<li>TRUE</li>\n",
       "\t<li>FALSE</li>\n",
       "\t<li>TRUE</li>\n",
       "\t<li>FALSE</li>\n",
       "\t<li>TRUE</li>\n",
       "</ol>\n"
      ],
      "text/latex": [
       "\\begin{enumerate*}\n",
       "\\item FALSE\n",
       "\\item TRUE\n",
       "\\item FALSE\n",
       "\\item TRUE\n",
       "\\item FALSE\n",
       "\\item TRUE\n",
       "\\item FALSE\n",
       "\\item TRUE\n",
       "\\item FALSE\n",
       "\\item TRUE\n",
       "\\item FALSE\n",
       "\\item TRUE\n",
       "\\item FALSE\n",
       "\\item TRUE\n",
       "\\item FALSE\n",
       "\\item TRUE\n",
       "\\item FALSE\n",
       "\\item TRUE\n",
       "\\item FALSE\n",
       "\\item TRUE\n",
       "\\end{enumerate*}\n"
      ],
      "text/markdown": [
       "1. FALSE\n",
       "2. TRUE\n",
       "3. FALSE\n",
       "4. TRUE\n",
       "5. FALSE\n",
       "6. TRUE\n",
       "7. FALSE\n",
       "8. TRUE\n",
       "9. FALSE\n",
       "10. TRUE\n",
       "11. FALSE\n",
       "12. TRUE\n",
       "13. FALSE\n",
       "14. TRUE\n",
       "15. FALSE\n",
       "16. TRUE\n",
       "17. FALSE\n",
       "18. TRUE\n",
       "19. FALSE\n",
       "20. TRUE\n",
       "\n",
       "\n"
      ],
      "text/plain": [
       " [1] FALSE  TRUE FALSE  TRUE FALSE  TRUE FALSE  TRUE FALSE  TRUE FALSE  TRUE\n",
       "[13] FALSE  TRUE FALSE  TRUE FALSE  TRUE FALSE  TRUE"
      ]
     },
     "metadata": {},
     "output_type": "display_data"
    }
   ],
   "source": [
    "a <- 1:20\n",
    "#Узнать, какие элементы делятся на 2 (или на любое другое число), легко можно с помощью векторизации\n",
    "!a %% 2 # ! - логическое отрицание\n",
    "# a %% 2 == 0 - идентично"
   ]
  },
  {
   "cell_type": "code",
   "execution_count": 40,
   "metadata": {},
   "outputs": [
    {
     "data": {
      "text/html": [
       "<ol class=list-inline>\n",
       "\t<li>1</li>\n",
       "\t<li>4</li>\n",
       "\t<li>3</li>\n",
       "\t<li>16</li>\n",
       "\t<li>5</li>\n",
       "\t<li>36</li>\n",
       "\t<li>7</li>\n",
       "\t<li>64</li>\n",
       "\t<li>9</li>\n",
       "\t<li>100</li>\n",
       "\t<li>11</li>\n",
       "\t<li>144</li>\n",
       "\t<li>13</li>\n",
       "\t<li>196</li>\n",
       "\t<li>15</li>\n",
       "\t<li>256</li>\n",
       "\t<li>17</li>\n",
       "\t<li>324</li>\n",
       "\t<li>19</li>\n",
       "\t<li>400</li>\n",
       "</ol>\n"
      ],
      "text/latex": [
       "\\begin{enumerate*}\n",
       "\\item 1\n",
       "\\item 4\n",
       "\\item 3\n",
       "\\item 16\n",
       "\\item 5\n",
       "\\item 36\n",
       "\\item 7\n",
       "\\item 64\n",
       "\\item 9\n",
       "\\item 100\n",
       "\\item 11\n",
       "\\item 144\n",
       "\\item 13\n",
       "\\item 196\n",
       "\\item 15\n",
       "\\item 256\n",
       "\\item 17\n",
       "\\item 324\n",
       "\\item 19\n",
       "\\item 400\n",
       "\\end{enumerate*}\n"
      ],
      "text/markdown": [
       "1. 1\n",
       "2. 4\n",
       "3. 3\n",
       "4. 16\n",
       "5. 5\n",
       "6. 36\n",
       "7. 7\n",
       "8. 64\n",
       "9. 9\n",
       "10. 100\n",
       "11. 11\n",
       "12. 144\n",
       "13. 13\n",
       "14. 196\n",
       "15. 15\n",
       "16. 256\n",
       "17. 17\n",
       "18. 324\n",
       "19. 19\n",
       "20. 400\n",
       "\n",
       "\n"
      ],
      "text/plain": [
       " [1]   1   4   3  16   5  36   7  64   9 100  11 144  13 196  15 256  17 324  19\n",
       "[20] 400"
      ]
     },
     "metadata": {},
     "output_type": "display_data"
    }
   ],
   "source": [
    "# За счёт логической индексации мы можем произвести нужные нам операции только над элементами со значением TRUE\n",
    "a[!a %% 2] <- a[!a %% 2]^2 \n",
    "a\n",
    "\n",
    "# При возведении в степень количество различных простых множителей никак не меняется, поэтому проверять делимость можем\n",
    "# по самому вектору a"
   ]
  },
  {
   "cell_type": "code",
   "execution_count": 41,
   "metadata": {},
   "outputs": [
    {
     "data": {
      "text/html": [
       "<ol class=list-inline>\n",
       "\t<li>1</li>\n",
       "\t<li>4</li>\n",
       "\t<li>27</li>\n",
       "\t<li>16</li>\n",
       "\t<li>5</li>\n",
       "\t<li>46656</li>\n",
       "\t<li>7</li>\n",
       "\t<li>64</li>\n",
       "\t<li>729</li>\n",
       "\t<li>100</li>\n",
       "\t<li>11</li>\n",
       "\t<li>2985984</li>\n",
       "\t<li>13</li>\n",
       "\t<li>196</li>\n",
       "\t<li>3375</li>\n",
       "\t<li>256</li>\n",
       "\t<li>17</li>\n",
       "\t<li>34012224</li>\n",
       "\t<li>19</li>\n",
       "\t<li>400</li>\n",
       "</ol>\n"
      ],
      "text/latex": [
       "\\begin{enumerate*}\n",
       "\\item 1\n",
       "\\item 4\n",
       "\\item 27\n",
       "\\item 16\n",
       "\\item 5\n",
       "\\item 46656\n",
       "\\item 7\n",
       "\\item 64\n",
       "\\item 729\n",
       "\\item 100\n",
       "\\item 11\n",
       "\\item 2985984\n",
       "\\item 13\n",
       "\\item 196\n",
       "\\item 3375\n",
       "\\item 256\n",
       "\\item 17\n",
       "\\item 34012224\n",
       "\\item 19\n",
       "\\item 400\n",
       "\\end{enumerate*}\n"
      ],
      "text/markdown": [
       "1. 1\n",
       "2. 4\n",
       "3. 27\n",
       "4. 16\n",
       "5. 5\n",
       "6. 46656\n",
       "7. 7\n",
       "8. 64\n",
       "9. 729\n",
       "10. 100\n",
       "11. 11\n",
       "12. 2985984\n",
       "13. 13\n",
       "14. 196\n",
       "15. 3375\n",
       "16. 256\n",
       "17. 17\n",
       "18. 34012224\n",
       "19. 19\n",
       "20. 400\n",
       "\n",
       "\n"
      ],
      "text/plain": [
       " [1]        1        4       27       16        5    46656        7       64\n",
       " [9]      729      100       11  2985984       13      196     3375      256\n",
       "[17]       17 34012224       19      400"
      ]
     },
     "metadata": {},
     "output_type": "display_data"
    }
   ],
   "source": [
    "# Теперь для тройки (6 = 2 * 3 - правила возведения в степень)\n",
    "a[!a %% 3] <- a[!a %% 3]^3 \n",
    "a"
   ]
  },
  {
   "cell_type": "markdown",
   "metadata": {},
   "source": [
    "Вместо громоздкого решения, использующего цикл, мы решили задачу буквально в две строки:  \n",
    "`a[!a %% 2] <- a[!a %% 2]^2`  \n",
    "`a[!a %% 3] <- a[!a %% 3]^3`"
   ]
  },
  {
   "cell_type": "markdown",
   "metadata": {},
   "source": [
    "## Еще одна задача\n",
    "\n",
    "В векторе случайных чисел найти 2 соседних с максимальной разницей.  \n",
    "Не будем рассматривать решения через цикл, они довольно очевидны. Приведём векторизированное решение:"
   ]
  },
  {
   "cell_type": "code",
   "execution_count": 45,
   "metadata": {},
   "outputs": [
    {
     "data": {
      "text/html": [
       "<ol class=list-inline>\n",
       "\t<li>6</li>\n",
       "\t<li>9</li>\n",
       "\t<li>10</li>\n",
       "\t<li>12</li>\n",
       "\t<li>17</li>\n",
       "\t<li>11</li>\n",
       "\t<li>1</li>\n",
       "\t<li>5</li>\n",
       "\t<li>15</li>\n",
       "\t<li>3</li>\n",
       "</ol>\n"
      ],
      "text/latex": [
       "\\begin{enumerate*}\n",
       "\\item 6\n",
       "\\item 9\n",
       "\\item 10\n",
       "\\item 12\n",
       "\\item 17\n",
       "\\item 11\n",
       "\\item 1\n",
       "\\item 5\n",
       "\\item 15\n",
       "\\item 3\n",
       "\\end{enumerate*}\n"
      ],
      "text/markdown": [
       "1. 6\n",
       "2. 9\n",
       "3. 10\n",
       "4. 12\n",
       "5. 17\n",
       "6. 11\n",
       "7. 1\n",
       "8. 5\n",
       "9. 15\n",
       "10. 3\n",
       "\n",
       "\n"
      ],
      "text/plain": [
       " [1]  6  9 10 12 17 11  1  5 15  3"
      ]
     },
     "metadata": {},
     "output_type": "display_data"
    }
   ],
   "source": [
    "set.seed(22)\n",
    "# Не стоит уделять много внимания этой функции, она лишь ограничивает \"случайность\" чисел (они каждый раз одинаковые)\n",
    "x <- sample(1:20, 10)\n",
    "# Создали вектор случайных чисел от 1 до 20"
   ]
  },
  {
   "cell_type": "code",
   "execution_count": 46,
   "metadata": {},
   "outputs": [
    {
     "data": {
      "text/html": [
       "<ol class=list-inline>\n",
       "\t<li>9</li>\n",
       "\t<li>10</li>\n",
       "\t<li>12</li>\n",
       "\t<li>17</li>\n",
       "\t<li>11</li>\n",
       "\t<li>1</li>\n",
       "\t<li>5</li>\n",
       "\t<li>15</li>\n",
       "\t<li>3</li>\n",
       "</ol>\n"
      ],
      "text/latex": [
       "\\begin{enumerate*}\n",
       "\\item 9\n",
       "\\item 10\n",
       "\\item 12\n",
       "\\item 17\n",
       "\\item 11\n",
       "\\item 1\n",
       "\\item 5\n",
       "\\item 15\n",
       "\\item 3\n",
       "\\end{enumerate*}\n"
      ],
      "text/markdown": [
       "1. 9\n",
       "2. 10\n",
       "3. 12\n",
       "4. 17\n",
       "5. 11\n",
       "6. 1\n",
       "7. 5\n",
       "8. 15\n",
       "9. 3\n",
       "\n",
       "\n"
      ],
      "text/plain": [
       "[1]  9 10 12 17 11  1  5 15  3"
      ]
     },
     "metadata": {},
     "output_type": "display_data"
    }
   ],
   "source": [
    "x[-1] # Вектор x без первого элемента"
   ]
  },
  {
   "cell_type": "code",
   "execution_count": 47,
   "metadata": {},
   "outputs": [
    {
     "data": {
      "text/html": [
       "<ol class=list-inline>\n",
       "\t<li>6</li>\n",
       "\t<li>9</li>\n",
       "\t<li>10</li>\n",
       "\t<li>12</li>\n",
       "\t<li>17</li>\n",
       "\t<li>11</li>\n",
       "\t<li>1</li>\n",
       "\t<li>5</li>\n",
       "\t<li>15</li>\n",
       "</ol>\n"
      ],
      "text/latex": [
       "\\begin{enumerate*}\n",
       "\\item 6\n",
       "\\item 9\n",
       "\\item 10\n",
       "\\item 12\n",
       "\\item 17\n",
       "\\item 11\n",
       "\\item 1\n",
       "\\item 5\n",
       "\\item 15\n",
       "\\end{enumerate*}\n"
      ],
      "text/markdown": [
       "1. 6\n",
       "2. 9\n",
       "3. 10\n",
       "4. 12\n",
       "5. 17\n",
       "6. 11\n",
       "7. 1\n",
       "8. 5\n",
       "9. 15\n",
       "\n",
       "\n"
      ],
      "text/plain": [
       "[1]  6  9 10 12 17 11  1  5 15"
      ]
     },
     "metadata": {},
     "output_type": "display_data"
    }
   ],
   "source": [
    "x[-length(x)] # Вектор x без последнего элемента"
   ]
  },
  {
   "cell_type": "code",
   "execution_count": 48,
   "metadata": {},
   "outputs": [
    {
     "data": {
      "text/html": [
       "<ol class=list-inline>\n",
       "\t<li>3</li>\n",
       "\t<li>1</li>\n",
       "\t<li>2</li>\n",
       "\t<li>5</li>\n",
       "\t<li>-6</li>\n",
       "\t<li>-10</li>\n",
       "\t<li>4</li>\n",
       "\t<li>10</li>\n",
       "\t<li>-12</li>\n",
       "</ol>\n"
      ],
      "text/latex": [
       "\\begin{enumerate*}\n",
       "\\item 3\n",
       "\\item 1\n",
       "\\item 2\n",
       "\\item 5\n",
       "\\item -6\n",
       "\\item -10\n",
       "\\item 4\n",
       "\\item 10\n",
       "\\item -12\n",
       "\\end{enumerate*}\n"
      ],
      "text/markdown": [
       "1. 3\n",
       "2. 1\n",
       "3. 2\n",
       "4. 5\n",
       "5. -6\n",
       "6. -10\n",
       "7. 4\n",
       "8. 10\n",
       "9. -12\n",
       "\n",
       "\n"
      ],
      "text/plain": [
       "[1]   3   1   2   5  -6 -10   4  10 -12"
      ]
     },
     "metadata": {},
     "output_type": "display_data"
    }
   ],
   "source": [
    "x[-1] - x[-length(x)] # Все разницы между соседними элементами"
   ]
  },
  {
   "cell_type": "code",
   "execution_count": 50,
   "metadata": {},
   "outputs": [
    {
     "data": {
      "text/html": [
       "<ol class=list-inline>\n",
       "\t<li>15</li>\n",
       "\t<li>3</li>\n",
       "</ol>\n"
      ],
      "text/latex": [
       "\\begin{enumerate*}\n",
       "\\item 15\n",
       "\\item 3\n",
       "\\end{enumerate*}\n"
      ],
      "text/markdown": [
       "1. 15\n",
       "2. 3\n",
       "\n",
       "\n"
      ],
      "text/plain": [
       "[1] 15  3"
      ]
     },
     "metadata": {},
     "output_type": "display_data"
    }
   ],
   "source": [
    "m <- which.max(abs(x[-1] - x[-length(x)])) # Максимум из взятых по модулю разниц\n",
    "x[c(m, m + 1)] # Выводим два искомых элемента"
   ]
  }
 ],
 "metadata": {
  "kernelspec": {
   "display_name": "R",
   "language": "R",
   "name": "ir"
  },
  "language_info": {
   "codemirror_mode": "r",
   "file_extension": ".r",
   "mimetype": "text/x-r-source",
   "name": "R",
   "pygments_lexer": "r",
   "version": "3.6.1"
  }
 },
 "nbformat": 4,
 "nbformat_minor": 4
}
